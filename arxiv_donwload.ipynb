{
 "cells": [
  {
   "cell_type": "code",
   "execution_count": 1,
   "metadata": {},
   "outputs": [
    {
     "name": "stderr",
     "output_type": "stream",
     "text": [
      "Fetching data: 1month [00:03,  3.72s/month]\n"
     ]
    }
   ],
   "source": [
    "import arxiv\n",
    "import pandas as pd\n",
    "from datetime import datetime, timedelta\n",
    "import time\n",
    "from tqdm import tqdm\n",
    "\n",
    "tags = [\n",
    "    \"cs.LG\",\n",
    "    \"cs.AI\",\n",
    "    \"cs.CC\",\n",
    "    \"math.ST\",\n",
    "    \"math.OC\",\n",
    "    \"math.PR\",\n",
    "    \"stat.ML\",\n",
    "    \"cs.CV\",\n",
    "    \"cs.CL\",\n",
    "    \"cs.NE\",\n",
    "    \"cs.RO\",\n",
    "    \"math.DS\",\n",
    "    \"cs.HC\",\n",
    "    \"cs.DM\",\n",
    "    \"cs.MA\",\n",
    "    \"cs.SD\",\n",
    "    \"math.QA\",\n",
    "    \"q-fin.ST\",\n",
    "    \"q-fin.MF\",\n",
    "    \"q-fin.CP\",\n",
    "    \"stat.TH\"\n",
    "]\n",
    "search_query = ' OR '.join([f'cat:{tag}' for tag in tags])\n",
    "client = arxiv.Client()\n",
    "start_date = datetime(2024, 12, 25) # 2024-09-22\n",
    "end_date = datetime.now()\n",
    "\n",
    "all_papers = []\n",
    "total_months = (end_date.year - start_date.year)*12 + (end_date.month - start_date.month)\n",
    "\n",
    "with tqdm(total=total_months, desc=\"Fetching data\", unit=\"month\") as pbar:\n",
    "    while start_date < end_date:\n",
    "        current_end_date = start_date + timedelta(days=30)\n",
    "        start_str = start_date.strftime('%Y%m%d')\n",
    "        end_str = current_end_date.strftime('%Y%m%d')\n",
    "        date_query = f'submittedDate:[{start_str} TO {end_str}]'\n",
    "        full_query = f'({search_query}) AND {date_query}'\n",
    "\n",
    "        # Suche definieren\n",
    "        search = arxiv.Search(\n",
    "            query=full_query,\n",
    "            max_results=30000,\n",
    "            sort_by=arxiv.SortCriterion.SubmittedDate\n",
    "        )\n",
    "\n",
    "        try:\n",
    "            # Ergebnisse abrufen\n",
    "            for paper in client.results(search):\n",
    "                all_papers.append({\n",
    "                    'paper_id': paper.entry_id,\n",
    "                    'published_date': paper.published.date(),\n",
    "                    'categories': ','.join(paper.categories)\n",
    "                })\n",
    "        except Exception as e:\n",
    "            # Letzte verarbeitete Periode ausgeben und Teilergebnis speichern\n",
    "            print(\"Error occurred. Saving partial data.\")\n",
    "            print(f\"Failed at date range starting: {start_date.strftime('%Y-%m-%d')}\")\n",
    "            print(e)\n",
    "            pd.DataFrame(all_papers).to_csv('arxiv_papers_partial.csv', index=False)\n",
    "            break  # Abbruch der Schleife (alternativ weiter mit 'continue')\n",
    "\n",
    "        # Zum nächsten Monatsabschnitt\n",
    "        start_date = current_end_date\n",
    "        pbar.update(1)\n",
    "        time.sleep(3)\n",
    "\n",
    "# Abschließend alles speichern\n",
    "df = pd.DataFrame(all_papers)\n",
    "df.to_csv('arxiv_papers_with_details_8.csv', index=False)"
   ]
  }
 ],
 "metadata": {
  "kernelspec": {
   "display_name": ".venv",
   "language": "python",
   "name": "python3"
  },
  "language_info": {
   "codemirror_mode": {
    "name": "ipython",
    "version": 3
   },
   "file_extension": ".py",
   "mimetype": "text/x-python",
   "name": "python",
   "nbconvert_exporter": "python",
   "pygments_lexer": "ipython3",
   "version": "3.12.7"
  }
 },
 "nbformat": 4,
 "nbformat_minor": 2
}
