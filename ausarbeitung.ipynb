{
 "cells": [
  {
   "cell_type": "markdown",
   "metadata": {},
   "source": [
    "# Development of AI in scientific research"
   ]
  },
  {
   "cell_type": "markdown",
   "metadata": {},
   "source": [
    "Artificial Intelligence (AI) has emerged as one of the most talked-about topics in recent years. Breakthroughs in technologies such as machine learning(ML), large language models (LLM), and computer vision (CV) have not only transformed how we live and work but have also  created a significant buzz in the economy. Major tech companies like Google, Microsoft or NVIDIA have achieved tremendous profits and remarkable stock market growth through their investments and research in AI. The innovative potential of AI is widely regarded as a catalyst for economic growth and technological progress.\n",
    "\n",
    "While the societal and economic enthusiasm for AI is undeniable, this analysis aims to investigate whether a comparable trend can be observed in the scientific community. This analysis examines publication data from the past three decades to identify patterns in research activity and explore whether the increasing prominence of AI is reflected in scientific output. The focus is directed toward publications in key disciplines such as computer science, mathematics, quantitative finance, and statistics, which provide the foundational framework for advancements in AI."
   ]
  },
  {
   "cell_type": "code",
   "execution_count": 1,
   "metadata": {},
   "outputs": [],
   "source": [
    "import numpy as np\n",
    "import pandas as pd\n",
    "import plotly.express as px\n",
    "import plotly.graph_objects as go\n",
    "import plotly.io as pio\n",
    "from plotly.subplots import make_subplots\n",
    "\n",
    "# Override default plotly theme to white background with gridlines\n",
    "pio.templates.default = \"plotly_white\""
   ]
  },
  {
   "cell_type": "code",
   "execution_count": 2,
   "metadata": {
    "ExecuteTime": {
     "end_time": "2024-12-29T15:25:38.821764Z",
     "start_time": "2024-12-29T15:25:38.818625Z"
    }
   },
   "outputs": [],
   "source": [
    "TITLE_SIZE = 25\n",
    "TITLE_X_POS = 0.5"
   ]
  },
  {
   "cell_type": "markdown",
   "metadata": {},
   "source": [
    "## Data"
   ]
  },
  {
   "cell_type": "markdown",
   "metadata": {},
   "source": [
    "The data for this analysis was sourced from arXiv.org, a repository for scientific preprints. To investigate the development and trends in Artificial Intelligence research, publications from 1994 to the end of 2024 were queried. The focus was set on categories that are highly relevant to the theoretical and practical advancements in AI. These categories were carefully selected to ensure coverage of core disciplines such as computer science, mathematics, quantitative finance, and statistics, which are central to the development of AI methodologies and applications.\n",
    "\n",
    "The selected categories reflect a comprehensive view of AI research, ranging from foundational theories to applied methodologies. This approach also highlights the interplay between traditional mathematical and statistical methods and emerging AI driven techniques. The inclusion criteria were designed to capture the evolution of AI research over time, while broader, less directly related domains, such as economics, electrical engineering, physics, and quantitative biology were  excluded. An exception was made for quantitative finance due to its role in applying methods such as Long Short-Term Memory (LSTM) neural networks, which have significant applications in financial time series modeling and other AI-related fields.\n",
    "\n",
    "The analysis specifically includes publications from the following domains:\n",
    "| Domain                | Category   | Description                                   |\n",
    "|-----------------------|------------|-----------------------------------------------|\n",
    "| **Computer Science**  | cs.AI      | Artificial Intelligence                      |\n",
    "|                       | cs.CC      | Computational Complexity                     |\n",
    "|                       | cs.CL      | Computation and Language                     |\n",
    "|                       | cs.CV      | Computer Vision and Pattern Recognition      |\n",
    "|                       | cs.DM      | Discrete Mathematics                         |\n",
    "|                       | cs.HC      | Human-Computer Interaction                   |\n",
    "|                       | cs.LG      | Machine Learning                             |\n",
    "|                       | cs.MA      | Multiagent Systems                           |\n",
    "|                       | cs.NE      | Neural and Evolutionary Computing            |\n",
    "|                       | cs.RO      | Robotics                                     |\n",
    "|                       | cs.SD      | Sound                                        |\n",
    "| **Mathematics**       | math.DS    | Dynamical Systems                            |\n",
    "|                       | math.OC    | Optimization and Control                     |\n",
    "|                       | math.PR    | Probability                                  |\n",
    "|                       | math.QA    | Quantum Algebra                              |\n",
    "|                       | math.ST    | Statistics                                   |\n",
    "| **Quantitative Finance** | q-fin.CP   | Computational Finance                        |\n",
    "|                       | q-fin.MF   | Mathematical Finance                         |\n",
    "|                       | q-fin.ST   | Statistical Finance                          |\n",
    "| **Statistics**        | stat.ML    | Machine Learning in Statistics               |\n",
    "|                       | stat.TH    | Theoretical Statistics                       |\n"
   ]
  },
  {
   "cell_type": "code",
   "execution_count": 3,
   "metadata": {},
   "outputs": [],
   "source": [
    "CATEGORIES = [\n",
    "    \"cs.lg\",\n",
    "    \"cs.ai\",\n",
    "    \"cs.cc\",\n",
    "    \"math.st\",\n",
    "    \"math.oc\",\n",
    "    \"math.pr\",\n",
    "    \"stat.ml\",\n",
    "    \"cs.cv\",\n",
    "    \"cs.cl\",\n",
    "    \"cs.ne\",\n",
    "    \"cs.ro\",\n",
    "    \"math.ds\",\n",
    "    \"cs.hc\",\n",
    "    \"cs.dm\",\n",
    "    \"cs.ma\",\n",
    "    \"cs.sd\",\n",
    "    \"math.qa\",\n",
    "    \"q-fin.st\",\n",
    "    \"q-fin.mf\",\n",
    "    \"q-fin.cp\",\n",
    "    \"stat.th\",\n",
    "]\n",
    "\n",
    "ARXIV_CATEGORIES_MAPPING = {\n",
    "    \"cs.LG\": \"Machine Learning (Computer Science)\",\n",
    "    \"cs.AI\": \"Artificial Intelligence\",\n",
    "    \"cs.CC\": \"Computational Complexity\",\n",
    "    \"math.ST\": \"Statistics Theory (Mathematics)\",\n",
    "    \"math.OC\": \"Optimization and Control\",\n",
    "    \"math.PR\": \"Probability\",\n",
    "    \"stat.ML\": \"Machine Learning (Statistics)\",\n",
    "    \"cs.CV\": \"Computer Vision and Pattern Recognition\",\n",
    "    \"cs.CL\": \"Computation and Language\",\n",
    "    \"cs.NE\": \"Neural and Evolutionary Computing\",\n",
    "    \"cs.RO\": \"Robotics\",\n",
    "    \"math.DS\": \"Dynamical Systems\",\n",
    "    \"cs.HC\": \"Human-Computer Interaction\",\n",
    "    \"cs.DM\": \"Discrete Mathematics\",\n",
    "    \"cs.MA\": \"Multiagent Systems\",\n",
    "    \"cs.SD\": \"Sound\",\n",
    "    \"math.QA\": \"Quantum Algebra\",\n",
    "    \"q-fin.ST\": \"Statistical Finance\",\n",
    "    \"q-fin.MF\": \"Mathematical Finance\",\n",
    "    \"q-fin.CP\": \"Computational Finance\",\n",
    "    \"stat.TH\": \"Theoretical Statistics\"\n",
    "}\n"
   ]
  },
  {
   "cell_type": "code",
   "execution_count": null,
   "metadata": {
    "ExecuteTime": {
     "end_time": "2024-12-29T15:25:39.461601Z",
     "start_time": "2024-12-29T15:25:38.831096Z"
    }
   },
   "outputs": [],
   "source": [
    "# Load Data\n",
    "df_complete = pd.read_csv(\"arxiv_papers.csv\")\n",
    "df_complete"
   ]
  },
  {
   "cell_type": "code",
   "execution_count": 24,
   "metadata": {
    "ExecuteTime": {
     "end_time": "2024-12-29T15:25:39.538600Z",
     "start_time": "2024-12-29T15:25:39.490521Z"
    }
   },
   "outputs": [],
   "source": [
    "# Convert date from string to datetime object\n",
    "df_complete[\"published_date\"] = pd.to_datetime(df_complete[\"published_date\"])"
   ]
  },
  {
   "cell_type": "markdown",
   "metadata": {},
   "source": [
    "## Helper Functions"
   ]
  },
  {
   "cell_type": "code",
   "execution_count": 25,
   "metadata": {
    "ExecuteTime": {
     "end_time": "2024-12-29T15:25:39.567129Z",
     "start_time": "2024-12-29T15:25:39.560912Z"
    }
   },
   "outputs": [],
   "source": [
    "def prepare_data(df, period, also_group_categories=False):\n",
    "    \"\"\"\n",
    "    Prepares the data for visualization by adding a period column based on the specified frequency\n",
    "    \"\"\"\n",
    "    df = df.copy(deep=True)\n",
    "\n",
    "    # Add period column based on specified frequency\n",
    "    if period.lower() == \"y\":\n",
    "        df[\"period\"] = df[\"published_date\"].dt.to_period(period).dt.year\n",
    "    else:    \n",
    "        df[\"period\"] = df[\"published_date\"].dt.to_period(period).dt.to_timestamp()\n",
    "\n",
    "    if also_group_categories:\n",
    "        # Convert comma-separated string of categories to python list\n",
    "        df['categories'] = df['categories'].str.lower().str.split(',')\n",
    "\n",
    "        # Explode the categories into separate rows\n",
    "        df = df.explode(\"categories\")\n",
    "        df[\"categories\"] = df[\"categories\"].str.strip()\n",
    "\n",
    "        # Filter rows to only keep the ones matching a specified category\n",
    "        df = df[df['categories'].isin(CATEGORIES)]\n",
    "\n",
    "        # Group the data by categories and period and count occurrences\n",
    "        df = df.groupby(['categories', 'period']).size().reset_index(name='count')\n",
    "    else:\n",
    "        # Group data by just the period and count occurrences\n",
    "        df = df.groupby(\"period\").size().reset_index(name=\"count\")\n",
    "    \n",
    "    return df\n"
   ]
  },
  {
   "cell_type": "code",
   "execution_count": 26,
   "metadata": {
    "ExecuteTime": {
     "end_time": "2024-12-29T15:25:39.608059Z",
     "start_time": "2024-12-29T15:25:39.603650Z"
    }
   },
   "outputs": [],
   "source": [
    "def generate_color_map(categories):\n",
    "    \"\"\"\n",
    "    Generate a consistent color map for categories to ensure that each category is assigned a unique color.\n",
    "\n",
    "    This is done for the visualization of the line charts that are side-by-side so that the same category appears with the same color in both plots.\n",
    "    \"\"\"\n",
    "    return {category: px.colors.qualitative.Plotly[i % len(px.colors.qualitative.Plotly)]\n",
    "            for i, category in enumerate(categories)}\n"
   ]
  },
  {
   "cell_type": "markdown",
   "metadata": {},
   "source": [
    "## Visualization"
   ]
  },
  {
   "cell_type": "markdown",
   "metadata": {},
   "source": [
    "The dataset analyzed includes a unique identifier for each publication, referred to as *paper_id*. This identifier features a versioning system, where the suffix *v1* denotes the initial release of a paper. Later versions, such as *v2*, *v3* and beyond, typically reflect corrections, refinements or improvements to the original work. While these subsequent versions address important refinements, they generally do not introduce groundbreaking ideas. Therefore, this analysis focuses primarily on the initial publications (*v1*), as they are considered the most significant in contributing to scientific progress.\n",
    "\n",
    "The structure of the analysis is designed to provide a clear and comprehensive understanding of the trends in AI and ML related research. It begins with a broad overview of publication activity, including all versions, to illustrate the overall growth in the field. The focus then narrows to initial publications, highlighting their foundational role in advancing knowledge. The next section explores category specific trends, offering a detailed examination of key areas such as machine learning, computer vision, and statistics. Finally, a relative analysis is presented to highlight the proportional impact of individual categories over time, offering insights into their evolving significance."
   ]
  },
  {
   "cell_type": "markdown",
   "metadata": {},
   "source": [
    "### General Development of Publications in AI and ML related fields"
   ]
  },
  {
   "cell_type": "code",
   "execution_count": 27,
   "metadata": {
    "ExecuteTime": {
     "end_time": "2024-12-29T15:25:39.674057Z",
     "start_time": "2024-12-29T15:25:39.659222Z"
    }
   },
   "outputs": [],
   "source": [
    "def plot_general_development(df, title, period):\n",
    "    \"\"\"\n",
    "    Plots the number of publications per period on both linear and logarithmic scales side-by-side.\n",
    "    \"\"\"\n",
    "    papers_per_period = prepare_data(df, period)\n",
    "\n",
    "    # Create a scatter plot with a linear scale\n",
    "    # To enable the ols trendline to depict an exponential trend log_y is set to True only for the trendline\n",
    "    fig_linear = px.scatter(\n",
    "        papers_per_period,\n",
    "        x=\"period\",\n",
    "        y=\"count\",\n",
    "        trendline=\"ols\",\n",
    "        trendline_color_override=\"red\",\n",
    "        trendline_options=dict(log_y=True),\n",
    "    )\n",
    "\n",
    "    # Create a scatter plot with a logarithmic scale\n",
    "    # To enable the ols trendline to depict a linear trend on a log scale log_y is set to True for both the plot and the trendline\n",
    "    fig_log = px.scatter(\n",
    "        papers_per_period,\n",
    "        x=\"period\",\n",
    "        y=\"count\",\n",
    "        trendline=\"ols\",\n",
    "        trendline_color_override=\"red\",\n",
    "        log_y=True,\n",
    "        trendline_options=dict(log_y=True),\n",
    "    )\n",
    "\n",
    "    # Combine the two plots into a single figure to display them side-by-side\n",
    "    subfig = make_subplots(rows=1, cols=2, subplot_titles=[\"Linear Scale\", \"Log Scale\"])\n",
    "\n",
    "    # Add linear plot to the left side of the figure and log plot to the right side\n",
    "    for trace in fig_linear.data:\n",
    "        subfig.add_trace(trace, row=1, col=1)\n",
    "    for trace in fig_log.data:\n",
    "        subfig.add_trace(trace, row=1, col=2)\n",
    "\n",
    "    # Update layout for the combined figure\n",
    "    subfig.update_yaxes(\n",
    "        title=\"# of Publications per Month\", row=1, col=1, type=\"linear\"\n",
    "    )  # Update the y-axis label and linear-scale for the left plot\n",
    "    subfig.update_yaxes(\n",
    "        title=\"# of Publications per Month\", row=1, col=2, type=\"log\"\n",
    "    )  # Update the y-axis label and set logarithmic-scale for the right plot\n",
    "    subfig.update_xaxes(\n",
    "        title=\"Year of Publication\"\n",
    "    )  # Update the x-axis label for both plots\n",
    "\n",
    "    # Update the title text of the combined figure and center it\n",
    "    subfig.update_layout(\n",
    "        title=dict(\n",
    "            text=f\"Number of {title} Publications per Month\",\n",
    "            font=dict(size=TITLE_SIZE),\n",
    "            x=TITLE_X_POS,\n",
    "        )\n",
    "    )\n",
    "\n",
    "    subfig.show()\n"
   ]
  },
  {
   "cell_type": "code",
   "execution_count": null,
   "metadata": {
    "ExecuteTime": {
     "end_time": "2024-12-29T15:25:39.894979Z",
     "start_time": "2024-12-29T15:25:39.683595Z"
    }
   },
   "outputs": [
    {
     "data": {
      "application/vnd.plotly.v1+json": {
       "config": {
        "plotlyServerURL": "https://plot.ly"
       },
       "data": [
        {
         "hovertemplate": "period=%{x}<br>count=%{y}<extra></extra>",
         "legendgroup": "",
         "marker": {
          "color": "#636efa",
          "symbol": "circle"
         },
         "mode": "markers",
         "name": "",
         "orientation": "v",
         "showlegend": false,
         "type": "scatter",
         "x": [
          "1994-01-01T00:00:00",
          "1994-02-01T00:00:00",
          "1994-03-01T00:00:00",
          "1994-04-01T00:00:00",
          "1994-05-01T00:00:00",
          "1994-06-01T00:00:00",
          "1994-07-01T00:00:00",
          "1994-08-01T00:00:00",
          "1994-09-01T00:00:00",
          "1994-10-01T00:00:00",
          "1994-11-01T00:00:00",
          "1994-12-01T00:00:00",
          "1995-01-01T00:00:00",
          "1995-02-01T00:00:00",
          "1995-03-01T00:00:00",
          "1995-04-01T00:00:00",
          "1995-05-01T00:00:00",
          "1995-06-01T00:00:00",
          "1995-07-01T00:00:00",
          "1995-08-01T00:00:00",
          "1995-09-01T00:00:00",
          "1995-10-01T00:00:00",
          "1995-11-01T00:00:00",
          "1995-12-01T00:00:00",
          "1996-01-01T00:00:00",
          "1996-02-01T00:00:00",
          "1996-03-01T00:00:00",
          "1996-04-01T00:00:00",
          "1996-05-01T00:00:00",
          "1996-06-01T00:00:00",
          "1996-07-01T00:00:00",
          "1996-08-01T00:00:00",
          "1996-09-01T00:00:00",
          "1996-10-01T00:00:00",
          "1996-11-01T00:00:00",
          "1996-12-01T00:00:00",
          "1997-01-01T00:00:00",
          "1997-02-01T00:00:00",
          "1997-03-01T00:00:00",
          "1997-04-01T00:00:00",
          "1997-05-01T00:00:00",
          "1997-06-01T00:00:00",
          "1997-07-01T00:00:00",
          "1997-08-01T00:00:00",
          "1997-09-01T00:00:00",
          "1997-10-01T00:00:00",
          "1997-11-01T00:00:00",
          "1997-12-01T00:00:00",
          "1998-01-01T00:00:00",
          "1998-02-01T00:00:00",
          "1998-03-01T00:00:00",
          "1998-04-01T00:00:00",
          "1998-05-01T00:00:00",
          "1998-06-01T00:00:00",
          "1998-07-01T00:00:00",
          "1998-08-01T00:00:00",
          "1998-09-01T00:00:00",
          "1998-10-01T00:00:00",
          "1998-11-01T00:00:00",
          "1998-12-01T00:00:00",
          "1999-01-01T00:00:00",
          "1999-02-01T00:00:00",
          "1999-03-01T00:00:00",
          "1999-04-01T00:00:00",
          "1999-05-01T00:00:00",
          "1999-06-01T00:00:00",
          "1999-07-01T00:00:00",
          "1999-08-01T00:00:00",
          "1999-09-01T00:00:00",
          "1999-10-01T00:00:00",
          "1999-11-01T00:00:00",
          "1999-12-01T00:00:00",
          "2000-01-01T00:00:00",
          "2000-02-01T00:00:00",
          "2000-03-01T00:00:00",
          "2000-04-01T00:00:00",
          "2000-05-01T00:00:00",
          "2000-06-01T00:00:00",
          "2000-07-01T00:00:00",
          "2000-08-01T00:00:00",
          "2000-09-01T00:00:00",
          "2000-10-01T00:00:00",
          "2000-11-01T00:00:00",
          "2000-12-01T00:00:00",
          "2001-01-01T00:00:00",
          "2001-02-01T00:00:00",
          "2001-03-01T00:00:00",
          "2001-04-01T00:00:00",
          "2001-05-01T00:00:00",
          "2001-06-01T00:00:00",
          "2001-07-01T00:00:00",
          "2001-08-01T00:00:00",
          "2001-09-01T00:00:00",
          "2001-10-01T00:00:00",
          "2001-11-01T00:00:00",
          "2001-12-01T00:00:00",
          "2002-01-01T00:00:00",
          "2002-02-01T00:00:00",
          "2002-03-01T00:00:00",
          "2002-04-01T00:00:00",
          "2002-05-01T00:00:00",
          "2002-06-01T00:00:00",
          "2002-07-01T00:00:00",
          "2002-08-01T00:00:00",
          "2002-09-01T00:00:00",
          "2002-10-01T00:00:00",
          "2002-11-01T00:00:00",
          "2002-12-01T00:00:00",
          "2003-01-01T00:00:00",
          "2003-02-01T00:00:00",
          "2003-03-01T00:00:00",
          "2003-04-01T00:00:00",
          "2003-05-01T00:00:00",
          "2003-06-01T00:00:00",
          "2003-07-01T00:00:00",
          "2003-08-01T00:00:00",
          "2003-09-01T00:00:00",
          "2003-10-01T00:00:00",
          "2003-11-01T00:00:00",
          "2003-12-01T00:00:00",
          "2004-01-01T00:00:00",
          "2004-02-01T00:00:00",
          "2004-03-01T00:00:00",
          "2004-04-01T00:00:00",
          "2004-05-01T00:00:00",
          "2004-06-01T00:00:00",
          "2004-07-01T00:00:00",
          "2004-08-01T00:00:00",
          "2004-09-01T00:00:00",
          "2004-10-01T00:00:00",
          "2004-11-01T00:00:00",
          "2004-12-01T00:00:00",
          "2005-01-01T00:00:00",
          "2005-02-01T00:00:00",
          "2005-03-01T00:00:00",
          "2005-04-01T00:00:00",
          "2005-05-01T00:00:00",
          "2005-06-01T00:00:00",
          "2005-07-01T00:00:00",
          "2005-08-01T00:00:00",
          "2005-09-01T00:00:00",
          "2005-10-01T00:00:00",
          "2005-11-01T00:00:00",
          "2005-12-01T00:00:00",
          "2006-01-01T00:00:00",
          "2006-02-01T00:00:00",
          "2006-03-01T00:00:00",
          "2006-04-01T00:00:00",
          "2006-05-01T00:00:00",
          "2006-06-01T00:00:00",
          "2006-07-01T00:00:00",
          "2006-08-01T00:00:00",
          "2006-09-01T00:00:00",
          "2006-10-01T00:00:00",
          "2006-11-01T00:00:00",
          "2006-12-01T00:00:00",
          "2007-01-01T00:00:00",
          "2007-02-01T00:00:00",
          "2007-03-01T00:00:00",
          "2007-04-01T00:00:00",
          "2007-05-01T00:00:00",
          "2007-06-01T00:00:00",
          "2007-07-01T00:00:00",
          "2007-08-01T00:00:00",
          "2007-09-01T00:00:00",
          "2007-10-01T00:00:00",
          "2007-11-01T00:00:00",
          "2007-12-01T00:00:00",
          "2008-01-01T00:00:00",
          "2008-02-01T00:00:00",
          "2008-03-01T00:00:00",
          "2008-04-01T00:00:00",
          "2008-05-01T00:00:00",
          "2008-06-01T00:00:00",
          "2008-07-01T00:00:00",
          "2008-08-01T00:00:00",
          "2008-09-01T00:00:00",
          "2008-10-01T00:00:00",
          "2008-11-01T00:00:00",
          "2008-12-01T00:00:00",
          "2009-01-01T00:00:00",
          "2009-02-01T00:00:00",
          "2009-03-01T00:00:00",
          "2009-04-01T00:00:00",
          "2009-05-01T00:00:00",
          "2009-06-01T00:00:00",
          "2009-07-01T00:00:00",
          "2009-08-01T00:00:00",
          "2009-09-01T00:00:00",
          "2009-10-01T00:00:00",
          "2009-11-01T00:00:00",
          "2009-12-01T00:00:00",
          "2010-01-01T00:00:00",
          "2010-02-01T00:00:00",
          "2010-03-01T00:00:00",
          "2010-04-01T00:00:00",
          "2010-05-01T00:00:00",
          "2010-06-01T00:00:00",
          "2010-07-01T00:00:00",
          "2010-08-01T00:00:00",
          "2010-09-01T00:00:00",
          "2010-10-01T00:00:00",
          "2010-11-01T00:00:00",
          "2010-12-01T00:00:00",
          "2011-01-01T00:00:00",
          "2011-02-01T00:00:00",
          "2011-03-01T00:00:00",
          "2011-04-01T00:00:00",
          "2011-05-01T00:00:00",
          "2011-06-01T00:00:00",
          "2011-07-01T00:00:00",
          "2011-08-01T00:00:00",
          "2011-09-01T00:00:00",
          "2011-10-01T00:00:00",
          "2011-11-01T00:00:00",
          "2011-12-01T00:00:00",
          "2012-01-01T00:00:00",
          "2012-02-01T00:00:00",
          "2012-03-01T00:00:00",
          "2012-04-01T00:00:00",
          "2012-05-01T00:00:00",
          "2012-06-01T00:00:00",
          "2012-07-01T00:00:00",
          "2012-08-01T00:00:00",
          "2012-09-01T00:00:00",
          "2012-10-01T00:00:00",
          "2012-11-01T00:00:00",
          "2012-12-01T00:00:00",
          "2013-01-01T00:00:00",
          "2013-02-01T00:00:00",
          "2013-03-01T00:00:00",
          "2013-04-01T00:00:00",
          "2013-05-01T00:00:00",
          "2013-06-01T00:00:00",
          "2013-07-01T00:00:00",
          "2013-08-01T00:00:00",
          "2013-09-01T00:00:00",
          "2013-10-01T00:00:00",
          "2013-11-01T00:00:00",
          "2013-12-01T00:00:00",
          "2014-01-01T00:00:00",
          "2014-02-01T00:00:00",
          "2014-03-01T00:00:00",
          "2014-04-01T00:00:00",
          "2014-05-01T00:00:00",
          "2014-06-01T00:00:00",
          "2014-07-01T00:00:00",
          "2014-08-01T00:00:00",
          "2014-09-01T00:00:00",
          "2014-10-01T00:00:00",
          "2014-11-01T00:00:00",
          "2014-12-01T00:00:00",
          "2015-01-01T00:00:00",
          "2015-02-01T00:00:00",
          "2015-03-01T00:00:00",
          "2015-04-01T00:00:00",
          "2015-05-01T00:00:00",
          "2015-06-01T00:00:00",
          "2015-07-01T00:00:00",
          "2015-08-01T00:00:00",
          "2015-09-01T00:00:00",
          "2015-10-01T00:00:00",
          "2015-11-01T00:00:00",
          "2015-12-01T00:00:00",
          "2016-01-01T00:00:00",
          "2016-02-01T00:00:00",
          "2016-03-01T00:00:00",
          "2016-04-01T00:00:00",
          "2016-05-01T00:00:00",
          "2016-06-01T00:00:00",
          "2016-07-01T00:00:00",
          "2016-08-01T00:00:00",
          "2016-09-01T00:00:00",
          "2016-10-01T00:00:00",
          "2016-11-01T00:00:00",
          "2016-12-01T00:00:00",
          "2017-01-01T00:00:00",
          "2017-02-01T00:00:00",
          "2017-03-01T00:00:00",
          "2017-04-01T00:00:00",
          "2017-05-01T00:00:00",
          "2017-06-01T00:00:00",
          "2017-07-01T00:00:00",
          "2017-08-01T00:00:00",
          "2017-09-01T00:00:00",
          "2017-10-01T00:00:00",
          "2017-11-01T00:00:00",
          "2017-12-01T00:00:00",
          "2018-01-01T00:00:00",
          "2018-02-01T00:00:00",
          "2018-03-01T00:00:00",
          "2018-04-01T00:00:00",
          "2018-05-01T00:00:00",
          "2018-06-01T00:00:00",
          "2018-07-01T00:00:00",
          "2018-08-01T00:00:00",
          "2018-09-01T00:00:00",
          "2018-10-01T00:00:00",
          "2018-11-01T00:00:00",
          "2018-12-01T00:00:00",
          "2019-01-01T00:00:00",
          "2019-02-01T00:00:00",
          "2019-03-01T00:00:00",
          "2019-04-01T00:00:00",
          "2019-05-01T00:00:00",
          "2019-06-01T00:00:00",
          "2019-07-01T00:00:00",
          "2019-08-01T00:00:00",
          "2019-09-01T00:00:00",
          "2019-10-01T00:00:00",
          "2019-11-01T00:00:00",
          "2019-12-01T00:00:00",
          "2020-01-01T00:00:00",
          "2020-02-01T00:00:00",
          "2020-03-01T00:00:00",
          "2020-04-01T00:00:00",
          "2020-05-01T00:00:00",
          "2020-06-01T00:00:00",
          "2020-07-01T00:00:00",
          "2020-08-01T00:00:00",
          "2020-09-01T00:00:00",
          "2020-10-01T00:00:00",
          "2020-11-01T00:00:00",
          "2020-12-01T00:00:00",
          "2021-01-01T00:00:00",
          "2021-02-01T00:00:00",
          "2021-03-01T00:00:00",
          "2021-04-01T00:00:00",
          "2021-05-01T00:00:00",
          "2021-06-01T00:00:00",
          "2021-07-01T00:00:00",
          "2021-08-01T00:00:00",
          "2021-09-01T00:00:00",
          "2021-10-01T00:00:00",
          "2021-11-01T00:00:00",
          "2021-12-01T00:00:00",
          "2022-01-01T00:00:00",
          "2022-02-01T00:00:00",
          "2022-03-01T00:00:00",
          "2022-04-01T00:00:00",
          "2022-05-01T00:00:00",
          "2022-06-01T00:00:00",
          "2022-07-01T00:00:00",
          "2022-08-01T00:00:00",
          "2022-09-01T00:00:00",
          "2022-10-01T00:00:00",
          "2022-11-01T00:00:00",
          "2022-12-01T00:00:00",
          "2023-01-01T00:00:00",
          "2023-02-01T00:00:00",
          "2023-03-01T00:00:00",
          "2023-04-01T00:00:00",
          "2023-05-01T00:00:00",
          "2023-06-01T00:00:00",
          "2023-07-01T00:00:00",
          "2023-08-01T00:00:00",
          "2023-09-01T00:00:00",
          "2023-10-01T00:00:00",
          "2023-11-01T00:00:00",
          "2023-12-01T00:00:00",
          "2024-01-01T00:00:00",
          "2024-02-01T00:00:00",
          "2024-03-01T00:00:00",
          "2024-04-01T00:00:00",
          "2024-05-01T00:00:00",
          "2024-06-01T00:00:00",
          "2024-07-01T00:00:00",
          "2024-08-01T00:00:00",
          "2024-09-01T00:00:00",
          "2024-10-01T00:00:00",
          "2024-11-01T00:00:00",
          "2024-12-01T00:00:00"
         ],
         "xaxis": "x",
         "y": [
          18,
          30,
          30,
          36,
          54,
          66,
          55,
          44,
          37,
          53,
          77,
          52,
          50,
          63,
          63,
          75,
          90,
          64,
          60,
          46,
          45,
          53,
          47,
          59,
          50,
          52,
          52,
          83,
          104,
          75,
          85,
          60,
          52,
          58,
          54,
          71,
          83,
          60,
          67,
          56,
          59,
          80,
          71,
          55,
          76,
          67,
          65,
          90,
          57,
          51,
          66,
          66,
          68,
          94,
          78,
          73,
          118,
          71,
          73,
          83,
          66,
          79,
          86,
          78,
          103,
          90,
          109,
          67,
          70,
          85,
          90,
          99,
          72,
          89,
          153,
          89,
          118,
          113,
          105,
          110,
          109,
          113,
          111,
          91,
          92,
          110,
          100,
          98,
          132,
          107,
          92,
          87,
          95,
          129,
          117,
          135,
          108,
          117,
          114,
          135,
          160,
          121,
          146,
          90,
          121,
          144,
          156,
          161,
          127,
          120,
          141,
          176,
          183,
          146,
          154,
          124,
          162,
          134,
          160,
          168,
          114,
          159,
          166,
          185,
          246,
          227,
          181,
          166,
          188,
          268,
          204,
          241,
          202,
          175,
          348,
          199,
          262,
          224,
          229,
          242,
          248,
          227,
          289,
          235,
          299,
          254,
          308,
          251,
          280,
          295,
          310,
          308,
          341,
          354,
          364,
          327,
          317,
          357,
          348,
          308,
          364,
          323,
          396,
          398,
          379,
          418,
          394,
          438,
          415,
          419,
          429,
          457,
          436,
          412,
          405,
          297,
          445,
          447,
          392,
          445,
          413,
          484,
          513,
          440,
          402,
          502,
          514,
          472,
          559,
          548,
          566,
          568,
          552,
          508,
          612,
          640,
          573,
          591,
          529,
          513,
          647,
          667,
          641,
          635,
          529,
          669,
          761,
          687,
          742,
          816,
          713,
          671,
          793,
          808,
          802,
          803,
          742,
          900,
          938,
          876,
          869,
          1203,
          1068,
          741,
          841,
          1105,
          973,
          951,
          1213,
          1147,
          1420,
          998,
          911,
          969,
          1039,
          858,
          1116,
          1100,
          1058,
          1246,
          1216,
          1098,
          1132,
          1160,
          1162,
          1166,
          1136,
          1021,
          1101,
          1259,
          1255,
          1407,
          1139,
          1278,
          1429,
          1305,
          1335,
          1581,
          1439,
          1255,
          1525,
          1465,
          1729,
          1429,
          1313,
          1575,
          1811,
          1648,
          1857,
          1878,
          1619,
          1619,
          1871,
          1947,
          2200,
          1938,
          1628,
          1893,
          2371,
          2115,
          2370,
          2264,
          2340,
          2183,
          2479,
          2365,
          2856,
          2223,
          2104,
          2778,
          3021,
          2811,
          3328,
          3043,
          2996,
          2704,
          3259,
          3485,
          3756,
          3150,
          2994,
          3156,
          3583,
          4105,
          4517,
          4327,
          4012,
          3637,
          4611,
          4803,
          4624,
          4012,
          3488,
          4609,
          4808,
          5124,
          4907,
          6132,
          5566,
          4577,
          4857,
          6684,
          5483,
          5481,
          4374,
          4962,
          6091,
          5779,
          5433,
          6655,
          5331,
          4806,
          5880,
          6577,
          5440,
          5441,
          4603,
          5404,
          6917,
          5669,
          6300,
          6220,
          5836,
          5148,
          5946,
          7769,
          6870,
          5490,
          4789,
          6106,
          7851,
          6259,
          9121,
          7595,
          6747,
          6983,
          7632,
          9167,
          8050,
          7877,
          7045,
          9206,
          9846,
          8476,
          9556,
          10072,
          9209,
          7796,
          9137,
          9367,
          8981,
          8257
         ],
         "yaxis": "y"
        },
        {
         "hovertemplate": "<b>OLS trendline</b><br>log10(count) = 2.50224e-09 * period + -0.382384<br>R<sup>2</sup>=0.985283<br><br>period=%{x}<br>count=%{y} <b>(trend)</b><extra></extra>",
         "legendgroup": "",
         "line": {
          "color": "red"
         },
         "marker": {
          "color": "#636efa",
          "symbol": "circle"
         },
         "mode": "lines",
         "name": "",
         "showlegend": false,
         "type": "scatter",
         "x": [
          "1994-01-01T00:00:00",
          "1994-02-01T00:00:00",
          "1994-03-01T00:00:00",
          "1994-04-01T00:00:00",
          "1994-05-01T00:00:00",
          "1994-06-01T00:00:00",
          "1994-07-01T00:00:00",
          "1994-08-01T00:00:00",
          "1994-09-01T00:00:00",
          "1994-10-01T00:00:00",
          "1994-11-01T00:00:00",
          "1994-12-01T00:00:00",
          "1995-01-01T00:00:00",
          "1995-02-01T00:00:00",
          "1995-03-01T00:00:00",
          "1995-04-01T00:00:00",
          "1995-05-01T00:00:00",
          "1995-06-01T00:00:00",
          "1995-07-01T00:00:00",
          "1995-08-01T00:00:00",
          "1995-09-01T00:00:00",
          "1995-10-01T00:00:00",
          "1995-11-01T00:00:00",
          "1995-12-01T00:00:00",
          "1996-01-01T00:00:00",
          "1996-02-01T00:00:00",
          "1996-03-01T00:00:00",
          "1996-04-01T00:00:00",
          "1996-05-01T00:00:00",
          "1996-06-01T00:00:00",
          "1996-07-01T00:00:00",
          "1996-08-01T00:00:00",
          "1996-09-01T00:00:00",
          "1996-10-01T00:00:00",
          "1996-11-01T00:00:00",
          "1996-12-01T00:00:00",
          "1997-01-01T00:00:00",
          "1997-02-01T00:00:00",
          "1997-03-01T00:00:00",
          "1997-04-01T00:00:00",
          "1997-05-01T00:00:00",
          "1997-06-01T00:00:00",
          "1997-07-01T00:00:00",
          "1997-08-01T00:00:00",
          "1997-09-01T00:00:00",
          "1997-10-01T00:00:00",
          "1997-11-01T00:00:00",
          "1997-12-01T00:00:00",
          "1998-01-01T00:00:00",
          "1998-02-01T00:00:00",
          "1998-03-01T00:00:00",
          "1998-04-01T00:00:00",
          "1998-05-01T00:00:00",
          "1998-06-01T00:00:00",
          "1998-07-01T00:00:00",
          "1998-08-01T00:00:00",
          "1998-09-01T00:00:00",
          "1998-10-01T00:00:00",
          "1998-11-01T00:00:00",
          "1998-12-01T00:00:00",
          "1999-01-01T00:00:00",
          "1999-02-01T00:00:00",
          "1999-03-01T00:00:00",
          "1999-04-01T00:00:00",
          "1999-05-01T00:00:00",
          "1999-06-01T00:00:00",
          "1999-07-01T00:00:00",
          "1999-08-01T00:00:00",
          "1999-09-01T00:00:00",
          "1999-10-01T00:00:00",
          "1999-11-01T00:00:00",
          "1999-12-01T00:00:00",
          "2000-01-01T00:00:00",
          "2000-02-01T00:00:00",
          "2000-03-01T00:00:00",
          "2000-04-01T00:00:00",
          "2000-05-01T00:00:00",
          "2000-06-01T00:00:00",
          "2000-07-01T00:00:00",
          "2000-08-01T00:00:00",
          "2000-09-01T00:00:00",
          "2000-10-01T00:00:00",
          "2000-11-01T00:00:00",
          "2000-12-01T00:00:00",
          "2001-01-01T00:00:00",
          "2001-02-01T00:00:00",
          "2001-03-01T00:00:00",
          "2001-04-01T00:00:00",
          "2001-05-01T00:00:00",
          "2001-06-01T00:00:00",
          "2001-07-01T00:00:00",
          "2001-08-01T00:00:00",
          "2001-09-01T00:00:00",
          "2001-10-01T00:00:00",
          "2001-11-01T00:00:00",
          "2001-12-01T00:00:00",
          "2002-01-01T00:00:00",
          "2002-02-01T00:00:00",
          "2002-03-01T00:00:00",
          "2002-04-01T00:00:00",
          "2002-05-01T00:00:00",
          "2002-06-01T00:00:00",
          "2002-07-01T00:00:00",
          "2002-08-01T00:00:00",
          "2002-09-01T00:00:00",
          "2002-10-01T00:00:00",
          "2002-11-01T00:00:00",
          "2002-12-01T00:00:00",
          "2003-01-01T00:00:00",
          "2003-02-01T00:00:00",
          "2003-03-01T00:00:00",
          "2003-04-01T00:00:00",
          "2003-05-01T00:00:00",
          "2003-06-01T00:00:00",
          "2003-07-01T00:00:00",
          "2003-08-01T00:00:00",
          "2003-09-01T00:00:00",
          "2003-10-01T00:00:00",
          "2003-11-01T00:00:00",
          "2003-12-01T00:00:00",
          "2004-01-01T00:00:00",
          "2004-02-01T00:00:00",
          "2004-03-01T00:00:00",
          "2004-04-01T00:00:00",
          "2004-05-01T00:00:00",
          "2004-06-01T00:00:00",
          "2004-07-01T00:00:00",
          "2004-08-01T00:00:00",
          "2004-09-01T00:00:00",
          "2004-10-01T00:00:00",
          "2004-11-01T00:00:00",
          "2004-12-01T00:00:00",
          "2005-01-01T00:00:00",
          "2005-02-01T00:00:00",
          "2005-03-01T00:00:00",
          "2005-04-01T00:00:00",
          "2005-05-01T00:00:00",
          "2005-06-01T00:00:00",
          "2005-07-01T00:00:00",
          "2005-08-01T00:00:00",
          "2005-09-01T00:00:00",
          "2005-10-01T00:00:00",
          "2005-11-01T00:00:00",
          "2005-12-01T00:00:00",
          "2006-01-01T00:00:00",
          "2006-02-01T00:00:00",
          "2006-03-01T00:00:00",
          "2006-04-01T00:00:00",
          "2006-05-01T00:00:00",
          "2006-06-01T00:00:00",
          "2006-07-01T00:00:00",
          "2006-08-01T00:00:00",
          "2006-09-01T00:00:00",
          "2006-10-01T00:00:00",
          "2006-11-01T00:00:00",
          "2006-12-01T00:00:00",
          "2007-01-01T00:00:00",
          "2007-02-01T00:00:00",
          "2007-03-01T00:00:00",
          "2007-04-01T00:00:00",
          "2007-05-01T00:00:00",
          "2007-06-01T00:00:00",
          "2007-07-01T00:00:00",
          "2007-08-01T00:00:00",
          "2007-09-01T00:00:00",
          "2007-10-01T00:00:00",
          "2007-11-01T00:00:00",
          "2007-12-01T00:00:00",
          "2008-01-01T00:00:00",
          "2008-02-01T00:00:00",
          "2008-03-01T00:00:00",
          "2008-04-01T00:00:00",
          "2008-05-01T00:00:00",
          "2008-06-01T00:00:00",
          "2008-07-01T00:00:00",
          "2008-08-01T00:00:00",
          "2008-09-01T00:00:00",
          "2008-10-01T00:00:00",
          "2008-11-01T00:00:00",
          "2008-12-01T00:00:00",
          "2009-01-01T00:00:00",
          "2009-02-01T00:00:00",
          "2009-03-01T00:00:00",
          "2009-04-01T00:00:00",
          "2009-05-01T00:00:00",
          "2009-06-01T00:00:00",
          "2009-07-01T00:00:00",
          "2009-08-01T00:00:00",
          "2009-09-01T00:00:00",
          "2009-10-01T00:00:00",
          "2009-11-01T00:00:00",
          "2009-12-01T00:00:00",
          "2010-01-01T00:00:00",
          "2010-02-01T00:00:00",
          "2010-03-01T00:00:00",
          "2010-04-01T00:00:00",
          "2010-05-01T00:00:00",
          "2010-06-01T00:00:00",
          "2010-07-01T00:00:00",
          "2010-08-01T00:00:00",
          "2010-09-01T00:00:00",
          "2010-10-01T00:00:00",
          "2010-11-01T00:00:00",
          "2010-12-01T00:00:00",
          "2011-01-01T00:00:00",
          "2011-02-01T00:00:00",
          "2011-03-01T00:00:00",
          "2011-04-01T00:00:00",
          "2011-05-01T00:00:00",
          "2011-06-01T00:00:00",
          "2011-07-01T00:00:00",
          "2011-08-01T00:00:00",
          "2011-09-01T00:00:00",
          "2011-10-01T00:00:00",
          "2011-11-01T00:00:00",
          "2011-12-01T00:00:00",
          "2012-01-01T00:00:00",
          "2012-02-01T00:00:00",
          "2012-03-01T00:00:00",
          "2012-04-01T00:00:00",
          "2012-05-01T00:00:00",
          "2012-06-01T00:00:00",
          "2012-07-01T00:00:00",
          "2012-08-01T00:00:00",
          "2012-09-01T00:00:00",
          "2012-10-01T00:00:00",
          "2012-11-01T00:00:00",
          "2012-12-01T00:00:00",
          "2013-01-01T00:00:00",
          "2013-02-01T00:00:00",
          "2013-03-01T00:00:00",
          "2013-04-01T00:00:00",
          "2013-05-01T00:00:00",
          "2013-06-01T00:00:00",
          "2013-07-01T00:00:00",
          "2013-08-01T00:00:00",
          "2013-09-01T00:00:00",
          "2013-10-01T00:00:00",
          "2013-11-01T00:00:00",
          "2013-12-01T00:00:00",
          "2014-01-01T00:00:00",
          "2014-02-01T00:00:00",
          "2014-03-01T00:00:00",
          "2014-04-01T00:00:00",
          "2014-05-01T00:00:00",
          "2014-06-01T00:00:00",
          "2014-07-01T00:00:00",
          "2014-08-01T00:00:00",
          "2014-09-01T00:00:00",
          "2014-10-01T00:00:00",
          "2014-11-01T00:00:00",
          "2014-12-01T00:00:00",
          "2015-01-01T00:00:00",
          "2015-02-01T00:00:00",
          "2015-03-01T00:00:00",
          "2015-04-01T00:00:00",
          "2015-05-01T00:00:00",
          "2015-06-01T00:00:00",
          "2015-07-01T00:00:00",
          "2015-08-01T00:00:00",
          "2015-09-01T00:00:00",
          "2015-10-01T00:00:00",
          "2015-11-01T00:00:00",
          "2015-12-01T00:00:00",
          "2016-01-01T00:00:00",
          "2016-02-01T00:00:00",
          "2016-03-01T00:00:00",
          "2016-04-01T00:00:00",
          "2016-05-01T00:00:00",
          "2016-06-01T00:00:00",
          "2016-07-01T00:00:00",
          "2016-08-01T00:00:00",
          "2016-09-01T00:00:00",
          "2016-10-01T00:00:00",
          "2016-11-01T00:00:00",
          "2016-12-01T00:00:00",
          "2017-01-01T00:00:00",
          "2017-02-01T00:00:00",
          "2017-03-01T00:00:00",
          "2017-04-01T00:00:00",
          "2017-05-01T00:00:00",
          "2017-06-01T00:00:00",
          "2017-07-01T00:00:00",
          "2017-08-01T00:00:00",
          "2017-09-01T00:00:00",
          "2017-10-01T00:00:00",
          "2017-11-01T00:00:00",
          "2017-12-01T00:00:00",
          "2018-01-01T00:00:00",
          "2018-02-01T00:00:00",
          "2018-03-01T00:00:00",
          "2018-04-01T00:00:00",
          "2018-05-01T00:00:00",
          "2018-06-01T00:00:00",
          "2018-07-01T00:00:00",
          "2018-08-01T00:00:00",
          "2018-09-01T00:00:00",
          "2018-10-01T00:00:00",
          "2018-11-01T00:00:00",
          "2018-12-01T00:00:00",
          "2019-01-01T00:00:00",
          "2019-02-01T00:00:00",
          "2019-03-01T00:00:00",
          "2019-04-01T00:00:00",
          "2019-05-01T00:00:00",
          "2019-06-01T00:00:00",
          "2019-07-01T00:00:00",
          "2019-08-01T00:00:00",
          "2019-09-01T00:00:00",
          "2019-10-01T00:00:00",
          "2019-11-01T00:00:00",
          "2019-12-01T00:00:00",
          "2020-01-01T00:00:00",
          "2020-02-01T00:00:00",
          "2020-03-01T00:00:00",
          "2020-04-01T00:00:00",
          "2020-05-01T00:00:00",
          "2020-06-01T00:00:00",
          "2020-07-01T00:00:00",
          "2020-08-01T00:00:00",
          "2020-09-01T00:00:00",
          "2020-10-01T00:00:00",
          "2020-11-01T00:00:00",
          "2020-12-01T00:00:00",
          "2021-01-01T00:00:00",
          "2021-02-01T00:00:00",
          "2021-03-01T00:00:00",
          "2021-04-01T00:00:00",
          "2021-05-01T00:00:00",
          "2021-06-01T00:00:00",
          "2021-07-01T00:00:00",
          "2021-08-01T00:00:00",
          "2021-09-01T00:00:00",
          "2021-10-01T00:00:00",
          "2021-11-01T00:00:00",
          "2021-12-01T00:00:00",
          "2022-01-01T00:00:00",
          "2022-02-01T00:00:00",
          "2022-03-01T00:00:00",
          "2022-04-01T00:00:00",
          "2022-05-01T00:00:00",
          "2022-06-01T00:00:00",
          "2022-07-01T00:00:00",
          "2022-08-01T00:00:00",
          "2022-09-01T00:00:00",
          "2022-10-01T00:00:00",
          "2022-11-01T00:00:00",
          "2022-12-01T00:00:00",
          "2023-01-01T00:00:00",
          "2023-02-01T00:00:00",
          "2023-03-01T00:00:00",
          "2023-04-01T00:00:00",
          "2023-05-01T00:00:00",
          "2023-06-01T00:00:00",
          "2023-07-01T00:00:00",
          "2023-08-01T00:00:00",
          "2023-09-01T00:00:00",
          "2023-10-01T00:00:00",
          "2023-11-01T00:00:00",
          "2023-12-01T00:00:00",
          "2024-01-01T00:00:00",
          "2024-02-01T00:00:00",
          "2024-03-01T00:00:00",
          "2024-04-01T00:00:00",
          "2024-05-01T00:00:00",
          "2024-06-01T00:00:00",
          "2024-07-01T00:00:00",
          "2024-08-01T00:00:00",
          "2024-09-01T00:00:00",
          "2024-10-01T00:00:00",
          "2024-11-01T00:00:00",
          "2024-12-01T00:00:00"
         ],
         "xaxis": "x",
         "y": [
          32.566274585812586,
          33.07273254769204,
          33.536944859898995,
          34.05849830613836,
          34.570948909129,
          35.1085827818221,
          35.636833154312804,
          36.19104324179501,
          36.75387218774131,
          37.30687789561347,
          37.88705986556255,
          38.457115729421666,
          39.05518574816958,
          39.662556717873876,
          40.21926448719689,
          40.844738754043235,
          41.45929641349624,
          42.104055171738864,
          42.737560744038866,
          43.40219856907135,
          44.0771725815412,
          44.74036605133262,
          45.436150720972776,
          46.11979163271373,
          46.83702858934078,
          47.56541973452209,
          48.2570694912427,
          49.007544556986296,
          49.74492133542142,
          50.518534890972745,
          51.2786463155689,
          52.076111761992244,
          52.885979079056355,
          53.681711516382585,
          54.51654849268911,
          55.3368147856106,
          56.19739128045569,
          57.071351124276475,
          57.872410541667264,
          58.772419629742465,
          59.656720564204164,
          60.58447854369757,
          61.49604405908014,
          62.4524064779913,
          63.42364187109611,
          64.37792597453962,
          65.37910629355892,
          66.36281268430972,
          67.394861184918,
          68.4429597000528,
          69.40363219758018,
          70.48297033363868,
          71.5434704274298,
          72.65608649049783,
          73.7492837007309,
          74.89620370887373,
          76.0609601682887,
          77.20538775144088,
          78.40605573769382,
          79.58576807203535,
          80.82345480178901,
          82.08038955135983,
          83.23247843199695,
          84.52687737461378,
          85.79868474821524,
          87.13299232751844,
          88.4440117992891,
          89.81945846999388,
          91.21629554922328,
          92.58875317306251,
          94.02865724011897,
          95.44343018953039,
          96.92772907674899,
          98.43511119957859,
          99.86645819691293,
          101.41954228533874,
          102.94551988810902,
          104.54648833937514,
          106.11951456350585,
          107.76984373824308,
          109.44583818666916,
          111.09258095463984,
          112.82024931234416,
          114.51776410791707,
          116.29869957403129,
          118.10733145178247,
          119.76509823421446,
          121.62763818781472,
          123.4576706211133,
          125.37763601587764,
          127.2640916252931,
          129.24325299037798,
          131.25319349873118,
          133.22805385658654,
          135.2999644290893,
          137.33571326725246,
          139.47150455192386,
          141.64051082709668,
          143.62859176169755,
          145.86224743083372,
          148.05691837544285,
          150.35944164763964,
          152.62177822646,
          154.9952924132092,
          157.40571856403156,
          159.77407475716927,
          162.25881866146432,
          164.70019551596383,
          167.26154852311745,
          169.8627346901938,
          172.24694569285643,
          174.92566280634458,
          177.5576273920378,
          180.3189341496827,
          183.0320469154028,
          185.87848970378926,
          188.7691992568442,
          191.60945630857083,
          194.58929161221178,
          197.51711887358678,
          200.58882783426102,
          203.708306810987,
          206.67043353317675,
          209.88449126250495,
          213.04245298879977,
          216.35560587185972,
          219.61093321168718,
          223.0262365294728,
          226.4946533083318,
          229.90253467229377,
          233.47788894974542,
          236.99084139708555,
          240.6764302476556,
          244.41933593416454,
          247.8500311426255,
          251.70449786381894,
          255.49169131393424,
          259.4649981445648,
          263.3689575487345,
          267.4647685421282,
          271.62427598574067,
          275.71118618256224,
          279.99893868718027,
          284.2118556419224,
          288.631807232366,
          293.1204961807844,
          297.23476593733096,
          301.8572447339053,
          306.3990458929163,
          311.16404398613815,
          315.8458770057982,
          320.75778852072693,
          325.7460881619128,
          330.64732537442785,
          335.78942322380783,
          340.84177435397805,
          346.14241228564697,
          351.5254836647294,
          356.4595318972532,
          362.0030510843031,
          367.4498174139615,
          373.16425322178145,
          378.7789531084053,
          384.6695752023952,
          390.65180594667913,
          396.5296268569651,
          402.69630048472783,
          408.7553451363914,
          415.112148351927,
          421.5678100841818,
          427.6978363703652,
          434.3492257989481,
          440.8845263476829,
          447.74099001993574,
          454.4777855843487,
          461.54564630633655,
          468.7234236332062,
          475.77592485970285,
          483.17500591150764,
          490.4449483764914,
          498.0721563432585,
          505.81797966443145,
          512.9176934107111,
          520.8943887165311,
          528.7318641446282,
          536.9544952469303,
          545.0336140734415,
          553.509763613116,
          562.1177309144174,
          570.5754605409437,
          579.4488268844771,
          588.16732345676,
          597.3142715701249,
          606.6034694421071,
          615.1178188003403,
          624.6838904737976,
          634.0830023628307,
          643.9440131515504,
          653.6329164867938,
          663.7979598917105,
          674.1210860749239,
          684.2640393532115,
          694.905445997532,
          705.3611246837164,
          716.3306249455592,
          727.4707185840202,
          737.6815732162991,
          749.1537084494128,
          760.4256167460393,
          772.2514584462718,
          783.8708998551109,
          796.0613534260632,
          808.4413881618387,
          820.6053500935216,
          833.3670834634415,
          845.9060821178955,
          859.0612825741838,
          872.4210675614298,
          885.1069604328619,
          898.8717976126551,
          912.3963925773974,
          926.5856243298146,
          940.5272067695985,
          955.15391793908,
          970.0080979984527,
          984.6030231844385,
          999.9151842075975,
          1014.9600970654943,
          1030.7443594254482,
          1046.774092458554,
          1061.466722440602,
          1077.97423764421,
          1094.1936417742386,
          1111.210113223996,
          1127.9295906199895,
          1145.4707103481205,
          1163.2846227078799,
          1180.787623016293,
          1199.1507701852922,
          1217.1934193277953,
          1236.122735198466,
          1255.3464323840876,
          1272.9666054120473,
          1292.7632840532838,
          1312.214444773365,
          1332.6214904579278,
          1352.6723652852647,
          1373.7085967218054,
          1395.071975399915,
          1416.0624920276014,
          1438.0845419159457,
          1459.7222337493383,
          1482.4232628605075,
          1505.4773294953845,
          1526.6083657982474,
          1550.3495818680517,
          1573.6764347120416,
          1598.1496349757647,
          1622.1956964536148,
          1647.4234492943845,
          1673.0435342778107,
          1698.216463520429,
          1724.626461590008,
          1750.575517306777,
          1777.7997828970913,
          1805.4474296152732,
          1831.700478204666,
          1860.1863674494032,
          1888.175083132228,
          1917.5392433389752,
          1946.390901232834,
          1976.660411067668,
          2007.4006604775057,
          2037.6043902385495,
          2069.2924165701343,
          2100.4273813916516,
          2133.092406304231,
          2166.2654249051375,
          2196.6713516092304,
          2230.8331250943584,
          2264.398661949518,
          2299.6137040689878,
          2334.2141265157784,
          2370.5149114271853,
          2407.3802319440547,
          2443.602129938457,
          2481.6040742846535,
          2518.942758240135,
          2558.1163705631448,
          2597.899195579623,
          2634.363578760585,
          2675.332170529746,
          2715.5857240383343,
          2757.8174508353736,
          2799.312093462177,
          2842.8459000013195,
          2887.0567272685953,
          2930.495928476431,
          2976.069854696373,
          3020.848364244067,
          3067.827416197662,
          3115.537067988237,
          3159.2670701588086,
          3208.398755675044,
          3256.672929779889,
          3307.31943311813,
          3357.0819864330124,
          3409.290012138596,
          3462.3099566352844,
          3514.4045266621274,
          3569.059170966108,
          3622.7599098486917,
          3679.0996546815254,
          3736.315573184932,
          3790.6454155714428,
          3849.596050109619,
          3907.517799900728,
          3968.28598803753,
          4027.9935690685693,
          4090.635349235305,
          4154.251309860666,
          4216.756960273593,
          4282.334314852917,
          4346.767126368226,
          4414.366348188462,
          4483.016846660485,
          4545.940937164644,
          4616.637632170222,
          4686.100434585339,
          4758.976835262021,
          4830.581300230724,
          4905.704610806557,
          4981.996209718962,
          5056.956266349158,
          5135.6000718363375,
          5212.871281208977,
          5293.9398160106575,
          5376.269096950198,
          5451.730968899937,
          5536.514156118625,
          5619.817594581085,
          5707.214799244027,
          5793.086631847492,
          5883.178448792214,
          5974.671338428614,
          6064.567372673225,
          6158.881151891397,
          6251.548841807297,
          6348.7704836831335,
          6447.504078498653,
          6538.001916012605,
          6639.678364033167,
          6739.5802196795585,
          6844.39153461791,
          6947.373543322235,
          7055.41637873759,
          7165.1394540611345,
          7272.9474965867175,
          7386.053530753204,
          7497.185488232181,
          7613.778783919016,
          7732.185292927097,
          7844.619159938477,
          7966.615608165758,
          8086.482812394883,
          8212.240629523985,
          8335.803554250626,
          8465.438710018565,
          8597.089901013534,
          8726.443340620286,
          8862.153573520935,
          8995.495211244519
         ],
         "yaxis": "y"
        },
        {
         "hovertemplate": "period=%{x}<br>count=%{y}<extra></extra>",
         "legendgroup": "",
         "marker": {
          "color": "#636efa",
          "symbol": "circle"
         },
         "mode": "markers",
         "name": "",
         "orientation": "v",
         "showlegend": false,
         "type": "scatter",
         "x": [
          "1994-01-01T00:00:00",
          "1994-02-01T00:00:00",
          "1994-03-01T00:00:00",
          "1994-04-01T00:00:00",
          "1994-05-01T00:00:00",
          "1994-06-01T00:00:00",
          "1994-07-01T00:00:00",
          "1994-08-01T00:00:00",
          "1994-09-01T00:00:00",
          "1994-10-01T00:00:00",
          "1994-11-01T00:00:00",
          "1994-12-01T00:00:00",
          "1995-01-01T00:00:00",
          "1995-02-01T00:00:00",
          "1995-03-01T00:00:00",
          "1995-04-01T00:00:00",
          "1995-05-01T00:00:00",
          "1995-06-01T00:00:00",
          "1995-07-01T00:00:00",
          "1995-08-01T00:00:00",
          "1995-09-01T00:00:00",
          "1995-10-01T00:00:00",
          "1995-11-01T00:00:00",
          "1995-12-01T00:00:00",
          "1996-01-01T00:00:00",
          "1996-02-01T00:00:00",
          "1996-03-01T00:00:00",
          "1996-04-01T00:00:00",
          "1996-05-01T00:00:00",
          "1996-06-01T00:00:00",
          "1996-07-01T00:00:00",
          "1996-08-01T00:00:00",
          "1996-09-01T00:00:00",
          "1996-10-01T00:00:00",
          "1996-11-01T00:00:00",
          "1996-12-01T00:00:00",
          "1997-01-01T00:00:00",
          "1997-02-01T00:00:00",
          "1997-03-01T00:00:00",
          "1997-04-01T00:00:00",
          "1997-05-01T00:00:00",
          "1997-06-01T00:00:00",
          "1997-07-01T00:00:00",
          "1997-08-01T00:00:00",
          "1997-09-01T00:00:00",
          "1997-10-01T00:00:00",
          "1997-11-01T00:00:00",
          "1997-12-01T00:00:00",
          "1998-01-01T00:00:00",
          "1998-02-01T00:00:00",
          "1998-03-01T00:00:00",
          "1998-04-01T00:00:00",
          "1998-05-01T00:00:00",
          "1998-06-01T00:00:00",
          "1998-07-01T00:00:00",
          "1998-08-01T00:00:00",
          "1998-09-01T00:00:00",
          "1998-10-01T00:00:00",
          "1998-11-01T00:00:00",
          "1998-12-01T00:00:00",
          "1999-01-01T00:00:00",
          "1999-02-01T00:00:00",
          "1999-03-01T00:00:00",
          "1999-04-01T00:00:00",
          "1999-05-01T00:00:00",
          "1999-06-01T00:00:00",
          "1999-07-01T00:00:00",
          "1999-08-01T00:00:00",
          "1999-09-01T00:00:00",
          "1999-10-01T00:00:00",
          "1999-11-01T00:00:00",
          "1999-12-01T00:00:00",
          "2000-01-01T00:00:00",
          "2000-02-01T00:00:00",
          "2000-03-01T00:00:00",
          "2000-04-01T00:00:00",
          "2000-05-01T00:00:00",
          "2000-06-01T00:00:00",
          "2000-07-01T00:00:00",
          "2000-08-01T00:00:00",
          "2000-09-01T00:00:00",
          "2000-10-01T00:00:00",
          "2000-11-01T00:00:00",
          "2000-12-01T00:00:00",
          "2001-01-01T00:00:00",
          "2001-02-01T00:00:00",
          "2001-03-01T00:00:00",
          "2001-04-01T00:00:00",
          "2001-05-01T00:00:00",
          "2001-06-01T00:00:00",
          "2001-07-01T00:00:00",
          "2001-08-01T00:00:00",
          "2001-09-01T00:00:00",
          "2001-10-01T00:00:00",
          "2001-11-01T00:00:00",
          "2001-12-01T00:00:00",
          "2002-01-01T00:00:00",
          "2002-02-01T00:00:00",
          "2002-03-01T00:00:00",
          "2002-04-01T00:00:00",
          "2002-05-01T00:00:00",
          "2002-06-01T00:00:00",
          "2002-07-01T00:00:00",
          "2002-08-01T00:00:00",
          "2002-09-01T00:00:00",
          "2002-10-01T00:00:00",
          "2002-11-01T00:00:00",
          "2002-12-01T00:00:00",
          "2003-01-01T00:00:00",
          "2003-02-01T00:00:00",
          "2003-03-01T00:00:00",
          "2003-04-01T00:00:00",
          "2003-05-01T00:00:00",
          "2003-06-01T00:00:00",
          "2003-07-01T00:00:00",
          "2003-08-01T00:00:00",
          "2003-09-01T00:00:00",
          "2003-10-01T00:00:00",
          "2003-11-01T00:00:00",
          "2003-12-01T00:00:00",
          "2004-01-01T00:00:00",
          "2004-02-01T00:00:00",
          "2004-03-01T00:00:00",
          "2004-04-01T00:00:00",
          "2004-05-01T00:00:00",
          "2004-06-01T00:00:00",
          "2004-07-01T00:00:00",
          "2004-08-01T00:00:00",
          "2004-09-01T00:00:00",
          "2004-10-01T00:00:00",
          "2004-11-01T00:00:00",
          "2004-12-01T00:00:00",
          "2005-01-01T00:00:00",
          "2005-02-01T00:00:00",
          "2005-03-01T00:00:00",
          "2005-04-01T00:00:00",
          "2005-05-01T00:00:00",
          "2005-06-01T00:00:00",
          "2005-07-01T00:00:00",
          "2005-08-01T00:00:00",
          "2005-09-01T00:00:00",
          "2005-10-01T00:00:00",
          "2005-11-01T00:00:00",
          "2005-12-01T00:00:00",
          "2006-01-01T00:00:00",
          "2006-02-01T00:00:00",
          "2006-03-01T00:00:00",
          "2006-04-01T00:00:00",
          "2006-05-01T00:00:00",
          "2006-06-01T00:00:00",
          "2006-07-01T00:00:00",
          "2006-08-01T00:00:00",
          "2006-09-01T00:00:00",
          "2006-10-01T00:00:00",
          "2006-11-01T00:00:00",
          "2006-12-01T00:00:00",
          "2007-01-01T00:00:00",
          "2007-02-01T00:00:00",
          "2007-03-01T00:00:00",
          "2007-04-01T00:00:00",
          "2007-05-01T00:00:00",
          "2007-06-01T00:00:00",
          "2007-07-01T00:00:00",
          "2007-08-01T00:00:00",
          "2007-09-01T00:00:00",
          "2007-10-01T00:00:00",
          "2007-11-01T00:00:00",
          "2007-12-01T00:00:00",
          "2008-01-01T00:00:00",
          "2008-02-01T00:00:00",
          "2008-03-01T00:00:00",
          "2008-04-01T00:00:00",
          "2008-05-01T00:00:00",
          "2008-06-01T00:00:00",
          "2008-07-01T00:00:00",
          "2008-08-01T00:00:00",
          "2008-09-01T00:00:00",
          "2008-10-01T00:00:00",
          "2008-11-01T00:00:00",
          "2008-12-01T00:00:00",
          "2009-01-01T00:00:00",
          "2009-02-01T00:00:00",
          "2009-03-01T00:00:00",
          "2009-04-01T00:00:00",
          "2009-05-01T00:00:00",
          "2009-06-01T00:00:00",
          "2009-07-01T00:00:00",
          "2009-08-01T00:00:00",
          "2009-09-01T00:00:00",
          "2009-10-01T00:00:00",
          "2009-11-01T00:00:00",
          "2009-12-01T00:00:00",
          "2010-01-01T00:00:00",
          "2010-02-01T00:00:00",
          "2010-03-01T00:00:00",
          "2010-04-01T00:00:00",
          "2010-05-01T00:00:00",
          "2010-06-01T00:00:00",
          "2010-07-01T00:00:00",
          "2010-08-01T00:00:00",
          "2010-09-01T00:00:00",
          "2010-10-01T00:00:00",
          "2010-11-01T00:00:00",
          "2010-12-01T00:00:00",
          "2011-01-01T00:00:00",
          "2011-02-01T00:00:00",
          "2011-03-01T00:00:00",
          "2011-04-01T00:00:00",
          "2011-05-01T00:00:00",
          "2011-06-01T00:00:00",
          "2011-07-01T00:00:00",
          "2011-08-01T00:00:00",
          "2011-09-01T00:00:00",
          "2011-10-01T00:00:00",
          "2011-11-01T00:00:00",
          "2011-12-01T00:00:00",
          "2012-01-01T00:00:00",
          "2012-02-01T00:00:00",
          "2012-03-01T00:00:00",
          "2012-04-01T00:00:00",
          "2012-05-01T00:00:00",
          "2012-06-01T00:00:00",
          "2012-07-01T00:00:00",
          "2012-08-01T00:00:00",
          "2012-09-01T00:00:00",
          "2012-10-01T00:00:00",
          "2012-11-01T00:00:00",
          "2012-12-01T00:00:00",
          "2013-01-01T00:00:00",
          "2013-02-01T00:00:00",
          "2013-03-01T00:00:00",
          "2013-04-01T00:00:00",
          "2013-05-01T00:00:00",
          "2013-06-01T00:00:00",
          "2013-07-01T00:00:00",
          "2013-08-01T00:00:00",
          "2013-09-01T00:00:00",
          "2013-10-01T00:00:00",
          "2013-11-01T00:00:00",
          "2013-12-01T00:00:00",
          "2014-01-01T00:00:00",
          "2014-02-01T00:00:00",
          "2014-03-01T00:00:00",
          "2014-04-01T00:00:00",
          "2014-05-01T00:00:00",
          "2014-06-01T00:00:00",
          "2014-07-01T00:00:00",
          "2014-08-01T00:00:00",
          "2014-09-01T00:00:00",
          "2014-10-01T00:00:00",
          "2014-11-01T00:00:00",
          "2014-12-01T00:00:00",
          "2015-01-01T00:00:00",
          "2015-02-01T00:00:00",
          "2015-03-01T00:00:00",
          "2015-04-01T00:00:00",
          "2015-05-01T00:00:00",
          "2015-06-01T00:00:00",
          "2015-07-01T00:00:00",
          "2015-08-01T00:00:00",
          "2015-09-01T00:00:00",
          "2015-10-01T00:00:00",
          "2015-11-01T00:00:00",
          "2015-12-01T00:00:00",
          "2016-01-01T00:00:00",
          "2016-02-01T00:00:00",
          "2016-03-01T00:00:00",
          "2016-04-01T00:00:00",
          "2016-05-01T00:00:00",
          "2016-06-01T00:00:00",
          "2016-07-01T00:00:00",
          "2016-08-01T00:00:00",
          "2016-09-01T00:00:00",
          "2016-10-01T00:00:00",
          "2016-11-01T00:00:00",
          "2016-12-01T00:00:00",
          "2017-01-01T00:00:00",
          "2017-02-01T00:00:00",
          "2017-03-01T00:00:00",
          "2017-04-01T00:00:00",
          "2017-05-01T00:00:00",
          "2017-06-01T00:00:00",
          "2017-07-01T00:00:00",
          "2017-08-01T00:00:00",
          "2017-09-01T00:00:00",
          "2017-10-01T00:00:00",
          "2017-11-01T00:00:00",
          "2017-12-01T00:00:00",
          "2018-01-01T00:00:00",
          "2018-02-01T00:00:00",
          "2018-03-01T00:00:00",
          "2018-04-01T00:00:00",
          "2018-05-01T00:00:00",
          "2018-06-01T00:00:00",
          "2018-07-01T00:00:00",
          "2018-08-01T00:00:00",
          "2018-09-01T00:00:00",
          "2018-10-01T00:00:00",
          "2018-11-01T00:00:00",
          "2018-12-01T00:00:00",
          "2019-01-01T00:00:00",
          "2019-02-01T00:00:00",
          "2019-03-01T00:00:00",
          "2019-04-01T00:00:00",
          "2019-05-01T00:00:00",
          "2019-06-01T00:00:00",
          "2019-07-01T00:00:00",
          "2019-08-01T00:00:00",
          "2019-09-01T00:00:00",
          "2019-10-01T00:00:00",
          "2019-11-01T00:00:00",
          "2019-12-01T00:00:00",
          "2020-01-01T00:00:00",
          "2020-02-01T00:00:00",
          "2020-03-01T00:00:00",
          "2020-04-01T00:00:00",
          "2020-05-01T00:00:00",
          "2020-06-01T00:00:00",
          "2020-07-01T00:00:00",
          "2020-08-01T00:00:00",
          "2020-09-01T00:00:00",
          "2020-10-01T00:00:00",
          "2020-11-01T00:00:00",
          "2020-12-01T00:00:00",
          "2021-01-01T00:00:00",
          "2021-02-01T00:00:00",
          "2021-03-01T00:00:00",
          "2021-04-01T00:00:00",
          "2021-05-01T00:00:00",
          "2021-06-01T00:00:00",
          "2021-07-01T00:00:00",
          "2021-08-01T00:00:00",
          "2021-09-01T00:00:00",
          "2021-10-01T00:00:00",
          "2021-11-01T00:00:00",
          "2021-12-01T00:00:00",
          "2022-01-01T00:00:00",
          "2022-02-01T00:00:00",
          "2022-03-01T00:00:00",
          "2022-04-01T00:00:00",
          "2022-05-01T00:00:00",
          "2022-06-01T00:00:00",
          "2022-07-01T00:00:00",
          "2022-08-01T00:00:00",
          "2022-09-01T00:00:00",
          "2022-10-01T00:00:00",
          "2022-11-01T00:00:00",
          "2022-12-01T00:00:00",
          "2023-01-01T00:00:00",
          "2023-02-01T00:00:00",
          "2023-03-01T00:00:00",
          "2023-04-01T00:00:00",
          "2023-05-01T00:00:00",
          "2023-06-01T00:00:00",
          "2023-07-01T00:00:00",
          "2023-08-01T00:00:00",
          "2023-09-01T00:00:00",
          "2023-10-01T00:00:00",
          "2023-11-01T00:00:00",
          "2023-12-01T00:00:00",
          "2024-01-01T00:00:00",
          "2024-02-01T00:00:00",
          "2024-03-01T00:00:00",
          "2024-04-01T00:00:00",
          "2024-05-01T00:00:00",
          "2024-06-01T00:00:00",
          "2024-07-01T00:00:00",
          "2024-08-01T00:00:00",
          "2024-09-01T00:00:00",
          "2024-10-01T00:00:00",
          "2024-11-01T00:00:00",
          "2024-12-01T00:00:00"
         ],
         "xaxis": "x2",
         "y": [
          18,
          30,
          30,
          36,
          54,
          66,
          55,
          44,
          37,
          53,
          77,
          52,
          50,
          63,
          63,
          75,
          90,
          64,
          60,
          46,
          45,
          53,
          47,
          59,
          50,
          52,
          52,
          83,
          104,
          75,
          85,
          60,
          52,
          58,
          54,
          71,
          83,
          60,
          67,
          56,
          59,
          80,
          71,
          55,
          76,
          67,
          65,
          90,
          57,
          51,
          66,
          66,
          68,
          94,
          78,
          73,
          118,
          71,
          73,
          83,
          66,
          79,
          86,
          78,
          103,
          90,
          109,
          67,
          70,
          85,
          90,
          99,
          72,
          89,
          153,
          89,
          118,
          113,
          105,
          110,
          109,
          113,
          111,
          91,
          92,
          110,
          100,
          98,
          132,
          107,
          92,
          87,
          95,
          129,
          117,
          135,
          108,
          117,
          114,
          135,
          160,
          121,
          146,
          90,
          121,
          144,
          156,
          161,
          127,
          120,
          141,
          176,
          183,
          146,
          154,
          124,
          162,
          134,
          160,
          168,
          114,
          159,
          166,
          185,
          246,
          227,
          181,
          166,
          188,
          268,
          204,
          241,
          202,
          175,
          348,
          199,
          262,
          224,
          229,
          242,
          248,
          227,
          289,
          235,
          299,
          254,
          308,
          251,
          280,
          295,
          310,
          308,
          341,
          354,
          364,
          327,
          317,
          357,
          348,
          308,
          364,
          323,
          396,
          398,
          379,
          418,
          394,
          438,
          415,
          419,
          429,
          457,
          436,
          412,
          405,
          297,
          445,
          447,
          392,
          445,
          413,
          484,
          513,
          440,
          402,
          502,
          514,
          472,
          559,
          548,
          566,
          568,
          552,
          508,
          612,
          640,
          573,
          591,
          529,
          513,
          647,
          667,
          641,
          635,
          529,
          669,
          761,
          687,
          742,
          816,
          713,
          671,
          793,
          808,
          802,
          803,
          742,
          900,
          938,
          876,
          869,
          1203,
          1068,
          741,
          841,
          1105,
          973,
          951,
          1213,
          1147,
          1420,
          998,
          911,
          969,
          1039,
          858,
          1116,
          1100,
          1058,
          1246,
          1216,
          1098,
          1132,
          1160,
          1162,
          1166,
          1136,
          1021,
          1101,
          1259,
          1255,
          1407,
          1139,
          1278,
          1429,
          1305,
          1335,
          1581,
          1439,
          1255,
          1525,
          1465,
          1729,
          1429,
          1313,
          1575,
          1811,
          1648,
          1857,
          1878,
          1619,
          1619,
          1871,
          1947,
          2200,
          1938,
          1628,
          1893,
          2371,
          2115,
          2370,
          2264,
          2340,
          2183,
          2479,
          2365,
          2856,
          2223,
          2104,
          2778,
          3021,
          2811,
          3328,
          3043,
          2996,
          2704,
          3259,
          3485,
          3756,
          3150,
          2994,
          3156,
          3583,
          4105,
          4517,
          4327,
          4012,
          3637,
          4611,
          4803,
          4624,
          4012,
          3488,
          4609,
          4808,
          5124,
          4907,
          6132,
          5566,
          4577,
          4857,
          6684,
          5483,
          5481,
          4374,
          4962,
          6091,
          5779,
          5433,
          6655,
          5331,
          4806,
          5880,
          6577,
          5440,
          5441,
          4603,
          5404,
          6917,
          5669,
          6300,
          6220,
          5836,
          5148,
          5946,
          7769,
          6870,
          5490,
          4789,
          6106,
          7851,
          6259,
          9121,
          7595,
          6747,
          6983,
          7632,
          9167,
          8050,
          7877,
          7045,
          9206,
          9846,
          8476,
          9556,
          10072,
          9209,
          7796,
          9137,
          9367,
          8981,
          8257
         ],
         "yaxis": "y2"
        },
        {
         "hovertemplate": "<b>OLS trendline</b><br>log10(count) = 2.50224e-09 * period + -0.382384<br>R<sup>2</sup>=0.985283<br><br>period=%{x}<br>count=%{y} <b>(trend)</b><extra></extra>",
         "legendgroup": "",
         "line": {
          "color": "red"
         },
         "marker": {
          "color": "#636efa",
          "symbol": "circle"
         },
         "mode": "lines",
         "name": "",
         "showlegend": false,
         "type": "scatter",
         "x": [
          "1994-01-01T00:00:00",
          "1994-02-01T00:00:00",
          "1994-03-01T00:00:00",
          "1994-04-01T00:00:00",
          "1994-05-01T00:00:00",
          "1994-06-01T00:00:00",
          "1994-07-01T00:00:00",
          "1994-08-01T00:00:00",
          "1994-09-01T00:00:00",
          "1994-10-01T00:00:00",
          "1994-11-01T00:00:00",
          "1994-12-01T00:00:00",
          "1995-01-01T00:00:00",
          "1995-02-01T00:00:00",
          "1995-03-01T00:00:00",
          "1995-04-01T00:00:00",
          "1995-05-01T00:00:00",
          "1995-06-01T00:00:00",
          "1995-07-01T00:00:00",
          "1995-08-01T00:00:00",
          "1995-09-01T00:00:00",
          "1995-10-01T00:00:00",
          "1995-11-01T00:00:00",
          "1995-12-01T00:00:00",
          "1996-01-01T00:00:00",
          "1996-02-01T00:00:00",
          "1996-03-01T00:00:00",
          "1996-04-01T00:00:00",
          "1996-05-01T00:00:00",
          "1996-06-01T00:00:00",
          "1996-07-01T00:00:00",
          "1996-08-01T00:00:00",
          "1996-09-01T00:00:00",
          "1996-10-01T00:00:00",
          "1996-11-01T00:00:00",
          "1996-12-01T00:00:00",
          "1997-01-01T00:00:00",
          "1997-02-01T00:00:00",
          "1997-03-01T00:00:00",
          "1997-04-01T00:00:00",
          "1997-05-01T00:00:00",
          "1997-06-01T00:00:00",
          "1997-07-01T00:00:00",
          "1997-08-01T00:00:00",
          "1997-09-01T00:00:00",
          "1997-10-01T00:00:00",
          "1997-11-01T00:00:00",
          "1997-12-01T00:00:00",
          "1998-01-01T00:00:00",
          "1998-02-01T00:00:00",
          "1998-03-01T00:00:00",
          "1998-04-01T00:00:00",
          "1998-05-01T00:00:00",
          "1998-06-01T00:00:00",
          "1998-07-01T00:00:00",
          "1998-08-01T00:00:00",
          "1998-09-01T00:00:00",
          "1998-10-01T00:00:00",
          "1998-11-01T00:00:00",
          "1998-12-01T00:00:00",
          "1999-01-01T00:00:00",
          "1999-02-01T00:00:00",
          "1999-03-01T00:00:00",
          "1999-04-01T00:00:00",
          "1999-05-01T00:00:00",
          "1999-06-01T00:00:00",
          "1999-07-01T00:00:00",
          "1999-08-01T00:00:00",
          "1999-09-01T00:00:00",
          "1999-10-01T00:00:00",
          "1999-11-01T00:00:00",
          "1999-12-01T00:00:00",
          "2000-01-01T00:00:00",
          "2000-02-01T00:00:00",
          "2000-03-01T00:00:00",
          "2000-04-01T00:00:00",
          "2000-05-01T00:00:00",
          "2000-06-01T00:00:00",
          "2000-07-01T00:00:00",
          "2000-08-01T00:00:00",
          "2000-09-01T00:00:00",
          "2000-10-01T00:00:00",
          "2000-11-01T00:00:00",
          "2000-12-01T00:00:00",
          "2001-01-01T00:00:00",
          "2001-02-01T00:00:00",
          "2001-03-01T00:00:00",
          "2001-04-01T00:00:00",
          "2001-05-01T00:00:00",
          "2001-06-01T00:00:00",
          "2001-07-01T00:00:00",
          "2001-08-01T00:00:00",
          "2001-09-01T00:00:00",
          "2001-10-01T00:00:00",
          "2001-11-01T00:00:00",
          "2001-12-01T00:00:00",
          "2002-01-01T00:00:00",
          "2002-02-01T00:00:00",
          "2002-03-01T00:00:00",
          "2002-04-01T00:00:00",
          "2002-05-01T00:00:00",
          "2002-06-01T00:00:00",
          "2002-07-01T00:00:00",
          "2002-08-01T00:00:00",
          "2002-09-01T00:00:00",
          "2002-10-01T00:00:00",
          "2002-11-01T00:00:00",
          "2002-12-01T00:00:00",
          "2003-01-01T00:00:00",
          "2003-02-01T00:00:00",
          "2003-03-01T00:00:00",
          "2003-04-01T00:00:00",
          "2003-05-01T00:00:00",
          "2003-06-01T00:00:00",
          "2003-07-01T00:00:00",
          "2003-08-01T00:00:00",
          "2003-09-01T00:00:00",
          "2003-10-01T00:00:00",
          "2003-11-01T00:00:00",
          "2003-12-01T00:00:00",
          "2004-01-01T00:00:00",
          "2004-02-01T00:00:00",
          "2004-03-01T00:00:00",
          "2004-04-01T00:00:00",
          "2004-05-01T00:00:00",
          "2004-06-01T00:00:00",
          "2004-07-01T00:00:00",
          "2004-08-01T00:00:00",
          "2004-09-01T00:00:00",
          "2004-10-01T00:00:00",
          "2004-11-01T00:00:00",
          "2004-12-01T00:00:00",
          "2005-01-01T00:00:00",
          "2005-02-01T00:00:00",
          "2005-03-01T00:00:00",
          "2005-04-01T00:00:00",
          "2005-05-01T00:00:00",
          "2005-06-01T00:00:00",
          "2005-07-01T00:00:00",
          "2005-08-01T00:00:00",
          "2005-09-01T00:00:00",
          "2005-10-01T00:00:00",
          "2005-11-01T00:00:00",
          "2005-12-01T00:00:00",
          "2006-01-01T00:00:00",
          "2006-02-01T00:00:00",
          "2006-03-01T00:00:00",
          "2006-04-01T00:00:00",
          "2006-05-01T00:00:00",
          "2006-06-01T00:00:00",
          "2006-07-01T00:00:00",
          "2006-08-01T00:00:00",
          "2006-09-01T00:00:00",
          "2006-10-01T00:00:00",
          "2006-11-01T00:00:00",
          "2006-12-01T00:00:00",
          "2007-01-01T00:00:00",
          "2007-02-01T00:00:00",
          "2007-03-01T00:00:00",
          "2007-04-01T00:00:00",
          "2007-05-01T00:00:00",
          "2007-06-01T00:00:00",
          "2007-07-01T00:00:00",
          "2007-08-01T00:00:00",
          "2007-09-01T00:00:00",
          "2007-10-01T00:00:00",
          "2007-11-01T00:00:00",
          "2007-12-01T00:00:00",
          "2008-01-01T00:00:00",
          "2008-02-01T00:00:00",
          "2008-03-01T00:00:00",
          "2008-04-01T00:00:00",
          "2008-05-01T00:00:00",
          "2008-06-01T00:00:00",
          "2008-07-01T00:00:00",
          "2008-08-01T00:00:00",
          "2008-09-01T00:00:00",
          "2008-10-01T00:00:00",
          "2008-11-01T00:00:00",
          "2008-12-01T00:00:00",
          "2009-01-01T00:00:00",
          "2009-02-01T00:00:00",
          "2009-03-01T00:00:00",
          "2009-04-01T00:00:00",
          "2009-05-01T00:00:00",
          "2009-06-01T00:00:00",
          "2009-07-01T00:00:00",
          "2009-08-01T00:00:00",
          "2009-09-01T00:00:00",
          "2009-10-01T00:00:00",
          "2009-11-01T00:00:00",
          "2009-12-01T00:00:00",
          "2010-01-01T00:00:00",
          "2010-02-01T00:00:00",
          "2010-03-01T00:00:00",
          "2010-04-01T00:00:00",
          "2010-05-01T00:00:00",
          "2010-06-01T00:00:00",
          "2010-07-01T00:00:00",
          "2010-08-01T00:00:00",
          "2010-09-01T00:00:00",
          "2010-10-01T00:00:00",
          "2010-11-01T00:00:00",
          "2010-12-01T00:00:00",
          "2011-01-01T00:00:00",
          "2011-02-01T00:00:00",
          "2011-03-01T00:00:00",
          "2011-04-01T00:00:00",
          "2011-05-01T00:00:00",
          "2011-06-01T00:00:00",
          "2011-07-01T00:00:00",
          "2011-08-01T00:00:00",
          "2011-09-01T00:00:00",
          "2011-10-01T00:00:00",
          "2011-11-01T00:00:00",
          "2011-12-01T00:00:00",
          "2012-01-01T00:00:00",
          "2012-02-01T00:00:00",
          "2012-03-01T00:00:00",
          "2012-04-01T00:00:00",
          "2012-05-01T00:00:00",
          "2012-06-01T00:00:00",
          "2012-07-01T00:00:00",
          "2012-08-01T00:00:00",
          "2012-09-01T00:00:00",
          "2012-10-01T00:00:00",
          "2012-11-01T00:00:00",
          "2012-12-01T00:00:00",
          "2013-01-01T00:00:00",
          "2013-02-01T00:00:00",
          "2013-03-01T00:00:00",
          "2013-04-01T00:00:00",
          "2013-05-01T00:00:00",
          "2013-06-01T00:00:00",
          "2013-07-01T00:00:00",
          "2013-08-01T00:00:00",
          "2013-09-01T00:00:00",
          "2013-10-01T00:00:00",
          "2013-11-01T00:00:00",
          "2013-12-01T00:00:00",
          "2014-01-01T00:00:00",
          "2014-02-01T00:00:00",
          "2014-03-01T00:00:00",
          "2014-04-01T00:00:00",
          "2014-05-01T00:00:00",
          "2014-06-01T00:00:00",
          "2014-07-01T00:00:00",
          "2014-08-01T00:00:00",
          "2014-09-01T00:00:00",
          "2014-10-01T00:00:00",
          "2014-11-01T00:00:00",
          "2014-12-01T00:00:00",
          "2015-01-01T00:00:00",
          "2015-02-01T00:00:00",
          "2015-03-01T00:00:00",
          "2015-04-01T00:00:00",
          "2015-05-01T00:00:00",
          "2015-06-01T00:00:00",
          "2015-07-01T00:00:00",
          "2015-08-01T00:00:00",
          "2015-09-01T00:00:00",
          "2015-10-01T00:00:00",
          "2015-11-01T00:00:00",
          "2015-12-01T00:00:00",
          "2016-01-01T00:00:00",
          "2016-02-01T00:00:00",
          "2016-03-01T00:00:00",
          "2016-04-01T00:00:00",
          "2016-05-01T00:00:00",
          "2016-06-01T00:00:00",
          "2016-07-01T00:00:00",
          "2016-08-01T00:00:00",
          "2016-09-01T00:00:00",
          "2016-10-01T00:00:00",
          "2016-11-01T00:00:00",
          "2016-12-01T00:00:00",
          "2017-01-01T00:00:00",
          "2017-02-01T00:00:00",
          "2017-03-01T00:00:00",
          "2017-04-01T00:00:00",
          "2017-05-01T00:00:00",
          "2017-06-01T00:00:00",
          "2017-07-01T00:00:00",
          "2017-08-01T00:00:00",
          "2017-09-01T00:00:00",
          "2017-10-01T00:00:00",
          "2017-11-01T00:00:00",
          "2017-12-01T00:00:00",
          "2018-01-01T00:00:00",
          "2018-02-01T00:00:00",
          "2018-03-01T00:00:00",
          "2018-04-01T00:00:00",
          "2018-05-01T00:00:00",
          "2018-06-01T00:00:00",
          "2018-07-01T00:00:00",
          "2018-08-01T00:00:00",
          "2018-09-01T00:00:00",
          "2018-10-01T00:00:00",
          "2018-11-01T00:00:00",
          "2018-12-01T00:00:00",
          "2019-01-01T00:00:00",
          "2019-02-01T00:00:00",
          "2019-03-01T00:00:00",
          "2019-04-01T00:00:00",
          "2019-05-01T00:00:00",
          "2019-06-01T00:00:00",
          "2019-07-01T00:00:00",
          "2019-08-01T00:00:00",
          "2019-09-01T00:00:00",
          "2019-10-01T00:00:00",
          "2019-11-01T00:00:00",
          "2019-12-01T00:00:00",
          "2020-01-01T00:00:00",
          "2020-02-01T00:00:00",
          "2020-03-01T00:00:00",
          "2020-04-01T00:00:00",
          "2020-05-01T00:00:00",
          "2020-06-01T00:00:00",
          "2020-07-01T00:00:00",
          "2020-08-01T00:00:00",
          "2020-09-01T00:00:00",
          "2020-10-01T00:00:00",
          "2020-11-01T00:00:00",
          "2020-12-01T00:00:00",
          "2021-01-01T00:00:00",
          "2021-02-01T00:00:00",
          "2021-03-01T00:00:00",
          "2021-04-01T00:00:00",
          "2021-05-01T00:00:00",
          "2021-06-01T00:00:00",
          "2021-07-01T00:00:00",
          "2021-08-01T00:00:00",
          "2021-09-01T00:00:00",
          "2021-10-01T00:00:00",
          "2021-11-01T00:00:00",
          "2021-12-01T00:00:00",
          "2022-01-01T00:00:00",
          "2022-02-01T00:00:00",
          "2022-03-01T00:00:00",
          "2022-04-01T00:00:00",
          "2022-05-01T00:00:00",
          "2022-06-01T00:00:00",
          "2022-07-01T00:00:00",
          "2022-08-01T00:00:00",
          "2022-09-01T00:00:00",
          "2022-10-01T00:00:00",
          "2022-11-01T00:00:00",
          "2022-12-01T00:00:00",
          "2023-01-01T00:00:00",
          "2023-02-01T00:00:00",
          "2023-03-01T00:00:00",
          "2023-04-01T00:00:00",
          "2023-05-01T00:00:00",
          "2023-06-01T00:00:00",
          "2023-07-01T00:00:00",
          "2023-08-01T00:00:00",
          "2023-09-01T00:00:00",
          "2023-10-01T00:00:00",
          "2023-11-01T00:00:00",
          "2023-12-01T00:00:00",
          "2024-01-01T00:00:00",
          "2024-02-01T00:00:00",
          "2024-03-01T00:00:00",
          "2024-04-01T00:00:00",
          "2024-05-01T00:00:00",
          "2024-06-01T00:00:00",
          "2024-07-01T00:00:00",
          "2024-08-01T00:00:00",
          "2024-09-01T00:00:00",
          "2024-10-01T00:00:00",
          "2024-11-01T00:00:00",
          "2024-12-01T00:00:00"
         ],
         "xaxis": "x2",
         "y": [
          32.566274585812586,
          33.07273254769204,
          33.536944859898995,
          34.05849830613836,
          34.570948909129,
          35.1085827818221,
          35.636833154312804,
          36.19104324179501,
          36.75387218774131,
          37.30687789561347,
          37.88705986556255,
          38.457115729421666,
          39.05518574816958,
          39.662556717873876,
          40.21926448719689,
          40.844738754043235,
          41.45929641349624,
          42.104055171738864,
          42.737560744038866,
          43.40219856907135,
          44.0771725815412,
          44.74036605133262,
          45.436150720972776,
          46.11979163271373,
          46.83702858934078,
          47.56541973452209,
          48.2570694912427,
          49.007544556986296,
          49.74492133542142,
          50.518534890972745,
          51.2786463155689,
          52.076111761992244,
          52.885979079056355,
          53.681711516382585,
          54.51654849268911,
          55.3368147856106,
          56.19739128045569,
          57.071351124276475,
          57.872410541667264,
          58.772419629742465,
          59.656720564204164,
          60.58447854369757,
          61.49604405908014,
          62.4524064779913,
          63.42364187109611,
          64.37792597453962,
          65.37910629355892,
          66.36281268430972,
          67.394861184918,
          68.4429597000528,
          69.40363219758018,
          70.48297033363868,
          71.5434704274298,
          72.65608649049783,
          73.7492837007309,
          74.89620370887373,
          76.0609601682887,
          77.20538775144088,
          78.40605573769382,
          79.58576807203535,
          80.82345480178901,
          82.08038955135983,
          83.23247843199695,
          84.52687737461378,
          85.79868474821524,
          87.13299232751844,
          88.4440117992891,
          89.81945846999388,
          91.21629554922328,
          92.58875317306251,
          94.02865724011897,
          95.44343018953039,
          96.92772907674899,
          98.43511119957859,
          99.86645819691293,
          101.41954228533874,
          102.94551988810902,
          104.54648833937514,
          106.11951456350585,
          107.76984373824308,
          109.44583818666916,
          111.09258095463984,
          112.82024931234416,
          114.51776410791707,
          116.29869957403129,
          118.10733145178247,
          119.76509823421446,
          121.62763818781472,
          123.4576706211133,
          125.37763601587764,
          127.2640916252931,
          129.24325299037798,
          131.25319349873118,
          133.22805385658654,
          135.2999644290893,
          137.33571326725246,
          139.47150455192386,
          141.64051082709668,
          143.62859176169755,
          145.86224743083372,
          148.05691837544285,
          150.35944164763964,
          152.62177822646,
          154.9952924132092,
          157.40571856403156,
          159.77407475716927,
          162.25881866146432,
          164.70019551596383,
          167.26154852311745,
          169.8627346901938,
          172.24694569285643,
          174.92566280634458,
          177.5576273920378,
          180.3189341496827,
          183.0320469154028,
          185.87848970378926,
          188.7691992568442,
          191.60945630857083,
          194.58929161221178,
          197.51711887358678,
          200.58882783426102,
          203.708306810987,
          206.67043353317675,
          209.88449126250495,
          213.04245298879977,
          216.35560587185972,
          219.61093321168718,
          223.0262365294728,
          226.4946533083318,
          229.90253467229377,
          233.47788894974542,
          236.99084139708555,
          240.6764302476556,
          244.41933593416454,
          247.8500311426255,
          251.70449786381894,
          255.49169131393424,
          259.4649981445648,
          263.3689575487345,
          267.4647685421282,
          271.62427598574067,
          275.71118618256224,
          279.99893868718027,
          284.2118556419224,
          288.631807232366,
          293.1204961807844,
          297.23476593733096,
          301.8572447339053,
          306.3990458929163,
          311.16404398613815,
          315.8458770057982,
          320.75778852072693,
          325.7460881619128,
          330.64732537442785,
          335.78942322380783,
          340.84177435397805,
          346.14241228564697,
          351.5254836647294,
          356.4595318972532,
          362.0030510843031,
          367.4498174139615,
          373.16425322178145,
          378.7789531084053,
          384.6695752023952,
          390.65180594667913,
          396.5296268569651,
          402.69630048472783,
          408.7553451363914,
          415.112148351927,
          421.5678100841818,
          427.6978363703652,
          434.3492257989481,
          440.8845263476829,
          447.74099001993574,
          454.4777855843487,
          461.54564630633655,
          468.7234236332062,
          475.77592485970285,
          483.17500591150764,
          490.4449483764914,
          498.0721563432585,
          505.81797966443145,
          512.9176934107111,
          520.8943887165311,
          528.7318641446282,
          536.9544952469303,
          545.0336140734415,
          553.509763613116,
          562.1177309144174,
          570.5754605409437,
          579.4488268844771,
          588.16732345676,
          597.3142715701249,
          606.6034694421071,
          615.1178188003403,
          624.6838904737976,
          634.0830023628307,
          643.9440131515504,
          653.6329164867938,
          663.7979598917105,
          674.1210860749239,
          684.2640393532115,
          694.905445997532,
          705.3611246837164,
          716.3306249455592,
          727.4707185840202,
          737.6815732162991,
          749.1537084494128,
          760.4256167460393,
          772.2514584462718,
          783.8708998551109,
          796.0613534260632,
          808.4413881618387,
          820.6053500935216,
          833.3670834634415,
          845.9060821178955,
          859.0612825741838,
          872.4210675614298,
          885.1069604328619,
          898.8717976126551,
          912.3963925773974,
          926.5856243298146,
          940.5272067695985,
          955.15391793908,
          970.0080979984527,
          984.6030231844385,
          999.9151842075975,
          1014.9600970654943,
          1030.7443594254482,
          1046.774092458554,
          1061.466722440602,
          1077.97423764421,
          1094.1936417742386,
          1111.210113223996,
          1127.9295906199895,
          1145.4707103481205,
          1163.2846227078799,
          1180.787623016293,
          1199.1507701852922,
          1217.1934193277953,
          1236.122735198466,
          1255.3464323840876,
          1272.9666054120473,
          1292.7632840532838,
          1312.214444773365,
          1332.6214904579278,
          1352.6723652852647,
          1373.7085967218054,
          1395.071975399915,
          1416.0624920276014,
          1438.0845419159457,
          1459.7222337493383,
          1482.4232628605075,
          1505.4773294953845,
          1526.6083657982474,
          1550.3495818680517,
          1573.6764347120416,
          1598.1496349757647,
          1622.1956964536148,
          1647.4234492943845,
          1673.0435342778107,
          1698.216463520429,
          1724.626461590008,
          1750.575517306777,
          1777.7997828970913,
          1805.4474296152732,
          1831.700478204666,
          1860.1863674494032,
          1888.175083132228,
          1917.5392433389752,
          1946.390901232834,
          1976.660411067668,
          2007.4006604775057,
          2037.6043902385495,
          2069.2924165701343,
          2100.4273813916516,
          2133.092406304231,
          2166.2654249051375,
          2196.6713516092304,
          2230.8331250943584,
          2264.398661949518,
          2299.6137040689878,
          2334.2141265157784,
          2370.5149114271853,
          2407.3802319440547,
          2443.602129938457,
          2481.6040742846535,
          2518.942758240135,
          2558.1163705631448,
          2597.899195579623,
          2634.363578760585,
          2675.332170529746,
          2715.5857240383343,
          2757.8174508353736,
          2799.312093462177,
          2842.8459000013195,
          2887.0567272685953,
          2930.495928476431,
          2976.069854696373,
          3020.848364244067,
          3067.827416197662,
          3115.537067988237,
          3159.2670701588086,
          3208.398755675044,
          3256.672929779889,
          3307.31943311813,
          3357.0819864330124,
          3409.290012138596,
          3462.3099566352844,
          3514.4045266621274,
          3569.059170966108,
          3622.7599098486917,
          3679.0996546815254,
          3736.315573184932,
          3790.6454155714428,
          3849.596050109619,
          3907.517799900728,
          3968.28598803753,
          4027.9935690685693,
          4090.635349235305,
          4154.251309860666,
          4216.756960273593,
          4282.334314852917,
          4346.767126368226,
          4414.366348188462,
          4483.016846660485,
          4545.940937164644,
          4616.637632170222,
          4686.100434585339,
          4758.976835262021,
          4830.581300230724,
          4905.704610806557,
          4981.996209718962,
          5056.956266349158,
          5135.6000718363375,
          5212.871281208977,
          5293.9398160106575,
          5376.269096950198,
          5451.730968899937,
          5536.514156118625,
          5619.817594581085,
          5707.214799244027,
          5793.086631847492,
          5883.178448792214,
          5974.671338428614,
          6064.567372673225,
          6158.881151891397,
          6251.548841807297,
          6348.7704836831335,
          6447.504078498653,
          6538.001916012605,
          6639.678364033167,
          6739.5802196795585,
          6844.39153461791,
          6947.373543322235,
          7055.41637873759,
          7165.1394540611345,
          7272.9474965867175,
          7386.053530753204,
          7497.185488232181,
          7613.778783919016,
          7732.185292927097,
          7844.619159938477,
          7966.615608165758,
          8086.482812394883,
          8212.240629523985,
          8335.803554250626,
          8465.438710018565,
          8597.089901013534,
          8726.443340620286,
          8862.153573520935,
          8995.495211244519
         ],
         "yaxis": "y2"
        }
       ],
       "layout": {
        "annotations": [
         {
          "font": {
           "size": 16
          },
          "showarrow": false,
          "text": "Linear Scale",
          "x": 0.225,
          "xanchor": "center",
          "xref": "paper",
          "y": 1,
          "yanchor": "bottom",
          "yref": "paper"
         },
         {
          "font": {
           "size": 16
          },
          "showarrow": false,
          "text": "Log Scale",
          "x": 0.775,
          "xanchor": "center",
          "xref": "paper",
          "y": 1,
          "yanchor": "bottom",
          "yref": "paper"
         }
        ],
        "template": {
         "data": {
          "bar": [
           {
            "error_x": {
             "color": "#2a3f5f"
            },
            "error_y": {
             "color": "#2a3f5f"
            },
            "marker": {
             "line": {
              "color": "white",
              "width": 0.5
             },
             "pattern": {
              "fillmode": "overlay",
              "size": 10,
              "solidity": 0.2
             }
            },
            "type": "bar"
           }
          ],
          "barpolar": [
           {
            "marker": {
             "line": {
              "color": "white",
              "width": 0.5
             },
             "pattern": {
              "fillmode": "overlay",
              "size": 10,
              "solidity": 0.2
             }
            },
            "type": "barpolar"
           }
          ],
          "carpet": [
           {
            "aaxis": {
             "endlinecolor": "#2a3f5f",
             "gridcolor": "#C8D4E3",
             "linecolor": "#C8D4E3",
             "minorgridcolor": "#C8D4E3",
             "startlinecolor": "#2a3f5f"
            },
            "baxis": {
             "endlinecolor": "#2a3f5f",
             "gridcolor": "#C8D4E3",
             "linecolor": "#C8D4E3",
             "minorgridcolor": "#C8D4E3",
             "startlinecolor": "#2a3f5f"
            },
            "type": "carpet"
           }
          ],
          "choropleth": [
           {
            "colorbar": {
             "outlinewidth": 0,
             "ticks": ""
            },
            "type": "choropleth"
           }
          ],
          "contour": [
           {
            "colorbar": {
             "outlinewidth": 0,
             "ticks": ""
            },
            "colorscale": [
             [
              0,
              "#0d0887"
             ],
             [
              0.1111111111111111,
              "#46039f"
             ],
             [
              0.2222222222222222,
              "#7201a8"
             ],
             [
              0.3333333333333333,
              "#9c179e"
             ],
             [
              0.4444444444444444,
              "#bd3786"
             ],
             [
              0.5555555555555556,
              "#d8576b"
             ],
             [
              0.6666666666666666,
              "#ed7953"
             ],
             [
              0.7777777777777778,
              "#fb9f3a"
             ],
             [
              0.8888888888888888,
              "#fdca26"
             ],
             [
              1,
              "#f0f921"
             ]
            ],
            "type": "contour"
           }
          ],
          "contourcarpet": [
           {
            "colorbar": {
             "outlinewidth": 0,
             "ticks": ""
            },
            "type": "contourcarpet"
           }
          ],
          "heatmap": [
           {
            "colorbar": {
             "outlinewidth": 0,
             "ticks": ""
            },
            "colorscale": [
             [
              0,
              "#0d0887"
             ],
             [
              0.1111111111111111,
              "#46039f"
             ],
             [
              0.2222222222222222,
              "#7201a8"
             ],
             [
              0.3333333333333333,
              "#9c179e"
             ],
             [
              0.4444444444444444,
              "#bd3786"
             ],
             [
              0.5555555555555556,
              "#d8576b"
             ],
             [
              0.6666666666666666,
              "#ed7953"
             ],
             [
              0.7777777777777778,
              "#fb9f3a"
             ],
             [
              0.8888888888888888,
              "#fdca26"
             ],
             [
              1,
              "#f0f921"
             ]
            ],
            "type": "heatmap"
           }
          ],
          "heatmapgl": [
           {
            "colorbar": {
             "outlinewidth": 0,
             "ticks": ""
            },
            "colorscale": [
             [
              0,
              "#0d0887"
             ],
             [
              0.1111111111111111,
              "#46039f"
             ],
             [
              0.2222222222222222,
              "#7201a8"
             ],
             [
              0.3333333333333333,
              "#9c179e"
             ],
             [
              0.4444444444444444,
              "#bd3786"
             ],
             [
              0.5555555555555556,
              "#d8576b"
             ],
             [
              0.6666666666666666,
              "#ed7953"
             ],
             [
              0.7777777777777778,
              "#fb9f3a"
             ],
             [
              0.8888888888888888,
              "#fdca26"
             ],
             [
              1,
              "#f0f921"
             ]
            ],
            "type": "heatmapgl"
           }
          ],
          "histogram": [
           {
            "marker": {
             "pattern": {
              "fillmode": "overlay",
              "size": 10,
              "solidity": 0.2
             }
            },
            "type": "histogram"
           }
          ],
          "histogram2d": [
           {
            "colorbar": {
             "outlinewidth": 0,
             "ticks": ""
            },
            "colorscale": [
             [
              0,
              "#0d0887"
             ],
             [
              0.1111111111111111,
              "#46039f"
             ],
             [
              0.2222222222222222,
              "#7201a8"
             ],
             [
              0.3333333333333333,
              "#9c179e"
             ],
             [
              0.4444444444444444,
              "#bd3786"
             ],
             [
              0.5555555555555556,
              "#d8576b"
             ],
             [
              0.6666666666666666,
              "#ed7953"
             ],
             [
              0.7777777777777778,
              "#fb9f3a"
             ],
             [
              0.8888888888888888,
              "#fdca26"
             ],
             [
              1,
              "#f0f921"
             ]
            ],
            "type": "histogram2d"
           }
          ],
          "histogram2dcontour": [
           {
            "colorbar": {
             "outlinewidth": 0,
             "ticks": ""
            },
            "colorscale": [
             [
              0,
              "#0d0887"
             ],
             [
              0.1111111111111111,
              "#46039f"
             ],
             [
              0.2222222222222222,
              "#7201a8"
             ],
             [
              0.3333333333333333,
              "#9c179e"
             ],
             [
              0.4444444444444444,
              "#bd3786"
             ],
             [
              0.5555555555555556,
              "#d8576b"
             ],
             [
              0.6666666666666666,
              "#ed7953"
             ],
             [
              0.7777777777777778,
              "#fb9f3a"
             ],
             [
              0.8888888888888888,
              "#fdca26"
             ],
             [
              1,
              "#f0f921"
             ]
            ],
            "type": "histogram2dcontour"
           }
          ],
          "mesh3d": [
           {
            "colorbar": {
             "outlinewidth": 0,
             "ticks": ""
            },
            "type": "mesh3d"
           }
          ],
          "parcoords": [
           {
            "line": {
             "colorbar": {
              "outlinewidth": 0,
              "ticks": ""
             }
            },
            "type": "parcoords"
           }
          ],
          "pie": [
           {
            "automargin": true,
            "type": "pie"
           }
          ],
          "scatter": [
           {
            "fillpattern": {
             "fillmode": "overlay",
             "size": 10,
             "solidity": 0.2
            },
            "type": "scatter"
           }
          ],
          "scatter3d": [
           {
            "line": {
             "colorbar": {
              "outlinewidth": 0,
              "ticks": ""
             }
            },
            "marker": {
             "colorbar": {
              "outlinewidth": 0,
              "ticks": ""
             }
            },
            "type": "scatter3d"
           }
          ],
          "scattercarpet": [
           {
            "marker": {
             "colorbar": {
              "outlinewidth": 0,
              "ticks": ""
             }
            },
            "type": "scattercarpet"
           }
          ],
          "scattergeo": [
           {
            "marker": {
             "colorbar": {
              "outlinewidth": 0,
              "ticks": ""
             }
            },
            "type": "scattergeo"
           }
          ],
          "scattergl": [
           {
            "marker": {
             "colorbar": {
              "outlinewidth": 0,
              "ticks": ""
             }
            },
            "type": "scattergl"
           }
          ],
          "scattermapbox": [
           {
            "marker": {
             "colorbar": {
              "outlinewidth": 0,
              "ticks": ""
             }
            },
            "type": "scattermapbox"
           }
          ],
          "scatterpolar": [
           {
            "marker": {
             "colorbar": {
              "outlinewidth": 0,
              "ticks": ""
             }
            },
            "type": "scatterpolar"
           }
          ],
          "scatterpolargl": [
           {
            "marker": {
             "colorbar": {
              "outlinewidth": 0,
              "ticks": ""
             }
            },
            "type": "scatterpolargl"
           }
          ],
          "scatterternary": [
           {
            "marker": {
             "colorbar": {
              "outlinewidth": 0,
              "ticks": ""
             }
            },
            "type": "scatterternary"
           }
          ],
          "surface": [
           {
            "colorbar": {
             "outlinewidth": 0,
             "ticks": ""
            },
            "colorscale": [
             [
              0,
              "#0d0887"
             ],
             [
              0.1111111111111111,
              "#46039f"
             ],
             [
              0.2222222222222222,
              "#7201a8"
             ],
             [
              0.3333333333333333,
              "#9c179e"
             ],
             [
              0.4444444444444444,
              "#bd3786"
             ],
             [
              0.5555555555555556,
              "#d8576b"
             ],
             [
              0.6666666666666666,
              "#ed7953"
             ],
             [
              0.7777777777777778,
              "#fb9f3a"
             ],
             [
              0.8888888888888888,
              "#fdca26"
             ],
             [
              1,
              "#f0f921"
             ]
            ],
            "type": "surface"
           }
          ],
          "table": [
           {
            "cells": {
             "fill": {
              "color": "#EBF0F8"
             },
             "line": {
              "color": "white"
             }
            },
            "header": {
             "fill": {
              "color": "#C8D4E3"
             },
             "line": {
              "color": "white"
             }
            },
            "type": "table"
           }
          ]
         },
         "layout": {
          "annotationdefaults": {
           "arrowcolor": "#2a3f5f",
           "arrowhead": 0,
           "arrowwidth": 1
          },
          "autotypenumbers": "strict",
          "coloraxis": {
           "colorbar": {
            "outlinewidth": 0,
            "ticks": ""
           }
          },
          "colorscale": {
           "diverging": [
            [
             0,
             "#8e0152"
            ],
            [
             0.1,
             "#c51b7d"
            ],
            [
             0.2,
             "#de77ae"
            ],
            [
             0.3,
             "#f1b6da"
            ],
            [
             0.4,
             "#fde0ef"
            ],
            [
             0.5,
             "#f7f7f7"
            ],
            [
             0.6,
             "#e6f5d0"
            ],
            [
             0.7,
             "#b8e186"
            ],
            [
             0.8,
             "#7fbc41"
            ],
            [
             0.9,
             "#4d9221"
            ],
            [
             1,
             "#276419"
            ]
           ],
           "sequential": [
            [
             0,
             "#0d0887"
            ],
            [
             0.1111111111111111,
             "#46039f"
            ],
            [
             0.2222222222222222,
             "#7201a8"
            ],
            [
             0.3333333333333333,
             "#9c179e"
            ],
            [
             0.4444444444444444,
             "#bd3786"
            ],
            [
             0.5555555555555556,
             "#d8576b"
            ],
            [
             0.6666666666666666,
             "#ed7953"
            ],
            [
             0.7777777777777778,
             "#fb9f3a"
            ],
            [
             0.8888888888888888,
             "#fdca26"
            ],
            [
             1,
             "#f0f921"
            ]
           ],
           "sequentialminus": [
            [
             0,
             "#0d0887"
            ],
            [
             0.1111111111111111,
             "#46039f"
            ],
            [
             0.2222222222222222,
             "#7201a8"
            ],
            [
             0.3333333333333333,
             "#9c179e"
            ],
            [
             0.4444444444444444,
             "#bd3786"
            ],
            [
             0.5555555555555556,
             "#d8576b"
            ],
            [
             0.6666666666666666,
             "#ed7953"
            ],
            [
             0.7777777777777778,
             "#fb9f3a"
            ],
            [
             0.8888888888888888,
             "#fdca26"
            ],
            [
             1,
             "#f0f921"
            ]
           ]
          },
          "colorway": [
           "#636efa",
           "#EF553B",
           "#00cc96",
           "#ab63fa",
           "#FFA15A",
           "#19d3f3",
           "#FF6692",
           "#B6E880",
           "#FF97FF",
           "#FECB52"
          ],
          "font": {
           "color": "#2a3f5f"
          },
          "geo": {
           "bgcolor": "white",
           "lakecolor": "white",
           "landcolor": "white",
           "showlakes": true,
           "showland": true,
           "subunitcolor": "#C8D4E3"
          },
          "hoverlabel": {
           "align": "left"
          },
          "hovermode": "closest",
          "mapbox": {
           "style": "light"
          },
          "paper_bgcolor": "white",
          "plot_bgcolor": "white",
          "polar": {
           "angularaxis": {
            "gridcolor": "#EBF0F8",
            "linecolor": "#EBF0F8",
            "ticks": ""
           },
           "bgcolor": "white",
           "radialaxis": {
            "gridcolor": "#EBF0F8",
            "linecolor": "#EBF0F8",
            "ticks": ""
           }
          },
          "scene": {
           "xaxis": {
            "backgroundcolor": "white",
            "gridcolor": "#DFE8F3",
            "gridwidth": 2,
            "linecolor": "#EBF0F8",
            "showbackground": true,
            "ticks": "",
            "zerolinecolor": "#EBF0F8"
           },
           "yaxis": {
            "backgroundcolor": "white",
            "gridcolor": "#DFE8F3",
            "gridwidth": 2,
            "linecolor": "#EBF0F8",
            "showbackground": true,
            "ticks": "",
            "zerolinecolor": "#EBF0F8"
           },
           "zaxis": {
            "backgroundcolor": "white",
            "gridcolor": "#DFE8F3",
            "gridwidth": 2,
            "linecolor": "#EBF0F8",
            "showbackground": true,
            "ticks": "",
            "zerolinecolor": "#EBF0F8"
           }
          },
          "shapedefaults": {
           "line": {
            "color": "#2a3f5f"
           }
          },
          "ternary": {
           "aaxis": {
            "gridcolor": "#DFE8F3",
            "linecolor": "#A2B1C6",
            "ticks": ""
           },
           "baxis": {
            "gridcolor": "#DFE8F3",
            "linecolor": "#A2B1C6",
            "ticks": ""
           },
           "bgcolor": "white",
           "caxis": {
            "gridcolor": "#DFE8F3",
            "linecolor": "#A2B1C6",
            "ticks": ""
           }
          },
          "title": {
           "x": 0.05
          },
          "xaxis": {
           "automargin": true,
           "gridcolor": "#EBF0F8",
           "linecolor": "#EBF0F8",
           "ticks": "",
           "title": {
            "standoff": 15
           },
           "zerolinecolor": "#EBF0F8",
           "zerolinewidth": 2
          },
          "yaxis": {
           "automargin": true,
           "gridcolor": "#EBF0F8",
           "linecolor": "#EBF0F8",
           "ticks": "",
           "title": {
            "standoff": 15
           },
           "zerolinecolor": "#EBF0F8",
           "zerolinewidth": 2
          }
         }
        },
        "title": {
         "font": {
          "size": 25
         },
         "text": "Number of all Publications per Month",
         "x": 0.5
        },
        "xaxis": {
         "anchor": "y",
         "domain": [
          0,
          0.45
         ],
         "title": {
          "text": "Year of Publication"
         }
        },
        "xaxis2": {
         "anchor": "y2",
         "domain": [
          0.55,
          1
         ],
         "title": {
          "text": "Year of Publication"
         }
        },
        "yaxis": {
         "anchor": "x",
         "domain": [
          0,
          1
         ],
         "title": {
          "text": "# of Publications per Month"
         },
         "type": "linear"
        },
        "yaxis2": {
         "anchor": "x2",
         "domain": [
          0,
          1
         ],
         "title": {
          "text": "# of Publications per Month"
         },
         "type": "log"
        }
       }
      }
     },
     "metadata": {},
     "output_type": "display_data"
    }
   ],
   "source": [
    "plot_general_development(df_complete, \"all\", \"M\")"
   ]
  },
  {
   "cell_type": "markdown",
   "metadata": {},
   "source": [
    "The growth of research in artificial intelligence and machine learning over the past three decades is reflected in the exponential rise in publications per month. As illustrated in the chart above, the number of publications has increased significantly, particularly from the early 2010s onward. This surge coincides with critical advancements in computational tools, such as open-source frameworks like TensorFlow and PyTorch, which democratized access to AI technologies and significantly reduced barriers to entry for researchers and developers.\n",
    "\n",
    "On the linear scale, the data indicates a significant upward trend in the number of publications per month, with particularly accelerated growth in recent years. This increase can be attributed to the widespread adoption of AI technologies and the enhanced accessibility of research dissemination via platforms such as arXiv. These platforms, by enabling the rapid sharing of findings, have significantly contributed to the acceleration of innovation within the field. A logarithmic scale analysis further supports these observations, revealing a near linear trend indicative of sustained exponential growth. When viewed in conjunction with the conference trends, the publication data highlights a broader narrative: AI and ML have evolved from specialized academic disciplines into central drivers of scientific discovery and technological progress. This growth not only underscores the expanding influence of these fields but also signals their crucial role in shaping the future of research and innovation.\n",
    "\n",
    "This trend is mirrored in the competitive landscape of AI and ML conferences, as shown in the chart below. Over the last decade, submissions to leading conferences such as NeurIPS, CVPR, and AAAI have risen exponentially, with counts reaching more than ten thousand annually. However, acceptance rates have concurrently declined, often falling below 30%, highlighting the increasing rigor and selectivity of these prestigious venues. This dual trend, rising submissions alongside decreasing acceptance rates, not only reflects the growing interest in these fields but also underscores their role in shaping the forefront of scientific discovery and technological progress.\n",
    "\n",
    "![conference_trends](https://github.com/lixin4ever/Conference-Acceptance-Rate/blob/2cf5bf4d2801bf691857f56cec03c05cc99de29a/conference_trends.png?raw=true)\n",
    "Source: [Github lixin4ever/Conference-Acceptance-Rate](https://github.com/lixin4ever/Conference-Acceptance-Rate/blob/2cf5bf4d2801bf691857f56cec03c05cc99de29a/conference_trends.png)"
   ]
  },
  {
   "cell_type": "markdown",
   "metadata": {},
   "source": [
    "The trends in initial (*v1*) and corrective publications provide additional insights into the evolution of research within AI and ML. The charts below illustrate the number of publications per month for both categories, distinguishing between the introduction of new ideas and subsequent refinements.\n",
    "\n",
    "Initial publications (*v1*) are fundamental to scientific progress, as they introduce novel methodologies, findings, or concepts. The data reveals that the growth in initial publications not only follows an exponential pattern but surpasses it. This indicates a phase of extraordinary acceleration in AI and ML research, driven by factors such as increased investments, widespread access to computational tools, and the practical integration of AI across various industries. The linear scale highlights the dramatic surge in initial contributions in recent years, while the logarithmic scale demonstrates that this growth significantly outpaces the expected trajectory of an exponential trend. This suggests that the pace of innovation in AI and ML is accelerating beyond conventional projections.\n",
    "\n",
    "Corrective publications, encompassing versions beyond v1, represent the iterative nature of scientific research. These versions are typically created to address minor errors, refine methodologies, or clarify previously published findings. While essential to maintaining the quality and rigor of scientific work, corrective publications do not exhibit the same remarkable growth trends as initial publications. Their trajectory, as seen on a linear scale, reflects a steady and proportional increase over time, mirroring the overall expansion of research activity in the field. On a logarithmic scale, the trend in corrective publications suggests that while revisions are becoming more frequent, they remain supplementary to the primary contributions of initial publications. Corrective versions serve as a means to enhance the precision and reliability of the scientific record but do not fundamentally alter the state of knowledge or introduce groundbreaking ideas. Consequently, they are less indicative of the field's innovation trajectory and more reflective of its maturing standards of scholarly scrutiny.\n",
    "\n",
    "Given the close alignment between the trends in initial and corrective publications, and the super-exponential growth observed in initial contributions, the analysis places its primary emphasis on the dataset filtered for v1 publications. This focus allows for a deeper exploration of the foundational contributions driving AI and ML research, avoiding the potential distortions introduced by iterative revisions. By honing in on initial publications, the analysis seeks to capture the most impactful advancements and innovations shaping the field."
   ]
  },
  {
   "cell_type": "code",
   "execution_count": null,
   "metadata": {
    "ExecuteTime": {
     "end_time": "2024-12-29T15:25:40.184267Z",
     "start_time": "2024-12-29T15:25:39.903789Z"
    }
   },
   "outputs": [
    {
     "data": {
      "application/vnd.plotly.v1+json": {
       "config": {
        "plotlyServerURL": "https://plot.ly"
       },
       "data": [
        {
         "hovertemplate": "period=%{x}<br>count=%{y}<extra></extra>",
         "legendgroup": "",
         "marker": {
          "color": "#636efa",
          "symbol": "circle"
         },
         "mode": "markers",
         "name": "",
         "orientation": "v",
         "showlegend": false,
         "type": "scatter",
         "x": [
          "1994-01-01T00:00:00",
          "1994-02-01T00:00:00",
          "1994-03-01T00:00:00",
          "1994-04-01T00:00:00",
          "1994-05-01T00:00:00",
          "1994-06-01T00:00:00",
          "1994-07-01T00:00:00",
          "1994-08-01T00:00:00",
          "1994-09-01T00:00:00",
          "1994-10-01T00:00:00",
          "1994-11-01T00:00:00",
          "1994-12-01T00:00:00",
          "1995-01-01T00:00:00",
          "1995-02-01T00:00:00",
          "1995-03-01T00:00:00",
          "1995-04-01T00:00:00",
          "1995-05-01T00:00:00",
          "1995-06-01T00:00:00",
          "1995-07-01T00:00:00",
          "1995-08-01T00:00:00",
          "1995-09-01T00:00:00",
          "1995-10-01T00:00:00",
          "1995-11-01T00:00:00",
          "1995-12-01T00:00:00",
          "1996-01-01T00:00:00",
          "1996-02-01T00:00:00",
          "1996-03-01T00:00:00",
          "1996-04-01T00:00:00",
          "1996-05-01T00:00:00",
          "1996-06-01T00:00:00",
          "1996-07-01T00:00:00",
          "1996-08-01T00:00:00",
          "1996-09-01T00:00:00",
          "1996-10-01T00:00:00",
          "1996-11-01T00:00:00",
          "1996-12-01T00:00:00",
          "1997-01-01T00:00:00",
          "1997-02-01T00:00:00",
          "1997-03-01T00:00:00",
          "1997-04-01T00:00:00",
          "1997-05-01T00:00:00",
          "1997-06-01T00:00:00",
          "1997-07-01T00:00:00",
          "1997-08-01T00:00:00",
          "1997-09-01T00:00:00",
          "1997-10-01T00:00:00",
          "1997-11-01T00:00:00",
          "1997-12-01T00:00:00",
          "1998-01-01T00:00:00",
          "1998-02-01T00:00:00",
          "1998-03-01T00:00:00",
          "1998-04-01T00:00:00",
          "1998-05-01T00:00:00",
          "1998-06-01T00:00:00",
          "1998-07-01T00:00:00",
          "1998-08-01T00:00:00",
          "1998-09-01T00:00:00",
          "1998-10-01T00:00:00",
          "1998-11-01T00:00:00",
          "1998-12-01T00:00:00",
          "1999-01-01T00:00:00",
          "1999-02-01T00:00:00",
          "1999-03-01T00:00:00",
          "1999-04-01T00:00:00",
          "1999-05-01T00:00:00",
          "1999-06-01T00:00:00",
          "1999-07-01T00:00:00",
          "1999-08-01T00:00:00",
          "1999-09-01T00:00:00",
          "1999-10-01T00:00:00",
          "1999-11-01T00:00:00",
          "1999-12-01T00:00:00",
          "2000-01-01T00:00:00",
          "2000-02-01T00:00:00",
          "2000-03-01T00:00:00",
          "2000-04-01T00:00:00",
          "2000-05-01T00:00:00",
          "2000-06-01T00:00:00",
          "2000-07-01T00:00:00",
          "2000-08-01T00:00:00",
          "2000-09-01T00:00:00",
          "2000-10-01T00:00:00",
          "2000-11-01T00:00:00",
          "2000-12-01T00:00:00",
          "2001-01-01T00:00:00",
          "2001-02-01T00:00:00",
          "2001-03-01T00:00:00",
          "2001-04-01T00:00:00",
          "2001-05-01T00:00:00",
          "2001-06-01T00:00:00",
          "2001-07-01T00:00:00",
          "2001-08-01T00:00:00",
          "2001-09-01T00:00:00",
          "2001-10-01T00:00:00",
          "2001-11-01T00:00:00",
          "2001-12-01T00:00:00",
          "2002-01-01T00:00:00",
          "2002-02-01T00:00:00",
          "2002-03-01T00:00:00",
          "2002-04-01T00:00:00",
          "2002-05-01T00:00:00",
          "2002-06-01T00:00:00",
          "2002-07-01T00:00:00",
          "2002-08-01T00:00:00",
          "2002-09-01T00:00:00",
          "2002-10-01T00:00:00",
          "2002-11-01T00:00:00",
          "2002-12-01T00:00:00",
          "2003-01-01T00:00:00",
          "2003-02-01T00:00:00",
          "2003-03-01T00:00:00",
          "2003-04-01T00:00:00",
          "2003-05-01T00:00:00",
          "2003-06-01T00:00:00",
          "2003-07-01T00:00:00",
          "2003-08-01T00:00:00",
          "2003-09-01T00:00:00",
          "2003-10-01T00:00:00",
          "2003-11-01T00:00:00",
          "2003-12-01T00:00:00",
          "2004-01-01T00:00:00",
          "2004-02-01T00:00:00",
          "2004-03-01T00:00:00",
          "2004-04-01T00:00:00",
          "2004-05-01T00:00:00",
          "2004-06-01T00:00:00",
          "2004-07-01T00:00:00",
          "2004-08-01T00:00:00",
          "2004-09-01T00:00:00",
          "2004-10-01T00:00:00",
          "2004-11-01T00:00:00",
          "2004-12-01T00:00:00",
          "2005-01-01T00:00:00",
          "2005-02-01T00:00:00",
          "2005-03-01T00:00:00",
          "2005-04-01T00:00:00",
          "2005-05-01T00:00:00",
          "2005-06-01T00:00:00",
          "2005-07-01T00:00:00",
          "2005-08-01T00:00:00",
          "2005-09-01T00:00:00",
          "2005-10-01T00:00:00",
          "2005-11-01T00:00:00",
          "2005-12-01T00:00:00",
          "2006-01-01T00:00:00",
          "2006-02-01T00:00:00",
          "2006-03-01T00:00:00",
          "2006-04-01T00:00:00",
          "2006-05-01T00:00:00",
          "2006-06-01T00:00:00",
          "2006-07-01T00:00:00",
          "2006-08-01T00:00:00",
          "2006-09-01T00:00:00",
          "2006-10-01T00:00:00",
          "2006-11-01T00:00:00",
          "2006-12-01T00:00:00",
          "2007-01-01T00:00:00",
          "2007-02-01T00:00:00",
          "2007-03-01T00:00:00",
          "2007-04-01T00:00:00",
          "2007-05-01T00:00:00",
          "2007-06-01T00:00:00",
          "2007-07-01T00:00:00",
          "2007-08-01T00:00:00",
          "2007-09-01T00:00:00",
          "2007-10-01T00:00:00",
          "2007-11-01T00:00:00",
          "2007-12-01T00:00:00",
          "2008-01-01T00:00:00",
          "2008-02-01T00:00:00",
          "2008-03-01T00:00:00",
          "2008-04-01T00:00:00",
          "2008-05-01T00:00:00",
          "2008-06-01T00:00:00",
          "2008-07-01T00:00:00",
          "2008-08-01T00:00:00",
          "2008-09-01T00:00:00",
          "2008-10-01T00:00:00",
          "2008-11-01T00:00:00",
          "2008-12-01T00:00:00",
          "2009-01-01T00:00:00",
          "2009-02-01T00:00:00",
          "2009-03-01T00:00:00",
          "2009-04-01T00:00:00",
          "2009-05-01T00:00:00",
          "2009-06-01T00:00:00",
          "2009-07-01T00:00:00",
          "2009-08-01T00:00:00",
          "2009-09-01T00:00:00",
          "2009-10-01T00:00:00",
          "2009-11-01T00:00:00",
          "2009-12-01T00:00:00",
          "2010-01-01T00:00:00",
          "2010-02-01T00:00:00",
          "2010-03-01T00:00:00",
          "2010-04-01T00:00:00",
          "2010-05-01T00:00:00",
          "2010-06-01T00:00:00",
          "2010-07-01T00:00:00",
          "2010-08-01T00:00:00",
          "2010-09-01T00:00:00",
          "2010-10-01T00:00:00",
          "2010-11-01T00:00:00",
          "2010-12-01T00:00:00",
          "2011-01-01T00:00:00",
          "2011-02-01T00:00:00",
          "2011-03-01T00:00:00",
          "2011-04-01T00:00:00",
          "2011-05-01T00:00:00",
          "2011-06-01T00:00:00",
          "2011-07-01T00:00:00",
          "2011-08-01T00:00:00",
          "2011-09-01T00:00:00",
          "2011-10-01T00:00:00",
          "2011-11-01T00:00:00",
          "2011-12-01T00:00:00",
          "2012-01-01T00:00:00",
          "2012-02-01T00:00:00",
          "2012-03-01T00:00:00",
          "2012-04-01T00:00:00",
          "2012-05-01T00:00:00",
          "2012-06-01T00:00:00",
          "2012-07-01T00:00:00",
          "2012-08-01T00:00:00",
          "2012-09-01T00:00:00",
          "2012-10-01T00:00:00",
          "2012-11-01T00:00:00",
          "2012-12-01T00:00:00",
          "2013-01-01T00:00:00",
          "2013-02-01T00:00:00",
          "2013-03-01T00:00:00",
          "2013-04-01T00:00:00",
          "2013-05-01T00:00:00",
          "2013-06-01T00:00:00",
          "2013-07-01T00:00:00",
          "2013-08-01T00:00:00",
          "2013-09-01T00:00:00",
          "2013-10-01T00:00:00",
          "2013-11-01T00:00:00",
          "2013-12-01T00:00:00",
          "2014-01-01T00:00:00",
          "2014-02-01T00:00:00",
          "2014-03-01T00:00:00",
          "2014-04-01T00:00:00",
          "2014-05-01T00:00:00",
          "2014-06-01T00:00:00",
          "2014-07-01T00:00:00",
          "2014-08-01T00:00:00",
          "2014-09-01T00:00:00",
          "2014-10-01T00:00:00",
          "2014-11-01T00:00:00",
          "2014-12-01T00:00:00",
          "2015-01-01T00:00:00",
          "2015-02-01T00:00:00",
          "2015-03-01T00:00:00",
          "2015-04-01T00:00:00",
          "2015-05-01T00:00:00",
          "2015-06-01T00:00:00",
          "2015-07-01T00:00:00",
          "2015-08-01T00:00:00",
          "2015-09-01T00:00:00",
          "2015-10-01T00:00:00",
          "2015-11-01T00:00:00",
          "2015-12-01T00:00:00",
          "2016-01-01T00:00:00",
          "2016-02-01T00:00:00",
          "2016-03-01T00:00:00",
          "2016-04-01T00:00:00",
          "2016-05-01T00:00:00",
          "2016-06-01T00:00:00",
          "2016-07-01T00:00:00",
          "2016-08-01T00:00:00",
          "2016-09-01T00:00:00",
          "2016-10-01T00:00:00",
          "2016-11-01T00:00:00",
          "2016-12-01T00:00:00",
          "2017-01-01T00:00:00",
          "2017-02-01T00:00:00",
          "2017-03-01T00:00:00",
          "2017-04-01T00:00:00",
          "2017-05-01T00:00:00",
          "2017-06-01T00:00:00",
          "2017-07-01T00:00:00",
          "2017-08-01T00:00:00",
          "2017-09-01T00:00:00",
          "2017-10-01T00:00:00",
          "2017-11-01T00:00:00",
          "2017-12-01T00:00:00",
          "2018-01-01T00:00:00",
          "2018-02-01T00:00:00",
          "2018-03-01T00:00:00",
          "2018-04-01T00:00:00",
          "2018-05-01T00:00:00",
          "2018-06-01T00:00:00",
          "2018-07-01T00:00:00",
          "2018-08-01T00:00:00",
          "2018-09-01T00:00:00",
          "2018-10-01T00:00:00",
          "2018-11-01T00:00:00",
          "2018-12-01T00:00:00",
          "2019-01-01T00:00:00",
          "2019-02-01T00:00:00",
          "2019-03-01T00:00:00",
          "2019-04-01T00:00:00",
          "2019-05-01T00:00:00",
          "2019-06-01T00:00:00",
          "2019-07-01T00:00:00",
          "2019-08-01T00:00:00",
          "2019-09-01T00:00:00",
          "2019-10-01T00:00:00",
          "2019-11-01T00:00:00",
          "2019-12-01T00:00:00",
          "2020-01-01T00:00:00",
          "2020-02-01T00:00:00",
          "2020-03-01T00:00:00",
          "2020-04-01T00:00:00",
          "2020-05-01T00:00:00",
          "2020-06-01T00:00:00",
          "2020-07-01T00:00:00",
          "2020-08-01T00:00:00",
          "2020-09-01T00:00:00",
          "2020-10-01T00:00:00",
          "2020-11-01T00:00:00",
          "2020-12-01T00:00:00",
          "2021-01-01T00:00:00",
          "2021-02-01T00:00:00",
          "2021-03-01T00:00:00",
          "2021-04-01T00:00:00",
          "2021-05-01T00:00:00",
          "2021-06-01T00:00:00",
          "2021-07-01T00:00:00",
          "2021-08-01T00:00:00",
          "2021-09-01T00:00:00",
          "2021-10-01T00:00:00",
          "2021-11-01T00:00:00",
          "2021-12-01T00:00:00",
          "2022-01-01T00:00:00",
          "2022-02-01T00:00:00",
          "2022-03-01T00:00:00",
          "2022-04-01T00:00:00",
          "2022-05-01T00:00:00",
          "2022-06-01T00:00:00",
          "2022-07-01T00:00:00",
          "2022-08-01T00:00:00",
          "2022-09-01T00:00:00",
          "2022-10-01T00:00:00",
          "2022-11-01T00:00:00",
          "2022-12-01T00:00:00",
          "2023-01-01T00:00:00",
          "2023-02-01T00:00:00",
          "2023-03-01T00:00:00",
          "2023-04-01T00:00:00",
          "2023-05-01T00:00:00",
          "2023-06-01T00:00:00",
          "2023-07-01T00:00:00",
          "2023-08-01T00:00:00",
          "2023-09-01T00:00:00",
          "2023-10-01T00:00:00",
          "2023-11-01T00:00:00",
          "2023-12-01T00:00:00",
          "2024-01-01T00:00:00",
          "2024-02-01T00:00:00",
          "2024-03-01T00:00:00",
          "2024-04-01T00:00:00",
          "2024-05-01T00:00:00",
          "2024-06-01T00:00:00",
          "2024-07-01T00:00:00",
          "2024-08-01T00:00:00",
          "2024-09-01T00:00:00",
          "2024-10-01T00:00:00",
          "2024-11-01T00:00:00",
          "2024-12-01T00:00:00"
         ],
         "xaxis": "x",
         "y": [
          15,
          23,
          22,
          26,
          35,
          50,
          45,
          35,
          32,
          44,
          61,
          44,
          41,
          50,
          52,
          54,
          75,
          43,
          46,
          36,
          37,
          35,
          32,
          50,
          34,
          37,
          45,
          64,
          81,
          63,
          72,
          43,
          41,
          42,
          37,
          44,
          62,
          44,
          45,
          38,
          42,
          58,
          55,
          41,
          50,
          45,
          47,
          67,
          40,
          32,
          49,
          50,
          48,
          65,
          59,
          55,
          97,
          55,
          44,
          53,
          46,
          53,
          60,
          54,
          75,
          66,
          72,
          40,
          45,
          54,
          63,
          65,
          49,
          62,
          114,
          53,
          86,
          83,
          79,
          84,
          69,
          80,
          74,
          65,
          55,
          72,
          66,
          62,
          80,
          68,
          61,
          51,
          60,
          91,
          71,
          85,
          66,
          80,
          64,
          100,
          115,
          75,
          95,
          57,
          73,
          85,
          99,
          112,
          71,
          71,
          80,
          124,
          121,
          94,
          102,
          84,
          90,
          86,
          107,
          96,
          70,
          100,
          98,
          130,
          162,
          138,
          119,
          103,
          115,
          191,
          119,
          166,
          132,
          108,
          238,
          132,
          170,
          118,
          135,
          166,
          138,
          145,
          169,
          146,
          174,
          170,
          203,
          157,
          175,
          180,
          201,
          182,
          207,
          213,
          225,
          202,
          169,
          246,
          221,
          180,
          233,
          207,
          268,
          270,
          233,
          262,
          247,
          274,
          241,
          247,
          272,
          286,
          295,
          246,
          242,
          185,
          249,
          252,
          222,
          233,
          240,
          296,
          317,
          260,
          232,
          311,
          294,
          304,
          357,
          328,
          310,
          322,
          306,
          315,
          359,
          363,
          304,
          368,
          291,
          307,
          367,
          367,
          371,
          366,
          279,
          383,
          436,
          348,
          413,
          499,
          370,
          370,
          458,
          440,
          440,
          437,
          420,
          513,
          571,
          503,
          485,
          824,
          671,
          414,
          455,
          698,
          549,
          548,
          774,
          734,
          1021,
          559,
          515,
          544,
          593,
          473,
          653,
          575,
          570,
          655,
          785,
          666,
          650,
          655,
          682,
          619,
          634,
          575,
          626,
          661,
          699,
          689,
          641,
          668,
          774,
          706,
          746,
          788,
          735,
          684,
          874,
          803,
          751,
          747,
          758,
          803,
          974,
          890,
          980,
          1024,
          937,
          912,
          1014,
          1058,
          1124,
          1038,
          908,
          1002,
          1208,
          1148,
          1254,
          1228,
          1335,
          1306,
          1351,
          1234,
          1445,
          1214,
          1143,
          1395,
          1612,
          1505,
          1794,
          1689,
          1639,
          1579,
          1838,
          1864,
          2029,
          1661,
          1583,
          1623,
          1931,
          2282,
          2399,
          2403,
          2290,
          2106,
          2578,
          2553,
          2531,
          2139,
          1922,
          2312,
          2539,
          2703,
          2689,
          3043,
          3100,
          2661,
          2737,
          3669,
          3082,
          3048,
          2509,
          2592,
          3375,
          3278,
          3116,
          3668,
          3079,
          2874,
          3456,
          3629,
          3137,
          3031,
          2583,
          2924,
          3875,
          3367,
          3567,
          3541,
          3594,
          3080,
          3532,
          4535,
          3929,
          3170,
          2658,
          3390,
          4548,
          3745,
          4915,
          4421,
          4166,
          4474,
          4544,
          5382,
          4866,
          4774,
          4349,
          5094,
          6137,
          5557,
          6193,
          6679,
          6474,
          5843,
          7144,
          7495,
          7641,
          7400
         ],
         "yaxis": "y"
        },
        {
         "hovertemplate": "<b>OLS trendline</b><br>log10(count) = 2.37101e-09 * period + -0.429114<br>R<sup>2</sup>=0.974552<br><br>period=%{x}<br>count=%{y} <b>(trend)</b><extra></extra>",
         "legendgroup": "",
         "line": {
          "color": "red"
         },
         "marker": {
          "color": "#636efa",
          "symbol": "circle"
         },
         "mode": "lines",
         "name": "",
         "showlegend": false,
         "type": "scatter",
         "x": [
          "1994-01-01T00:00:00",
          "1994-02-01T00:00:00",
          "1994-03-01T00:00:00",
          "1994-04-01T00:00:00",
          "1994-05-01T00:00:00",
          "1994-06-01T00:00:00",
          "1994-07-01T00:00:00",
          "1994-08-01T00:00:00",
          "1994-09-01T00:00:00",
          "1994-10-01T00:00:00",
          "1994-11-01T00:00:00",
          "1994-12-01T00:00:00",
          "1995-01-01T00:00:00",
          "1995-02-01T00:00:00",
          "1995-03-01T00:00:00",
          "1995-04-01T00:00:00",
          "1995-05-01T00:00:00",
          "1995-06-01T00:00:00",
          "1995-07-01T00:00:00",
          "1995-08-01T00:00:00",
          "1995-09-01T00:00:00",
          "1995-10-01T00:00:00",
          "1995-11-01T00:00:00",
          "1995-12-01T00:00:00",
          "1996-01-01T00:00:00",
          "1996-02-01T00:00:00",
          "1996-03-01T00:00:00",
          "1996-04-01T00:00:00",
          "1996-05-01T00:00:00",
          "1996-06-01T00:00:00",
          "1996-07-01T00:00:00",
          "1996-08-01T00:00:00",
          "1996-09-01T00:00:00",
          "1996-10-01T00:00:00",
          "1996-11-01T00:00:00",
          "1996-12-01T00:00:00",
          "1997-01-01T00:00:00",
          "1997-02-01T00:00:00",
          "1997-03-01T00:00:00",
          "1997-04-01T00:00:00",
          "1997-05-01T00:00:00",
          "1997-06-01T00:00:00",
          "1997-07-01T00:00:00",
          "1997-08-01T00:00:00",
          "1997-09-01T00:00:00",
          "1997-10-01T00:00:00",
          "1997-11-01T00:00:00",
          "1997-12-01T00:00:00",
          "1998-01-01T00:00:00",
          "1998-02-01T00:00:00",
          "1998-03-01T00:00:00",
          "1998-04-01T00:00:00",
          "1998-05-01T00:00:00",
          "1998-06-01T00:00:00",
          "1998-07-01T00:00:00",
          "1998-08-01T00:00:00",
          "1998-09-01T00:00:00",
          "1998-10-01T00:00:00",
          "1998-11-01T00:00:00",
          "1998-12-01T00:00:00",
          "1999-01-01T00:00:00",
          "1999-02-01T00:00:00",
          "1999-03-01T00:00:00",
          "1999-04-01T00:00:00",
          "1999-05-01T00:00:00",
          "1999-06-01T00:00:00",
          "1999-07-01T00:00:00",
          "1999-08-01T00:00:00",
          "1999-09-01T00:00:00",
          "1999-10-01T00:00:00",
          "1999-11-01T00:00:00",
          "1999-12-01T00:00:00",
          "2000-01-01T00:00:00",
          "2000-02-01T00:00:00",
          "2000-03-01T00:00:00",
          "2000-04-01T00:00:00",
          "2000-05-01T00:00:00",
          "2000-06-01T00:00:00",
          "2000-07-01T00:00:00",
          "2000-08-01T00:00:00",
          "2000-09-01T00:00:00",
          "2000-10-01T00:00:00",
          "2000-11-01T00:00:00",
          "2000-12-01T00:00:00",
          "2001-01-01T00:00:00",
          "2001-02-01T00:00:00",
          "2001-03-01T00:00:00",
          "2001-04-01T00:00:00",
          "2001-05-01T00:00:00",
          "2001-06-01T00:00:00",
          "2001-07-01T00:00:00",
          "2001-08-01T00:00:00",
          "2001-09-01T00:00:00",
          "2001-10-01T00:00:00",
          "2001-11-01T00:00:00",
          "2001-12-01T00:00:00",
          "2002-01-01T00:00:00",
          "2002-02-01T00:00:00",
          "2002-03-01T00:00:00",
          "2002-04-01T00:00:00",
          "2002-05-01T00:00:00",
          "2002-06-01T00:00:00",
          "2002-07-01T00:00:00",
          "2002-08-01T00:00:00",
          "2002-09-01T00:00:00",
          "2002-10-01T00:00:00",
          "2002-11-01T00:00:00",
          "2002-12-01T00:00:00",
          "2003-01-01T00:00:00",
          "2003-02-01T00:00:00",
          "2003-03-01T00:00:00",
          "2003-04-01T00:00:00",
          "2003-05-01T00:00:00",
          "2003-06-01T00:00:00",
          "2003-07-01T00:00:00",
          "2003-08-01T00:00:00",
          "2003-09-01T00:00:00",
          "2003-10-01T00:00:00",
          "2003-11-01T00:00:00",
          "2003-12-01T00:00:00",
          "2004-01-01T00:00:00",
          "2004-02-01T00:00:00",
          "2004-03-01T00:00:00",
          "2004-04-01T00:00:00",
          "2004-05-01T00:00:00",
          "2004-06-01T00:00:00",
          "2004-07-01T00:00:00",
          "2004-08-01T00:00:00",
          "2004-09-01T00:00:00",
          "2004-10-01T00:00:00",
          "2004-11-01T00:00:00",
          "2004-12-01T00:00:00",
          "2005-01-01T00:00:00",
          "2005-02-01T00:00:00",
          "2005-03-01T00:00:00",
          "2005-04-01T00:00:00",
          "2005-05-01T00:00:00",
          "2005-06-01T00:00:00",
          "2005-07-01T00:00:00",
          "2005-08-01T00:00:00",
          "2005-09-01T00:00:00",
          "2005-10-01T00:00:00",
          "2005-11-01T00:00:00",
          "2005-12-01T00:00:00",
          "2006-01-01T00:00:00",
          "2006-02-01T00:00:00",
          "2006-03-01T00:00:00",
          "2006-04-01T00:00:00",
          "2006-05-01T00:00:00",
          "2006-06-01T00:00:00",
          "2006-07-01T00:00:00",
          "2006-08-01T00:00:00",
          "2006-09-01T00:00:00",
          "2006-10-01T00:00:00",
          "2006-11-01T00:00:00",
          "2006-12-01T00:00:00",
          "2007-01-01T00:00:00",
          "2007-02-01T00:00:00",
          "2007-03-01T00:00:00",
          "2007-04-01T00:00:00",
          "2007-05-01T00:00:00",
          "2007-06-01T00:00:00",
          "2007-07-01T00:00:00",
          "2007-08-01T00:00:00",
          "2007-09-01T00:00:00",
          "2007-10-01T00:00:00",
          "2007-11-01T00:00:00",
          "2007-12-01T00:00:00",
          "2008-01-01T00:00:00",
          "2008-02-01T00:00:00",
          "2008-03-01T00:00:00",
          "2008-04-01T00:00:00",
          "2008-05-01T00:00:00",
          "2008-06-01T00:00:00",
          "2008-07-01T00:00:00",
          "2008-08-01T00:00:00",
          "2008-09-01T00:00:00",
          "2008-10-01T00:00:00",
          "2008-11-01T00:00:00",
          "2008-12-01T00:00:00",
          "2009-01-01T00:00:00",
          "2009-02-01T00:00:00",
          "2009-03-01T00:00:00",
          "2009-04-01T00:00:00",
          "2009-05-01T00:00:00",
          "2009-06-01T00:00:00",
          "2009-07-01T00:00:00",
          "2009-08-01T00:00:00",
          "2009-09-01T00:00:00",
          "2009-10-01T00:00:00",
          "2009-11-01T00:00:00",
          "2009-12-01T00:00:00",
          "2010-01-01T00:00:00",
          "2010-02-01T00:00:00",
          "2010-03-01T00:00:00",
          "2010-04-01T00:00:00",
          "2010-05-01T00:00:00",
          "2010-06-01T00:00:00",
          "2010-07-01T00:00:00",
          "2010-08-01T00:00:00",
          "2010-09-01T00:00:00",
          "2010-10-01T00:00:00",
          "2010-11-01T00:00:00",
          "2010-12-01T00:00:00",
          "2011-01-01T00:00:00",
          "2011-02-01T00:00:00",
          "2011-03-01T00:00:00",
          "2011-04-01T00:00:00",
          "2011-05-01T00:00:00",
          "2011-06-01T00:00:00",
          "2011-07-01T00:00:00",
          "2011-08-01T00:00:00",
          "2011-09-01T00:00:00",
          "2011-10-01T00:00:00",
          "2011-11-01T00:00:00",
          "2011-12-01T00:00:00",
          "2012-01-01T00:00:00",
          "2012-02-01T00:00:00",
          "2012-03-01T00:00:00",
          "2012-04-01T00:00:00",
          "2012-05-01T00:00:00",
          "2012-06-01T00:00:00",
          "2012-07-01T00:00:00",
          "2012-08-01T00:00:00",
          "2012-09-01T00:00:00",
          "2012-10-01T00:00:00",
          "2012-11-01T00:00:00",
          "2012-12-01T00:00:00",
          "2013-01-01T00:00:00",
          "2013-02-01T00:00:00",
          "2013-03-01T00:00:00",
          "2013-04-01T00:00:00",
          "2013-05-01T00:00:00",
          "2013-06-01T00:00:00",
          "2013-07-01T00:00:00",
          "2013-08-01T00:00:00",
          "2013-09-01T00:00:00",
          "2013-10-01T00:00:00",
          "2013-11-01T00:00:00",
          "2013-12-01T00:00:00",
          "2014-01-01T00:00:00",
          "2014-02-01T00:00:00",
          "2014-03-01T00:00:00",
          "2014-04-01T00:00:00",
          "2014-05-01T00:00:00",
          "2014-06-01T00:00:00",
          "2014-07-01T00:00:00",
          "2014-08-01T00:00:00",
          "2014-09-01T00:00:00",
          "2014-10-01T00:00:00",
          "2014-11-01T00:00:00",
          "2014-12-01T00:00:00",
          "2015-01-01T00:00:00",
          "2015-02-01T00:00:00",
          "2015-03-01T00:00:00",
          "2015-04-01T00:00:00",
          "2015-05-01T00:00:00",
          "2015-06-01T00:00:00",
          "2015-07-01T00:00:00",
          "2015-08-01T00:00:00",
          "2015-09-01T00:00:00",
          "2015-10-01T00:00:00",
          "2015-11-01T00:00:00",
          "2015-12-01T00:00:00",
          "2016-01-01T00:00:00",
          "2016-02-01T00:00:00",
          "2016-03-01T00:00:00",
          "2016-04-01T00:00:00",
          "2016-05-01T00:00:00",
          "2016-06-01T00:00:00",
          "2016-07-01T00:00:00",
          "2016-08-01T00:00:00",
          "2016-09-01T00:00:00",
          "2016-10-01T00:00:00",
          "2016-11-01T00:00:00",
          "2016-12-01T00:00:00",
          "2017-01-01T00:00:00",
          "2017-02-01T00:00:00",
          "2017-03-01T00:00:00",
          "2017-04-01T00:00:00",
          "2017-05-01T00:00:00",
          "2017-06-01T00:00:00",
          "2017-07-01T00:00:00",
          "2017-08-01T00:00:00",
          "2017-09-01T00:00:00",
          "2017-10-01T00:00:00",
          "2017-11-01T00:00:00",
          "2017-12-01T00:00:00",
          "2018-01-01T00:00:00",
          "2018-02-01T00:00:00",
          "2018-03-01T00:00:00",
          "2018-04-01T00:00:00",
          "2018-05-01T00:00:00",
          "2018-06-01T00:00:00",
          "2018-07-01T00:00:00",
          "2018-08-01T00:00:00",
          "2018-09-01T00:00:00",
          "2018-10-01T00:00:00",
          "2018-11-01T00:00:00",
          "2018-12-01T00:00:00",
          "2019-01-01T00:00:00",
          "2019-02-01T00:00:00",
          "2019-03-01T00:00:00",
          "2019-04-01T00:00:00",
          "2019-05-01T00:00:00",
          "2019-06-01T00:00:00",
          "2019-07-01T00:00:00",
          "2019-08-01T00:00:00",
          "2019-09-01T00:00:00",
          "2019-10-01T00:00:00",
          "2019-11-01T00:00:00",
          "2019-12-01T00:00:00",
          "2020-01-01T00:00:00",
          "2020-02-01T00:00:00",
          "2020-03-01T00:00:00",
          "2020-04-01T00:00:00",
          "2020-05-01T00:00:00",
          "2020-06-01T00:00:00",
          "2020-07-01T00:00:00",
          "2020-08-01T00:00:00",
          "2020-09-01T00:00:00",
          "2020-10-01T00:00:00",
          "2020-11-01T00:00:00",
          "2020-12-01T00:00:00",
          "2021-01-01T00:00:00",
          "2021-02-01T00:00:00",
          "2021-03-01T00:00:00",
          "2021-04-01T00:00:00",
          "2021-05-01T00:00:00",
          "2021-06-01T00:00:00",
          "2021-07-01T00:00:00",
          "2021-08-01T00:00:00",
          "2021-09-01T00:00:00",
          "2021-10-01T00:00:00",
          "2021-11-01T00:00:00",
          "2021-12-01T00:00:00",
          "2022-01-01T00:00:00",
          "2022-02-01T00:00:00",
          "2022-03-01T00:00:00",
          "2022-04-01T00:00:00",
          "2022-05-01T00:00:00",
          "2022-06-01T00:00:00",
          "2022-07-01T00:00:00",
          "2022-08-01T00:00:00",
          "2022-09-01T00:00:00",
          "2022-10-01T00:00:00",
          "2022-11-01T00:00:00",
          "2022-12-01T00:00:00",
          "2023-01-01T00:00:00",
          "2023-02-01T00:00:00",
          "2023-03-01T00:00:00",
          "2023-04-01T00:00:00",
          "2023-05-01T00:00:00",
          "2023-06-01T00:00:00",
          "2023-07-01T00:00:00",
          "2023-08-01T00:00:00",
          "2023-09-01T00:00:00",
          "2023-10-01T00:00:00",
          "2023-11-01T00:00:00",
          "2023-12-01T00:00:00",
          "2024-01-01T00:00:00",
          "2024-02-01T00:00:00",
          "2024-03-01T00:00:00",
          "2024-04-01T00:00:00",
          "2024-05-01T00:00:00",
          "2024-06-01T00:00:00",
          "2024-07-01T00:00:00",
          "2024-08-01T00:00:00",
          "2024-09-01T00:00:00",
          "2024-10-01T00:00:00",
          "2024-11-01T00:00:00",
          "2024-12-01T00:00:00"
         ],
         "xaxis": "x",
         "y": [
          23.262041447550303,
          23.604692088773653,
          23.91851916103389,
          24.270839740726796,
          24.616735640498128,
          24.97934097206634,
          25.3353340779303,
          25.708524388289963,
          26.087211804285495,
          26.458993732556692,
          26.848735586857273,
          27.231370372169422,
          27.632489359961316,
          28.039516843732965,
          28.412305416681377,
          28.83081961680481,
          29.24170207489157,
          29.6724333152694,
          30.095310031923237,
          30.538614945789256,
          30.988449755723778,
          31.430081682153936,
          31.893047826650534,
          32.34757163350251,
          32.824052435380075,
          33.307551815255714,
          33.76630321403235,
          34.263681979095516,
          34.7519908812284,
          35.263888858286435,
          35.76645220987931,
          36.29329323591875,
          36.827894647726694,
          37.35274742958093,
          37.90295463676255,
          38.44312863725564,
          39.00939719575202,
          39.584006908876255,
          40.11028079331511,
          40.70110655830512,
          41.281158424044655,
          41.88923125532797,
          42.486215681518956,
          43.11203904612994,
          43.74708080963597,
          44.370542380832724,
          45.024121940154735,
          45.665783264454575,
          46.33844176490531,
          47.02100854735371,
          47.64615821639592,
          48.34798770550108,
          49.037019106481644,
          49.75933602257876,
          50.4684812556822,
          51.21188365666319,
          51.96623639964049,
          52.706833275941456,
          53.4832066763403,
          54.245422656240095,
          55.04445952918616,
          55.855266241743834,
          56.59786837394019,
          57.43155685024755,
          58.25004274707662,
          59.10806780663885,
          59.950446501242276,
          60.8335185644399,
          61.72959830838579,
          62.6093377478734,
          63.5315753672264,
          64.436995684788,
          65.38615476610431,
          66.34929499213534,
          67.26313675553817,
          68.25392498846028,
          69.22664587694246,
          70.2463566642764,
          71.2474726950199,
          72.29695032833668,
          73.36188680196273,
          74.40740381395581,
          75.50342733734703,
          76.5794645166807,
          77.7074825661862,
          78.85211635893357,
          79.90046423508392,
          81.07740072047041,
          82.2328753877218,
          83.4441683666624,
          84.63337302567652,
          85.88002541435571,
          87.14504103402334,
          88.38698868400483,
          89.68893195569326,
          90.96713386999652,
          92.30708276575808,
          93.66676915314842,
          94.91207952707147,
          96.31013760306281,
          97.68270163707157,
          99.12157106853743,
          100.53420224973094,
          102.01507437969511,
          103.5177598051968,
          104.99304327509867,
          106.53959428109356,
          108.05794342841597,
          109.64964051521325,
          111.264783352834,
          112.7440613317193,
          114.40478509048927,
          116.03522501344827,
          117.74442772229052,
          119.4224625659602,
          121.18155939617445,
          122.96656778097885,
          124.71902595954869,
          126.55614134403234,
          128.35975633425974,
          130.25049979778493,
          132.16909397517057,
          133.98948465030796,
          135.9631541984487,
          137.90083324291547,
          139.93211708541327,
          141.9263598089126,
          144.0169397910982,
          146.1383140856851,
          148.22100443269062,
          150.40430473873417,
          152.54779185631358,
          154.79482588445907,
          157.07495879828605,
          159.1632882820884,
          161.50776879176516,
          163.8094969397429,
          166.2224162568817,
          168.59133520849346,
          171.07469116175932,
          173.5946270304935,
          176.06861105220926,
          178.6621075263847,
          181.20831075206803,
          183.87751517310713,
          186.5860370637023,
          189.06671969731278,
          191.85167874247443,
          194.58585315712867,
          197.4521092210093,
          200.26609817690618,
          203.21602443812185,
          206.2094032109,
          209.1481967519103,
          212.22895661941095,
          215.25353783257023,
          218.42422957646673,
          221.64162571479983,
          224.58837639587134,
          227.8965706210803,
          231.14443885274696,
          234.54920409515634,
          237.8918823402361,
          241.39603764876753,
          244.95180928109076,
          248.44274026563863,
          252.1023100609746,
          255.6951464154023,
          259.46154439360566,
          263.2834215388135,
          266.9096753858559,
          270.84126374734564,
          274.70115832124003,
          278.7475154845097,
          282.7200860138988,
          286.8845622477586,
          291.1103813545175,
          295.25914128071116,
          299.60831821408584,
          303.8781864969595,
          308.3543222519294,
          312.8963916348701,
          317.05638483191166,
          321.7266358849659,
          326.3117233969195,
          331.11830589367736,
          335.83723880128775,
          340.78413245554435,
          345.80389401722505,
          350.73211860043995,
          355.8984143276244,
          360.97050097835836,
          366.2876084171801,
          371.68303702473816,
          376.62460537392866,
          382.1722982891375,
          387.6188272266006,
          393.32846539395183,
          398.9339864594147,
          404.81029729715084,
          410.77316638821645,
          416.62730062945377,
          422.76423457111645,
          428.78925953400375,
          435.1053395332716,
          441.51445560018846,
          447.3844406201364,
          453.9744282528849,
          460.4442453260129,
          467.2266043147669,
          473.8852847898958,
          480.8656307352715,
          487.9487974076903,
          494.9028002409115,
          502.1927348852176,
          509.34973520936654,
          516.8524736844032,
          524.4657277457525,
          531.6892963691173,
          539.5210973201752,
          547.210082843409,
          555.2705054934565,
          563.1839437249263,
          571.4796618749928,
          579.8975762282574,
          588.1619871859098,
          596.8256327437109,
          605.3312939177688,
          614.247843932571,
          623.2957350245078,
          631.5825228775072,
          640.885754364623,
          650.0193384113497,
          659.5941448021147,
          668.9943514961325,
          678.8486604583026,
          688.8481237179705,
          698.6652435253005,
          708.9566057100939,
          719.0603015710744,
          729.6520836365969,
          740.3998830028629,
          750.243583853132,
          761.2946966998101,
          772.1442889231997,
          783.5179998811581,
          794.6843075347477,
          806.3900337136336,
          818.26818562696,
          829.9297355916592,
          842.1546280935491,
          854.1565957198364,
          866.738350674081,
          879.505435295651,
          891.1985603217165,
          904.325944641794,
          917.2139468555595,
          930.7245386812032,
          943.9887604875128,
          957.8937462050387,
          972.0035528228736,
          985.8560625454949,
          1000.3777550094518,
          1014.634639706341,
          1029.580241565348,
          1044.7459926349047,
          1059.1354826864683,
          1074.7365834369418,
          1090.053193060518,
          1106.1097127091443,
          1121.8734365197108,
          1138.398669408736,
          1155.1673195257183,
          1171.6301878748225,
          1188.8883393598126,
          1205.8317828608817,
          1223.593724973159,
          1241.6173010812254,
          1258.1247446437412,
          1276.656963815612,
          1294.8512419664971,
          1313.9244436607275,
          1332.6498393424001,
          1352.2798156282931,
          1372.1989421152432,
          1391.754836876963,
          1412.2554317347638,
          1432.3821916031975,
          1453.4812287421512,
          1474.8910553971998,
          1494.4999001166032,
          1516.513933159998,
          1538.1265331783618,
          1560.783187972162,
          1583.026691325105,
          1606.3447269360058,
          1630.0062379840115,
          1653.2362737117937,
          1677.5884987973832,
          1701.4966531684845,
          1726.5597552423985,
          1751.9920376402333,
          1775.2849715081315,
          1801.434977955889,
          1827.1081305635435,
          1854.021493861154,
          1880.4440832591793,
          1908.1430869070844,
          1936.2500977964262,
          1963.844568235609,
          1992.7720637903808,
          2021.1720570912844,
          2050.943988456233,
          2081.154461356569,
          2109.818607118861,
          2140.896305102688,
          2171.407291194694,
          2203.3921925354693,
          2234.793838837278,
          2267.7124261249055,
          2301.1159052939142,
          2333.910261197643,
          2368.2888366704915,
          2402.040507681031,
          2437.422643941821,
          2473.325960241988,
          2506.2091108430996,
          2543.125654079705,
          2579.3690121895347,
          2617.3632031968536,
          2654.6645578211433,
          2693.7678547102523,
          2733.44714445808,
          2772.402869501378,
          2813.2404556223564,
          2853.3333551291566,
          2895.3630499847623,
          2938.0118436380876,
          2977.0730460332416,
          3020.925430635517,
          3063.9781527965215,
          3109.1106525006962,
          3153.4201464499633,
          3199.8701296839804,
          3247.004322709981,
          3293.2790084548074,
          3341.7891173598573,
          3389.414628711885,
          3439.3408184884165,
          3490.0024226944743,
          3536.402402765225,
          3588.493727323453,
          3639.6351497009205,
          3693.247096041744,
          3745.881411170923,
          3801.058368463273,
          3857.0480841646213,
          3912.0168092596464,
          3969.6409464701196,
          4026.214288868502,
          4085.520558737121,
          4145.700411925796,
          4202.799951196312,
          4264.707333721526,
          4325.485815068576,
          4389.200364433367,
          4451.753058347157,
          4517.327528388836,
          4583.867912546794,
          4649.194911240735,
          4717.677706317035,
          4784.9116954368865
         ],
         "yaxis": "y"
        },
        {
         "hovertemplate": "period=%{x}<br>count=%{y}<extra></extra>",
         "legendgroup": "",
         "marker": {
          "color": "#636efa",
          "symbol": "circle"
         },
         "mode": "markers",
         "name": "",
         "orientation": "v",
         "showlegend": false,
         "type": "scatter",
         "x": [
          "1994-01-01T00:00:00",
          "1994-02-01T00:00:00",
          "1994-03-01T00:00:00",
          "1994-04-01T00:00:00",
          "1994-05-01T00:00:00",
          "1994-06-01T00:00:00",
          "1994-07-01T00:00:00",
          "1994-08-01T00:00:00",
          "1994-09-01T00:00:00",
          "1994-10-01T00:00:00",
          "1994-11-01T00:00:00",
          "1994-12-01T00:00:00",
          "1995-01-01T00:00:00",
          "1995-02-01T00:00:00",
          "1995-03-01T00:00:00",
          "1995-04-01T00:00:00",
          "1995-05-01T00:00:00",
          "1995-06-01T00:00:00",
          "1995-07-01T00:00:00",
          "1995-08-01T00:00:00",
          "1995-09-01T00:00:00",
          "1995-10-01T00:00:00",
          "1995-11-01T00:00:00",
          "1995-12-01T00:00:00",
          "1996-01-01T00:00:00",
          "1996-02-01T00:00:00",
          "1996-03-01T00:00:00",
          "1996-04-01T00:00:00",
          "1996-05-01T00:00:00",
          "1996-06-01T00:00:00",
          "1996-07-01T00:00:00",
          "1996-08-01T00:00:00",
          "1996-09-01T00:00:00",
          "1996-10-01T00:00:00",
          "1996-11-01T00:00:00",
          "1996-12-01T00:00:00",
          "1997-01-01T00:00:00",
          "1997-02-01T00:00:00",
          "1997-03-01T00:00:00",
          "1997-04-01T00:00:00",
          "1997-05-01T00:00:00",
          "1997-06-01T00:00:00",
          "1997-07-01T00:00:00",
          "1997-08-01T00:00:00",
          "1997-09-01T00:00:00",
          "1997-10-01T00:00:00",
          "1997-11-01T00:00:00",
          "1997-12-01T00:00:00",
          "1998-01-01T00:00:00",
          "1998-02-01T00:00:00",
          "1998-03-01T00:00:00",
          "1998-04-01T00:00:00",
          "1998-05-01T00:00:00",
          "1998-06-01T00:00:00",
          "1998-07-01T00:00:00",
          "1998-08-01T00:00:00",
          "1998-09-01T00:00:00",
          "1998-10-01T00:00:00",
          "1998-11-01T00:00:00",
          "1998-12-01T00:00:00",
          "1999-01-01T00:00:00",
          "1999-02-01T00:00:00",
          "1999-03-01T00:00:00",
          "1999-04-01T00:00:00",
          "1999-05-01T00:00:00",
          "1999-06-01T00:00:00",
          "1999-07-01T00:00:00",
          "1999-08-01T00:00:00",
          "1999-09-01T00:00:00",
          "1999-10-01T00:00:00",
          "1999-11-01T00:00:00",
          "1999-12-01T00:00:00",
          "2000-01-01T00:00:00",
          "2000-02-01T00:00:00",
          "2000-03-01T00:00:00",
          "2000-04-01T00:00:00",
          "2000-05-01T00:00:00",
          "2000-06-01T00:00:00",
          "2000-07-01T00:00:00",
          "2000-08-01T00:00:00",
          "2000-09-01T00:00:00",
          "2000-10-01T00:00:00",
          "2000-11-01T00:00:00",
          "2000-12-01T00:00:00",
          "2001-01-01T00:00:00",
          "2001-02-01T00:00:00",
          "2001-03-01T00:00:00",
          "2001-04-01T00:00:00",
          "2001-05-01T00:00:00",
          "2001-06-01T00:00:00",
          "2001-07-01T00:00:00",
          "2001-08-01T00:00:00",
          "2001-09-01T00:00:00",
          "2001-10-01T00:00:00",
          "2001-11-01T00:00:00",
          "2001-12-01T00:00:00",
          "2002-01-01T00:00:00",
          "2002-02-01T00:00:00",
          "2002-03-01T00:00:00",
          "2002-04-01T00:00:00",
          "2002-05-01T00:00:00",
          "2002-06-01T00:00:00",
          "2002-07-01T00:00:00",
          "2002-08-01T00:00:00",
          "2002-09-01T00:00:00",
          "2002-10-01T00:00:00",
          "2002-11-01T00:00:00",
          "2002-12-01T00:00:00",
          "2003-01-01T00:00:00",
          "2003-02-01T00:00:00",
          "2003-03-01T00:00:00",
          "2003-04-01T00:00:00",
          "2003-05-01T00:00:00",
          "2003-06-01T00:00:00",
          "2003-07-01T00:00:00",
          "2003-08-01T00:00:00",
          "2003-09-01T00:00:00",
          "2003-10-01T00:00:00",
          "2003-11-01T00:00:00",
          "2003-12-01T00:00:00",
          "2004-01-01T00:00:00",
          "2004-02-01T00:00:00",
          "2004-03-01T00:00:00",
          "2004-04-01T00:00:00",
          "2004-05-01T00:00:00",
          "2004-06-01T00:00:00",
          "2004-07-01T00:00:00",
          "2004-08-01T00:00:00",
          "2004-09-01T00:00:00",
          "2004-10-01T00:00:00",
          "2004-11-01T00:00:00",
          "2004-12-01T00:00:00",
          "2005-01-01T00:00:00",
          "2005-02-01T00:00:00",
          "2005-03-01T00:00:00",
          "2005-04-01T00:00:00",
          "2005-05-01T00:00:00",
          "2005-06-01T00:00:00",
          "2005-07-01T00:00:00",
          "2005-08-01T00:00:00",
          "2005-09-01T00:00:00",
          "2005-10-01T00:00:00",
          "2005-11-01T00:00:00",
          "2005-12-01T00:00:00",
          "2006-01-01T00:00:00",
          "2006-02-01T00:00:00",
          "2006-03-01T00:00:00",
          "2006-04-01T00:00:00",
          "2006-05-01T00:00:00",
          "2006-06-01T00:00:00",
          "2006-07-01T00:00:00",
          "2006-08-01T00:00:00",
          "2006-09-01T00:00:00",
          "2006-10-01T00:00:00",
          "2006-11-01T00:00:00",
          "2006-12-01T00:00:00",
          "2007-01-01T00:00:00",
          "2007-02-01T00:00:00",
          "2007-03-01T00:00:00",
          "2007-04-01T00:00:00",
          "2007-05-01T00:00:00",
          "2007-06-01T00:00:00",
          "2007-07-01T00:00:00",
          "2007-08-01T00:00:00",
          "2007-09-01T00:00:00",
          "2007-10-01T00:00:00",
          "2007-11-01T00:00:00",
          "2007-12-01T00:00:00",
          "2008-01-01T00:00:00",
          "2008-02-01T00:00:00",
          "2008-03-01T00:00:00",
          "2008-04-01T00:00:00",
          "2008-05-01T00:00:00",
          "2008-06-01T00:00:00",
          "2008-07-01T00:00:00",
          "2008-08-01T00:00:00",
          "2008-09-01T00:00:00",
          "2008-10-01T00:00:00",
          "2008-11-01T00:00:00",
          "2008-12-01T00:00:00",
          "2009-01-01T00:00:00",
          "2009-02-01T00:00:00",
          "2009-03-01T00:00:00",
          "2009-04-01T00:00:00",
          "2009-05-01T00:00:00",
          "2009-06-01T00:00:00",
          "2009-07-01T00:00:00",
          "2009-08-01T00:00:00",
          "2009-09-01T00:00:00",
          "2009-10-01T00:00:00",
          "2009-11-01T00:00:00",
          "2009-12-01T00:00:00",
          "2010-01-01T00:00:00",
          "2010-02-01T00:00:00",
          "2010-03-01T00:00:00",
          "2010-04-01T00:00:00",
          "2010-05-01T00:00:00",
          "2010-06-01T00:00:00",
          "2010-07-01T00:00:00",
          "2010-08-01T00:00:00",
          "2010-09-01T00:00:00",
          "2010-10-01T00:00:00",
          "2010-11-01T00:00:00",
          "2010-12-01T00:00:00",
          "2011-01-01T00:00:00",
          "2011-02-01T00:00:00",
          "2011-03-01T00:00:00",
          "2011-04-01T00:00:00",
          "2011-05-01T00:00:00",
          "2011-06-01T00:00:00",
          "2011-07-01T00:00:00",
          "2011-08-01T00:00:00",
          "2011-09-01T00:00:00",
          "2011-10-01T00:00:00",
          "2011-11-01T00:00:00",
          "2011-12-01T00:00:00",
          "2012-01-01T00:00:00",
          "2012-02-01T00:00:00",
          "2012-03-01T00:00:00",
          "2012-04-01T00:00:00",
          "2012-05-01T00:00:00",
          "2012-06-01T00:00:00",
          "2012-07-01T00:00:00",
          "2012-08-01T00:00:00",
          "2012-09-01T00:00:00",
          "2012-10-01T00:00:00",
          "2012-11-01T00:00:00",
          "2012-12-01T00:00:00",
          "2013-01-01T00:00:00",
          "2013-02-01T00:00:00",
          "2013-03-01T00:00:00",
          "2013-04-01T00:00:00",
          "2013-05-01T00:00:00",
          "2013-06-01T00:00:00",
          "2013-07-01T00:00:00",
          "2013-08-01T00:00:00",
          "2013-09-01T00:00:00",
          "2013-10-01T00:00:00",
          "2013-11-01T00:00:00",
          "2013-12-01T00:00:00",
          "2014-01-01T00:00:00",
          "2014-02-01T00:00:00",
          "2014-03-01T00:00:00",
          "2014-04-01T00:00:00",
          "2014-05-01T00:00:00",
          "2014-06-01T00:00:00",
          "2014-07-01T00:00:00",
          "2014-08-01T00:00:00",
          "2014-09-01T00:00:00",
          "2014-10-01T00:00:00",
          "2014-11-01T00:00:00",
          "2014-12-01T00:00:00",
          "2015-01-01T00:00:00",
          "2015-02-01T00:00:00",
          "2015-03-01T00:00:00",
          "2015-04-01T00:00:00",
          "2015-05-01T00:00:00",
          "2015-06-01T00:00:00",
          "2015-07-01T00:00:00",
          "2015-08-01T00:00:00",
          "2015-09-01T00:00:00",
          "2015-10-01T00:00:00",
          "2015-11-01T00:00:00",
          "2015-12-01T00:00:00",
          "2016-01-01T00:00:00",
          "2016-02-01T00:00:00",
          "2016-03-01T00:00:00",
          "2016-04-01T00:00:00",
          "2016-05-01T00:00:00",
          "2016-06-01T00:00:00",
          "2016-07-01T00:00:00",
          "2016-08-01T00:00:00",
          "2016-09-01T00:00:00",
          "2016-10-01T00:00:00",
          "2016-11-01T00:00:00",
          "2016-12-01T00:00:00",
          "2017-01-01T00:00:00",
          "2017-02-01T00:00:00",
          "2017-03-01T00:00:00",
          "2017-04-01T00:00:00",
          "2017-05-01T00:00:00",
          "2017-06-01T00:00:00",
          "2017-07-01T00:00:00",
          "2017-08-01T00:00:00",
          "2017-09-01T00:00:00",
          "2017-10-01T00:00:00",
          "2017-11-01T00:00:00",
          "2017-12-01T00:00:00",
          "2018-01-01T00:00:00",
          "2018-02-01T00:00:00",
          "2018-03-01T00:00:00",
          "2018-04-01T00:00:00",
          "2018-05-01T00:00:00",
          "2018-06-01T00:00:00",
          "2018-07-01T00:00:00",
          "2018-08-01T00:00:00",
          "2018-09-01T00:00:00",
          "2018-10-01T00:00:00",
          "2018-11-01T00:00:00",
          "2018-12-01T00:00:00",
          "2019-01-01T00:00:00",
          "2019-02-01T00:00:00",
          "2019-03-01T00:00:00",
          "2019-04-01T00:00:00",
          "2019-05-01T00:00:00",
          "2019-06-01T00:00:00",
          "2019-07-01T00:00:00",
          "2019-08-01T00:00:00",
          "2019-09-01T00:00:00",
          "2019-10-01T00:00:00",
          "2019-11-01T00:00:00",
          "2019-12-01T00:00:00",
          "2020-01-01T00:00:00",
          "2020-02-01T00:00:00",
          "2020-03-01T00:00:00",
          "2020-04-01T00:00:00",
          "2020-05-01T00:00:00",
          "2020-06-01T00:00:00",
          "2020-07-01T00:00:00",
          "2020-08-01T00:00:00",
          "2020-09-01T00:00:00",
          "2020-10-01T00:00:00",
          "2020-11-01T00:00:00",
          "2020-12-01T00:00:00",
          "2021-01-01T00:00:00",
          "2021-02-01T00:00:00",
          "2021-03-01T00:00:00",
          "2021-04-01T00:00:00",
          "2021-05-01T00:00:00",
          "2021-06-01T00:00:00",
          "2021-07-01T00:00:00",
          "2021-08-01T00:00:00",
          "2021-09-01T00:00:00",
          "2021-10-01T00:00:00",
          "2021-11-01T00:00:00",
          "2021-12-01T00:00:00",
          "2022-01-01T00:00:00",
          "2022-02-01T00:00:00",
          "2022-03-01T00:00:00",
          "2022-04-01T00:00:00",
          "2022-05-01T00:00:00",
          "2022-06-01T00:00:00",
          "2022-07-01T00:00:00",
          "2022-08-01T00:00:00",
          "2022-09-01T00:00:00",
          "2022-10-01T00:00:00",
          "2022-11-01T00:00:00",
          "2022-12-01T00:00:00",
          "2023-01-01T00:00:00",
          "2023-02-01T00:00:00",
          "2023-03-01T00:00:00",
          "2023-04-01T00:00:00",
          "2023-05-01T00:00:00",
          "2023-06-01T00:00:00",
          "2023-07-01T00:00:00",
          "2023-08-01T00:00:00",
          "2023-09-01T00:00:00",
          "2023-10-01T00:00:00",
          "2023-11-01T00:00:00",
          "2023-12-01T00:00:00",
          "2024-01-01T00:00:00",
          "2024-02-01T00:00:00",
          "2024-03-01T00:00:00",
          "2024-04-01T00:00:00",
          "2024-05-01T00:00:00",
          "2024-06-01T00:00:00",
          "2024-07-01T00:00:00",
          "2024-08-01T00:00:00",
          "2024-09-01T00:00:00",
          "2024-10-01T00:00:00",
          "2024-11-01T00:00:00",
          "2024-12-01T00:00:00"
         ],
         "xaxis": "x2",
         "y": [
          15,
          23,
          22,
          26,
          35,
          50,
          45,
          35,
          32,
          44,
          61,
          44,
          41,
          50,
          52,
          54,
          75,
          43,
          46,
          36,
          37,
          35,
          32,
          50,
          34,
          37,
          45,
          64,
          81,
          63,
          72,
          43,
          41,
          42,
          37,
          44,
          62,
          44,
          45,
          38,
          42,
          58,
          55,
          41,
          50,
          45,
          47,
          67,
          40,
          32,
          49,
          50,
          48,
          65,
          59,
          55,
          97,
          55,
          44,
          53,
          46,
          53,
          60,
          54,
          75,
          66,
          72,
          40,
          45,
          54,
          63,
          65,
          49,
          62,
          114,
          53,
          86,
          83,
          79,
          84,
          69,
          80,
          74,
          65,
          55,
          72,
          66,
          62,
          80,
          68,
          61,
          51,
          60,
          91,
          71,
          85,
          66,
          80,
          64,
          100,
          115,
          75,
          95,
          57,
          73,
          85,
          99,
          112,
          71,
          71,
          80,
          124,
          121,
          94,
          102,
          84,
          90,
          86,
          107,
          96,
          70,
          100,
          98,
          130,
          162,
          138,
          119,
          103,
          115,
          191,
          119,
          166,
          132,
          108,
          238,
          132,
          170,
          118,
          135,
          166,
          138,
          145,
          169,
          146,
          174,
          170,
          203,
          157,
          175,
          180,
          201,
          182,
          207,
          213,
          225,
          202,
          169,
          246,
          221,
          180,
          233,
          207,
          268,
          270,
          233,
          262,
          247,
          274,
          241,
          247,
          272,
          286,
          295,
          246,
          242,
          185,
          249,
          252,
          222,
          233,
          240,
          296,
          317,
          260,
          232,
          311,
          294,
          304,
          357,
          328,
          310,
          322,
          306,
          315,
          359,
          363,
          304,
          368,
          291,
          307,
          367,
          367,
          371,
          366,
          279,
          383,
          436,
          348,
          413,
          499,
          370,
          370,
          458,
          440,
          440,
          437,
          420,
          513,
          571,
          503,
          485,
          824,
          671,
          414,
          455,
          698,
          549,
          548,
          774,
          734,
          1021,
          559,
          515,
          544,
          593,
          473,
          653,
          575,
          570,
          655,
          785,
          666,
          650,
          655,
          682,
          619,
          634,
          575,
          626,
          661,
          699,
          689,
          641,
          668,
          774,
          706,
          746,
          788,
          735,
          684,
          874,
          803,
          751,
          747,
          758,
          803,
          974,
          890,
          980,
          1024,
          937,
          912,
          1014,
          1058,
          1124,
          1038,
          908,
          1002,
          1208,
          1148,
          1254,
          1228,
          1335,
          1306,
          1351,
          1234,
          1445,
          1214,
          1143,
          1395,
          1612,
          1505,
          1794,
          1689,
          1639,
          1579,
          1838,
          1864,
          2029,
          1661,
          1583,
          1623,
          1931,
          2282,
          2399,
          2403,
          2290,
          2106,
          2578,
          2553,
          2531,
          2139,
          1922,
          2312,
          2539,
          2703,
          2689,
          3043,
          3100,
          2661,
          2737,
          3669,
          3082,
          3048,
          2509,
          2592,
          3375,
          3278,
          3116,
          3668,
          3079,
          2874,
          3456,
          3629,
          3137,
          3031,
          2583,
          2924,
          3875,
          3367,
          3567,
          3541,
          3594,
          3080,
          3532,
          4535,
          3929,
          3170,
          2658,
          3390,
          4548,
          3745,
          4915,
          4421,
          4166,
          4474,
          4544,
          5382,
          4866,
          4774,
          4349,
          5094,
          6137,
          5557,
          6193,
          6679,
          6474,
          5843,
          7144,
          7495,
          7641,
          7400
         ],
         "yaxis": "y2"
        },
        {
         "hovertemplate": "<b>OLS trendline</b><br>log10(count) = 2.37101e-09 * period + -0.429114<br>R<sup>2</sup>=0.974552<br><br>period=%{x}<br>count=%{y} <b>(trend)</b><extra></extra>",
         "legendgroup": "",
         "line": {
          "color": "red"
         },
         "marker": {
          "color": "#636efa",
          "symbol": "circle"
         },
         "mode": "lines",
         "name": "",
         "showlegend": false,
         "type": "scatter",
         "x": [
          "1994-01-01T00:00:00",
          "1994-02-01T00:00:00",
          "1994-03-01T00:00:00",
          "1994-04-01T00:00:00",
          "1994-05-01T00:00:00",
          "1994-06-01T00:00:00",
          "1994-07-01T00:00:00",
          "1994-08-01T00:00:00",
          "1994-09-01T00:00:00",
          "1994-10-01T00:00:00",
          "1994-11-01T00:00:00",
          "1994-12-01T00:00:00",
          "1995-01-01T00:00:00",
          "1995-02-01T00:00:00",
          "1995-03-01T00:00:00",
          "1995-04-01T00:00:00",
          "1995-05-01T00:00:00",
          "1995-06-01T00:00:00",
          "1995-07-01T00:00:00",
          "1995-08-01T00:00:00",
          "1995-09-01T00:00:00",
          "1995-10-01T00:00:00",
          "1995-11-01T00:00:00",
          "1995-12-01T00:00:00",
          "1996-01-01T00:00:00",
          "1996-02-01T00:00:00",
          "1996-03-01T00:00:00",
          "1996-04-01T00:00:00",
          "1996-05-01T00:00:00",
          "1996-06-01T00:00:00",
          "1996-07-01T00:00:00",
          "1996-08-01T00:00:00",
          "1996-09-01T00:00:00",
          "1996-10-01T00:00:00",
          "1996-11-01T00:00:00",
          "1996-12-01T00:00:00",
          "1997-01-01T00:00:00",
          "1997-02-01T00:00:00",
          "1997-03-01T00:00:00",
          "1997-04-01T00:00:00",
          "1997-05-01T00:00:00",
          "1997-06-01T00:00:00",
          "1997-07-01T00:00:00",
          "1997-08-01T00:00:00",
          "1997-09-01T00:00:00",
          "1997-10-01T00:00:00",
          "1997-11-01T00:00:00",
          "1997-12-01T00:00:00",
          "1998-01-01T00:00:00",
          "1998-02-01T00:00:00",
          "1998-03-01T00:00:00",
          "1998-04-01T00:00:00",
          "1998-05-01T00:00:00",
          "1998-06-01T00:00:00",
          "1998-07-01T00:00:00",
          "1998-08-01T00:00:00",
          "1998-09-01T00:00:00",
          "1998-10-01T00:00:00",
          "1998-11-01T00:00:00",
          "1998-12-01T00:00:00",
          "1999-01-01T00:00:00",
          "1999-02-01T00:00:00",
          "1999-03-01T00:00:00",
          "1999-04-01T00:00:00",
          "1999-05-01T00:00:00",
          "1999-06-01T00:00:00",
          "1999-07-01T00:00:00",
          "1999-08-01T00:00:00",
          "1999-09-01T00:00:00",
          "1999-10-01T00:00:00",
          "1999-11-01T00:00:00",
          "1999-12-01T00:00:00",
          "2000-01-01T00:00:00",
          "2000-02-01T00:00:00",
          "2000-03-01T00:00:00",
          "2000-04-01T00:00:00",
          "2000-05-01T00:00:00",
          "2000-06-01T00:00:00",
          "2000-07-01T00:00:00",
          "2000-08-01T00:00:00",
          "2000-09-01T00:00:00",
          "2000-10-01T00:00:00",
          "2000-11-01T00:00:00",
          "2000-12-01T00:00:00",
          "2001-01-01T00:00:00",
          "2001-02-01T00:00:00",
          "2001-03-01T00:00:00",
          "2001-04-01T00:00:00",
          "2001-05-01T00:00:00",
          "2001-06-01T00:00:00",
          "2001-07-01T00:00:00",
          "2001-08-01T00:00:00",
          "2001-09-01T00:00:00",
          "2001-10-01T00:00:00",
          "2001-11-01T00:00:00",
          "2001-12-01T00:00:00",
          "2002-01-01T00:00:00",
          "2002-02-01T00:00:00",
          "2002-03-01T00:00:00",
          "2002-04-01T00:00:00",
          "2002-05-01T00:00:00",
          "2002-06-01T00:00:00",
          "2002-07-01T00:00:00",
          "2002-08-01T00:00:00",
          "2002-09-01T00:00:00",
          "2002-10-01T00:00:00",
          "2002-11-01T00:00:00",
          "2002-12-01T00:00:00",
          "2003-01-01T00:00:00",
          "2003-02-01T00:00:00",
          "2003-03-01T00:00:00",
          "2003-04-01T00:00:00",
          "2003-05-01T00:00:00",
          "2003-06-01T00:00:00",
          "2003-07-01T00:00:00",
          "2003-08-01T00:00:00",
          "2003-09-01T00:00:00",
          "2003-10-01T00:00:00",
          "2003-11-01T00:00:00",
          "2003-12-01T00:00:00",
          "2004-01-01T00:00:00",
          "2004-02-01T00:00:00",
          "2004-03-01T00:00:00",
          "2004-04-01T00:00:00",
          "2004-05-01T00:00:00",
          "2004-06-01T00:00:00",
          "2004-07-01T00:00:00",
          "2004-08-01T00:00:00",
          "2004-09-01T00:00:00",
          "2004-10-01T00:00:00",
          "2004-11-01T00:00:00",
          "2004-12-01T00:00:00",
          "2005-01-01T00:00:00",
          "2005-02-01T00:00:00",
          "2005-03-01T00:00:00",
          "2005-04-01T00:00:00",
          "2005-05-01T00:00:00",
          "2005-06-01T00:00:00",
          "2005-07-01T00:00:00",
          "2005-08-01T00:00:00",
          "2005-09-01T00:00:00",
          "2005-10-01T00:00:00",
          "2005-11-01T00:00:00",
          "2005-12-01T00:00:00",
          "2006-01-01T00:00:00",
          "2006-02-01T00:00:00",
          "2006-03-01T00:00:00",
          "2006-04-01T00:00:00",
          "2006-05-01T00:00:00",
          "2006-06-01T00:00:00",
          "2006-07-01T00:00:00",
          "2006-08-01T00:00:00",
          "2006-09-01T00:00:00",
          "2006-10-01T00:00:00",
          "2006-11-01T00:00:00",
          "2006-12-01T00:00:00",
          "2007-01-01T00:00:00",
          "2007-02-01T00:00:00",
          "2007-03-01T00:00:00",
          "2007-04-01T00:00:00",
          "2007-05-01T00:00:00",
          "2007-06-01T00:00:00",
          "2007-07-01T00:00:00",
          "2007-08-01T00:00:00",
          "2007-09-01T00:00:00",
          "2007-10-01T00:00:00",
          "2007-11-01T00:00:00",
          "2007-12-01T00:00:00",
          "2008-01-01T00:00:00",
          "2008-02-01T00:00:00",
          "2008-03-01T00:00:00",
          "2008-04-01T00:00:00",
          "2008-05-01T00:00:00",
          "2008-06-01T00:00:00",
          "2008-07-01T00:00:00",
          "2008-08-01T00:00:00",
          "2008-09-01T00:00:00",
          "2008-10-01T00:00:00",
          "2008-11-01T00:00:00",
          "2008-12-01T00:00:00",
          "2009-01-01T00:00:00",
          "2009-02-01T00:00:00",
          "2009-03-01T00:00:00",
          "2009-04-01T00:00:00",
          "2009-05-01T00:00:00",
          "2009-06-01T00:00:00",
          "2009-07-01T00:00:00",
          "2009-08-01T00:00:00",
          "2009-09-01T00:00:00",
          "2009-10-01T00:00:00",
          "2009-11-01T00:00:00",
          "2009-12-01T00:00:00",
          "2010-01-01T00:00:00",
          "2010-02-01T00:00:00",
          "2010-03-01T00:00:00",
          "2010-04-01T00:00:00",
          "2010-05-01T00:00:00",
          "2010-06-01T00:00:00",
          "2010-07-01T00:00:00",
          "2010-08-01T00:00:00",
          "2010-09-01T00:00:00",
          "2010-10-01T00:00:00",
          "2010-11-01T00:00:00",
          "2010-12-01T00:00:00",
          "2011-01-01T00:00:00",
          "2011-02-01T00:00:00",
          "2011-03-01T00:00:00",
          "2011-04-01T00:00:00",
          "2011-05-01T00:00:00",
          "2011-06-01T00:00:00",
          "2011-07-01T00:00:00",
          "2011-08-01T00:00:00",
          "2011-09-01T00:00:00",
          "2011-10-01T00:00:00",
          "2011-11-01T00:00:00",
          "2011-12-01T00:00:00",
          "2012-01-01T00:00:00",
          "2012-02-01T00:00:00",
          "2012-03-01T00:00:00",
          "2012-04-01T00:00:00",
          "2012-05-01T00:00:00",
          "2012-06-01T00:00:00",
          "2012-07-01T00:00:00",
          "2012-08-01T00:00:00",
          "2012-09-01T00:00:00",
          "2012-10-01T00:00:00",
          "2012-11-01T00:00:00",
          "2012-12-01T00:00:00",
          "2013-01-01T00:00:00",
          "2013-02-01T00:00:00",
          "2013-03-01T00:00:00",
          "2013-04-01T00:00:00",
          "2013-05-01T00:00:00",
          "2013-06-01T00:00:00",
          "2013-07-01T00:00:00",
          "2013-08-01T00:00:00",
          "2013-09-01T00:00:00",
          "2013-10-01T00:00:00",
          "2013-11-01T00:00:00",
          "2013-12-01T00:00:00",
          "2014-01-01T00:00:00",
          "2014-02-01T00:00:00",
          "2014-03-01T00:00:00",
          "2014-04-01T00:00:00",
          "2014-05-01T00:00:00",
          "2014-06-01T00:00:00",
          "2014-07-01T00:00:00",
          "2014-08-01T00:00:00",
          "2014-09-01T00:00:00",
          "2014-10-01T00:00:00",
          "2014-11-01T00:00:00",
          "2014-12-01T00:00:00",
          "2015-01-01T00:00:00",
          "2015-02-01T00:00:00",
          "2015-03-01T00:00:00",
          "2015-04-01T00:00:00",
          "2015-05-01T00:00:00",
          "2015-06-01T00:00:00",
          "2015-07-01T00:00:00",
          "2015-08-01T00:00:00",
          "2015-09-01T00:00:00",
          "2015-10-01T00:00:00",
          "2015-11-01T00:00:00",
          "2015-12-01T00:00:00",
          "2016-01-01T00:00:00",
          "2016-02-01T00:00:00",
          "2016-03-01T00:00:00",
          "2016-04-01T00:00:00",
          "2016-05-01T00:00:00",
          "2016-06-01T00:00:00",
          "2016-07-01T00:00:00",
          "2016-08-01T00:00:00",
          "2016-09-01T00:00:00",
          "2016-10-01T00:00:00",
          "2016-11-01T00:00:00",
          "2016-12-01T00:00:00",
          "2017-01-01T00:00:00",
          "2017-02-01T00:00:00",
          "2017-03-01T00:00:00",
          "2017-04-01T00:00:00",
          "2017-05-01T00:00:00",
          "2017-06-01T00:00:00",
          "2017-07-01T00:00:00",
          "2017-08-01T00:00:00",
          "2017-09-01T00:00:00",
          "2017-10-01T00:00:00",
          "2017-11-01T00:00:00",
          "2017-12-01T00:00:00",
          "2018-01-01T00:00:00",
          "2018-02-01T00:00:00",
          "2018-03-01T00:00:00",
          "2018-04-01T00:00:00",
          "2018-05-01T00:00:00",
          "2018-06-01T00:00:00",
          "2018-07-01T00:00:00",
          "2018-08-01T00:00:00",
          "2018-09-01T00:00:00",
          "2018-10-01T00:00:00",
          "2018-11-01T00:00:00",
          "2018-12-01T00:00:00",
          "2019-01-01T00:00:00",
          "2019-02-01T00:00:00",
          "2019-03-01T00:00:00",
          "2019-04-01T00:00:00",
          "2019-05-01T00:00:00",
          "2019-06-01T00:00:00",
          "2019-07-01T00:00:00",
          "2019-08-01T00:00:00",
          "2019-09-01T00:00:00",
          "2019-10-01T00:00:00",
          "2019-11-01T00:00:00",
          "2019-12-01T00:00:00",
          "2020-01-01T00:00:00",
          "2020-02-01T00:00:00",
          "2020-03-01T00:00:00",
          "2020-04-01T00:00:00",
          "2020-05-01T00:00:00",
          "2020-06-01T00:00:00",
          "2020-07-01T00:00:00",
          "2020-08-01T00:00:00",
          "2020-09-01T00:00:00",
          "2020-10-01T00:00:00",
          "2020-11-01T00:00:00",
          "2020-12-01T00:00:00",
          "2021-01-01T00:00:00",
          "2021-02-01T00:00:00",
          "2021-03-01T00:00:00",
          "2021-04-01T00:00:00",
          "2021-05-01T00:00:00",
          "2021-06-01T00:00:00",
          "2021-07-01T00:00:00",
          "2021-08-01T00:00:00",
          "2021-09-01T00:00:00",
          "2021-10-01T00:00:00",
          "2021-11-01T00:00:00",
          "2021-12-01T00:00:00",
          "2022-01-01T00:00:00",
          "2022-02-01T00:00:00",
          "2022-03-01T00:00:00",
          "2022-04-01T00:00:00",
          "2022-05-01T00:00:00",
          "2022-06-01T00:00:00",
          "2022-07-01T00:00:00",
          "2022-08-01T00:00:00",
          "2022-09-01T00:00:00",
          "2022-10-01T00:00:00",
          "2022-11-01T00:00:00",
          "2022-12-01T00:00:00",
          "2023-01-01T00:00:00",
          "2023-02-01T00:00:00",
          "2023-03-01T00:00:00",
          "2023-04-01T00:00:00",
          "2023-05-01T00:00:00",
          "2023-06-01T00:00:00",
          "2023-07-01T00:00:00",
          "2023-08-01T00:00:00",
          "2023-09-01T00:00:00",
          "2023-10-01T00:00:00",
          "2023-11-01T00:00:00",
          "2023-12-01T00:00:00",
          "2024-01-01T00:00:00",
          "2024-02-01T00:00:00",
          "2024-03-01T00:00:00",
          "2024-04-01T00:00:00",
          "2024-05-01T00:00:00",
          "2024-06-01T00:00:00",
          "2024-07-01T00:00:00",
          "2024-08-01T00:00:00",
          "2024-09-01T00:00:00",
          "2024-10-01T00:00:00",
          "2024-11-01T00:00:00",
          "2024-12-01T00:00:00"
         ],
         "xaxis": "x2",
         "y": [
          23.262041447550303,
          23.604692088773653,
          23.91851916103389,
          24.270839740726796,
          24.616735640498128,
          24.97934097206634,
          25.3353340779303,
          25.708524388289963,
          26.087211804285495,
          26.458993732556692,
          26.848735586857273,
          27.231370372169422,
          27.632489359961316,
          28.039516843732965,
          28.412305416681377,
          28.83081961680481,
          29.24170207489157,
          29.6724333152694,
          30.095310031923237,
          30.538614945789256,
          30.988449755723778,
          31.430081682153936,
          31.893047826650534,
          32.34757163350251,
          32.824052435380075,
          33.307551815255714,
          33.76630321403235,
          34.263681979095516,
          34.7519908812284,
          35.263888858286435,
          35.76645220987931,
          36.29329323591875,
          36.827894647726694,
          37.35274742958093,
          37.90295463676255,
          38.44312863725564,
          39.00939719575202,
          39.584006908876255,
          40.11028079331511,
          40.70110655830512,
          41.281158424044655,
          41.88923125532797,
          42.486215681518956,
          43.11203904612994,
          43.74708080963597,
          44.370542380832724,
          45.024121940154735,
          45.665783264454575,
          46.33844176490531,
          47.02100854735371,
          47.64615821639592,
          48.34798770550108,
          49.037019106481644,
          49.75933602257876,
          50.4684812556822,
          51.21188365666319,
          51.96623639964049,
          52.706833275941456,
          53.4832066763403,
          54.245422656240095,
          55.04445952918616,
          55.855266241743834,
          56.59786837394019,
          57.43155685024755,
          58.25004274707662,
          59.10806780663885,
          59.950446501242276,
          60.8335185644399,
          61.72959830838579,
          62.6093377478734,
          63.5315753672264,
          64.436995684788,
          65.38615476610431,
          66.34929499213534,
          67.26313675553817,
          68.25392498846028,
          69.22664587694246,
          70.2463566642764,
          71.2474726950199,
          72.29695032833668,
          73.36188680196273,
          74.40740381395581,
          75.50342733734703,
          76.5794645166807,
          77.7074825661862,
          78.85211635893357,
          79.90046423508392,
          81.07740072047041,
          82.2328753877218,
          83.4441683666624,
          84.63337302567652,
          85.88002541435571,
          87.14504103402334,
          88.38698868400483,
          89.68893195569326,
          90.96713386999652,
          92.30708276575808,
          93.66676915314842,
          94.91207952707147,
          96.31013760306281,
          97.68270163707157,
          99.12157106853743,
          100.53420224973094,
          102.01507437969511,
          103.5177598051968,
          104.99304327509867,
          106.53959428109356,
          108.05794342841597,
          109.64964051521325,
          111.264783352834,
          112.7440613317193,
          114.40478509048927,
          116.03522501344827,
          117.74442772229052,
          119.4224625659602,
          121.18155939617445,
          122.96656778097885,
          124.71902595954869,
          126.55614134403234,
          128.35975633425974,
          130.25049979778493,
          132.16909397517057,
          133.98948465030796,
          135.9631541984487,
          137.90083324291547,
          139.93211708541327,
          141.9263598089126,
          144.0169397910982,
          146.1383140856851,
          148.22100443269062,
          150.40430473873417,
          152.54779185631358,
          154.79482588445907,
          157.07495879828605,
          159.1632882820884,
          161.50776879176516,
          163.8094969397429,
          166.2224162568817,
          168.59133520849346,
          171.07469116175932,
          173.5946270304935,
          176.06861105220926,
          178.6621075263847,
          181.20831075206803,
          183.87751517310713,
          186.5860370637023,
          189.06671969731278,
          191.85167874247443,
          194.58585315712867,
          197.4521092210093,
          200.26609817690618,
          203.21602443812185,
          206.2094032109,
          209.1481967519103,
          212.22895661941095,
          215.25353783257023,
          218.42422957646673,
          221.64162571479983,
          224.58837639587134,
          227.8965706210803,
          231.14443885274696,
          234.54920409515634,
          237.8918823402361,
          241.39603764876753,
          244.95180928109076,
          248.44274026563863,
          252.1023100609746,
          255.6951464154023,
          259.46154439360566,
          263.2834215388135,
          266.9096753858559,
          270.84126374734564,
          274.70115832124003,
          278.7475154845097,
          282.7200860138988,
          286.8845622477586,
          291.1103813545175,
          295.25914128071116,
          299.60831821408584,
          303.8781864969595,
          308.3543222519294,
          312.8963916348701,
          317.05638483191166,
          321.7266358849659,
          326.3117233969195,
          331.11830589367736,
          335.83723880128775,
          340.78413245554435,
          345.80389401722505,
          350.73211860043995,
          355.8984143276244,
          360.97050097835836,
          366.2876084171801,
          371.68303702473816,
          376.62460537392866,
          382.1722982891375,
          387.6188272266006,
          393.32846539395183,
          398.9339864594147,
          404.81029729715084,
          410.77316638821645,
          416.62730062945377,
          422.76423457111645,
          428.78925953400375,
          435.1053395332716,
          441.51445560018846,
          447.3844406201364,
          453.9744282528849,
          460.4442453260129,
          467.2266043147669,
          473.8852847898958,
          480.8656307352715,
          487.9487974076903,
          494.9028002409115,
          502.1927348852176,
          509.34973520936654,
          516.8524736844032,
          524.4657277457525,
          531.6892963691173,
          539.5210973201752,
          547.210082843409,
          555.2705054934565,
          563.1839437249263,
          571.4796618749928,
          579.8975762282574,
          588.1619871859098,
          596.8256327437109,
          605.3312939177688,
          614.247843932571,
          623.2957350245078,
          631.5825228775072,
          640.885754364623,
          650.0193384113497,
          659.5941448021147,
          668.9943514961325,
          678.8486604583026,
          688.8481237179705,
          698.6652435253005,
          708.9566057100939,
          719.0603015710744,
          729.6520836365969,
          740.3998830028629,
          750.243583853132,
          761.2946966998101,
          772.1442889231997,
          783.5179998811581,
          794.6843075347477,
          806.3900337136336,
          818.26818562696,
          829.9297355916592,
          842.1546280935491,
          854.1565957198364,
          866.738350674081,
          879.505435295651,
          891.1985603217165,
          904.325944641794,
          917.2139468555595,
          930.7245386812032,
          943.9887604875128,
          957.8937462050387,
          972.0035528228736,
          985.8560625454949,
          1000.3777550094518,
          1014.634639706341,
          1029.580241565348,
          1044.7459926349047,
          1059.1354826864683,
          1074.7365834369418,
          1090.053193060518,
          1106.1097127091443,
          1121.8734365197108,
          1138.398669408736,
          1155.1673195257183,
          1171.6301878748225,
          1188.8883393598126,
          1205.8317828608817,
          1223.593724973159,
          1241.6173010812254,
          1258.1247446437412,
          1276.656963815612,
          1294.8512419664971,
          1313.9244436607275,
          1332.6498393424001,
          1352.2798156282931,
          1372.1989421152432,
          1391.754836876963,
          1412.2554317347638,
          1432.3821916031975,
          1453.4812287421512,
          1474.8910553971998,
          1494.4999001166032,
          1516.513933159998,
          1538.1265331783618,
          1560.783187972162,
          1583.026691325105,
          1606.3447269360058,
          1630.0062379840115,
          1653.2362737117937,
          1677.5884987973832,
          1701.4966531684845,
          1726.5597552423985,
          1751.9920376402333,
          1775.2849715081315,
          1801.434977955889,
          1827.1081305635435,
          1854.021493861154,
          1880.4440832591793,
          1908.1430869070844,
          1936.2500977964262,
          1963.844568235609,
          1992.7720637903808,
          2021.1720570912844,
          2050.943988456233,
          2081.154461356569,
          2109.818607118861,
          2140.896305102688,
          2171.407291194694,
          2203.3921925354693,
          2234.793838837278,
          2267.7124261249055,
          2301.1159052939142,
          2333.910261197643,
          2368.2888366704915,
          2402.040507681031,
          2437.422643941821,
          2473.325960241988,
          2506.2091108430996,
          2543.125654079705,
          2579.3690121895347,
          2617.3632031968536,
          2654.6645578211433,
          2693.7678547102523,
          2733.44714445808,
          2772.402869501378,
          2813.2404556223564,
          2853.3333551291566,
          2895.3630499847623,
          2938.0118436380876,
          2977.0730460332416,
          3020.925430635517,
          3063.9781527965215,
          3109.1106525006962,
          3153.4201464499633,
          3199.8701296839804,
          3247.004322709981,
          3293.2790084548074,
          3341.7891173598573,
          3389.414628711885,
          3439.3408184884165,
          3490.0024226944743,
          3536.402402765225,
          3588.493727323453,
          3639.6351497009205,
          3693.247096041744,
          3745.881411170923,
          3801.058368463273,
          3857.0480841646213,
          3912.0168092596464,
          3969.6409464701196,
          4026.214288868502,
          4085.520558737121,
          4145.700411925796,
          4202.799951196312,
          4264.707333721526,
          4325.485815068576,
          4389.200364433367,
          4451.753058347157,
          4517.327528388836,
          4583.867912546794,
          4649.194911240735,
          4717.677706317035,
          4784.9116954368865
         ],
         "yaxis": "y2"
        }
       ],
       "layout": {
        "annotations": [
         {
          "font": {
           "size": 16
          },
          "showarrow": false,
          "text": "Linear Scale",
          "x": 0.225,
          "xanchor": "center",
          "xref": "paper",
          "y": 1,
          "yanchor": "bottom",
          "yref": "paper"
         },
         {
          "font": {
           "size": 16
          },
          "showarrow": false,
          "text": "Log Scale",
          "x": 0.775,
          "xanchor": "center",
          "xref": "paper",
          "y": 1,
          "yanchor": "bottom",
          "yref": "paper"
         }
        ],
        "template": {
         "data": {
          "bar": [
           {
            "error_x": {
             "color": "#2a3f5f"
            },
            "error_y": {
             "color": "#2a3f5f"
            },
            "marker": {
             "line": {
              "color": "white",
              "width": 0.5
             },
             "pattern": {
              "fillmode": "overlay",
              "size": 10,
              "solidity": 0.2
             }
            },
            "type": "bar"
           }
          ],
          "barpolar": [
           {
            "marker": {
             "line": {
              "color": "white",
              "width": 0.5
             },
             "pattern": {
              "fillmode": "overlay",
              "size": 10,
              "solidity": 0.2
             }
            },
            "type": "barpolar"
           }
          ],
          "carpet": [
           {
            "aaxis": {
             "endlinecolor": "#2a3f5f",
             "gridcolor": "#C8D4E3",
             "linecolor": "#C8D4E3",
             "minorgridcolor": "#C8D4E3",
             "startlinecolor": "#2a3f5f"
            },
            "baxis": {
             "endlinecolor": "#2a3f5f",
             "gridcolor": "#C8D4E3",
             "linecolor": "#C8D4E3",
             "minorgridcolor": "#C8D4E3",
             "startlinecolor": "#2a3f5f"
            },
            "type": "carpet"
           }
          ],
          "choropleth": [
           {
            "colorbar": {
             "outlinewidth": 0,
             "ticks": ""
            },
            "type": "choropleth"
           }
          ],
          "contour": [
           {
            "colorbar": {
             "outlinewidth": 0,
             "ticks": ""
            },
            "colorscale": [
             [
              0,
              "#0d0887"
             ],
             [
              0.1111111111111111,
              "#46039f"
             ],
             [
              0.2222222222222222,
              "#7201a8"
             ],
             [
              0.3333333333333333,
              "#9c179e"
             ],
             [
              0.4444444444444444,
              "#bd3786"
             ],
             [
              0.5555555555555556,
              "#d8576b"
             ],
             [
              0.6666666666666666,
              "#ed7953"
             ],
             [
              0.7777777777777778,
              "#fb9f3a"
             ],
             [
              0.8888888888888888,
              "#fdca26"
             ],
             [
              1,
              "#f0f921"
             ]
            ],
            "type": "contour"
           }
          ],
          "contourcarpet": [
           {
            "colorbar": {
             "outlinewidth": 0,
             "ticks": ""
            },
            "type": "contourcarpet"
           }
          ],
          "heatmap": [
           {
            "colorbar": {
             "outlinewidth": 0,
             "ticks": ""
            },
            "colorscale": [
             [
              0,
              "#0d0887"
             ],
             [
              0.1111111111111111,
              "#46039f"
             ],
             [
              0.2222222222222222,
              "#7201a8"
             ],
             [
              0.3333333333333333,
              "#9c179e"
             ],
             [
              0.4444444444444444,
              "#bd3786"
             ],
             [
              0.5555555555555556,
              "#d8576b"
             ],
             [
              0.6666666666666666,
              "#ed7953"
             ],
             [
              0.7777777777777778,
              "#fb9f3a"
             ],
             [
              0.8888888888888888,
              "#fdca26"
             ],
             [
              1,
              "#f0f921"
             ]
            ],
            "type": "heatmap"
           }
          ],
          "heatmapgl": [
           {
            "colorbar": {
             "outlinewidth": 0,
             "ticks": ""
            },
            "colorscale": [
             [
              0,
              "#0d0887"
             ],
             [
              0.1111111111111111,
              "#46039f"
             ],
             [
              0.2222222222222222,
              "#7201a8"
             ],
             [
              0.3333333333333333,
              "#9c179e"
             ],
             [
              0.4444444444444444,
              "#bd3786"
             ],
             [
              0.5555555555555556,
              "#d8576b"
             ],
             [
              0.6666666666666666,
              "#ed7953"
             ],
             [
              0.7777777777777778,
              "#fb9f3a"
             ],
             [
              0.8888888888888888,
              "#fdca26"
             ],
             [
              1,
              "#f0f921"
             ]
            ],
            "type": "heatmapgl"
           }
          ],
          "histogram": [
           {
            "marker": {
             "pattern": {
              "fillmode": "overlay",
              "size": 10,
              "solidity": 0.2
             }
            },
            "type": "histogram"
           }
          ],
          "histogram2d": [
           {
            "colorbar": {
             "outlinewidth": 0,
             "ticks": ""
            },
            "colorscale": [
             [
              0,
              "#0d0887"
             ],
             [
              0.1111111111111111,
              "#46039f"
             ],
             [
              0.2222222222222222,
              "#7201a8"
             ],
             [
              0.3333333333333333,
              "#9c179e"
             ],
             [
              0.4444444444444444,
              "#bd3786"
             ],
             [
              0.5555555555555556,
              "#d8576b"
             ],
             [
              0.6666666666666666,
              "#ed7953"
             ],
             [
              0.7777777777777778,
              "#fb9f3a"
             ],
             [
              0.8888888888888888,
              "#fdca26"
             ],
             [
              1,
              "#f0f921"
             ]
            ],
            "type": "histogram2d"
           }
          ],
          "histogram2dcontour": [
           {
            "colorbar": {
             "outlinewidth": 0,
             "ticks": ""
            },
            "colorscale": [
             [
              0,
              "#0d0887"
             ],
             [
              0.1111111111111111,
              "#46039f"
             ],
             [
              0.2222222222222222,
              "#7201a8"
             ],
             [
              0.3333333333333333,
              "#9c179e"
             ],
             [
              0.4444444444444444,
              "#bd3786"
             ],
             [
              0.5555555555555556,
              "#d8576b"
             ],
             [
              0.6666666666666666,
              "#ed7953"
             ],
             [
              0.7777777777777778,
              "#fb9f3a"
             ],
             [
              0.8888888888888888,
              "#fdca26"
             ],
             [
              1,
              "#f0f921"
             ]
            ],
            "type": "histogram2dcontour"
           }
          ],
          "mesh3d": [
           {
            "colorbar": {
             "outlinewidth": 0,
             "ticks": ""
            },
            "type": "mesh3d"
           }
          ],
          "parcoords": [
           {
            "line": {
             "colorbar": {
              "outlinewidth": 0,
              "ticks": ""
             }
            },
            "type": "parcoords"
           }
          ],
          "pie": [
           {
            "automargin": true,
            "type": "pie"
           }
          ],
          "scatter": [
           {
            "fillpattern": {
             "fillmode": "overlay",
             "size": 10,
             "solidity": 0.2
            },
            "type": "scatter"
           }
          ],
          "scatter3d": [
           {
            "line": {
             "colorbar": {
              "outlinewidth": 0,
              "ticks": ""
             }
            },
            "marker": {
             "colorbar": {
              "outlinewidth": 0,
              "ticks": ""
             }
            },
            "type": "scatter3d"
           }
          ],
          "scattercarpet": [
           {
            "marker": {
             "colorbar": {
              "outlinewidth": 0,
              "ticks": ""
             }
            },
            "type": "scattercarpet"
           }
          ],
          "scattergeo": [
           {
            "marker": {
             "colorbar": {
              "outlinewidth": 0,
              "ticks": ""
             }
            },
            "type": "scattergeo"
           }
          ],
          "scattergl": [
           {
            "marker": {
             "colorbar": {
              "outlinewidth": 0,
              "ticks": ""
             }
            },
            "type": "scattergl"
           }
          ],
          "scattermapbox": [
           {
            "marker": {
             "colorbar": {
              "outlinewidth": 0,
              "ticks": ""
             }
            },
            "type": "scattermapbox"
           }
          ],
          "scatterpolar": [
           {
            "marker": {
             "colorbar": {
              "outlinewidth": 0,
              "ticks": ""
             }
            },
            "type": "scatterpolar"
           }
          ],
          "scatterpolargl": [
           {
            "marker": {
             "colorbar": {
              "outlinewidth": 0,
              "ticks": ""
             }
            },
            "type": "scatterpolargl"
           }
          ],
          "scatterternary": [
           {
            "marker": {
             "colorbar": {
              "outlinewidth": 0,
              "ticks": ""
             }
            },
            "type": "scatterternary"
           }
          ],
          "surface": [
           {
            "colorbar": {
             "outlinewidth": 0,
             "ticks": ""
            },
            "colorscale": [
             [
              0,
              "#0d0887"
             ],
             [
              0.1111111111111111,
              "#46039f"
             ],
             [
              0.2222222222222222,
              "#7201a8"
             ],
             [
              0.3333333333333333,
              "#9c179e"
             ],
             [
              0.4444444444444444,
              "#bd3786"
             ],
             [
              0.5555555555555556,
              "#d8576b"
             ],
             [
              0.6666666666666666,
              "#ed7953"
             ],
             [
              0.7777777777777778,
              "#fb9f3a"
             ],
             [
              0.8888888888888888,
              "#fdca26"
             ],
             [
              1,
              "#f0f921"
             ]
            ],
            "type": "surface"
           }
          ],
          "table": [
           {
            "cells": {
             "fill": {
              "color": "#EBF0F8"
             },
             "line": {
              "color": "white"
             }
            },
            "header": {
             "fill": {
              "color": "#C8D4E3"
             },
             "line": {
              "color": "white"
             }
            },
            "type": "table"
           }
          ]
         },
         "layout": {
          "annotationdefaults": {
           "arrowcolor": "#2a3f5f",
           "arrowhead": 0,
           "arrowwidth": 1
          },
          "autotypenumbers": "strict",
          "coloraxis": {
           "colorbar": {
            "outlinewidth": 0,
            "ticks": ""
           }
          },
          "colorscale": {
           "diverging": [
            [
             0,
             "#8e0152"
            ],
            [
             0.1,
             "#c51b7d"
            ],
            [
             0.2,
             "#de77ae"
            ],
            [
             0.3,
             "#f1b6da"
            ],
            [
             0.4,
             "#fde0ef"
            ],
            [
             0.5,
             "#f7f7f7"
            ],
            [
             0.6,
             "#e6f5d0"
            ],
            [
             0.7,
             "#b8e186"
            ],
            [
             0.8,
             "#7fbc41"
            ],
            [
             0.9,
             "#4d9221"
            ],
            [
             1,
             "#276419"
            ]
           ],
           "sequential": [
            [
             0,
             "#0d0887"
            ],
            [
             0.1111111111111111,
             "#46039f"
            ],
            [
             0.2222222222222222,
             "#7201a8"
            ],
            [
             0.3333333333333333,
             "#9c179e"
            ],
            [
             0.4444444444444444,
             "#bd3786"
            ],
            [
             0.5555555555555556,
             "#d8576b"
            ],
            [
             0.6666666666666666,
             "#ed7953"
            ],
            [
             0.7777777777777778,
             "#fb9f3a"
            ],
            [
             0.8888888888888888,
             "#fdca26"
            ],
            [
             1,
             "#f0f921"
            ]
           ],
           "sequentialminus": [
            [
             0,
             "#0d0887"
            ],
            [
             0.1111111111111111,
             "#46039f"
            ],
            [
             0.2222222222222222,
             "#7201a8"
            ],
            [
             0.3333333333333333,
             "#9c179e"
            ],
            [
             0.4444444444444444,
             "#bd3786"
            ],
            [
             0.5555555555555556,
             "#d8576b"
            ],
            [
             0.6666666666666666,
             "#ed7953"
            ],
            [
             0.7777777777777778,
             "#fb9f3a"
            ],
            [
             0.8888888888888888,
             "#fdca26"
            ],
            [
             1,
             "#f0f921"
            ]
           ]
          },
          "colorway": [
           "#636efa",
           "#EF553B",
           "#00cc96",
           "#ab63fa",
           "#FFA15A",
           "#19d3f3",
           "#FF6692",
           "#B6E880",
           "#FF97FF",
           "#FECB52"
          ],
          "font": {
           "color": "#2a3f5f"
          },
          "geo": {
           "bgcolor": "white",
           "lakecolor": "white",
           "landcolor": "white",
           "showlakes": true,
           "showland": true,
           "subunitcolor": "#C8D4E3"
          },
          "hoverlabel": {
           "align": "left"
          },
          "hovermode": "closest",
          "mapbox": {
           "style": "light"
          },
          "paper_bgcolor": "white",
          "plot_bgcolor": "white",
          "polar": {
           "angularaxis": {
            "gridcolor": "#EBF0F8",
            "linecolor": "#EBF0F8",
            "ticks": ""
           },
           "bgcolor": "white",
           "radialaxis": {
            "gridcolor": "#EBF0F8",
            "linecolor": "#EBF0F8",
            "ticks": ""
           }
          },
          "scene": {
           "xaxis": {
            "backgroundcolor": "white",
            "gridcolor": "#DFE8F3",
            "gridwidth": 2,
            "linecolor": "#EBF0F8",
            "showbackground": true,
            "ticks": "",
            "zerolinecolor": "#EBF0F8"
           },
           "yaxis": {
            "backgroundcolor": "white",
            "gridcolor": "#DFE8F3",
            "gridwidth": 2,
            "linecolor": "#EBF0F8",
            "showbackground": true,
            "ticks": "",
            "zerolinecolor": "#EBF0F8"
           },
           "zaxis": {
            "backgroundcolor": "white",
            "gridcolor": "#DFE8F3",
            "gridwidth": 2,
            "linecolor": "#EBF0F8",
            "showbackground": true,
            "ticks": "",
            "zerolinecolor": "#EBF0F8"
           }
          },
          "shapedefaults": {
           "line": {
            "color": "#2a3f5f"
           }
          },
          "ternary": {
           "aaxis": {
            "gridcolor": "#DFE8F3",
            "linecolor": "#A2B1C6",
            "ticks": ""
           },
           "baxis": {
            "gridcolor": "#DFE8F3",
            "linecolor": "#A2B1C6",
            "ticks": ""
           },
           "bgcolor": "white",
           "caxis": {
            "gridcolor": "#DFE8F3",
            "linecolor": "#A2B1C6",
            "ticks": ""
           }
          },
          "title": {
           "x": 0.05
          },
          "xaxis": {
           "automargin": true,
           "gridcolor": "#EBF0F8",
           "linecolor": "#EBF0F8",
           "ticks": "",
           "title": {
            "standoff": 15
           },
           "zerolinecolor": "#EBF0F8",
           "zerolinewidth": 2
          },
          "yaxis": {
           "automargin": true,
           "gridcolor": "#EBF0F8",
           "linecolor": "#EBF0F8",
           "ticks": "",
           "title": {
            "standoff": 15
           },
           "zerolinecolor": "#EBF0F8",
           "zerolinewidth": 2
          }
         }
        },
        "title": {
         "font": {
          "size": 25
         },
         "text": "Number of initial Publications per Month",
         "x": 0.5
        },
        "xaxis": {
         "anchor": "y",
         "domain": [
          0,
          0.45
         ],
         "title": {
          "text": "Year of Publication"
         }
        },
        "xaxis2": {
         "anchor": "y2",
         "domain": [
          0.55,
          1
         ],
         "title": {
          "text": "Year of Publication"
         }
        },
        "yaxis": {
         "anchor": "x",
         "domain": [
          0,
          1
         ],
         "title": {
          "text": "# of Publications per Month"
         },
         "type": "linear"
        },
        "yaxis2": {
         "anchor": "x2",
         "domain": [
          0,
          1
         ],
         "title": {
          "text": "# of Publications per Month"
         },
         "type": "log"
        }
       }
      }
     },
     "metadata": {},
     "output_type": "display_data"
    }
   ],
   "source": [
    "df_initial = df_complete[df_complete[\"id\"].str.endswith(\"v1\")]\n",
    "plot_general_development(df_initial, \"initial\", \"M\")"
   ]
  },
  {
   "cell_type": "code",
   "execution_count": null,
   "metadata": {
    "ExecuteTime": {
     "end_time": "2024-12-29T15:25:40.438958Z",
     "start_time": "2024-12-29T15:25:40.193374Z"
    }
   },
   "outputs": [
    {
     "data": {
      "application/vnd.plotly.v1+json": {
       "config": {
        "plotlyServerURL": "https://plot.ly"
       },
       "data": [
        {
         "hovertemplate": "period=%{x}<br>count=%{y}<extra></extra>",
         "legendgroup": "",
         "marker": {
          "color": "#636efa",
          "symbol": "circle"
         },
         "mode": "markers",
         "name": "",
         "orientation": "v",
         "showlegend": false,
         "type": "scatter",
         "x": [
          "1994-01-01T00:00:00",
          "1994-02-01T00:00:00",
          "1994-03-01T00:00:00",
          "1994-04-01T00:00:00",
          "1994-05-01T00:00:00",
          "1994-06-01T00:00:00",
          "1994-07-01T00:00:00",
          "1994-08-01T00:00:00",
          "1994-09-01T00:00:00",
          "1994-10-01T00:00:00",
          "1994-11-01T00:00:00",
          "1994-12-01T00:00:00",
          "1995-01-01T00:00:00",
          "1995-02-01T00:00:00",
          "1995-03-01T00:00:00",
          "1995-04-01T00:00:00",
          "1995-05-01T00:00:00",
          "1995-06-01T00:00:00",
          "1995-07-01T00:00:00",
          "1995-08-01T00:00:00",
          "1995-09-01T00:00:00",
          "1995-10-01T00:00:00",
          "1995-11-01T00:00:00",
          "1995-12-01T00:00:00",
          "1996-01-01T00:00:00",
          "1996-02-01T00:00:00",
          "1996-03-01T00:00:00",
          "1996-04-01T00:00:00",
          "1996-05-01T00:00:00",
          "1996-06-01T00:00:00",
          "1996-07-01T00:00:00",
          "1996-08-01T00:00:00",
          "1996-09-01T00:00:00",
          "1996-10-01T00:00:00",
          "1996-11-01T00:00:00",
          "1996-12-01T00:00:00",
          "1997-01-01T00:00:00",
          "1997-02-01T00:00:00",
          "1997-03-01T00:00:00",
          "1997-04-01T00:00:00",
          "1997-05-01T00:00:00",
          "1997-06-01T00:00:00",
          "1997-07-01T00:00:00",
          "1997-08-01T00:00:00",
          "1997-09-01T00:00:00",
          "1997-10-01T00:00:00",
          "1997-11-01T00:00:00",
          "1997-12-01T00:00:00",
          "1998-01-01T00:00:00",
          "1998-02-01T00:00:00",
          "1998-03-01T00:00:00",
          "1998-04-01T00:00:00",
          "1998-05-01T00:00:00",
          "1998-06-01T00:00:00",
          "1998-07-01T00:00:00",
          "1998-08-01T00:00:00",
          "1998-09-01T00:00:00",
          "1998-10-01T00:00:00",
          "1998-11-01T00:00:00",
          "1998-12-01T00:00:00",
          "1999-01-01T00:00:00",
          "1999-02-01T00:00:00",
          "1999-03-01T00:00:00",
          "1999-04-01T00:00:00",
          "1999-05-01T00:00:00",
          "1999-06-01T00:00:00",
          "1999-07-01T00:00:00",
          "1999-08-01T00:00:00",
          "1999-09-01T00:00:00",
          "1999-10-01T00:00:00",
          "1999-11-01T00:00:00",
          "1999-12-01T00:00:00",
          "2000-01-01T00:00:00",
          "2000-02-01T00:00:00",
          "2000-03-01T00:00:00",
          "2000-04-01T00:00:00",
          "2000-05-01T00:00:00",
          "2000-06-01T00:00:00",
          "2000-07-01T00:00:00",
          "2000-08-01T00:00:00",
          "2000-09-01T00:00:00",
          "2000-10-01T00:00:00",
          "2000-11-01T00:00:00",
          "2000-12-01T00:00:00",
          "2001-01-01T00:00:00",
          "2001-02-01T00:00:00",
          "2001-03-01T00:00:00",
          "2001-04-01T00:00:00",
          "2001-05-01T00:00:00",
          "2001-06-01T00:00:00",
          "2001-07-01T00:00:00",
          "2001-08-01T00:00:00",
          "2001-09-01T00:00:00",
          "2001-10-01T00:00:00",
          "2001-11-01T00:00:00",
          "2001-12-01T00:00:00",
          "2002-01-01T00:00:00",
          "2002-02-01T00:00:00",
          "2002-03-01T00:00:00",
          "2002-04-01T00:00:00",
          "2002-05-01T00:00:00",
          "2002-06-01T00:00:00",
          "2002-07-01T00:00:00",
          "2002-08-01T00:00:00",
          "2002-09-01T00:00:00",
          "2002-10-01T00:00:00",
          "2002-11-01T00:00:00",
          "2002-12-01T00:00:00",
          "2003-01-01T00:00:00",
          "2003-02-01T00:00:00",
          "2003-03-01T00:00:00",
          "2003-04-01T00:00:00",
          "2003-05-01T00:00:00",
          "2003-06-01T00:00:00",
          "2003-07-01T00:00:00",
          "2003-08-01T00:00:00",
          "2003-09-01T00:00:00",
          "2003-10-01T00:00:00",
          "2003-11-01T00:00:00",
          "2003-12-01T00:00:00",
          "2004-01-01T00:00:00",
          "2004-02-01T00:00:00",
          "2004-03-01T00:00:00",
          "2004-04-01T00:00:00",
          "2004-05-01T00:00:00",
          "2004-06-01T00:00:00",
          "2004-07-01T00:00:00",
          "2004-08-01T00:00:00",
          "2004-09-01T00:00:00",
          "2004-10-01T00:00:00",
          "2004-11-01T00:00:00",
          "2004-12-01T00:00:00",
          "2005-01-01T00:00:00",
          "2005-02-01T00:00:00",
          "2005-03-01T00:00:00",
          "2005-04-01T00:00:00",
          "2005-05-01T00:00:00",
          "2005-06-01T00:00:00",
          "2005-07-01T00:00:00",
          "2005-08-01T00:00:00",
          "2005-09-01T00:00:00",
          "2005-10-01T00:00:00",
          "2005-11-01T00:00:00",
          "2005-12-01T00:00:00",
          "2006-01-01T00:00:00",
          "2006-02-01T00:00:00",
          "2006-03-01T00:00:00",
          "2006-04-01T00:00:00",
          "2006-05-01T00:00:00",
          "2006-06-01T00:00:00",
          "2006-07-01T00:00:00",
          "2006-08-01T00:00:00",
          "2006-09-01T00:00:00",
          "2006-10-01T00:00:00",
          "2006-11-01T00:00:00",
          "2006-12-01T00:00:00",
          "2007-01-01T00:00:00",
          "2007-02-01T00:00:00",
          "2007-03-01T00:00:00",
          "2007-04-01T00:00:00",
          "2007-05-01T00:00:00",
          "2007-06-01T00:00:00",
          "2007-07-01T00:00:00",
          "2007-08-01T00:00:00",
          "2007-09-01T00:00:00",
          "2007-10-01T00:00:00",
          "2007-11-01T00:00:00",
          "2007-12-01T00:00:00",
          "2008-01-01T00:00:00",
          "2008-02-01T00:00:00",
          "2008-03-01T00:00:00",
          "2008-04-01T00:00:00",
          "2008-05-01T00:00:00",
          "2008-06-01T00:00:00",
          "2008-07-01T00:00:00",
          "2008-08-01T00:00:00",
          "2008-09-01T00:00:00",
          "2008-10-01T00:00:00",
          "2008-11-01T00:00:00",
          "2008-12-01T00:00:00",
          "2009-01-01T00:00:00",
          "2009-02-01T00:00:00",
          "2009-03-01T00:00:00",
          "2009-04-01T00:00:00",
          "2009-05-01T00:00:00",
          "2009-06-01T00:00:00",
          "2009-07-01T00:00:00",
          "2009-08-01T00:00:00",
          "2009-09-01T00:00:00",
          "2009-10-01T00:00:00",
          "2009-11-01T00:00:00",
          "2009-12-01T00:00:00",
          "2010-01-01T00:00:00",
          "2010-02-01T00:00:00",
          "2010-03-01T00:00:00",
          "2010-04-01T00:00:00",
          "2010-05-01T00:00:00",
          "2010-06-01T00:00:00",
          "2010-07-01T00:00:00",
          "2010-08-01T00:00:00",
          "2010-09-01T00:00:00",
          "2010-10-01T00:00:00",
          "2010-11-01T00:00:00",
          "2010-12-01T00:00:00",
          "2011-01-01T00:00:00",
          "2011-02-01T00:00:00",
          "2011-03-01T00:00:00",
          "2011-04-01T00:00:00",
          "2011-05-01T00:00:00",
          "2011-06-01T00:00:00",
          "2011-07-01T00:00:00",
          "2011-08-01T00:00:00",
          "2011-09-01T00:00:00",
          "2011-10-01T00:00:00",
          "2011-11-01T00:00:00",
          "2011-12-01T00:00:00",
          "2012-01-01T00:00:00",
          "2012-02-01T00:00:00",
          "2012-03-01T00:00:00",
          "2012-04-01T00:00:00",
          "2012-05-01T00:00:00",
          "2012-06-01T00:00:00",
          "2012-07-01T00:00:00",
          "2012-08-01T00:00:00",
          "2012-09-01T00:00:00",
          "2012-10-01T00:00:00",
          "2012-11-01T00:00:00",
          "2012-12-01T00:00:00",
          "2013-01-01T00:00:00",
          "2013-02-01T00:00:00",
          "2013-03-01T00:00:00",
          "2013-04-01T00:00:00",
          "2013-05-01T00:00:00",
          "2013-06-01T00:00:00",
          "2013-07-01T00:00:00",
          "2013-08-01T00:00:00",
          "2013-09-01T00:00:00",
          "2013-10-01T00:00:00",
          "2013-11-01T00:00:00",
          "2013-12-01T00:00:00",
          "2014-01-01T00:00:00",
          "2014-02-01T00:00:00",
          "2014-03-01T00:00:00",
          "2014-04-01T00:00:00",
          "2014-05-01T00:00:00",
          "2014-06-01T00:00:00",
          "2014-07-01T00:00:00",
          "2014-08-01T00:00:00",
          "2014-09-01T00:00:00",
          "2014-10-01T00:00:00",
          "2014-11-01T00:00:00",
          "2014-12-01T00:00:00",
          "2015-01-01T00:00:00",
          "2015-02-01T00:00:00",
          "2015-03-01T00:00:00",
          "2015-04-01T00:00:00",
          "2015-05-01T00:00:00",
          "2015-06-01T00:00:00",
          "2015-07-01T00:00:00",
          "2015-08-01T00:00:00",
          "2015-09-01T00:00:00",
          "2015-10-01T00:00:00",
          "2015-11-01T00:00:00",
          "2015-12-01T00:00:00",
          "2016-01-01T00:00:00",
          "2016-02-01T00:00:00",
          "2016-03-01T00:00:00",
          "2016-04-01T00:00:00",
          "2016-05-01T00:00:00",
          "2016-06-01T00:00:00",
          "2016-07-01T00:00:00",
          "2016-08-01T00:00:00",
          "2016-09-01T00:00:00",
          "2016-10-01T00:00:00",
          "2016-11-01T00:00:00",
          "2016-12-01T00:00:00",
          "2017-01-01T00:00:00",
          "2017-02-01T00:00:00",
          "2017-03-01T00:00:00",
          "2017-04-01T00:00:00",
          "2017-05-01T00:00:00",
          "2017-06-01T00:00:00",
          "2017-07-01T00:00:00",
          "2017-08-01T00:00:00",
          "2017-09-01T00:00:00",
          "2017-10-01T00:00:00",
          "2017-11-01T00:00:00",
          "2017-12-01T00:00:00",
          "2018-01-01T00:00:00",
          "2018-02-01T00:00:00",
          "2018-03-01T00:00:00",
          "2018-04-01T00:00:00",
          "2018-05-01T00:00:00",
          "2018-06-01T00:00:00",
          "2018-07-01T00:00:00",
          "2018-08-01T00:00:00",
          "2018-09-01T00:00:00",
          "2018-10-01T00:00:00",
          "2018-11-01T00:00:00",
          "2018-12-01T00:00:00",
          "2019-01-01T00:00:00",
          "2019-02-01T00:00:00",
          "2019-03-01T00:00:00",
          "2019-04-01T00:00:00",
          "2019-05-01T00:00:00",
          "2019-06-01T00:00:00",
          "2019-07-01T00:00:00",
          "2019-08-01T00:00:00",
          "2019-09-01T00:00:00",
          "2019-10-01T00:00:00",
          "2019-11-01T00:00:00",
          "2019-12-01T00:00:00",
          "2020-01-01T00:00:00",
          "2020-02-01T00:00:00",
          "2020-03-01T00:00:00",
          "2020-04-01T00:00:00",
          "2020-05-01T00:00:00",
          "2020-06-01T00:00:00",
          "2020-07-01T00:00:00",
          "2020-08-01T00:00:00",
          "2020-09-01T00:00:00",
          "2020-10-01T00:00:00",
          "2020-11-01T00:00:00",
          "2020-12-01T00:00:00",
          "2021-01-01T00:00:00",
          "2021-02-01T00:00:00",
          "2021-03-01T00:00:00",
          "2021-04-01T00:00:00",
          "2021-05-01T00:00:00",
          "2021-06-01T00:00:00",
          "2021-07-01T00:00:00",
          "2021-08-01T00:00:00",
          "2021-09-01T00:00:00",
          "2021-10-01T00:00:00",
          "2021-11-01T00:00:00",
          "2021-12-01T00:00:00",
          "2022-01-01T00:00:00",
          "2022-02-01T00:00:00",
          "2022-03-01T00:00:00",
          "2022-04-01T00:00:00",
          "2022-05-01T00:00:00",
          "2022-06-01T00:00:00",
          "2022-07-01T00:00:00",
          "2022-08-01T00:00:00",
          "2022-09-01T00:00:00",
          "2022-10-01T00:00:00",
          "2022-11-01T00:00:00",
          "2022-12-01T00:00:00",
          "2023-01-01T00:00:00",
          "2023-02-01T00:00:00",
          "2023-03-01T00:00:00",
          "2023-04-01T00:00:00",
          "2023-05-01T00:00:00",
          "2023-06-01T00:00:00",
          "2023-07-01T00:00:00",
          "2023-08-01T00:00:00",
          "2023-09-01T00:00:00",
          "2023-10-01T00:00:00",
          "2023-11-01T00:00:00",
          "2023-12-01T00:00:00",
          "2024-01-01T00:00:00",
          "2024-02-01T00:00:00",
          "2024-03-01T00:00:00",
          "2024-04-01T00:00:00",
          "2024-05-01T00:00:00",
          "2024-06-01T00:00:00",
          "2024-07-01T00:00:00",
          "2024-08-01T00:00:00",
          "2024-09-01T00:00:00",
          "2024-10-01T00:00:00",
          "2024-11-01T00:00:00",
          "2024-12-01T00:00:00"
         ],
         "xaxis": "x",
         "y": [
          3,
          7,
          8,
          10,
          19,
          16,
          10,
          9,
          5,
          9,
          16,
          8,
          9,
          13,
          11,
          21,
          15,
          21,
          14,
          10,
          8,
          18,
          15,
          9,
          16,
          15,
          7,
          19,
          23,
          12,
          13,
          17,
          11,
          16,
          17,
          27,
          21,
          16,
          22,
          18,
          17,
          22,
          16,
          14,
          26,
          22,
          18,
          23,
          17,
          19,
          17,
          16,
          20,
          29,
          19,
          18,
          21,
          16,
          29,
          30,
          20,
          26,
          26,
          24,
          28,
          24,
          37,
          27,
          25,
          31,
          27,
          34,
          23,
          27,
          39,
          36,
          32,
          30,
          26,
          26,
          40,
          33,
          37,
          26,
          37,
          38,
          34,
          36,
          52,
          39,
          31,
          36,
          35,
          38,
          46,
          50,
          42,
          37,
          50,
          35,
          45,
          46,
          51,
          33,
          48,
          59,
          57,
          49,
          56,
          49,
          61,
          52,
          62,
          52,
          52,
          40,
          72,
          48,
          53,
          72,
          44,
          59,
          68,
          55,
          84,
          89,
          62,
          63,
          73,
          77,
          85,
          75,
          70,
          67,
          110,
          67,
          92,
          106,
          94,
          76,
          110,
          82,
          120,
          89,
          125,
          84,
          105,
          94,
          105,
          115,
          109,
          126,
          134,
          141,
          139,
          125,
          148,
          111,
          127,
          128,
          131,
          116,
          128,
          128,
          146,
          156,
          147,
          164,
          174,
          172,
          157,
          171,
          141,
          166,
          163,
          112,
          196,
          195,
          170,
          212,
          173,
          188,
          196,
          180,
          170,
          191,
          220,
          168,
          202,
          220,
          256,
          246,
          246,
          193,
          253,
          277,
          269,
          223,
          238,
          206,
          280,
          300,
          270,
          269,
          250,
          286,
          325,
          339,
          329,
          317,
          343,
          301,
          335,
          368,
          362,
          366,
          322,
          387,
          367,
          373,
          384,
          379,
          397,
          327,
          386,
          407,
          424,
          403,
          439,
          413,
          399,
          439,
          396,
          425,
          446,
          385,
          463,
          525,
          488,
          591,
          431,
          432,
          482,
          505,
          480,
          547,
          502,
          446,
          475,
          598,
          556,
          718,
          498,
          610,
          655,
          599,
          589,
          793,
          704,
          571,
          651,
          662,
          978,
          682,
          555,
          772,
          837,
          758,
          877,
          854,
          682,
          707,
          857,
          889,
          1076,
          900,
          720,
          891,
          1163,
          967,
          1116,
          1036,
          1005,
          877,
          1128,
          1131,
          1411,
          1009,
          961,
          1383,
          1409,
          1306,
          1534,
          1354,
          1357,
          1125,
          1421,
          1621,
          1727,
          1489,
          1411,
          1533,
          1652,
          1823,
          2118,
          1924,
          1722,
          1531,
          2033,
          2250,
          2093,
          1873,
          1566,
          2297,
          2269,
          2421,
          2218,
          3089,
          2466,
          1916,
          2120,
          3015,
          2401,
          2433,
          1865,
          2370,
          2716,
          2501,
          2317,
          2987,
          2252,
          1932,
          2424,
          2948,
          2303,
          2410,
          2020,
          2480,
          3042,
          2302,
          2733,
          2679,
          2242,
          2068,
          2414,
          3234,
          2941,
          2320,
          2131,
          2716,
          3303,
          2514,
          4206,
          3174,
          2581,
          2509,
          3088,
          3785,
          3184,
          3103,
          2696,
          4112,
          3709,
          2919,
          3363,
          3393,
          2735,
          1953,
          1993,
          1872,
          1340,
          857
         ],
         "yaxis": "y"
        },
        {
         "hovertemplate": "<b>OLS trendline</b><br>log10(count) = 2.75104e-09 * period + -1.12824<br>R<sup>2</sup>=0.983217<br><br>period=%{x}<br>count=%{y} <b>(trend)</b><extra></extra>",
         "legendgroup": "",
         "line": {
          "color": "red"
         },
         "marker": {
          "color": "#636efa",
          "symbol": "circle"
         },
         "mode": "lines",
         "name": "",
         "showlegend": false,
         "type": "scatter",
         "x": [
          "1994-01-01T00:00:00",
          "1994-02-01T00:00:00",
          "1994-03-01T00:00:00",
          "1994-04-01T00:00:00",
          "1994-05-01T00:00:00",
          "1994-06-01T00:00:00",
          "1994-07-01T00:00:00",
          "1994-08-01T00:00:00",
          "1994-09-01T00:00:00",
          "1994-10-01T00:00:00",
          "1994-11-01T00:00:00",
          "1994-12-01T00:00:00",
          "1995-01-01T00:00:00",
          "1995-02-01T00:00:00",
          "1995-03-01T00:00:00",
          "1995-04-01T00:00:00",
          "1995-05-01T00:00:00",
          "1995-06-01T00:00:00",
          "1995-07-01T00:00:00",
          "1995-08-01T00:00:00",
          "1995-09-01T00:00:00",
          "1995-10-01T00:00:00",
          "1995-11-01T00:00:00",
          "1995-12-01T00:00:00",
          "1996-01-01T00:00:00",
          "1996-02-01T00:00:00",
          "1996-03-01T00:00:00",
          "1996-04-01T00:00:00",
          "1996-05-01T00:00:00",
          "1996-06-01T00:00:00",
          "1996-07-01T00:00:00",
          "1996-08-01T00:00:00",
          "1996-09-01T00:00:00",
          "1996-10-01T00:00:00",
          "1996-11-01T00:00:00",
          "1996-12-01T00:00:00",
          "1997-01-01T00:00:00",
          "1997-02-01T00:00:00",
          "1997-03-01T00:00:00",
          "1997-04-01T00:00:00",
          "1997-05-01T00:00:00",
          "1997-06-01T00:00:00",
          "1997-07-01T00:00:00",
          "1997-08-01T00:00:00",
          "1997-09-01T00:00:00",
          "1997-10-01T00:00:00",
          "1997-11-01T00:00:00",
          "1997-12-01T00:00:00",
          "1998-01-01T00:00:00",
          "1998-02-01T00:00:00",
          "1998-03-01T00:00:00",
          "1998-04-01T00:00:00",
          "1998-05-01T00:00:00",
          "1998-06-01T00:00:00",
          "1998-07-01T00:00:00",
          "1998-08-01T00:00:00",
          "1998-09-01T00:00:00",
          "1998-10-01T00:00:00",
          "1998-11-01T00:00:00",
          "1998-12-01T00:00:00",
          "1999-01-01T00:00:00",
          "1999-02-01T00:00:00",
          "1999-03-01T00:00:00",
          "1999-04-01T00:00:00",
          "1999-05-01T00:00:00",
          "1999-06-01T00:00:00",
          "1999-07-01T00:00:00",
          "1999-08-01T00:00:00",
          "1999-09-01T00:00:00",
          "1999-10-01T00:00:00",
          "1999-11-01T00:00:00",
          "1999-12-01T00:00:00",
          "2000-01-01T00:00:00",
          "2000-02-01T00:00:00",
          "2000-03-01T00:00:00",
          "2000-04-01T00:00:00",
          "2000-05-01T00:00:00",
          "2000-06-01T00:00:00",
          "2000-07-01T00:00:00",
          "2000-08-01T00:00:00",
          "2000-09-01T00:00:00",
          "2000-10-01T00:00:00",
          "2000-11-01T00:00:00",
          "2000-12-01T00:00:00",
          "2001-01-01T00:00:00",
          "2001-02-01T00:00:00",
          "2001-03-01T00:00:00",
          "2001-04-01T00:00:00",
          "2001-05-01T00:00:00",
          "2001-06-01T00:00:00",
          "2001-07-01T00:00:00",
          "2001-08-01T00:00:00",
          "2001-09-01T00:00:00",
          "2001-10-01T00:00:00",
          "2001-11-01T00:00:00",
          "2001-12-01T00:00:00",
          "2002-01-01T00:00:00",
          "2002-02-01T00:00:00",
          "2002-03-01T00:00:00",
          "2002-04-01T00:00:00",
          "2002-05-01T00:00:00",
          "2002-06-01T00:00:00",
          "2002-07-01T00:00:00",
          "2002-08-01T00:00:00",
          "2002-09-01T00:00:00",
          "2002-10-01T00:00:00",
          "2002-11-01T00:00:00",
          "2002-12-01T00:00:00",
          "2003-01-01T00:00:00",
          "2003-02-01T00:00:00",
          "2003-03-01T00:00:00",
          "2003-04-01T00:00:00",
          "2003-05-01T00:00:00",
          "2003-06-01T00:00:00",
          "2003-07-01T00:00:00",
          "2003-08-01T00:00:00",
          "2003-09-01T00:00:00",
          "2003-10-01T00:00:00",
          "2003-11-01T00:00:00",
          "2003-12-01T00:00:00",
          "2004-01-01T00:00:00",
          "2004-02-01T00:00:00",
          "2004-03-01T00:00:00",
          "2004-04-01T00:00:00",
          "2004-05-01T00:00:00",
          "2004-06-01T00:00:00",
          "2004-07-01T00:00:00",
          "2004-08-01T00:00:00",
          "2004-09-01T00:00:00",
          "2004-10-01T00:00:00",
          "2004-11-01T00:00:00",
          "2004-12-01T00:00:00",
          "2005-01-01T00:00:00",
          "2005-02-01T00:00:00",
          "2005-03-01T00:00:00",
          "2005-04-01T00:00:00",
          "2005-05-01T00:00:00",
          "2005-06-01T00:00:00",
          "2005-07-01T00:00:00",
          "2005-08-01T00:00:00",
          "2005-09-01T00:00:00",
          "2005-10-01T00:00:00",
          "2005-11-01T00:00:00",
          "2005-12-01T00:00:00",
          "2006-01-01T00:00:00",
          "2006-02-01T00:00:00",
          "2006-03-01T00:00:00",
          "2006-04-01T00:00:00",
          "2006-05-01T00:00:00",
          "2006-06-01T00:00:00",
          "2006-07-01T00:00:00",
          "2006-08-01T00:00:00",
          "2006-09-01T00:00:00",
          "2006-10-01T00:00:00",
          "2006-11-01T00:00:00",
          "2006-12-01T00:00:00",
          "2007-01-01T00:00:00",
          "2007-02-01T00:00:00",
          "2007-03-01T00:00:00",
          "2007-04-01T00:00:00",
          "2007-05-01T00:00:00",
          "2007-06-01T00:00:00",
          "2007-07-01T00:00:00",
          "2007-08-01T00:00:00",
          "2007-09-01T00:00:00",
          "2007-10-01T00:00:00",
          "2007-11-01T00:00:00",
          "2007-12-01T00:00:00",
          "2008-01-01T00:00:00",
          "2008-02-01T00:00:00",
          "2008-03-01T00:00:00",
          "2008-04-01T00:00:00",
          "2008-05-01T00:00:00",
          "2008-06-01T00:00:00",
          "2008-07-01T00:00:00",
          "2008-08-01T00:00:00",
          "2008-09-01T00:00:00",
          "2008-10-01T00:00:00",
          "2008-11-01T00:00:00",
          "2008-12-01T00:00:00",
          "2009-01-01T00:00:00",
          "2009-02-01T00:00:00",
          "2009-03-01T00:00:00",
          "2009-04-01T00:00:00",
          "2009-05-01T00:00:00",
          "2009-06-01T00:00:00",
          "2009-07-01T00:00:00",
          "2009-08-01T00:00:00",
          "2009-09-01T00:00:00",
          "2009-10-01T00:00:00",
          "2009-11-01T00:00:00",
          "2009-12-01T00:00:00",
          "2010-01-01T00:00:00",
          "2010-02-01T00:00:00",
          "2010-03-01T00:00:00",
          "2010-04-01T00:00:00",
          "2010-05-01T00:00:00",
          "2010-06-01T00:00:00",
          "2010-07-01T00:00:00",
          "2010-08-01T00:00:00",
          "2010-09-01T00:00:00",
          "2010-10-01T00:00:00",
          "2010-11-01T00:00:00",
          "2010-12-01T00:00:00",
          "2011-01-01T00:00:00",
          "2011-02-01T00:00:00",
          "2011-03-01T00:00:00",
          "2011-04-01T00:00:00",
          "2011-05-01T00:00:00",
          "2011-06-01T00:00:00",
          "2011-07-01T00:00:00",
          "2011-08-01T00:00:00",
          "2011-09-01T00:00:00",
          "2011-10-01T00:00:00",
          "2011-11-01T00:00:00",
          "2011-12-01T00:00:00",
          "2012-01-01T00:00:00",
          "2012-02-01T00:00:00",
          "2012-03-01T00:00:00",
          "2012-04-01T00:00:00",
          "2012-05-01T00:00:00",
          "2012-06-01T00:00:00",
          "2012-07-01T00:00:00",
          "2012-08-01T00:00:00",
          "2012-09-01T00:00:00",
          "2012-10-01T00:00:00",
          "2012-11-01T00:00:00",
          "2012-12-01T00:00:00",
          "2013-01-01T00:00:00",
          "2013-02-01T00:00:00",
          "2013-03-01T00:00:00",
          "2013-04-01T00:00:00",
          "2013-05-01T00:00:00",
          "2013-06-01T00:00:00",
          "2013-07-01T00:00:00",
          "2013-08-01T00:00:00",
          "2013-09-01T00:00:00",
          "2013-10-01T00:00:00",
          "2013-11-01T00:00:00",
          "2013-12-01T00:00:00",
          "2014-01-01T00:00:00",
          "2014-02-01T00:00:00",
          "2014-03-01T00:00:00",
          "2014-04-01T00:00:00",
          "2014-05-01T00:00:00",
          "2014-06-01T00:00:00",
          "2014-07-01T00:00:00",
          "2014-08-01T00:00:00",
          "2014-09-01T00:00:00",
          "2014-10-01T00:00:00",
          "2014-11-01T00:00:00",
          "2014-12-01T00:00:00",
          "2015-01-01T00:00:00",
          "2015-02-01T00:00:00",
          "2015-03-01T00:00:00",
          "2015-04-01T00:00:00",
          "2015-05-01T00:00:00",
          "2015-06-01T00:00:00",
          "2015-07-01T00:00:00",
          "2015-08-01T00:00:00",
          "2015-09-01T00:00:00",
          "2015-10-01T00:00:00",
          "2015-11-01T00:00:00",
          "2015-12-01T00:00:00",
          "2016-01-01T00:00:00",
          "2016-02-01T00:00:00",
          "2016-03-01T00:00:00",
          "2016-04-01T00:00:00",
          "2016-05-01T00:00:00",
          "2016-06-01T00:00:00",
          "2016-07-01T00:00:00",
          "2016-08-01T00:00:00",
          "2016-09-01T00:00:00",
          "2016-10-01T00:00:00",
          "2016-11-01T00:00:00",
          "2016-12-01T00:00:00",
          "2017-01-01T00:00:00",
          "2017-02-01T00:00:00",
          "2017-03-01T00:00:00",
          "2017-04-01T00:00:00",
          "2017-05-01T00:00:00",
          "2017-06-01T00:00:00",
          "2017-07-01T00:00:00",
          "2017-08-01T00:00:00",
          "2017-09-01T00:00:00",
          "2017-10-01T00:00:00",
          "2017-11-01T00:00:00",
          "2017-12-01T00:00:00",
          "2018-01-01T00:00:00",
          "2018-02-01T00:00:00",
          "2018-03-01T00:00:00",
          "2018-04-01T00:00:00",
          "2018-05-01T00:00:00",
          "2018-06-01T00:00:00",
          "2018-07-01T00:00:00",
          "2018-08-01T00:00:00",
          "2018-09-01T00:00:00",
          "2018-10-01T00:00:00",
          "2018-11-01T00:00:00",
          "2018-12-01T00:00:00",
          "2019-01-01T00:00:00",
          "2019-02-01T00:00:00",
          "2019-03-01T00:00:00",
          "2019-04-01T00:00:00",
          "2019-05-01T00:00:00",
          "2019-06-01T00:00:00",
          "2019-07-01T00:00:00",
          "2019-08-01T00:00:00",
          "2019-09-01T00:00:00",
          "2019-10-01T00:00:00",
          "2019-11-01T00:00:00",
          "2019-12-01T00:00:00",
          "2020-01-01T00:00:00",
          "2020-02-01T00:00:00",
          "2020-03-01T00:00:00",
          "2020-04-01T00:00:00",
          "2020-05-01T00:00:00",
          "2020-06-01T00:00:00",
          "2020-07-01T00:00:00",
          "2020-08-01T00:00:00",
          "2020-09-01T00:00:00",
          "2020-10-01T00:00:00",
          "2020-11-01T00:00:00",
          "2020-12-01T00:00:00",
          "2021-01-01T00:00:00",
          "2021-02-01T00:00:00",
          "2021-03-01T00:00:00",
          "2021-04-01T00:00:00",
          "2021-05-01T00:00:00",
          "2021-06-01T00:00:00",
          "2021-07-01T00:00:00",
          "2021-08-01T00:00:00",
          "2021-09-01T00:00:00",
          "2021-10-01T00:00:00",
          "2021-11-01T00:00:00",
          "2021-12-01T00:00:00",
          "2022-01-01T00:00:00",
          "2022-02-01T00:00:00",
          "2022-03-01T00:00:00",
          "2022-04-01T00:00:00",
          "2022-05-01T00:00:00",
          "2022-06-01T00:00:00",
          "2022-07-01T00:00:00",
          "2022-08-01T00:00:00",
          "2022-09-01T00:00:00",
          "2022-10-01T00:00:00",
          "2022-11-01T00:00:00",
          "2022-12-01T00:00:00",
          "2023-01-01T00:00:00",
          "2023-02-01T00:00:00",
          "2023-03-01T00:00:00",
          "2023-04-01T00:00:00",
          "2023-05-01T00:00:00",
          "2023-06-01T00:00:00",
          "2023-07-01T00:00:00",
          "2023-08-01T00:00:00",
          "2023-09-01T00:00:00",
          "2023-10-01T00:00:00",
          "2023-11-01T00:00:00",
          "2023-12-01T00:00:00",
          "2024-01-01T00:00:00",
          "2024-02-01T00:00:00",
          "2024-03-01T00:00:00",
          "2024-04-01T00:00:00",
          "2024-05-01T00:00:00",
          "2024-06-01T00:00:00",
          "2024-07-01T00:00:00",
          "2024-08-01T00:00:00",
          "2024-09-01T00:00:00",
          "2024-10-01T00:00:00",
          "2024-11-01T00:00:00",
          "2024-12-01T00:00:00"
         ],
         "xaxis": "x",
         "y": [
          9.02299084044503,
          9.177383998328628,
          9.319105348325747,
          9.47856534654814,
          9.635478925270931,
          9.8003524184729,
          9.962593043979288,
          10.133063814477518,
          10.306451524718854,
          10.477070403583847,
          10.656344439608294,
          10.83275564541704,
          11.018115841637181,
          11.20664775182073,
          11.379705918354839,
          11.574425026862206,
          11.766034662521362,
          11.967364274779392,
          12.165478850939252,
          12.373643386421605,
          12.585369842841352,
          12.793715235776707,
          13.0126295770682,
          13.228048071416126,
          13.454394318519418,
          13.684613595362316,
          13.903544986341934,
          14.141449718173877,
          14.375555345183683,
          14.621536686107225,
          14.863589946696836,
          15.117922088880885,
          15.376606129817532,
          15.631159240781647,
          15.898625325945797,
          16.161820240519585,
          16.438366510842297,
          16.719644787739217,
          16.97783716927433,
          17.26834637414333,
          17.554216432440537,
          17.854588111532586,
          18.150163150029552,
          18.46073212370897,
          18.77661526931152,
          19.087454071439048,
          19.414061109189564,
          19.735452553443867,
          20.07314754791624,
          20.416620869943166,
          20.73190364252791,
          21.086648995694034,
          21.435729414113123,
          21.8025179894654,
          22.163449311644968,
          22.542689963589282,
          22.92841983433999,
          23.307989978040602,
          23.706814961936043,
          24.099271102690626,
          24.511635764700394,
          24.931056433248724,
          25.316053179077148,
          25.749238301902153,
          26.175505883926984,
          26.623397174529348,
          27.064136081281205,
          27.527232798198032,
          27.9982536021271,
          28.461752666602926,
          28.94876411888121,
          29.42799847676321,
          29.931543442658068,
          30.443704608967582,
          30.93075399111986,
          31.46001273346545,
          31.980819733701033,
          32.52804623960193,
          33.06653407586242,
          33.632338331515,
          34.2078241115445,
          34.774119949090945,
          35.36914285075431,
          35.954663821297665,
          36.56988710880569,
          37.19563753391607,
          37.77002953563139,
          38.41631569910883,
          39.05228130754207,
          39.72050818932096,
          40.37806414434152,
          41.06897660814763,
          41.77171133344047,
          42.46322407561854,
          43.18981588701289,
          43.90480474106745,
          44.65606356090931,
          45.42017723382975,
          46.12157632924289,
          46.91076651484326,
          47.687354108571675,
          48.503336449918386,
          49.30628835498955,
          50.14997241687774,
          51.00809282796255,
          51.85250989919947,
          52.73976257285214,
          53.6128466930466,
          54.53022063816527,
          55.46329184629264,
          56.31978129875233,
          57.283473830396275,
          58.23177713915326,
          59.22818599301007,
          60.20868317645844,
          61.2389190363863,
          62.28678334907355,
          63.31791429823071,
          64.40135247432718,
          65.46748920724687,
          66.58770894105294,
          67.72709684927968,
          68.81061940670499,
          69.9880437235409,
          71.14666573087531,
          72.3640623335452,
          73.56201830858217,
          74.82074421308432,
          76.1010082827849,
          77.36082779317243,
          78.68455544741539,
          79.98714447160376,
          81.35581125221344,
          82.74789740563267,
          84.02572818310533,
          85.46349951049143,
          86.87831104241262,
          88.36489315588518,
          89.82773601359632,
          91.36478598670593,
          92.92813655164476,
          94.46652194407855,
          96.08294657479526,
          97.67355849232268,
          99.34485899611609,
          101.04475726390106,
          102.60513649747995,
          104.36082164878421,
          106.08847023321111,
          107.90375900208885,
          109.690059392878,
          111.5669752578698,
          113.47600718865411,
          115.35455375515843,
          117.32839526131195,
          119.27071645794318,
          121.31156775465956,
          123.38734023017815,
          125.29274382156753,
          127.43663853681026,
          129.54629735986157,
          131.76297498873208,
          133.94425445379076,
          136.23618589771834,
          138.56733477404032,
          140.86125749319868,
          143.27154635998406,
          145.64334528171423,
          148.13546085629545,
          150.67021923082783,
          153.08069581794814,
          155.70007252532685,
          158.27762036026826,
          160.98592208215268,
          163.65097488648857,
          166.45122053122535,
          169.29938141555223,
          172.1020599689204,
          175.046912843842,
          177.94473931171635,
          180.9895667660415,
          184.08649451994523,
          186.9292421400029,
          190.1278041805869,
          193.2752883280214,
          196.58243810058576,
          199.83677594060984,
          203.25619988155537,
          206.7341338741812,
          210.1565286780708,
          213.75253477917687,
          217.2911161959818,
          221.00920282632322,
          224.79090995083274,
          228.2622337214317,
          232.16804806980136,
          236.01149040055265,
          240.0499029340581,
          244.02382598720868,
          248.1993382712428,
          252.44629809841544,
          256.62543814985463,
          261.01657768328084,
          265.33759503272336,
          269.8778090179482,
          274.4957109879044,
          278.7345989691319,
          283.5040502195272,
          288.19733801951605,
          293.1287069965335,
          297.9813268561372,
          303.0801104919847,
          308.26613984500386,
          313.3693534046124,
          318.7314428616041,
          324.00790501830625,
          329.5520316299389,
          335.1910242599919,
          340.5535313321676,
          346.38077155224016,
          352.11495647135496,
          358.14002521286113,
          364.0688795262923,
          370.2984928541984,
          376.6347016215872,
          382.86972736038814,
          389.4210435825258,
          395.86774172136927,
          402.6414680643742,
          409.5311002105907,
          415.85526626904704,
          422.9710008316946,
          429.9731041047002,
          437.3304101822123,
          444.57022731033794,
          452.17730599513544,
          459.9145500454074,
          467.52823791016306,
          475.5281530521748,
          483.40031740941316,
          491.6718210434673,
          500.0848590743849,
          507.8073975836211,
          516.4965328266893,
          525.0469111171407,
          534.0310331314334,
          542.8716875442028,
          552.1608108124937,
          561.6088810531046,
          570.9060748948533,
          580.6748969314282,
          590.2877204781034,
          600.3881834882195,
          610.6614763734611,
          620.0915894469304,
          630.7020289746569,
          641.1430302080535,
          652.1136827155544,
          662.909144681353,
          674.2522390108405,
          685.7894259848487,
          697.1423754183535,
          709.0712374485415,
          720.8096072724061,
          733.1434413045522,
          745.6883206118983,
          757.6181116966926,
          770.5817791549755,
          783.3384295809626,
          796.7421995695643,
          809.9319245208688,
          823.7907380460913,
          837.8866908993386,
          851.7575452350216,
          866.3320404867015,
          880.6737953688896,
          895.7430790173734,
          911.0702144503347,
          925.1393762896552,
          940.9695142465256,
          956.5468604535915,
          972.9144145230345,
          989.0205948353731,
          1005.9438097148682,
          1023.1565991526193,
          1040.0945172548916,
          1057.8916623319556,
          1075.4046044881177,
          1093.8059434482836,
          1112.5221492726155,
          1129.7022237824472,
          1149.0326538895106,
          1168.0543960202224,
          1188.0410733836795,
          1207.7085831468714,
          1228.3737866533813,
          1249.3925942014027,
          1270.0757520441957,
          1291.8081254419994,
          1313.1934541890435,
          1335.6636182277248,
          1358.5182711399366,
          1379.4971299756085,
          1403.1018218072381,
          1426.3295699023026,
          1450.7356155665484,
          1474.751920660871,
          1499.986525256181,
          1525.6529213007275,
          1550.9094502180858,
          1577.4471927299553,
          1603.5611535676717,
          1630.9998238197816,
          1658.9079994746226,
          1685.4478088233684,
          1714.2876485454485,
          1742.6669443627763,
          1772.485865542825,
          1801.828607849201,
          1832.6598492468843,
          1864.0186466185273,
          1894.8766748066714,
          1927.3000695320666,
          1959.2056945002075,
          1992.7298285114637,
          2026.8275968094922,
          2058.126793103729,
          2093.3435743829236,
          2127.997978266147,
          2164.410331292344,
          2200.2412148164344,
          2237.889727961156,
          2276.1824479921283,
          2313.8636709074235,
          2353.4563874889595,
          2392.416847287168,
          2433.35369390026,
          2474.991014351142,
          2513.210954570325,
          2556.2147193491255,
          2598.5317562562977,
          2642.9954524745117,
          2686.749107150411,
          2732.7222979060252,
          2779.4821398091594,
          2825.4952729793963,
          2873.8425610897993,
          2921.4177905110605,
          2971.4064169155713,
          3022.2504029259367,
          3068.9213722577174,
          3121.4339448999863,
          3173.107943351598,
          3227.403261206036,
          3280.831536180354,
          3336.9701215244127,
          3394.069298940847,
          3450.2566585947934,
          3509.294291509324,
          3567.389151431639,
          3628.431048318022,
          3690.517438254461,
          3749.559669192231,
          3813.718701184667,
          3876.8531764734716,
          3943.1903384135894,
          4008.4681610548587,
          4077.057398105508,
          4146.820271380812,
          4215.469100113062,
          4287.600347704475,
          4358.579730141971
         ],
         "yaxis": "y"
        },
        {
         "hovertemplate": "period=%{x}<br>count=%{y}<extra></extra>",
         "legendgroup": "",
         "marker": {
          "color": "#636efa",
          "symbol": "circle"
         },
         "mode": "markers",
         "name": "",
         "orientation": "v",
         "showlegend": false,
         "type": "scatter",
         "x": [
          "1994-01-01T00:00:00",
          "1994-02-01T00:00:00",
          "1994-03-01T00:00:00",
          "1994-04-01T00:00:00",
          "1994-05-01T00:00:00",
          "1994-06-01T00:00:00",
          "1994-07-01T00:00:00",
          "1994-08-01T00:00:00",
          "1994-09-01T00:00:00",
          "1994-10-01T00:00:00",
          "1994-11-01T00:00:00",
          "1994-12-01T00:00:00",
          "1995-01-01T00:00:00",
          "1995-02-01T00:00:00",
          "1995-03-01T00:00:00",
          "1995-04-01T00:00:00",
          "1995-05-01T00:00:00",
          "1995-06-01T00:00:00",
          "1995-07-01T00:00:00",
          "1995-08-01T00:00:00",
          "1995-09-01T00:00:00",
          "1995-10-01T00:00:00",
          "1995-11-01T00:00:00",
          "1995-12-01T00:00:00",
          "1996-01-01T00:00:00",
          "1996-02-01T00:00:00",
          "1996-03-01T00:00:00",
          "1996-04-01T00:00:00",
          "1996-05-01T00:00:00",
          "1996-06-01T00:00:00",
          "1996-07-01T00:00:00",
          "1996-08-01T00:00:00",
          "1996-09-01T00:00:00",
          "1996-10-01T00:00:00",
          "1996-11-01T00:00:00",
          "1996-12-01T00:00:00",
          "1997-01-01T00:00:00",
          "1997-02-01T00:00:00",
          "1997-03-01T00:00:00",
          "1997-04-01T00:00:00",
          "1997-05-01T00:00:00",
          "1997-06-01T00:00:00",
          "1997-07-01T00:00:00",
          "1997-08-01T00:00:00",
          "1997-09-01T00:00:00",
          "1997-10-01T00:00:00",
          "1997-11-01T00:00:00",
          "1997-12-01T00:00:00",
          "1998-01-01T00:00:00",
          "1998-02-01T00:00:00",
          "1998-03-01T00:00:00",
          "1998-04-01T00:00:00",
          "1998-05-01T00:00:00",
          "1998-06-01T00:00:00",
          "1998-07-01T00:00:00",
          "1998-08-01T00:00:00",
          "1998-09-01T00:00:00",
          "1998-10-01T00:00:00",
          "1998-11-01T00:00:00",
          "1998-12-01T00:00:00",
          "1999-01-01T00:00:00",
          "1999-02-01T00:00:00",
          "1999-03-01T00:00:00",
          "1999-04-01T00:00:00",
          "1999-05-01T00:00:00",
          "1999-06-01T00:00:00",
          "1999-07-01T00:00:00",
          "1999-08-01T00:00:00",
          "1999-09-01T00:00:00",
          "1999-10-01T00:00:00",
          "1999-11-01T00:00:00",
          "1999-12-01T00:00:00",
          "2000-01-01T00:00:00",
          "2000-02-01T00:00:00",
          "2000-03-01T00:00:00",
          "2000-04-01T00:00:00",
          "2000-05-01T00:00:00",
          "2000-06-01T00:00:00",
          "2000-07-01T00:00:00",
          "2000-08-01T00:00:00",
          "2000-09-01T00:00:00",
          "2000-10-01T00:00:00",
          "2000-11-01T00:00:00",
          "2000-12-01T00:00:00",
          "2001-01-01T00:00:00",
          "2001-02-01T00:00:00",
          "2001-03-01T00:00:00",
          "2001-04-01T00:00:00",
          "2001-05-01T00:00:00",
          "2001-06-01T00:00:00",
          "2001-07-01T00:00:00",
          "2001-08-01T00:00:00",
          "2001-09-01T00:00:00",
          "2001-10-01T00:00:00",
          "2001-11-01T00:00:00",
          "2001-12-01T00:00:00",
          "2002-01-01T00:00:00",
          "2002-02-01T00:00:00",
          "2002-03-01T00:00:00",
          "2002-04-01T00:00:00",
          "2002-05-01T00:00:00",
          "2002-06-01T00:00:00",
          "2002-07-01T00:00:00",
          "2002-08-01T00:00:00",
          "2002-09-01T00:00:00",
          "2002-10-01T00:00:00",
          "2002-11-01T00:00:00",
          "2002-12-01T00:00:00",
          "2003-01-01T00:00:00",
          "2003-02-01T00:00:00",
          "2003-03-01T00:00:00",
          "2003-04-01T00:00:00",
          "2003-05-01T00:00:00",
          "2003-06-01T00:00:00",
          "2003-07-01T00:00:00",
          "2003-08-01T00:00:00",
          "2003-09-01T00:00:00",
          "2003-10-01T00:00:00",
          "2003-11-01T00:00:00",
          "2003-12-01T00:00:00",
          "2004-01-01T00:00:00",
          "2004-02-01T00:00:00",
          "2004-03-01T00:00:00",
          "2004-04-01T00:00:00",
          "2004-05-01T00:00:00",
          "2004-06-01T00:00:00",
          "2004-07-01T00:00:00",
          "2004-08-01T00:00:00",
          "2004-09-01T00:00:00",
          "2004-10-01T00:00:00",
          "2004-11-01T00:00:00",
          "2004-12-01T00:00:00",
          "2005-01-01T00:00:00",
          "2005-02-01T00:00:00",
          "2005-03-01T00:00:00",
          "2005-04-01T00:00:00",
          "2005-05-01T00:00:00",
          "2005-06-01T00:00:00",
          "2005-07-01T00:00:00",
          "2005-08-01T00:00:00",
          "2005-09-01T00:00:00",
          "2005-10-01T00:00:00",
          "2005-11-01T00:00:00",
          "2005-12-01T00:00:00",
          "2006-01-01T00:00:00",
          "2006-02-01T00:00:00",
          "2006-03-01T00:00:00",
          "2006-04-01T00:00:00",
          "2006-05-01T00:00:00",
          "2006-06-01T00:00:00",
          "2006-07-01T00:00:00",
          "2006-08-01T00:00:00",
          "2006-09-01T00:00:00",
          "2006-10-01T00:00:00",
          "2006-11-01T00:00:00",
          "2006-12-01T00:00:00",
          "2007-01-01T00:00:00",
          "2007-02-01T00:00:00",
          "2007-03-01T00:00:00",
          "2007-04-01T00:00:00",
          "2007-05-01T00:00:00",
          "2007-06-01T00:00:00",
          "2007-07-01T00:00:00",
          "2007-08-01T00:00:00",
          "2007-09-01T00:00:00",
          "2007-10-01T00:00:00",
          "2007-11-01T00:00:00",
          "2007-12-01T00:00:00",
          "2008-01-01T00:00:00",
          "2008-02-01T00:00:00",
          "2008-03-01T00:00:00",
          "2008-04-01T00:00:00",
          "2008-05-01T00:00:00",
          "2008-06-01T00:00:00",
          "2008-07-01T00:00:00",
          "2008-08-01T00:00:00",
          "2008-09-01T00:00:00",
          "2008-10-01T00:00:00",
          "2008-11-01T00:00:00",
          "2008-12-01T00:00:00",
          "2009-01-01T00:00:00",
          "2009-02-01T00:00:00",
          "2009-03-01T00:00:00",
          "2009-04-01T00:00:00",
          "2009-05-01T00:00:00",
          "2009-06-01T00:00:00",
          "2009-07-01T00:00:00",
          "2009-08-01T00:00:00",
          "2009-09-01T00:00:00",
          "2009-10-01T00:00:00",
          "2009-11-01T00:00:00",
          "2009-12-01T00:00:00",
          "2010-01-01T00:00:00",
          "2010-02-01T00:00:00",
          "2010-03-01T00:00:00",
          "2010-04-01T00:00:00",
          "2010-05-01T00:00:00",
          "2010-06-01T00:00:00",
          "2010-07-01T00:00:00",
          "2010-08-01T00:00:00",
          "2010-09-01T00:00:00",
          "2010-10-01T00:00:00",
          "2010-11-01T00:00:00",
          "2010-12-01T00:00:00",
          "2011-01-01T00:00:00",
          "2011-02-01T00:00:00",
          "2011-03-01T00:00:00",
          "2011-04-01T00:00:00",
          "2011-05-01T00:00:00",
          "2011-06-01T00:00:00",
          "2011-07-01T00:00:00",
          "2011-08-01T00:00:00",
          "2011-09-01T00:00:00",
          "2011-10-01T00:00:00",
          "2011-11-01T00:00:00",
          "2011-12-01T00:00:00",
          "2012-01-01T00:00:00",
          "2012-02-01T00:00:00",
          "2012-03-01T00:00:00",
          "2012-04-01T00:00:00",
          "2012-05-01T00:00:00",
          "2012-06-01T00:00:00",
          "2012-07-01T00:00:00",
          "2012-08-01T00:00:00",
          "2012-09-01T00:00:00",
          "2012-10-01T00:00:00",
          "2012-11-01T00:00:00",
          "2012-12-01T00:00:00",
          "2013-01-01T00:00:00",
          "2013-02-01T00:00:00",
          "2013-03-01T00:00:00",
          "2013-04-01T00:00:00",
          "2013-05-01T00:00:00",
          "2013-06-01T00:00:00",
          "2013-07-01T00:00:00",
          "2013-08-01T00:00:00",
          "2013-09-01T00:00:00",
          "2013-10-01T00:00:00",
          "2013-11-01T00:00:00",
          "2013-12-01T00:00:00",
          "2014-01-01T00:00:00",
          "2014-02-01T00:00:00",
          "2014-03-01T00:00:00",
          "2014-04-01T00:00:00",
          "2014-05-01T00:00:00",
          "2014-06-01T00:00:00",
          "2014-07-01T00:00:00",
          "2014-08-01T00:00:00",
          "2014-09-01T00:00:00",
          "2014-10-01T00:00:00",
          "2014-11-01T00:00:00",
          "2014-12-01T00:00:00",
          "2015-01-01T00:00:00",
          "2015-02-01T00:00:00",
          "2015-03-01T00:00:00",
          "2015-04-01T00:00:00",
          "2015-05-01T00:00:00",
          "2015-06-01T00:00:00",
          "2015-07-01T00:00:00",
          "2015-08-01T00:00:00",
          "2015-09-01T00:00:00",
          "2015-10-01T00:00:00",
          "2015-11-01T00:00:00",
          "2015-12-01T00:00:00",
          "2016-01-01T00:00:00",
          "2016-02-01T00:00:00",
          "2016-03-01T00:00:00",
          "2016-04-01T00:00:00",
          "2016-05-01T00:00:00",
          "2016-06-01T00:00:00",
          "2016-07-01T00:00:00",
          "2016-08-01T00:00:00",
          "2016-09-01T00:00:00",
          "2016-10-01T00:00:00",
          "2016-11-01T00:00:00",
          "2016-12-01T00:00:00",
          "2017-01-01T00:00:00",
          "2017-02-01T00:00:00",
          "2017-03-01T00:00:00",
          "2017-04-01T00:00:00",
          "2017-05-01T00:00:00",
          "2017-06-01T00:00:00",
          "2017-07-01T00:00:00",
          "2017-08-01T00:00:00",
          "2017-09-01T00:00:00",
          "2017-10-01T00:00:00",
          "2017-11-01T00:00:00",
          "2017-12-01T00:00:00",
          "2018-01-01T00:00:00",
          "2018-02-01T00:00:00",
          "2018-03-01T00:00:00",
          "2018-04-01T00:00:00",
          "2018-05-01T00:00:00",
          "2018-06-01T00:00:00",
          "2018-07-01T00:00:00",
          "2018-08-01T00:00:00",
          "2018-09-01T00:00:00",
          "2018-10-01T00:00:00",
          "2018-11-01T00:00:00",
          "2018-12-01T00:00:00",
          "2019-01-01T00:00:00",
          "2019-02-01T00:00:00",
          "2019-03-01T00:00:00",
          "2019-04-01T00:00:00",
          "2019-05-01T00:00:00",
          "2019-06-01T00:00:00",
          "2019-07-01T00:00:00",
          "2019-08-01T00:00:00",
          "2019-09-01T00:00:00",
          "2019-10-01T00:00:00",
          "2019-11-01T00:00:00",
          "2019-12-01T00:00:00",
          "2020-01-01T00:00:00",
          "2020-02-01T00:00:00",
          "2020-03-01T00:00:00",
          "2020-04-01T00:00:00",
          "2020-05-01T00:00:00",
          "2020-06-01T00:00:00",
          "2020-07-01T00:00:00",
          "2020-08-01T00:00:00",
          "2020-09-01T00:00:00",
          "2020-10-01T00:00:00",
          "2020-11-01T00:00:00",
          "2020-12-01T00:00:00",
          "2021-01-01T00:00:00",
          "2021-02-01T00:00:00",
          "2021-03-01T00:00:00",
          "2021-04-01T00:00:00",
          "2021-05-01T00:00:00",
          "2021-06-01T00:00:00",
          "2021-07-01T00:00:00",
          "2021-08-01T00:00:00",
          "2021-09-01T00:00:00",
          "2021-10-01T00:00:00",
          "2021-11-01T00:00:00",
          "2021-12-01T00:00:00",
          "2022-01-01T00:00:00",
          "2022-02-01T00:00:00",
          "2022-03-01T00:00:00",
          "2022-04-01T00:00:00",
          "2022-05-01T00:00:00",
          "2022-06-01T00:00:00",
          "2022-07-01T00:00:00",
          "2022-08-01T00:00:00",
          "2022-09-01T00:00:00",
          "2022-10-01T00:00:00",
          "2022-11-01T00:00:00",
          "2022-12-01T00:00:00",
          "2023-01-01T00:00:00",
          "2023-02-01T00:00:00",
          "2023-03-01T00:00:00",
          "2023-04-01T00:00:00",
          "2023-05-01T00:00:00",
          "2023-06-01T00:00:00",
          "2023-07-01T00:00:00",
          "2023-08-01T00:00:00",
          "2023-09-01T00:00:00",
          "2023-10-01T00:00:00",
          "2023-11-01T00:00:00",
          "2023-12-01T00:00:00",
          "2024-01-01T00:00:00",
          "2024-02-01T00:00:00",
          "2024-03-01T00:00:00",
          "2024-04-01T00:00:00",
          "2024-05-01T00:00:00",
          "2024-06-01T00:00:00",
          "2024-07-01T00:00:00",
          "2024-08-01T00:00:00",
          "2024-09-01T00:00:00",
          "2024-10-01T00:00:00",
          "2024-11-01T00:00:00",
          "2024-12-01T00:00:00"
         ],
         "xaxis": "x2",
         "y": [
          3,
          7,
          8,
          10,
          19,
          16,
          10,
          9,
          5,
          9,
          16,
          8,
          9,
          13,
          11,
          21,
          15,
          21,
          14,
          10,
          8,
          18,
          15,
          9,
          16,
          15,
          7,
          19,
          23,
          12,
          13,
          17,
          11,
          16,
          17,
          27,
          21,
          16,
          22,
          18,
          17,
          22,
          16,
          14,
          26,
          22,
          18,
          23,
          17,
          19,
          17,
          16,
          20,
          29,
          19,
          18,
          21,
          16,
          29,
          30,
          20,
          26,
          26,
          24,
          28,
          24,
          37,
          27,
          25,
          31,
          27,
          34,
          23,
          27,
          39,
          36,
          32,
          30,
          26,
          26,
          40,
          33,
          37,
          26,
          37,
          38,
          34,
          36,
          52,
          39,
          31,
          36,
          35,
          38,
          46,
          50,
          42,
          37,
          50,
          35,
          45,
          46,
          51,
          33,
          48,
          59,
          57,
          49,
          56,
          49,
          61,
          52,
          62,
          52,
          52,
          40,
          72,
          48,
          53,
          72,
          44,
          59,
          68,
          55,
          84,
          89,
          62,
          63,
          73,
          77,
          85,
          75,
          70,
          67,
          110,
          67,
          92,
          106,
          94,
          76,
          110,
          82,
          120,
          89,
          125,
          84,
          105,
          94,
          105,
          115,
          109,
          126,
          134,
          141,
          139,
          125,
          148,
          111,
          127,
          128,
          131,
          116,
          128,
          128,
          146,
          156,
          147,
          164,
          174,
          172,
          157,
          171,
          141,
          166,
          163,
          112,
          196,
          195,
          170,
          212,
          173,
          188,
          196,
          180,
          170,
          191,
          220,
          168,
          202,
          220,
          256,
          246,
          246,
          193,
          253,
          277,
          269,
          223,
          238,
          206,
          280,
          300,
          270,
          269,
          250,
          286,
          325,
          339,
          329,
          317,
          343,
          301,
          335,
          368,
          362,
          366,
          322,
          387,
          367,
          373,
          384,
          379,
          397,
          327,
          386,
          407,
          424,
          403,
          439,
          413,
          399,
          439,
          396,
          425,
          446,
          385,
          463,
          525,
          488,
          591,
          431,
          432,
          482,
          505,
          480,
          547,
          502,
          446,
          475,
          598,
          556,
          718,
          498,
          610,
          655,
          599,
          589,
          793,
          704,
          571,
          651,
          662,
          978,
          682,
          555,
          772,
          837,
          758,
          877,
          854,
          682,
          707,
          857,
          889,
          1076,
          900,
          720,
          891,
          1163,
          967,
          1116,
          1036,
          1005,
          877,
          1128,
          1131,
          1411,
          1009,
          961,
          1383,
          1409,
          1306,
          1534,
          1354,
          1357,
          1125,
          1421,
          1621,
          1727,
          1489,
          1411,
          1533,
          1652,
          1823,
          2118,
          1924,
          1722,
          1531,
          2033,
          2250,
          2093,
          1873,
          1566,
          2297,
          2269,
          2421,
          2218,
          3089,
          2466,
          1916,
          2120,
          3015,
          2401,
          2433,
          1865,
          2370,
          2716,
          2501,
          2317,
          2987,
          2252,
          1932,
          2424,
          2948,
          2303,
          2410,
          2020,
          2480,
          3042,
          2302,
          2733,
          2679,
          2242,
          2068,
          2414,
          3234,
          2941,
          2320,
          2131,
          2716,
          3303,
          2514,
          4206,
          3174,
          2581,
          2509,
          3088,
          3785,
          3184,
          3103,
          2696,
          4112,
          3709,
          2919,
          3363,
          3393,
          2735,
          1953,
          1993,
          1872,
          1340,
          857
         ],
         "yaxis": "y2"
        },
        {
         "hovertemplate": "<b>OLS trendline</b><br>log10(count) = 2.75104e-09 * period + -1.12824<br>R<sup>2</sup>=0.983217<br><br>period=%{x}<br>count=%{y} <b>(trend)</b><extra></extra>",
         "legendgroup": "",
         "line": {
          "color": "red"
         },
         "marker": {
          "color": "#636efa",
          "symbol": "circle"
         },
         "mode": "lines",
         "name": "",
         "showlegend": false,
         "type": "scatter",
         "x": [
          "1994-01-01T00:00:00",
          "1994-02-01T00:00:00",
          "1994-03-01T00:00:00",
          "1994-04-01T00:00:00",
          "1994-05-01T00:00:00",
          "1994-06-01T00:00:00",
          "1994-07-01T00:00:00",
          "1994-08-01T00:00:00",
          "1994-09-01T00:00:00",
          "1994-10-01T00:00:00",
          "1994-11-01T00:00:00",
          "1994-12-01T00:00:00",
          "1995-01-01T00:00:00",
          "1995-02-01T00:00:00",
          "1995-03-01T00:00:00",
          "1995-04-01T00:00:00",
          "1995-05-01T00:00:00",
          "1995-06-01T00:00:00",
          "1995-07-01T00:00:00",
          "1995-08-01T00:00:00",
          "1995-09-01T00:00:00",
          "1995-10-01T00:00:00",
          "1995-11-01T00:00:00",
          "1995-12-01T00:00:00",
          "1996-01-01T00:00:00",
          "1996-02-01T00:00:00",
          "1996-03-01T00:00:00",
          "1996-04-01T00:00:00",
          "1996-05-01T00:00:00",
          "1996-06-01T00:00:00",
          "1996-07-01T00:00:00",
          "1996-08-01T00:00:00",
          "1996-09-01T00:00:00",
          "1996-10-01T00:00:00",
          "1996-11-01T00:00:00",
          "1996-12-01T00:00:00",
          "1997-01-01T00:00:00",
          "1997-02-01T00:00:00",
          "1997-03-01T00:00:00",
          "1997-04-01T00:00:00",
          "1997-05-01T00:00:00",
          "1997-06-01T00:00:00",
          "1997-07-01T00:00:00",
          "1997-08-01T00:00:00",
          "1997-09-01T00:00:00",
          "1997-10-01T00:00:00",
          "1997-11-01T00:00:00",
          "1997-12-01T00:00:00",
          "1998-01-01T00:00:00",
          "1998-02-01T00:00:00",
          "1998-03-01T00:00:00",
          "1998-04-01T00:00:00",
          "1998-05-01T00:00:00",
          "1998-06-01T00:00:00",
          "1998-07-01T00:00:00",
          "1998-08-01T00:00:00",
          "1998-09-01T00:00:00",
          "1998-10-01T00:00:00",
          "1998-11-01T00:00:00",
          "1998-12-01T00:00:00",
          "1999-01-01T00:00:00",
          "1999-02-01T00:00:00",
          "1999-03-01T00:00:00",
          "1999-04-01T00:00:00",
          "1999-05-01T00:00:00",
          "1999-06-01T00:00:00",
          "1999-07-01T00:00:00",
          "1999-08-01T00:00:00",
          "1999-09-01T00:00:00",
          "1999-10-01T00:00:00",
          "1999-11-01T00:00:00",
          "1999-12-01T00:00:00",
          "2000-01-01T00:00:00",
          "2000-02-01T00:00:00",
          "2000-03-01T00:00:00",
          "2000-04-01T00:00:00",
          "2000-05-01T00:00:00",
          "2000-06-01T00:00:00",
          "2000-07-01T00:00:00",
          "2000-08-01T00:00:00",
          "2000-09-01T00:00:00",
          "2000-10-01T00:00:00",
          "2000-11-01T00:00:00",
          "2000-12-01T00:00:00",
          "2001-01-01T00:00:00",
          "2001-02-01T00:00:00",
          "2001-03-01T00:00:00",
          "2001-04-01T00:00:00",
          "2001-05-01T00:00:00",
          "2001-06-01T00:00:00",
          "2001-07-01T00:00:00",
          "2001-08-01T00:00:00",
          "2001-09-01T00:00:00",
          "2001-10-01T00:00:00",
          "2001-11-01T00:00:00",
          "2001-12-01T00:00:00",
          "2002-01-01T00:00:00",
          "2002-02-01T00:00:00",
          "2002-03-01T00:00:00",
          "2002-04-01T00:00:00",
          "2002-05-01T00:00:00",
          "2002-06-01T00:00:00",
          "2002-07-01T00:00:00",
          "2002-08-01T00:00:00",
          "2002-09-01T00:00:00",
          "2002-10-01T00:00:00",
          "2002-11-01T00:00:00",
          "2002-12-01T00:00:00",
          "2003-01-01T00:00:00",
          "2003-02-01T00:00:00",
          "2003-03-01T00:00:00",
          "2003-04-01T00:00:00",
          "2003-05-01T00:00:00",
          "2003-06-01T00:00:00",
          "2003-07-01T00:00:00",
          "2003-08-01T00:00:00",
          "2003-09-01T00:00:00",
          "2003-10-01T00:00:00",
          "2003-11-01T00:00:00",
          "2003-12-01T00:00:00",
          "2004-01-01T00:00:00",
          "2004-02-01T00:00:00",
          "2004-03-01T00:00:00",
          "2004-04-01T00:00:00",
          "2004-05-01T00:00:00",
          "2004-06-01T00:00:00",
          "2004-07-01T00:00:00",
          "2004-08-01T00:00:00",
          "2004-09-01T00:00:00",
          "2004-10-01T00:00:00",
          "2004-11-01T00:00:00",
          "2004-12-01T00:00:00",
          "2005-01-01T00:00:00",
          "2005-02-01T00:00:00",
          "2005-03-01T00:00:00",
          "2005-04-01T00:00:00",
          "2005-05-01T00:00:00",
          "2005-06-01T00:00:00",
          "2005-07-01T00:00:00",
          "2005-08-01T00:00:00",
          "2005-09-01T00:00:00",
          "2005-10-01T00:00:00",
          "2005-11-01T00:00:00",
          "2005-12-01T00:00:00",
          "2006-01-01T00:00:00",
          "2006-02-01T00:00:00",
          "2006-03-01T00:00:00",
          "2006-04-01T00:00:00",
          "2006-05-01T00:00:00",
          "2006-06-01T00:00:00",
          "2006-07-01T00:00:00",
          "2006-08-01T00:00:00",
          "2006-09-01T00:00:00",
          "2006-10-01T00:00:00",
          "2006-11-01T00:00:00",
          "2006-12-01T00:00:00",
          "2007-01-01T00:00:00",
          "2007-02-01T00:00:00",
          "2007-03-01T00:00:00",
          "2007-04-01T00:00:00",
          "2007-05-01T00:00:00",
          "2007-06-01T00:00:00",
          "2007-07-01T00:00:00",
          "2007-08-01T00:00:00",
          "2007-09-01T00:00:00",
          "2007-10-01T00:00:00",
          "2007-11-01T00:00:00",
          "2007-12-01T00:00:00",
          "2008-01-01T00:00:00",
          "2008-02-01T00:00:00",
          "2008-03-01T00:00:00",
          "2008-04-01T00:00:00",
          "2008-05-01T00:00:00",
          "2008-06-01T00:00:00",
          "2008-07-01T00:00:00",
          "2008-08-01T00:00:00",
          "2008-09-01T00:00:00",
          "2008-10-01T00:00:00",
          "2008-11-01T00:00:00",
          "2008-12-01T00:00:00",
          "2009-01-01T00:00:00",
          "2009-02-01T00:00:00",
          "2009-03-01T00:00:00",
          "2009-04-01T00:00:00",
          "2009-05-01T00:00:00",
          "2009-06-01T00:00:00",
          "2009-07-01T00:00:00",
          "2009-08-01T00:00:00",
          "2009-09-01T00:00:00",
          "2009-10-01T00:00:00",
          "2009-11-01T00:00:00",
          "2009-12-01T00:00:00",
          "2010-01-01T00:00:00",
          "2010-02-01T00:00:00",
          "2010-03-01T00:00:00",
          "2010-04-01T00:00:00",
          "2010-05-01T00:00:00",
          "2010-06-01T00:00:00",
          "2010-07-01T00:00:00",
          "2010-08-01T00:00:00",
          "2010-09-01T00:00:00",
          "2010-10-01T00:00:00",
          "2010-11-01T00:00:00",
          "2010-12-01T00:00:00",
          "2011-01-01T00:00:00",
          "2011-02-01T00:00:00",
          "2011-03-01T00:00:00",
          "2011-04-01T00:00:00",
          "2011-05-01T00:00:00",
          "2011-06-01T00:00:00",
          "2011-07-01T00:00:00",
          "2011-08-01T00:00:00",
          "2011-09-01T00:00:00",
          "2011-10-01T00:00:00",
          "2011-11-01T00:00:00",
          "2011-12-01T00:00:00",
          "2012-01-01T00:00:00",
          "2012-02-01T00:00:00",
          "2012-03-01T00:00:00",
          "2012-04-01T00:00:00",
          "2012-05-01T00:00:00",
          "2012-06-01T00:00:00",
          "2012-07-01T00:00:00",
          "2012-08-01T00:00:00",
          "2012-09-01T00:00:00",
          "2012-10-01T00:00:00",
          "2012-11-01T00:00:00",
          "2012-12-01T00:00:00",
          "2013-01-01T00:00:00",
          "2013-02-01T00:00:00",
          "2013-03-01T00:00:00",
          "2013-04-01T00:00:00",
          "2013-05-01T00:00:00",
          "2013-06-01T00:00:00",
          "2013-07-01T00:00:00",
          "2013-08-01T00:00:00",
          "2013-09-01T00:00:00",
          "2013-10-01T00:00:00",
          "2013-11-01T00:00:00",
          "2013-12-01T00:00:00",
          "2014-01-01T00:00:00",
          "2014-02-01T00:00:00",
          "2014-03-01T00:00:00",
          "2014-04-01T00:00:00",
          "2014-05-01T00:00:00",
          "2014-06-01T00:00:00",
          "2014-07-01T00:00:00",
          "2014-08-01T00:00:00",
          "2014-09-01T00:00:00",
          "2014-10-01T00:00:00",
          "2014-11-01T00:00:00",
          "2014-12-01T00:00:00",
          "2015-01-01T00:00:00",
          "2015-02-01T00:00:00",
          "2015-03-01T00:00:00",
          "2015-04-01T00:00:00",
          "2015-05-01T00:00:00",
          "2015-06-01T00:00:00",
          "2015-07-01T00:00:00",
          "2015-08-01T00:00:00",
          "2015-09-01T00:00:00",
          "2015-10-01T00:00:00",
          "2015-11-01T00:00:00",
          "2015-12-01T00:00:00",
          "2016-01-01T00:00:00",
          "2016-02-01T00:00:00",
          "2016-03-01T00:00:00",
          "2016-04-01T00:00:00",
          "2016-05-01T00:00:00",
          "2016-06-01T00:00:00",
          "2016-07-01T00:00:00",
          "2016-08-01T00:00:00",
          "2016-09-01T00:00:00",
          "2016-10-01T00:00:00",
          "2016-11-01T00:00:00",
          "2016-12-01T00:00:00",
          "2017-01-01T00:00:00",
          "2017-02-01T00:00:00",
          "2017-03-01T00:00:00",
          "2017-04-01T00:00:00",
          "2017-05-01T00:00:00",
          "2017-06-01T00:00:00",
          "2017-07-01T00:00:00",
          "2017-08-01T00:00:00",
          "2017-09-01T00:00:00",
          "2017-10-01T00:00:00",
          "2017-11-01T00:00:00",
          "2017-12-01T00:00:00",
          "2018-01-01T00:00:00",
          "2018-02-01T00:00:00",
          "2018-03-01T00:00:00",
          "2018-04-01T00:00:00",
          "2018-05-01T00:00:00",
          "2018-06-01T00:00:00",
          "2018-07-01T00:00:00",
          "2018-08-01T00:00:00",
          "2018-09-01T00:00:00",
          "2018-10-01T00:00:00",
          "2018-11-01T00:00:00",
          "2018-12-01T00:00:00",
          "2019-01-01T00:00:00",
          "2019-02-01T00:00:00",
          "2019-03-01T00:00:00",
          "2019-04-01T00:00:00",
          "2019-05-01T00:00:00",
          "2019-06-01T00:00:00",
          "2019-07-01T00:00:00",
          "2019-08-01T00:00:00",
          "2019-09-01T00:00:00",
          "2019-10-01T00:00:00",
          "2019-11-01T00:00:00",
          "2019-12-01T00:00:00",
          "2020-01-01T00:00:00",
          "2020-02-01T00:00:00",
          "2020-03-01T00:00:00",
          "2020-04-01T00:00:00",
          "2020-05-01T00:00:00",
          "2020-06-01T00:00:00",
          "2020-07-01T00:00:00",
          "2020-08-01T00:00:00",
          "2020-09-01T00:00:00",
          "2020-10-01T00:00:00",
          "2020-11-01T00:00:00",
          "2020-12-01T00:00:00",
          "2021-01-01T00:00:00",
          "2021-02-01T00:00:00",
          "2021-03-01T00:00:00",
          "2021-04-01T00:00:00",
          "2021-05-01T00:00:00",
          "2021-06-01T00:00:00",
          "2021-07-01T00:00:00",
          "2021-08-01T00:00:00",
          "2021-09-01T00:00:00",
          "2021-10-01T00:00:00",
          "2021-11-01T00:00:00",
          "2021-12-01T00:00:00",
          "2022-01-01T00:00:00",
          "2022-02-01T00:00:00",
          "2022-03-01T00:00:00",
          "2022-04-01T00:00:00",
          "2022-05-01T00:00:00",
          "2022-06-01T00:00:00",
          "2022-07-01T00:00:00",
          "2022-08-01T00:00:00",
          "2022-09-01T00:00:00",
          "2022-10-01T00:00:00",
          "2022-11-01T00:00:00",
          "2022-12-01T00:00:00",
          "2023-01-01T00:00:00",
          "2023-02-01T00:00:00",
          "2023-03-01T00:00:00",
          "2023-04-01T00:00:00",
          "2023-05-01T00:00:00",
          "2023-06-01T00:00:00",
          "2023-07-01T00:00:00",
          "2023-08-01T00:00:00",
          "2023-09-01T00:00:00",
          "2023-10-01T00:00:00",
          "2023-11-01T00:00:00",
          "2023-12-01T00:00:00",
          "2024-01-01T00:00:00",
          "2024-02-01T00:00:00",
          "2024-03-01T00:00:00",
          "2024-04-01T00:00:00",
          "2024-05-01T00:00:00",
          "2024-06-01T00:00:00",
          "2024-07-01T00:00:00",
          "2024-08-01T00:00:00",
          "2024-09-01T00:00:00",
          "2024-10-01T00:00:00",
          "2024-11-01T00:00:00",
          "2024-12-01T00:00:00"
         ],
         "xaxis": "x2",
         "y": [
          9.02299084044503,
          9.177383998328628,
          9.319105348325747,
          9.47856534654814,
          9.635478925270931,
          9.8003524184729,
          9.962593043979288,
          10.133063814477518,
          10.306451524718854,
          10.477070403583847,
          10.656344439608294,
          10.83275564541704,
          11.018115841637181,
          11.20664775182073,
          11.379705918354839,
          11.574425026862206,
          11.766034662521362,
          11.967364274779392,
          12.165478850939252,
          12.373643386421605,
          12.585369842841352,
          12.793715235776707,
          13.0126295770682,
          13.228048071416126,
          13.454394318519418,
          13.684613595362316,
          13.903544986341934,
          14.141449718173877,
          14.375555345183683,
          14.621536686107225,
          14.863589946696836,
          15.117922088880885,
          15.376606129817532,
          15.631159240781647,
          15.898625325945797,
          16.161820240519585,
          16.438366510842297,
          16.719644787739217,
          16.97783716927433,
          17.26834637414333,
          17.554216432440537,
          17.854588111532586,
          18.150163150029552,
          18.46073212370897,
          18.77661526931152,
          19.087454071439048,
          19.414061109189564,
          19.735452553443867,
          20.07314754791624,
          20.416620869943166,
          20.73190364252791,
          21.086648995694034,
          21.435729414113123,
          21.8025179894654,
          22.163449311644968,
          22.542689963589282,
          22.92841983433999,
          23.307989978040602,
          23.706814961936043,
          24.099271102690626,
          24.511635764700394,
          24.931056433248724,
          25.316053179077148,
          25.749238301902153,
          26.175505883926984,
          26.623397174529348,
          27.064136081281205,
          27.527232798198032,
          27.9982536021271,
          28.461752666602926,
          28.94876411888121,
          29.42799847676321,
          29.931543442658068,
          30.443704608967582,
          30.93075399111986,
          31.46001273346545,
          31.980819733701033,
          32.52804623960193,
          33.06653407586242,
          33.632338331515,
          34.2078241115445,
          34.774119949090945,
          35.36914285075431,
          35.954663821297665,
          36.56988710880569,
          37.19563753391607,
          37.77002953563139,
          38.41631569910883,
          39.05228130754207,
          39.72050818932096,
          40.37806414434152,
          41.06897660814763,
          41.77171133344047,
          42.46322407561854,
          43.18981588701289,
          43.90480474106745,
          44.65606356090931,
          45.42017723382975,
          46.12157632924289,
          46.91076651484326,
          47.687354108571675,
          48.503336449918386,
          49.30628835498955,
          50.14997241687774,
          51.00809282796255,
          51.85250989919947,
          52.73976257285214,
          53.6128466930466,
          54.53022063816527,
          55.46329184629264,
          56.31978129875233,
          57.283473830396275,
          58.23177713915326,
          59.22818599301007,
          60.20868317645844,
          61.2389190363863,
          62.28678334907355,
          63.31791429823071,
          64.40135247432718,
          65.46748920724687,
          66.58770894105294,
          67.72709684927968,
          68.81061940670499,
          69.9880437235409,
          71.14666573087531,
          72.3640623335452,
          73.56201830858217,
          74.82074421308432,
          76.1010082827849,
          77.36082779317243,
          78.68455544741539,
          79.98714447160376,
          81.35581125221344,
          82.74789740563267,
          84.02572818310533,
          85.46349951049143,
          86.87831104241262,
          88.36489315588518,
          89.82773601359632,
          91.36478598670593,
          92.92813655164476,
          94.46652194407855,
          96.08294657479526,
          97.67355849232268,
          99.34485899611609,
          101.04475726390106,
          102.60513649747995,
          104.36082164878421,
          106.08847023321111,
          107.90375900208885,
          109.690059392878,
          111.5669752578698,
          113.47600718865411,
          115.35455375515843,
          117.32839526131195,
          119.27071645794318,
          121.31156775465956,
          123.38734023017815,
          125.29274382156753,
          127.43663853681026,
          129.54629735986157,
          131.76297498873208,
          133.94425445379076,
          136.23618589771834,
          138.56733477404032,
          140.86125749319868,
          143.27154635998406,
          145.64334528171423,
          148.13546085629545,
          150.67021923082783,
          153.08069581794814,
          155.70007252532685,
          158.27762036026826,
          160.98592208215268,
          163.65097488648857,
          166.45122053122535,
          169.29938141555223,
          172.1020599689204,
          175.046912843842,
          177.94473931171635,
          180.9895667660415,
          184.08649451994523,
          186.9292421400029,
          190.1278041805869,
          193.2752883280214,
          196.58243810058576,
          199.83677594060984,
          203.25619988155537,
          206.7341338741812,
          210.1565286780708,
          213.75253477917687,
          217.2911161959818,
          221.00920282632322,
          224.79090995083274,
          228.2622337214317,
          232.16804806980136,
          236.01149040055265,
          240.0499029340581,
          244.02382598720868,
          248.1993382712428,
          252.44629809841544,
          256.62543814985463,
          261.01657768328084,
          265.33759503272336,
          269.8778090179482,
          274.4957109879044,
          278.7345989691319,
          283.5040502195272,
          288.19733801951605,
          293.1287069965335,
          297.9813268561372,
          303.0801104919847,
          308.26613984500386,
          313.3693534046124,
          318.7314428616041,
          324.00790501830625,
          329.5520316299389,
          335.1910242599919,
          340.5535313321676,
          346.38077155224016,
          352.11495647135496,
          358.14002521286113,
          364.0688795262923,
          370.2984928541984,
          376.6347016215872,
          382.86972736038814,
          389.4210435825258,
          395.86774172136927,
          402.6414680643742,
          409.5311002105907,
          415.85526626904704,
          422.9710008316946,
          429.9731041047002,
          437.3304101822123,
          444.57022731033794,
          452.17730599513544,
          459.9145500454074,
          467.52823791016306,
          475.5281530521748,
          483.40031740941316,
          491.6718210434673,
          500.0848590743849,
          507.8073975836211,
          516.4965328266893,
          525.0469111171407,
          534.0310331314334,
          542.8716875442028,
          552.1608108124937,
          561.6088810531046,
          570.9060748948533,
          580.6748969314282,
          590.2877204781034,
          600.3881834882195,
          610.6614763734611,
          620.0915894469304,
          630.7020289746569,
          641.1430302080535,
          652.1136827155544,
          662.909144681353,
          674.2522390108405,
          685.7894259848487,
          697.1423754183535,
          709.0712374485415,
          720.8096072724061,
          733.1434413045522,
          745.6883206118983,
          757.6181116966926,
          770.5817791549755,
          783.3384295809626,
          796.7421995695643,
          809.9319245208688,
          823.7907380460913,
          837.8866908993386,
          851.7575452350216,
          866.3320404867015,
          880.6737953688896,
          895.7430790173734,
          911.0702144503347,
          925.1393762896552,
          940.9695142465256,
          956.5468604535915,
          972.9144145230345,
          989.0205948353731,
          1005.9438097148682,
          1023.1565991526193,
          1040.0945172548916,
          1057.8916623319556,
          1075.4046044881177,
          1093.8059434482836,
          1112.5221492726155,
          1129.7022237824472,
          1149.0326538895106,
          1168.0543960202224,
          1188.0410733836795,
          1207.7085831468714,
          1228.3737866533813,
          1249.3925942014027,
          1270.0757520441957,
          1291.8081254419994,
          1313.1934541890435,
          1335.6636182277248,
          1358.5182711399366,
          1379.4971299756085,
          1403.1018218072381,
          1426.3295699023026,
          1450.7356155665484,
          1474.751920660871,
          1499.986525256181,
          1525.6529213007275,
          1550.9094502180858,
          1577.4471927299553,
          1603.5611535676717,
          1630.9998238197816,
          1658.9079994746226,
          1685.4478088233684,
          1714.2876485454485,
          1742.6669443627763,
          1772.485865542825,
          1801.828607849201,
          1832.6598492468843,
          1864.0186466185273,
          1894.8766748066714,
          1927.3000695320666,
          1959.2056945002075,
          1992.7298285114637,
          2026.8275968094922,
          2058.126793103729,
          2093.3435743829236,
          2127.997978266147,
          2164.410331292344,
          2200.2412148164344,
          2237.889727961156,
          2276.1824479921283,
          2313.8636709074235,
          2353.4563874889595,
          2392.416847287168,
          2433.35369390026,
          2474.991014351142,
          2513.210954570325,
          2556.2147193491255,
          2598.5317562562977,
          2642.9954524745117,
          2686.749107150411,
          2732.7222979060252,
          2779.4821398091594,
          2825.4952729793963,
          2873.8425610897993,
          2921.4177905110605,
          2971.4064169155713,
          3022.2504029259367,
          3068.9213722577174,
          3121.4339448999863,
          3173.107943351598,
          3227.403261206036,
          3280.831536180354,
          3336.9701215244127,
          3394.069298940847,
          3450.2566585947934,
          3509.294291509324,
          3567.389151431639,
          3628.431048318022,
          3690.517438254461,
          3749.559669192231,
          3813.718701184667,
          3876.8531764734716,
          3943.1903384135894,
          4008.4681610548587,
          4077.057398105508,
          4146.820271380812,
          4215.469100113062,
          4287.600347704475,
          4358.579730141971
         ],
         "yaxis": "y2"
        }
       ],
       "layout": {
        "annotations": [
         {
          "font": {
           "size": 16
          },
          "showarrow": false,
          "text": "Linear Scale",
          "x": 0.225,
          "xanchor": "center",
          "xref": "paper",
          "y": 1,
          "yanchor": "bottom",
          "yref": "paper"
         },
         {
          "font": {
           "size": 16
          },
          "showarrow": false,
          "text": "Log Scale",
          "x": 0.775,
          "xanchor": "center",
          "xref": "paper",
          "y": 1,
          "yanchor": "bottom",
          "yref": "paper"
         }
        ],
        "template": {
         "data": {
          "bar": [
           {
            "error_x": {
             "color": "#2a3f5f"
            },
            "error_y": {
             "color": "#2a3f5f"
            },
            "marker": {
             "line": {
              "color": "white",
              "width": 0.5
             },
             "pattern": {
              "fillmode": "overlay",
              "size": 10,
              "solidity": 0.2
             }
            },
            "type": "bar"
           }
          ],
          "barpolar": [
           {
            "marker": {
             "line": {
              "color": "white",
              "width": 0.5
             },
             "pattern": {
              "fillmode": "overlay",
              "size": 10,
              "solidity": 0.2
             }
            },
            "type": "barpolar"
           }
          ],
          "carpet": [
           {
            "aaxis": {
             "endlinecolor": "#2a3f5f",
             "gridcolor": "#C8D4E3",
             "linecolor": "#C8D4E3",
             "minorgridcolor": "#C8D4E3",
             "startlinecolor": "#2a3f5f"
            },
            "baxis": {
             "endlinecolor": "#2a3f5f",
             "gridcolor": "#C8D4E3",
             "linecolor": "#C8D4E3",
             "minorgridcolor": "#C8D4E3",
             "startlinecolor": "#2a3f5f"
            },
            "type": "carpet"
           }
          ],
          "choropleth": [
           {
            "colorbar": {
             "outlinewidth": 0,
             "ticks": ""
            },
            "type": "choropleth"
           }
          ],
          "contour": [
           {
            "colorbar": {
             "outlinewidth": 0,
             "ticks": ""
            },
            "colorscale": [
             [
              0,
              "#0d0887"
             ],
             [
              0.1111111111111111,
              "#46039f"
             ],
             [
              0.2222222222222222,
              "#7201a8"
             ],
             [
              0.3333333333333333,
              "#9c179e"
             ],
             [
              0.4444444444444444,
              "#bd3786"
             ],
             [
              0.5555555555555556,
              "#d8576b"
             ],
             [
              0.6666666666666666,
              "#ed7953"
             ],
             [
              0.7777777777777778,
              "#fb9f3a"
             ],
             [
              0.8888888888888888,
              "#fdca26"
             ],
             [
              1,
              "#f0f921"
             ]
            ],
            "type": "contour"
           }
          ],
          "contourcarpet": [
           {
            "colorbar": {
             "outlinewidth": 0,
             "ticks": ""
            },
            "type": "contourcarpet"
           }
          ],
          "heatmap": [
           {
            "colorbar": {
             "outlinewidth": 0,
             "ticks": ""
            },
            "colorscale": [
             [
              0,
              "#0d0887"
             ],
             [
              0.1111111111111111,
              "#46039f"
             ],
             [
              0.2222222222222222,
              "#7201a8"
             ],
             [
              0.3333333333333333,
              "#9c179e"
             ],
             [
              0.4444444444444444,
              "#bd3786"
             ],
             [
              0.5555555555555556,
              "#d8576b"
             ],
             [
              0.6666666666666666,
              "#ed7953"
             ],
             [
              0.7777777777777778,
              "#fb9f3a"
             ],
             [
              0.8888888888888888,
              "#fdca26"
             ],
             [
              1,
              "#f0f921"
             ]
            ],
            "type": "heatmap"
           }
          ],
          "heatmapgl": [
           {
            "colorbar": {
             "outlinewidth": 0,
             "ticks": ""
            },
            "colorscale": [
             [
              0,
              "#0d0887"
             ],
             [
              0.1111111111111111,
              "#46039f"
             ],
             [
              0.2222222222222222,
              "#7201a8"
             ],
             [
              0.3333333333333333,
              "#9c179e"
             ],
             [
              0.4444444444444444,
              "#bd3786"
             ],
             [
              0.5555555555555556,
              "#d8576b"
             ],
             [
              0.6666666666666666,
              "#ed7953"
             ],
             [
              0.7777777777777778,
              "#fb9f3a"
             ],
             [
              0.8888888888888888,
              "#fdca26"
             ],
             [
              1,
              "#f0f921"
             ]
            ],
            "type": "heatmapgl"
           }
          ],
          "histogram": [
           {
            "marker": {
             "pattern": {
              "fillmode": "overlay",
              "size": 10,
              "solidity": 0.2
             }
            },
            "type": "histogram"
           }
          ],
          "histogram2d": [
           {
            "colorbar": {
             "outlinewidth": 0,
             "ticks": ""
            },
            "colorscale": [
             [
              0,
              "#0d0887"
             ],
             [
              0.1111111111111111,
              "#46039f"
             ],
             [
              0.2222222222222222,
              "#7201a8"
             ],
             [
              0.3333333333333333,
              "#9c179e"
             ],
             [
              0.4444444444444444,
              "#bd3786"
             ],
             [
              0.5555555555555556,
              "#d8576b"
             ],
             [
              0.6666666666666666,
              "#ed7953"
             ],
             [
              0.7777777777777778,
              "#fb9f3a"
             ],
             [
              0.8888888888888888,
              "#fdca26"
             ],
             [
              1,
              "#f0f921"
             ]
            ],
            "type": "histogram2d"
           }
          ],
          "histogram2dcontour": [
           {
            "colorbar": {
             "outlinewidth": 0,
             "ticks": ""
            },
            "colorscale": [
             [
              0,
              "#0d0887"
             ],
             [
              0.1111111111111111,
              "#46039f"
             ],
             [
              0.2222222222222222,
              "#7201a8"
             ],
             [
              0.3333333333333333,
              "#9c179e"
             ],
             [
              0.4444444444444444,
              "#bd3786"
             ],
             [
              0.5555555555555556,
              "#d8576b"
             ],
             [
              0.6666666666666666,
              "#ed7953"
             ],
             [
              0.7777777777777778,
              "#fb9f3a"
             ],
             [
              0.8888888888888888,
              "#fdca26"
             ],
             [
              1,
              "#f0f921"
             ]
            ],
            "type": "histogram2dcontour"
           }
          ],
          "mesh3d": [
           {
            "colorbar": {
             "outlinewidth": 0,
             "ticks": ""
            },
            "type": "mesh3d"
           }
          ],
          "parcoords": [
           {
            "line": {
             "colorbar": {
              "outlinewidth": 0,
              "ticks": ""
             }
            },
            "type": "parcoords"
           }
          ],
          "pie": [
           {
            "automargin": true,
            "type": "pie"
           }
          ],
          "scatter": [
           {
            "fillpattern": {
             "fillmode": "overlay",
             "size": 10,
             "solidity": 0.2
            },
            "type": "scatter"
           }
          ],
          "scatter3d": [
           {
            "line": {
             "colorbar": {
              "outlinewidth": 0,
              "ticks": ""
             }
            },
            "marker": {
             "colorbar": {
              "outlinewidth": 0,
              "ticks": ""
             }
            },
            "type": "scatter3d"
           }
          ],
          "scattercarpet": [
           {
            "marker": {
             "colorbar": {
              "outlinewidth": 0,
              "ticks": ""
             }
            },
            "type": "scattercarpet"
           }
          ],
          "scattergeo": [
           {
            "marker": {
             "colorbar": {
              "outlinewidth": 0,
              "ticks": ""
             }
            },
            "type": "scattergeo"
           }
          ],
          "scattergl": [
           {
            "marker": {
             "colorbar": {
              "outlinewidth": 0,
              "ticks": ""
             }
            },
            "type": "scattergl"
           }
          ],
          "scattermapbox": [
           {
            "marker": {
             "colorbar": {
              "outlinewidth": 0,
              "ticks": ""
             }
            },
            "type": "scattermapbox"
           }
          ],
          "scatterpolar": [
           {
            "marker": {
             "colorbar": {
              "outlinewidth": 0,
              "ticks": ""
             }
            },
            "type": "scatterpolar"
           }
          ],
          "scatterpolargl": [
           {
            "marker": {
             "colorbar": {
              "outlinewidth": 0,
              "ticks": ""
             }
            },
            "type": "scatterpolargl"
           }
          ],
          "scatterternary": [
           {
            "marker": {
             "colorbar": {
              "outlinewidth": 0,
              "ticks": ""
             }
            },
            "type": "scatterternary"
           }
          ],
          "surface": [
           {
            "colorbar": {
             "outlinewidth": 0,
             "ticks": ""
            },
            "colorscale": [
             [
              0,
              "#0d0887"
             ],
             [
              0.1111111111111111,
              "#46039f"
             ],
             [
              0.2222222222222222,
              "#7201a8"
             ],
             [
              0.3333333333333333,
              "#9c179e"
             ],
             [
              0.4444444444444444,
              "#bd3786"
             ],
             [
              0.5555555555555556,
              "#d8576b"
             ],
             [
              0.6666666666666666,
              "#ed7953"
             ],
             [
              0.7777777777777778,
              "#fb9f3a"
             ],
             [
              0.8888888888888888,
              "#fdca26"
             ],
             [
              1,
              "#f0f921"
             ]
            ],
            "type": "surface"
           }
          ],
          "table": [
           {
            "cells": {
             "fill": {
              "color": "#EBF0F8"
             },
             "line": {
              "color": "white"
             }
            },
            "header": {
             "fill": {
              "color": "#C8D4E3"
             },
             "line": {
              "color": "white"
             }
            },
            "type": "table"
           }
          ]
         },
         "layout": {
          "annotationdefaults": {
           "arrowcolor": "#2a3f5f",
           "arrowhead": 0,
           "arrowwidth": 1
          },
          "autotypenumbers": "strict",
          "coloraxis": {
           "colorbar": {
            "outlinewidth": 0,
            "ticks": ""
           }
          },
          "colorscale": {
           "diverging": [
            [
             0,
             "#8e0152"
            ],
            [
             0.1,
             "#c51b7d"
            ],
            [
             0.2,
             "#de77ae"
            ],
            [
             0.3,
             "#f1b6da"
            ],
            [
             0.4,
             "#fde0ef"
            ],
            [
             0.5,
             "#f7f7f7"
            ],
            [
             0.6,
             "#e6f5d0"
            ],
            [
             0.7,
             "#b8e186"
            ],
            [
             0.8,
             "#7fbc41"
            ],
            [
             0.9,
             "#4d9221"
            ],
            [
             1,
             "#276419"
            ]
           ],
           "sequential": [
            [
             0,
             "#0d0887"
            ],
            [
             0.1111111111111111,
             "#46039f"
            ],
            [
             0.2222222222222222,
             "#7201a8"
            ],
            [
             0.3333333333333333,
             "#9c179e"
            ],
            [
             0.4444444444444444,
             "#bd3786"
            ],
            [
             0.5555555555555556,
             "#d8576b"
            ],
            [
             0.6666666666666666,
             "#ed7953"
            ],
            [
             0.7777777777777778,
             "#fb9f3a"
            ],
            [
             0.8888888888888888,
             "#fdca26"
            ],
            [
             1,
             "#f0f921"
            ]
           ],
           "sequentialminus": [
            [
             0,
             "#0d0887"
            ],
            [
             0.1111111111111111,
             "#46039f"
            ],
            [
             0.2222222222222222,
             "#7201a8"
            ],
            [
             0.3333333333333333,
             "#9c179e"
            ],
            [
             0.4444444444444444,
             "#bd3786"
            ],
            [
             0.5555555555555556,
             "#d8576b"
            ],
            [
             0.6666666666666666,
             "#ed7953"
            ],
            [
             0.7777777777777778,
             "#fb9f3a"
            ],
            [
             0.8888888888888888,
             "#fdca26"
            ],
            [
             1,
             "#f0f921"
            ]
           ]
          },
          "colorway": [
           "#636efa",
           "#EF553B",
           "#00cc96",
           "#ab63fa",
           "#FFA15A",
           "#19d3f3",
           "#FF6692",
           "#B6E880",
           "#FF97FF",
           "#FECB52"
          ],
          "font": {
           "color": "#2a3f5f"
          },
          "geo": {
           "bgcolor": "white",
           "lakecolor": "white",
           "landcolor": "white",
           "showlakes": true,
           "showland": true,
           "subunitcolor": "#C8D4E3"
          },
          "hoverlabel": {
           "align": "left"
          },
          "hovermode": "closest",
          "mapbox": {
           "style": "light"
          },
          "paper_bgcolor": "white",
          "plot_bgcolor": "white",
          "polar": {
           "angularaxis": {
            "gridcolor": "#EBF0F8",
            "linecolor": "#EBF0F8",
            "ticks": ""
           },
           "bgcolor": "white",
           "radialaxis": {
            "gridcolor": "#EBF0F8",
            "linecolor": "#EBF0F8",
            "ticks": ""
           }
          },
          "scene": {
           "xaxis": {
            "backgroundcolor": "white",
            "gridcolor": "#DFE8F3",
            "gridwidth": 2,
            "linecolor": "#EBF0F8",
            "showbackground": true,
            "ticks": "",
            "zerolinecolor": "#EBF0F8"
           },
           "yaxis": {
            "backgroundcolor": "white",
            "gridcolor": "#DFE8F3",
            "gridwidth": 2,
            "linecolor": "#EBF0F8",
            "showbackground": true,
            "ticks": "",
            "zerolinecolor": "#EBF0F8"
           },
           "zaxis": {
            "backgroundcolor": "white",
            "gridcolor": "#DFE8F3",
            "gridwidth": 2,
            "linecolor": "#EBF0F8",
            "showbackground": true,
            "ticks": "",
            "zerolinecolor": "#EBF0F8"
           }
          },
          "shapedefaults": {
           "line": {
            "color": "#2a3f5f"
           }
          },
          "ternary": {
           "aaxis": {
            "gridcolor": "#DFE8F3",
            "linecolor": "#A2B1C6",
            "ticks": ""
           },
           "baxis": {
            "gridcolor": "#DFE8F3",
            "linecolor": "#A2B1C6",
            "ticks": ""
           },
           "bgcolor": "white",
           "caxis": {
            "gridcolor": "#DFE8F3",
            "linecolor": "#A2B1C6",
            "ticks": ""
           }
          },
          "title": {
           "x": 0.05
          },
          "xaxis": {
           "automargin": true,
           "gridcolor": "#EBF0F8",
           "linecolor": "#EBF0F8",
           "ticks": "",
           "title": {
            "standoff": 15
           },
           "zerolinecolor": "#EBF0F8",
           "zerolinewidth": 2
          },
          "yaxis": {
           "automargin": true,
           "gridcolor": "#EBF0F8",
           "linecolor": "#EBF0F8",
           "ticks": "",
           "title": {
            "standoff": 15
           },
           "zerolinecolor": "#EBF0F8",
           "zerolinewidth": 2
          }
         }
        },
        "title": {
         "font": {
          "size": 25
         },
         "text": "Number of corrective Publications per Month",
         "x": 0.5
        },
        "xaxis": {
         "anchor": "y",
         "domain": [
          0,
          0.45
         ],
         "title": {
          "text": "Year of Publication"
         }
        },
        "xaxis2": {
         "anchor": "y2",
         "domain": [
          0.55,
          1
         ],
         "title": {
          "text": "Year of Publication"
         }
        },
        "yaxis": {
         "anchor": "x",
         "domain": [
          0,
          1
         ],
         "title": {
          "text": "# of Publications per Month"
         },
         "type": "linear"
        },
        "yaxis2": {
         "anchor": "x2",
         "domain": [
          0,
          1
         ],
         "title": {
          "text": "# of Publications per Month"
         },
         "type": "log"
        }
       }
      }
     },
     "metadata": {},
     "output_type": "display_data"
    }
   ],
   "source": [
    "df_corrective = df_complete[~df_complete[\"id\"].str.endswith(\"v1\")]\n",
    "plot_general_development(df_corrective, \"corrective\", \"M\")"
   ]
  },
  {
   "cell_type": "markdown",
   "metadata": {},
   "source": [
    "## Trend analysis for the different Categories"
   ]
  },
  {
   "cell_type": "code",
   "execution_count": 31,
   "metadata": {
    "ExecuteTime": {
     "end_time": "2024-12-29T15:25:40.456008Z",
     "start_time": "2024-12-29T15:25:40.449002Z"
    }
   },
   "outputs": [],
   "source": [
    "def plot_line_chart_by_categories(df, title):\n",
    "    \"\"\"\n",
    "    Plots line charts for the number of publications per year by category on both linear and logarithmic scales\n",
    "    \"\"\"\n",
    "    # Generate consistent color map for categories (lines for same category have same color in both plots)\n",
    "    color_map = generate_color_map(CATEGORIES)\n",
    "\n",
    "    # Create a figure with two subplots: one for linear scale, one for log scale\n",
    "    fig = make_subplots(\n",
    "        rows=1, cols=2,\n",
    "        subplot_titles=[\"Linear-Scale\", \"Log-Scale\"],\n",
    "        shared_yaxes=False\n",
    "    )\n",
    "\n",
    "    # Loop through each category and add its data as a trace to the subplots\n",
    "    for category in CATEGORIES:\n",
    "        # Filter data for the current category\n",
    "        category_data = df[df[\"categories\"] == category]\n",
    "\n",
    "        # Create a line trace for the current category\n",
    "        trace = go.Scatter(\n",
    "            x=category_data[\"period\"],\n",
    "            y=category_data[\"count\"],\n",
    "            mode=\"lines+markers\",\n",
    "            name=category,\n",
    "            line=dict(color=color_map[category])\n",
    "        )\n",
    "\n",
    "        fig.add_trace(trace, row=1, col=1)  # Linear scale\n",
    "        fig.add_trace(trace.update(showlegend=False), row=1, col=2)  # Log scale\n",
    "\n",
    "    # Update layout for the figure\n",
    "    fig.update_layout(\n",
    "        title={\n",
    "            \"text\": f\"Number of {title} Publications per Year by Category\",\n",
    "            \"font\": {\"size\": TITLE_SIZE},\n",
    "            \"x\": TITLE_X_POS,\n",
    "        },\n",
    "        xaxis_title=\"Year of Publication\",  # X-axis label for left (linear) plot\n",
    "        yaxis_title=\"# of Publications per Year\",  # Y-axis label for left (linear) plot\n",
    "        xaxis2_title=\"Year of Publication\",  # X-axis label for right (log) plot\n",
    "        yaxis2_title=\"# of Publications per Year\",  # Y-axis label for right (log) plot\n",
    "        yaxis2_type=\"log\",  # Set log scale for right plot\n",
    "        legend_title=\"Categories\",  # Title for the legend\n",
    "        height=550\n",
    "    )\n",
    "    fig.show()\n",
    "\n",
    "\n",
    "def plot_heatmap_by_category(df, title):\n",
    "    \"\"\"\n",
    "    Plots a heatmap showing the number of publications per year by category\n",
    "    \"\"\"\n",
    "    # Create a pivot table to reshape the data for the heatmap\n",
    "    # Rows represent categories, columns represent periods, values are publication counts\n",
    "    pivot_counts = df.pivot(index=\"categories\", columns=\"period\", values=\"count\").fillna(0).sort_index(ascending=False)  # Sort descending for categories to be sorted alphabetically\n",
    "\n",
    "    # Define constants for visualizations\n",
    "    colorscale = \"RdBu_r\"\n",
    "\n",
    "    fig = go.Figure(\n",
    "        data=go.Heatmap(\n",
    "            z=pivot_counts.values,  # Publication counts\n",
    "            x=pivot_counts.columns,  # Years\n",
    "            y=pivot_counts.index,  # Categories\n",
    "            text=np.array(pivot_counts.values).astype(int),  # Add exact counts as text\n",
    "            texttemplate=\"%{text}\",  # Display counts inside cells\n",
    "            colorbar={\"title\": \"Count\"},  # Title for the color bar\n",
    "            colorscale=colorscale  # Color scale for the heatmap\n",
    "        )\n",
    "    )\n",
    "\n",
    "    # Update layout for heatmap\n",
    "    fig.update_layout(\n",
    "        title={\n",
    "            \"text\": f\"Number of {title} Publications per Year by Category\",\n",
    "            \"font\": {\"size\": TITLE_SIZE},\n",
    "            \"x\": TITLE_X_POS,\n",
    "        },\n",
    "        xaxis_title=\"Year of Publication\",  # X-axis label\n",
    "        yaxis_title=\"Category\",  # Y-axis label\n",
    "        height=800\n",
    "    )\n",
    "    fig.show()"
   ]
  },
  {
   "cell_type": "code",
   "execution_count": 32,
   "metadata": {
    "ExecuteTime": {
     "end_time": "2024-12-29T15:25:40.478525Z",
     "start_time": "2024-12-29T15:25:40.474443Z"
    }
   },
   "outputs": [],
   "source": [
    "def visualize_publications_by_category(df, title):\n",
    "    \"\"\"\n",
    "    Visualizes publications by category using line plots and a heatmap.\n",
    "    \"\"\"\n",
    "    df = prepare_data(df, \"Y\", True)\n",
    "\n",
    "    plot_line_chart_by_categories(df, title)\n",
    "    plot_heatmap_by_category(df, title)\n"
   ]
  },
  {
   "cell_type": "code",
   "execution_count": null,
   "metadata": {
    "ExecuteTime": {
     "end_time": "2024-12-29T15:25:41.943610Z",
     "start_time": "2024-12-29T15:25:40.480529Z"
    }
   },
   "outputs": [],
   "source": [
    "visualize_publications_by_category(df_complete, \"all\")"
   ]
  },
  {
   "cell_type": "markdown",
   "metadata": {},
   "source": [
    "#### Analysis of the exponential Trend Contribution by Category\n",
    "\n",
    "The overall exponential growth in AI-related publications can be broken down into the handpicked categories that have been combined to create a representative overview of the field of ML and AI. When these categories are visualized individually, it becomes obvious that all categories follow a trend of increasing numbers of publications per year (e.g., Log-Scale). The Linear-Scale makes it evident that the categories Machine Learning (cs.LG), Artificial Intelligence (cs.AI), Computer Vision (cs.CV), Computation and Language (cs.CL), and Robotics (cs.RO), in particular, have been key contributors to the exponential growth in publications.\n",
    "\n",
    "One of the main reasons for this exponential growth, which becomes particularly visible from 2015 onwards, is the widespread access to open-source frameworks such as TensorFlow (launched in 2015) and PyTorch (2016). These frameworks democratized machine learning research, allowing researchers from all backgrounds to prototype and deploy AI models more effectively. Around the same time, companies like Google, Facebook, and Microsoft began deploying machine learning solutions across various industries, addressing applied research problems such as recommender systems, autonomous vehicles, and healthcare diagnostics. In 2017, Google further accelerated this trend with the publication of the Transformer architecture, which revolutionized Natural Language Processing (NLP) by enabling significant breakthroughs, including the development of large-scale language models.\n",
    "\n",
    "In NLP, the advancements made through chatbot systems, such as OpenAI’s GPT-2 (2019), combined with open-source NLP tools like Hugging Face (launched in 2016), further simplified and accelerated research efforts. These developments allowed researchers to leverage pre-trained models and focus on fine-tuning them for specific tasks, reducing barriers to entry and increasing productivity in the field.\n",
    "\n",
    "With the growing volume of research to advance ML systems, coupled with the increasing presence of AI in consumer products like personal assistants (e.g., Siri, Alexa, etc.), the ethical, safety, and fairness aspects of AI systems gained prominence as critical research areas. This type of research was also supported by government institutions such as DARPA, which initiated efforts toward Explainable AI (XAI) in 2016. These initiatives aimed to ensure that AI systems are interpretable, trustworthy, and aligned with human values, further fueling interest in the ethical dimensions of AI research.\n",
    "\n",
    "The field of Computer Vision has been an essential factor in the exponential growth of papers published regarding AI and ML. Some of the most important breakthroughs that catalyzed this growth were the advances made through deep Convolutional Neural Networks (2011), and Generative Adversarial Networks (GANs, 2014). These advancements enabled unprecedented improvements in image recognition, generation, and object detection tasks. Combined with the availability of large, publicly accessible datasets like ImageNet, which provided critical benchmarks, these innovations enabled faster development of real-world applications. For instance, the automation of tasks like image-based quality control in manufacturing, surveillance systems, and medical imaging diagnostics became more feasible. The integration of computer vision with robotics further drove industrial use cases, leading to rapid adoption and applied research efforts.\n",
    "\n",
    "This branch of research has enabled another key contributor to the overall exponential trend: robotics. Self-driving car technology, spearheaded by companies like Tesla since 2015, has been a major driver of applied robotics research. Additionally, robotics research in general advanced through the availability of affordable and sophisticated robotic platforms, such as those developed by Boston Dynamics, which became accessible to researchers around 2015. These platforms facilitated experimentation in areas such as human-robot interaction, warehouse automation, and advanced mobility solutions, further expanding the scope and impact of robotics research.\n",
    "\n"
   ]
  },
  {
   "cell_type": "code",
   "execution_count": 15,
   "metadata": {
    "ExecuteTime": {
     "end_time": "2024-12-29T15:25:42.844256Z",
     "start_time": "2024-12-29T15:25:41.955044Z"
    }
   },
   "outputs": [
    {
     "data": {
      "application/vnd.plotly.v1+json": {
       "config": {
        "plotlyServerURL": "https://plot.ly"
       },
       "data": [
        {
         "line": {
          "color": "#636EFA"
         },
         "mode": "lines+markers",
         "name": "cs.lg",
         "type": "scatter",
         "x": [
          1997,
          1998,
          1999,
          2000,
          2001,
          2002,
          2003,
          2004,
          2005,
          2006,
          2007,
          2008,
          2009,
          2010,
          2011,
          2012,
          2013,
          2014,
          2015,
          2016,
          2017,
          2018,
          2019,
          2020,
          2021,
          2022,
          2023,
          2024
         ],
         "xaxis": "x",
         "y": [
          1,
          7,
          23,
          29,
          20,
          41,
          26,
          32,
          51,
          62,
          62,
          81,
          145,
          200,
          276,
          965,
          821,
          977,
          1243,
          1821,
          2604,
          5281,
          10147,
          13541,
          14559,
          16092,
          18664,
          26495
         ],
         "yaxis": "y"
        },
        {
         "line": {
          "color": "#636EFA"
         },
         "mode": "lines+markers",
         "name": "cs.lg",
         "showlegend": false,
         "type": "scatter",
         "x": [
          1997,
          1998,
          1999,
          2000,
          2001,
          2002,
          2003,
          2004,
          2005,
          2006,
          2007,
          2008,
          2009,
          2010,
          2011,
          2012,
          2013,
          2014,
          2015,
          2016,
          2017,
          2018,
          2019,
          2020,
          2021,
          2022,
          2023,
          2024
         ],
         "xaxis": "x2",
         "y": [
          1,
          7,
          23,
          29,
          20,
          41,
          26,
          32,
          51,
          62,
          62,
          81,
          145,
          200,
          276,
          965,
          821,
          977,
          1243,
          1821,
          2604,
          5281,
          10147,
          13541,
          14559,
          16092,
          18664,
          26495
         ],
         "yaxis": "y2"
        },
        {
         "line": {
          "color": "#EF553B"
         },
         "mode": "lines+markers",
         "name": "cs.ai",
         "type": "scatter",
         "x": [
          1994,
          1995,
          1996,
          1997,
          1998,
          1999,
          2000,
          2001,
          2002,
          2003,
          2004,
          2005,
          2006,
          2007,
          2008,
          2009,
          2010,
          2011,
          2012,
          2013,
          2014,
          2015,
          2016,
          2017,
          2018,
          2019,
          2020,
          2021,
          2022,
          2023,
          2024
         ],
         "xaxis": "x",
         "y": [
          14,
          27,
          28,
          20,
          28,
          26,
          106,
          56,
          93,
          112,
          135,
          129,
          120,
          152,
          196,
          288,
          379,
          645,
          962,
          1489,
          784,
          700,
          1174,
          1598,
          2492,
          2765,
          4253,
          7369,
          8713,
          12805,
          21728
         ],
         "yaxis": "y"
        },
        {
         "line": {
          "color": "#EF553B"
         },
         "mode": "lines+markers",
         "name": "cs.ai",
         "showlegend": false,
         "type": "scatter",
         "x": [
          1994,
          1995,
          1996,
          1997,
          1998,
          1999,
          2000,
          2001,
          2002,
          2003,
          2004,
          2005,
          2006,
          2007,
          2008,
          2009,
          2010,
          2011,
          2012,
          2013,
          2014,
          2015,
          2016,
          2017,
          2018,
          2019,
          2020,
          2021,
          2022,
          2023,
          2024
         ],
         "xaxis": "x2",
         "y": [
          14,
          27,
          28,
          20,
          28,
          26,
          106,
          56,
          93,
          112,
          135,
          129,
          120,
          152,
          196,
          288,
          379,
          645,
          962,
          1489,
          784,
          700,
          1174,
          1598,
          2492,
          2765,
          4253,
          7369,
          8713,
          12805,
          21728
         ],
         "yaxis": "y2"
        },
        {
         "line": {
          "color": "#00CC96"
         },
         "mode": "lines+markers",
         "name": "cs.cc",
         "type": "scatter",
         "x": [
          1994,
          1995,
          1997,
          1998,
          1999,
          2000,
          2001,
          2002,
          2003,
          2004,
          2005,
          2006,
          2007,
          2008,
          2009,
          2010,
          2011,
          2012,
          2013,
          2014,
          2015,
          2016,
          2017,
          2018,
          2019,
          2020,
          2021,
          2022,
          2023,
          2024
         ],
         "xaxis": "x",
         "y": [
          11,
          2,
          1,
          22,
          48,
          27,
          39,
          57,
          52,
          45,
          71,
          84,
          111,
          148,
          210,
          230,
          204,
          262,
          238,
          269,
          284,
          265,
          313,
          303,
          349,
          381,
          365,
          397,
          452,
          668
         ],
         "yaxis": "y"
        },
        {
         "line": {
          "color": "#00CC96"
         },
         "mode": "lines+markers",
         "name": "cs.cc",
         "showlegend": false,
         "type": "scatter",
         "x": [
          1994,
          1995,
          1997,
          1998,
          1999,
          2000,
          2001,
          2002,
          2003,
          2004,
          2005,
          2006,
          2007,
          2008,
          2009,
          2010,
          2011,
          2012,
          2013,
          2014,
          2015,
          2016,
          2017,
          2018,
          2019,
          2020,
          2021,
          2022,
          2023,
          2024
         ],
         "xaxis": "x2",
         "y": [
          11,
          2,
          1,
          22,
          48,
          27,
          39,
          57,
          52,
          45,
          71,
          84,
          111,
          148,
          210,
          230,
          204,
          262,
          238,
          269,
          284,
          265,
          313,
          303,
          349,
          381,
          365,
          397,
          452,
          668
         ],
         "yaxis": "y2"
        },
        {
         "line": {
          "color": "#AB63FA"
         },
         "mode": "lines+markers",
         "name": "math.st",
         "type": "scatter",
         "x": [
          1997,
          1999,
          2000,
          2001,
          2002,
          2003,
          2004,
          2005,
          2006,
          2007,
          2008,
          2009,
          2010,
          2011,
          2012,
          2013,
          2014,
          2015,
          2016,
          2017,
          2018,
          2019,
          2020,
          2021,
          2022,
          2023,
          2024
         ],
         "xaxis": "x",
         "y": [
          1,
          2,
          6,
          10,
          16,
          22,
          117,
          211,
          365,
          411,
          432,
          395,
          372,
          398,
          496,
          552,
          520,
          564,
          559,
          550,
          579,
          750,
          775,
          862,
          871,
          982,
          1501
         ],
         "yaxis": "y"
        },
        {
         "line": {
          "color": "#AB63FA"
         },
         "mode": "lines+markers",
         "name": "math.st",
         "showlegend": false,
         "type": "scatter",
         "x": [
          1997,
          1999,
          2000,
          2001,
          2002,
          2003,
          2004,
          2005,
          2006,
          2007,
          2008,
          2009,
          2010,
          2011,
          2012,
          2013,
          2014,
          2015,
          2016,
          2017,
          2018,
          2019,
          2020,
          2021,
          2022,
          2023,
          2024
         ],
         "xaxis": "x2",
         "y": [
          1,
          2,
          6,
          10,
          16,
          22,
          117,
          211,
          365,
          411,
          432,
          395,
          372,
          398,
          496,
          552,
          520,
          564,
          559,
          550,
          579,
          750,
          775,
          862,
          871,
          982,
          1501
         ],
         "yaxis": "y2"
        },
        {
         "line": {
          "color": "#FFA15A"
         },
         "mode": "lines+markers",
         "name": "math.oc",
         "type": "scatter",
         "x": [
          1995,
          1997,
          1998,
          1999,
          2000,
          2001,
          2002,
          2003,
          2004,
          2005,
          2006,
          2007,
          2008,
          2009,
          2010,
          2011,
          2012,
          2013,
          2014,
          2015,
          2016,
          2017,
          2018,
          2019,
          2020,
          2021,
          2022,
          2023,
          2024
         ],
         "xaxis": "x",
         "y": [
          2,
          2,
          4,
          30,
          32,
          31,
          79,
          60,
          76,
          88,
          156,
          211,
          242,
          269,
          381,
          538,
          713,
          890,
          979,
          1161,
          1388,
          1538,
          1745,
          2126,
          2591,
          2562,
          2743,
          3138,
          4413
         ],
         "yaxis": "y"
        },
        {
         "line": {
          "color": "#FFA15A"
         },
         "mode": "lines+markers",
         "name": "math.oc",
         "showlegend": false,
         "type": "scatter",
         "x": [
          1995,
          1997,
          1998,
          1999,
          2000,
          2001,
          2002,
          2003,
          2004,
          2005,
          2006,
          2007,
          2008,
          2009,
          2010,
          2011,
          2012,
          2013,
          2014,
          2015,
          2016,
          2017,
          2018,
          2019,
          2020,
          2021,
          2022,
          2023,
          2024
         ],
         "xaxis": "x2",
         "y": [
          2,
          2,
          4,
          30,
          32,
          31,
          79,
          60,
          76,
          88,
          156,
          211,
          242,
          269,
          381,
          538,
          713,
          890,
          979,
          1161,
          1388,
          1538,
          1745,
          2126,
          2591,
          2562,
          2743,
          3138,
          4413
         ],
         "yaxis": "y2"
        },
        {
         "line": {
          "color": "#19D3F3"
         },
         "mode": "lines+markers",
         "name": "math.pr",
         "type": "scatter",
         "x": [
          1994,
          1995,
          1996,
          1997,
          1998,
          1999,
          2000,
          2001,
          2002,
          2003,
          2004,
          2005,
          2006,
          2007,
          2008,
          2009,
          2010,
          2011,
          2012,
          2013,
          2014,
          2015,
          2016,
          2017,
          2018,
          2019,
          2020,
          2021,
          2022,
          2023,
          2024
         ],
         "xaxis": "x",
         "y": [
          2,
          3,
          5,
          16,
          73,
          79,
          129,
          130,
          168,
          224,
          456,
          614,
          747,
          838,
          768,
          909,
          1022,
          1066,
          1201,
          1296,
          1335,
          1428,
          1458,
          1426,
          1482,
          1553,
          1659,
          1773,
          1880,
          2129,
          3151
         ],
         "yaxis": "y"
        },
        {
         "line": {
          "color": "#19D3F3"
         },
         "mode": "lines+markers",
         "name": "math.pr",
         "showlegend": false,
         "type": "scatter",
         "x": [
          1994,
          1995,
          1996,
          1997,
          1998,
          1999,
          2000,
          2001,
          2002,
          2003,
          2004,
          2005,
          2006,
          2007,
          2008,
          2009,
          2010,
          2011,
          2012,
          2013,
          2014,
          2015,
          2016,
          2017,
          2018,
          2019,
          2020,
          2021,
          2022,
          2023,
          2024
         ],
         "xaxis": "x2",
         "y": [
          2,
          3,
          5,
          16,
          73,
          79,
          129,
          130,
          168,
          224,
          456,
          614,
          747,
          838,
          768,
          909,
          1022,
          1066,
          1201,
          1296,
          1335,
          1428,
          1458,
          1426,
          1482,
          1553,
          1659,
          1773,
          1880,
          2129,
          3151
         ],
         "yaxis": "y2"
        },
        {
         "line": {
          "color": "#FF6692"
         },
         "mode": "lines+markers",
         "name": "stat.ml",
         "type": "scatter",
         "x": [
          2002,
          2004,
          2007,
          2008,
          2009,
          2010,
          2011,
          2012,
          2013,
          2014,
          2015,
          2016,
          2017,
          2018,
          2019,
          2020,
          2021,
          2022,
          2023,
          2024
         ],
         "xaxis": "x",
         "y": [
          1,
          1,
          22,
          63,
          98,
          136,
          202,
          799,
          626,
          708,
          880,
          1291,
          1978,
          4133,
          6350,
          5933,
          2244,
          2234,
          2561,
          3766
         ],
         "yaxis": "y"
        },
        {
         "line": {
          "color": "#FF6692"
         },
         "mode": "lines+markers",
         "name": "stat.ml",
         "showlegend": false,
         "type": "scatter",
         "x": [
          2002,
          2004,
          2007,
          2008,
          2009,
          2010,
          2011,
          2012,
          2013,
          2014,
          2015,
          2016,
          2017,
          2018,
          2019,
          2020,
          2021,
          2022,
          2023,
          2024
         ],
         "xaxis": "x2",
         "y": [
          1,
          1,
          22,
          63,
          98,
          136,
          202,
          799,
          626,
          708,
          880,
          1291,
          1978,
          4133,
          6350,
          5933,
          2244,
          2234,
          2561,
          3766
         ],
         "yaxis": "y2"
        },
        {
         "line": {
          "color": "#B6E880"
         },
         "mode": "lines+markers",
         "name": "cs.cv",
         "type": "scatter",
         "x": [
          1998,
          1999,
          2000,
          2001,
          2002,
          2003,
          2004,
          2005,
          2006,
          2007,
          2008,
          2009,
          2010,
          2011,
          2012,
          2013,
          2014,
          2015,
          2016,
          2017,
          2018,
          2019,
          2020,
          2021,
          2022,
          2023,
          2024
         ],
         "xaxis": "x",
         "y": [
          3,
          3,
          15,
          3,
          15,
          20,
          26,
          24,
          28,
          50,
          63,
          114,
          244,
          283,
          447,
          617,
          859,
          1322,
          2108,
          3267,
          4953,
          6714,
          8871,
          10022,
          11759,
          14466,
          20823
         ],
         "yaxis": "y"
        },
        {
         "line": {
          "color": "#B6E880"
         },
         "mode": "lines+markers",
         "name": "cs.cv",
         "showlegend": false,
         "type": "scatter",
         "x": [
          1998,
          1999,
          2000,
          2001,
          2002,
          2003,
          2004,
          2005,
          2006,
          2007,
          2008,
          2009,
          2010,
          2011,
          2012,
          2013,
          2014,
          2015,
          2016,
          2017,
          2018,
          2019,
          2020,
          2021,
          2022,
          2023,
          2024
         ],
         "xaxis": "x2",
         "y": [
          3,
          3,
          15,
          3,
          15,
          20,
          26,
          24,
          28,
          50,
          63,
          114,
          244,
          283,
          447,
          617,
          859,
          1322,
          2108,
          3267,
          4953,
          6714,
          8871,
          10022,
          11759,
          14466,
          20823
         ],
         "yaxis": "y2"
        },
        {
         "line": {
          "color": "#FF97FF"
         },
         "mode": "lines+markers",
         "name": "cs.cl",
         "type": "scatter",
         "x": [
          1994,
          1995,
          1996,
          1997,
          1998,
          1999,
          2000,
          2001,
          2002,
          2003,
          2004,
          2005,
          2006,
          2007,
          2008,
          2009,
          2010,
          2011,
          2012,
          2013,
          2014,
          2015,
          2016,
          2017,
          2018,
          2019,
          2020,
          2021,
          2022,
          2023,
          2024
         ],
         "xaxis": "x",
         "y": [
          187,
          187,
          181,
          149,
          98,
          53,
          119,
          74,
          63,
          52,
          49,
          22,
          49,
          49,
          56,
          76,
          71,
          94,
          183,
          244,
          400,
          486,
          990,
          1473,
          2400,
          3323,
          4157,
          4950,
          5361,
          7837,
          12690
         ],
         "yaxis": "y"
        },
        {
         "line": {
          "color": "#FF97FF"
         },
         "mode": "lines+markers",
         "name": "cs.cl",
         "showlegend": false,
         "type": "scatter",
         "x": [
          1994,
          1995,
          1996,
          1997,
          1998,
          1999,
          2000,
          2001,
          2002,
          2003,
          2004,
          2005,
          2006,
          2007,
          2008,
          2009,
          2010,
          2011,
          2012,
          2013,
          2014,
          2015,
          2016,
          2017,
          2018,
          2019,
          2020,
          2021,
          2022,
          2023,
          2024
         ],
         "xaxis": "x2",
         "y": [
          187,
          187,
          181,
          149,
          98,
          53,
          119,
          74,
          63,
          52,
          49,
          22,
          49,
          49,
          56,
          76,
          71,
          94,
          183,
          244,
          400,
          486,
          990,
          1473,
          2400,
          3323,
          4157,
          4950,
          5361,
          7837,
          12690
         ],
         "yaxis": "y2"
        },
        {
         "line": {
          "color": "#FECB52"
         },
         "mode": "lines+markers",
         "name": "cs.ne",
         "type": "scatter",
         "x": [
          1998,
          1999,
          2000,
          2001,
          2002,
          2003,
          2004,
          2005,
          2006,
          2007,
          2008,
          2009,
          2010,
          2011,
          2012,
          2013,
          2014,
          2015,
          2016,
          2017,
          2018,
          2019,
          2020,
          2021,
          2022,
          2023,
          2024
         ],
         "xaxis": "x",
         "y": [
          14,
          9,
          9,
          10,
          24,
          38,
          40,
          55,
          38,
          72,
          84,
          95,
          140,
          114,
          179,
          213,
          329,
          347,
          457,
          572,
          682,
          854,
          1047,
          876,
          911,
          991,
          1325
         ],
         "yaxis": "y"
        },
        {
         "line": {
          "color": "#FECB52"
         },
         "mode": "lines+markers",
         "name": "cs.ne",
         "showlegend": false,
         "type": "scatter",
         "x": [
          1998,
          1999,
          2000,
          2001,
          2002,
          2003,
          2004,
          2005,
          2006,
          2007,
          2008,
          2009,
          2010,
          2011,
          2012,
          2013,
          2014,
          2015,
          2016,
          2017,
          2018,
          2019,
          2020,
          2021,
          2022,
          2023,
          2024
         ],
         "xaxis": "x2",
         "y": [
          14,
          9,
          9,
          10,
          24,
          38,
          40,
          55,
          38,
          72,
          84,
          95,
          140,
          114,
          179,
          213,
          329,
          347,
          457,
          572,
          682,
          854,
          1047,
          876,
          911,
          991,
          1325
         ],
         "yaxis": "y2"
        },
        {
         "line": {
          "color": "#636EFA"
         },
         "mode": "lines+markers",
         "name": "cs.ro",
         "type": "scatter",
         "x": [
          1998,
          2000,
          2001,
          2002,
          2003,
          2004,
          2005,
          2006,
          2007,
          2008,
          2009,
          2010,
          2011,
          2012,
          2013,
          2014,
          2015,
          2016,
          2017,
          2018,
          2019,
          2020,
          2021,
          2022,
          2023,
          2024
         ],
         "xaxis": "x",
         "y": [
          2,
          7,
          1,
          7,
          4,
          21,
          15,
          32,
          93,
          56,
          59,
          59,
          94,
          127,
          147,
          196,
          227,
          487,
          750,
          1090,
          1682,
          2292,
          2858,
          3194,
          4149,
          6135
         ],
         "yaxis": "y"
        },
        {
         "line": {
          "color": "#636EFA"
         },
         "mode": "lines+markers",
         "name": "cs.ro",
         "showlegend": false,
         "type": "scatter",
         "x": [
          1998,
          2000,
          2001,
          2002,
          2003,
          2004,
          2005,
          2006,
          2007,
          2008,
          2009,
          2010,
          2011,
          2012,
          2013,
          2014,
          2015,
          2016,
          2017,
          2018,
          2019,
          2020,
          2021,
          2022,
          2023,
          2024
         ],
         "xaxis": "x2",
         "y": [
          2,
          7,
          1,
          7,
          4,
          21,
          15,
          32,
          93,
          56,
          59,
          59,
          94,
          127,
          147,
          196,
          227,
          487,
          750,
          1090,
          1682,
          2292,
          2858,
          3194,
          4149,
          6135
         ],
         "yaxis": "y2"
        },
        {
         "line": {
          "color": "#EF553B"
         },
         "mode": "lines+markers",
         "name": "math.ds",
         "type": "scatter",
         "x": [
          1994,
          1995,
          1996,
          1997,
          1998,
          1999,
          2000,
          2001,
          2002,
          2003,
          2004,
          2005,
          2006,
          2007,
          2008,
          2009,
          2010,
          2011,
          2012,
          2013,
          2014,
          2015,
          2016,
          2017,
          2018,
          2019,
          2020,
          2021,
          2022,
          2023,
          2024
         ],
         "xaxis": "x",
         "y": [
          24,
          30,
          36,
          19,
          56,
          127,
          124,
          124,
          192,
          234,
          277,
          298,
          375,
          426,
          480,
          577,
          581,
          761,
          862,
          824,
          913,
          1005,
          1054,
          1137,
          1112,
          1273,
          1420,
          1445,
          1407,
          1711,
          2263
         ],
         "yaxis": "y"
        },
        {
         "line": {
          "color": "#EF553B"
         },
         "mode": "lines+markers",
         "name": "math.ds",
         "showlegend": false,
         "type": "scatter",
         "x": [
          1994,
          1995,
          1996,
          1997,
          1998,
          1999,
          2000,
          2001,
          2002,
          2003,
          2004,
          2005,
          2006,
          2007,
          2008,
          2009,
          2010,
          2011,
          2012,
          2013,
          2014,
          2015,
          2016,
          2017,
          2018,
          2019,
          2020,
          2021,
          2022,
          2023,
          2024
         ],
         "xaxis": "x2",
         "y": [
          24,
          30,
          36,
          19,
          56,
          127,
          124,
          124,
          192,
          234,
          277,
          298,
          375,
          426,
          480,
          577,
          581,
          761,
          862,
          824,
          913,
          1005,
          1054,
          1137,
          1112,
          1273,
          1420,
          1445,
          1407,
          1711,
          2263
         ],
         "yaxis": "y2"
        },
        {
         "line": {
          "color": "#00CC96"
         },
         "mode": "lines+markers",
         "name": "cs.hc",
         "type": "scatter",
         "x": [
          1998,
          1999,
          2000,
          2001,
          2002,
          2003,
          2004,
          2005,
          2006,
          2007,
          2008,
          2009,
          2010,
          2011,
          2012,
          2013,
          2014,
          2015,
          2016,
          2017,
          2018,
          2019,
          2020,
          2021,
          2022,
          2023,
          2024
         ],
         "xaxis": "x",
         "y": [
          7,
          4,
          8,
          12,
          9,
          14,
          24,
          9,
          31,
          71,
          103,
          85,
          87,
          64,
          123,
          175,
          230,
          223,
          388,
          496,
          662,
          1019,
          1332,
          1558,
          1786,
          2639,
          4157
         ],
         "yaxis": "y"
        },
        {
         "line": {
          "color": "#00CC96"
         },
         "mode": "lines+markers",
         "name": "cs.hc",
         "showlegend": false,
         "type": "scatter",
         "x": [
          1998,
          1999,
          2000,
          2001,
          2002,
          2003,
          2004,
          2005,
          2006,
          2007,
          2008,
          2009,
          2010,
          2011,
          2012,
          2013,
          2014,
          2015,
          2016,
          2017,
          2018,
          2019,
          2020,
          2021,
          2022,
          2023,
          2024
         ],
         "xaxis": "x2",
         "y": [
          7,
          4,
          8,
          12,
          9,
          14,
          24,
          9,
          31,
          71,
          103,
          85,
          87,
          64,
          123,
          175,
          230,
          223,
          388,
          496,
          662,
          1019,
          1332,
          1558,
          1786,
          2639,
          4157
         ],
         "yaxis": "y2"
        },
        {
         "line": {
          "color": "#AB63FA"
         },
         "mode": "lines+markers",
         "name": "cs.dm",
         "type": "scatter",
         "x": [
          1998,
          1999,
          2000,
          2001,
          2002,
          2003,
          2004,
          2005,
          2006,
          2007,
          2008,
          2009,
          2010,
          2011,
          2012,
          2013,
          2014,
          2015,
          2016,
          2017,
          2018,
          2019,
          2020,
          2021,
          2022,
          2023,
          2024
         ],
         "xaxis": "x",
         "y": [
          3,
          8,
          14,
          26,
          33,
          29,
          56,
          58,
          87,
          151,
          192,
          233,
          271,
          310,
          450,
          362,
          343,
          378,
          360,
          417,
          438,
          521,
          496,
          536,
          510,
          573,
          806
         ],
         "yaxis": "y"
        },
        {
         "line": {
          "color": "#AB63FA"
         },
         "mode": "lines+markers",
         "name": "cs.dm",
         "showlegend": false,
         "type": "scatter",
         "x": [
          1998,
          1999,
          2000,
          2001,
          2002,
          2003,
          2004,
          2005,
          2006,
          2007,
          2008,
          2009,
          2010,
          2011,
          2012,
          2013,
          2014,
          2015,
          2016,
          2017,
          2018,
          2019,
          2020,
          2021,
          2022,
          2023,
          2024
         ],
         "xaxis": "x2",
         "y": [
          3,
          8,
          14,
          26,
          33,
          29,
          56,
          58,
          87,
          151,
          192,
          233,
          271,
          310,
          450,
          362,
          343,
          378,
          360,
          417,
          438,
          521,
          496,
          536,
          510,
          573,
          806
         ],
         "yaxis": "y2"
        },
        {
         "line": {
          "color": "#FFA15A"
         },
         "mode": "lines+markers",
         "name": "cs.ma",
         "type": "scatter",
         "x": [
          1998,
          1999,
          2000,
          2001,
          2002,
          2003,
          2004,
          2005,
          2006,
          2007,
          2008,
          2009,
          2010,
          2011,
          2012,
          2013,
          2014,
          2015,
          2016,
          2017,
          2018,
          2019,
          2020,
          2021,
          2022,
          2023,
          2024
         ],
         "xaxis": "x",
         "y": [
          6,
          9,
          2,
          7,
          19,
          14,
          17,
          24,
          31,
          23,
          49,
          68,
          75,
          70,
          92,
          93,
          149,
          100,
          159,
          205,
          256,
          436,
          525,
          541,
          617,
          787,
          953
         ],
         "yaxis": "y"
        },
        {
         "line": {
          "color": "#FFA15A"
         },
         "mode": "lines+markers",
         "name": "cs.ma",
         "showlegend": false,
         "type": "scatter",
         "x": [
          1998,
          1999,
          2000,
          2001,
          2002,
          2003,
          2004,
          2005,
          2006,
          2007,
          2008,
          2009,
          2010,
          2011,
          2012,
          2013,
          2014,
          2015,
          2016,
          2017,
          2018,
          2019,
          2020,
          2021,
          2022,
          2023,
          2024
         ],
         "xaxis": "x2",
         "y": [
          6,
          9,
          2,
          7,
          19,
          14,
          17,
          24,
          31,
          23,
          49,
          68,
          75,
          70,
          92,
          93,
          149,
          100,
          159,
          205,
          256,
          436,
          525,
          541,
          617,
          787,
          953
         ],
         "yaxis": "y2"
        },
        {
         "line": {
          "color": "#19D3F3"
         },
         "mode": "lines+markers",
         "name": "cs.sd",
         "type": "scatter",
         "x": [
          2000,
          2001,
          2002,
          2003,
          2004,
          2006,
          2007,
          2008,
          2009,
          2010,
          2011,
          2012,
          2013,
          2014,
          2015,
          2016,
          2017,
          2018,
          2019,
          2020,
          2021,
          2022,
          2023,
          2024
         ],
         "xaxis": "x",
         "y": [
          4,
          3,
          5,
          3,
          1,
          4,
          5,
          4,
          13,
          20,
          27,
          27,
          45,
          56,
          94,
          200,
          263,
          509,
          737,
          1129,
          1347,
          1621,
          1790,
          2253
         ],
         "yaxis": "y"
        },
        {
         "line": {
          "color": "#19D3F3"
         },
         "mode": "lines+markers",
         "name": "cs.sd",
         "showlegend": false,
         "type": "scatter",
         "x": [
          2000,
          2001,
          2002,
          2003,
          2004,
          2006,
          2007,
          2008,
          2009,
          2010,
          2011,
          2012,
          2013,
          2014,
          2015,
          2016,
          2017,
          2018,
          2019,
          2020,
          2021,
          2022,
          2023,
          2024
         ],
         "xaxis": "x2",
         "y": [
          4,
          3,
          5,
          3,
          1,
          4,
          5,
          4,
          13,
          20,
          27,
          27,
          45,
          56,
          94,
          200,
          263,
          509,
          737,
          1129,
          1347,
          1621,
          1790,
          2253
         ],
         "yaxis": "y2"
        },
        {
         "line": {
          "color": "#FF6692"
         },
         "mode": "lines+markers",
         "name": "math.qa",
         "type": "scatter",
         "x": [
          1994,
          1995,
          1996,
          1997,
          1998,
          1999,
          2000,
          2001,
          2002,
          2003,
          2004,
          2005,
          2006,
          2007,
          2008,
          2009,
          2010,
          2011,
          2012,
          2013,
          2014,
          2015,
          2016,
          2017,
          2018,
          2019,
          2020,
          2021,
          2022,
          2023,
          2024
         ],
         "xaxis": "x",
         "y": [
          194,
          300,
          353,
          382,
          340,
          298,
          321,
          306,
          293,
          292,
          259,
          259,
          256,
          275,
          234,
          256,
          244,
          258,
          268,
          277,
          274,
          275,
          289,
          275,
          304,
          297,
          310,
          280,
          353,
          429,
          599
         ],
         "yaxis": "y"
        },
        {
         "line": {
          "color": "#FF6692"
         },
         "mode": "lines+markers",
         "name": "math.qa",
         "showlegend": false,
         "type": "scatter",
         "x": [
          1994,
          1995,
          1996,
          1997,
          1998,
          1999,
          2000,
          2001,
          2002,
          2003,
          2004,
          2005,
          2006,
          2007,
          2008,
          2009,
          2010,
          2011,
          2012,
          2013,
          2014,
          2015,
          2016,
          2017,
          2018,
          2019,
          2020,
          2021,
          2022,
          2023,
          2024
         ],
         "xaxis": "x2",
         "y": [
          194,
          300,
          353,
          382,
          340,
          298,
          321,
          306,
          293,
          292,
          259,
          259,
          256,
          275,
          234,
          256,
          244,
          258,
          268,
          277,
          274,
          275,
          289,
          275,
          304,
          297,
          310,
          280,
          353,
          429,
          599
         ],
         "yaxis": "y2"
        },
        {
         "line": {
          "color": "#B6E880"
         },
         "mode": "lines+markers",
         "name": "q-fin.st",
         "type": "scatter",
         "x": [
          1997,
          1998,
          1999,
          2000,
          2001,
          2002,
          2003,
          2004,
          2005,
          2006,
          2007,
          2008,
          2009,
          2010,
          2011,
          2012,
          2013,
          2014,
          2015,
          2016,
          2017,
          2018,
          2019,
          2020,
          2021,
          2022,
          2023,
          2024
         ],
         "xaxis": "x",
         "y": [
          6,
          9,
          21,
          27,
          37,
          33,
          40,
          44,
          63,
          74,
          86,
          77,
          70,
          71,
          99,
          83,
          77,
          100,
          90,
          93,
          82,
          94,
          142,
          178,
          171,
          147,
          212,
          243
         ],
         "yaxis": "y"
        },
        {
         "line": {
          "color": "#B6E880"
         },
         "mode": "lines+markers",
         "name": "q-fin.st",
         "showlegend": false,
         "type": "scatter",
         "x": [
          1997,
          1998,
          1999,
          2000,
          2001,
          2002,
          2003,
          2004,
          2005,
          2006,
          2007,
          2008,
          2009,
          2010,
          2011,
          2012,
          2013,
          2014,
          2015,
          2016,
          2017,
          2018,
          2019,
          2020,
          2021,
          2022,
          2023,
          2024
         ],
         "xaxis": "x2",
         "y": [
          6,
          9,
          21,
          27,
          37,
          33,
          40,
          44,
          63,
          74,
          86,
          77,
          70,
          71,
          99,
          83,
          77,
          100,
          90,
          93,
          82,
          94,
          142,
          178,
          171,
          147,
          212,
          243
         ],
         "yaxis": "y2"
        },
        {
         "line": {
          "color": "#FF97FF"
         },
         "mode": "lines+markers",
         "name": "q-fin.mf",
         "type": "scatter",
         "x": [
          2014,
          2015,
          2016,
          2017,
          2018,
          2019,
          2020,
          2021,
          2022,
          2023,
          2024
         ],
         "xaxis": "x",
         "y": [
          47,
          82,
          116,
          86,
          108,
          127,
          122,
          129,
          125,
          142,
          228
         ],
         "yaxis": "y"
        },
        {
         "line": {
          "color": "#FF97FF"
         },
         "mode": "lines+markers",
         "name": "q-fin.mf",
         "showlegend": false,
         "type": "scatter",
         "x": [
          2014,
          2015,
          2016,
          2017,
          2018,
          2019,
          2020,
          2021,
          2022,
          2023,
          2024
         ],
         "xaxis": "x2",
         "y": [
          47,
          82,
          116,
          86,
          108,
          127,
          122,
          129,
          125,
          142,
          228
         ],
         "yaxis": "y2"
        },
        {
         "line": {
          "color": "#FECB52"
         },
         "mode": "lines+markers",
         "name": "q-fin.cp",
         "type": "scatter",
         "x": [
          1998,
          1999,
          2000,
          2001,
          2002,
          2003,
          2004,
          2005,
          2006,
          2007,
          2008,
          2009,
          2010,
          2011,
          2012,
          2013,
          2014,
          2015,
          2016,
          2017,
          2018,
          2019,
          2020,
          2021,
          2022,
          2023,
          2024
         ],
         "xaxis": "x",
         "y": [
          2,
          2,
          1,
          3,
          1,
          4,
          4,
          8,
          12,
          15,
          24,
          59,
          73,
          52,
          55,
          43,
          48,
          54,
          56,
          51,
          74,
          73,
          100,
          145,
          151,
          169,
          277
         ],
         "yaxis": "y"
        },
        {
         "line": {
          "color": "#FECB52"
         },
         "mode": "lines+markers",
         "name": "q-fin.cp",
         "showlegend": false,
         "type": "scatter",
         "x": [
          1998,
          1999,
          2000,
          2001,
          2002,
          2003,
          2004,
          2005,
          2006,
          2007,
          2008,
          2009,
          2010,
          2011,
          2012,
          2013,
          2014,
          2015,
          2016,
          2017,
          2018,
          2019,
          2020,
          2021,
          2022,
          2023,
          2024
         ],
         "xaxis": "x2",
         "y": [
          2,
          2,
          1,
          3,
          1,
          4,
          4,
          8,
          12,
          15,
          24,
          59,
          73,
          52,
          55,
          43,
          48,
          54,
          56,
          51,
          74,
          73,
          100,
          145,
          151,
          169,
          277
         ],
         "yaxis": "y2"
        },
        {
         "line": {
          "color": "#636EFA"
         },
         "mode": "lines+markers",
         "name": "stat.th",
         "type": "scatter",
         "x": [
          1997,
          1999,
          2000,
          2001,
          2002,
          2003,
          2004,
          2005,
          2006,
          2007,
          2008,
          2009,
          2010,
          2011,
          2012,
          2013,
          2014,
          2015,
          2016,
          2017,
          2018,
          2019,
          2020,
          2021,
          2022,
          2023,
          2024
         ],
         "xaxis": "x",
         "y": [
          1,
          2,
          6,
          10,
          16,
          22,
          117,
          211,
          365,
          411,
          432,
          395,
          372,
          398,
          496,
          552,
          520,
          564,
          558,
          550,
          579,
          750,
          775,
          862,
          871,
          982,
          1501
         ],
         "yaxis": "y"
        },
        {
         "line": {
          "color": "#636EFA"
         },
         "mode": "lines+markers",
         "name": "stat.th",
         "showlegend": false,
         "type": "scatter",
         "x": [
          1997,
          1999,
          2000,
          2001,
          2002,
          2003,
          2004,
          2005,
          2006,
          2007,
          2008,
          2009,
          2010,
          2011,
          2012,
          2013,
          2014,
          2015,
          2016,
          2017,
          2018,
          2019,
          2020,
          2021,
          2022,
          2023,
          2024
         ],
         "xaxis": "x2",
         "y": [
          1,
          2,
          6,
          10,
          16,
          22,
          117,
          211,
          365,
          411,
          432,
          395,
          372,
          398,
          496,
          552,
          520,
          564,
          558,
          550,
          579,
          750,
          775,
          862,
          871,
          982,
          1501
         ],
         "yaxis": "y2"
        }
       ],
       "layout": {
        "annotations": [
         {
          "font": {
           "size": 16
          },
          "showarrow": false,
          "text": "Linear-Scale",
          "x": 0.225,
          "xanchor": "center",
          "xref": "paper",
          "y": 1,
          "yanchor": "bottom",
          "yref": "paper"
         },
         {
          "font": {
           "size": 16
          },
          "showarrow": false,
          "text": "Log-Scale",
          "x": 0.775,
          "xanchor": "center",
          "xref": "paper",
          "y": 1,
          "yanchor": "bottom",
          "yref": "paper"
         }
        ],
        "height": 550,
        "legend": {
         "title": {
          "text": "Categories"
         }
        },
        "template": {
         "data": {
          "bar": [
           {
            "error_x": {
             "color": "#2a3f5f"
            },
            "error_y": {
             "color": "#2a3f5f"
            },
            "marker": {
             "line": {
              "color": "white",
              "width": 0.5
             },
             "pattern": {
              "fillmode": "overlay",
              "size": 10,
              "solidity": 0.2
             }
            },
            "type": "bar"
           }
          ],
          "barpolar": [
           {
            "marker": {
             "line": {
              "color": "white",
              "width": 0.5
             },
             "pattern": {
              "fillmode": "overlay",
              "size": 10,
              "solidity": 0.2
             }
            },
            "type": "barpolar"
           }
          ],
          "carpet": [
           {
            "aaxis": {
             "endlinecolor": "#2a3f5f",
             "gridcolor": "#C8D4E3",
             "linecolor": "#C8D4E3",
             "minorgridcolor": "#C8D4E3",
             "startlinecolor": "#2a3f5f"
            },
            "baxis": {
             "endlinecolor": "#2a3f5f",
             "gridcolor": "#C8D4E3",
             "linecolor": "#C8D4E3",
             "minorgridcolor": "#C8D4E3",
             "startlinecolor": "#2a3f5f"
            },
            "type": "carpet"
           }
          ],
          "choropleth": [
           {
            "colorbar": {
             "outlinewidth": 0,
             "ticks": ""
            },
            "type": "choropleth"
           }
          ],
          "contour": [
           {
            "colorbar": {
             "outlinewidth": 0,
             "ticks": ""
            },
            "colorscale": [
             [
              0,
              "#0d0887"
             ],
             [
              0.1111111111111111,
              "#46039f"
             ],
             [
              0.2222222222222222,
              "#7201a8"
             ],
             [
              0.3333333333333333,
              "#9c179e"
             ],
             [
              0.4444444444444444,
              "#bd3786"
             ],
             [
              0.5555555555555556,
              "#d8576b"
             ],
             [
              0.6666666666666666,
              "#ed7953"
             ],
             [
              0.7777777777777778,
              "#fb9f3a"
             ],
             [
              0.8888888888888888,
              "#fdca26"
             ],
             [
              1,
              "#f0f921"
             ]
            ],
            "type": "contour"
           }
          ],
          "contourcarpet": [
           {
            "colorbar": {
             "outlinewidth": 0,
             "ticks": ""
            },
            "type": "contourcarpet"
           }
          ],
          "heatmap": [
           {
            "colorbar": {
             "outlinewidth": 0,
             "ticks": ""
            },
            "colorscale": [
             [
              0,
              "#0d0887"
             ],
             [
              0.1111111111111111,
              "#46039f"
             ],
             [
              0.2222222222222222,
              "#7201a8"
             ],
             [
              0.3333333333333333,
              "#9c179e"
             ],
             [
              0.4444444444444444,
              "#bd3786"
             ],
             [
              0.5555555555555556,
              "#d8576b"
             ],
             [
              0.6666666666666666,
              "#ed7953"
             ],
             [
              0.7777777777777778,
              "#fb9f3a"
             ],
             [
              0.8888888888888888,
              "#fdca26"
             ],
             [
              1,
              "#f0f921"
             ]
            ],
            "type": "heatmap"
           }
          ],
          "heatmapgl": [
           {
            "colorbar": {
             "outlinewidth": 0,
             "ticks": ""
            },
            "colorscale": [
             [
              0,
              "#0d0887"
             ],
             [
              0.1111111111111111,
              "#46039f"
             ],
             [
              0.2222222222222222,
              "#7201a8"
             ],
             [
              0.3333333333333333,
              "#9c179e"
             ],
             [
              0.4444444444444444,
              "#bd3786"
             ],
             [
              0.5555555555555556,
              "#d8576b"
             ],
             [
              0.6666666666666666,
              "#ed7953"
             ],
             [
              0.7777777777777778,
              "#fb9f3a"
             ],
             [
              0.8888888888888888,
              "#fdca26"
             ],
             [
              1,
              "#f0f921"
             ]
            ],
            "type": "heatmapgl"
           }
          ],
          "histogram": [
           {
            "marker": {
             "pattern": {
              "fillmode": "overlay",
              "size": 10,
              "solidity": 0.2
             }
            },
            "type": "histogram"
           }
          ],
          "histogram2d": [
           {
            "colorbar": {
             "outlinewidth": 0,
             "ticks": ""
            },
            "colorscale": [
             [
              0,
              "#0d0887"
             ],
             [
              0.1111111111111111,
              "#46039f"
             ],
             [
              0.2222222222222222,
              "#7201a8"
             ],
             [
              0.3333333333333333,
              "#9c179e"
             ],
             [
              0.4444444444444444,
              "#bd3786"
             ],
             [
              0.5555555555555556,
              "#d8576b"
             ],
             [
              0.6666666666666666,
              "#ed7953"
             ],
             [
              0.7777777777777778,
              "#fb9f3a"
             ],
             [
              0.8888888888888888,
              "#fdca26"
             ],
             [
              1,
              "#f0f921"
             ]
            ],
            "type": "histogram2d"
           }
          ],
          "histogram2dcontour": [
           {
            "colorbar": {
             "outlinewidth": 0,
             "ticks": ""
            },
            "colorscale": [
             [
              0,
              "#0d0887"
             ],
             [
              0.1111111111111111,
              "#46039f"
             ],
             [
              0.2222222222222222,
              "#7201a8"
             ],
             [
              0.3333333333333333,
              "#9c179e"
             ],
             [
              0.4444444444444444,
              "#bd3786"
             ],
             [
              0.5555555555555556,
              "#d8576b"
             ],
             [
              0.6666666666666666,
              "#ed7953"
             ],
             [
              0.7777777777777778,
              "#fb9f3a"
             ],
             [
              0.8888888888888888,
              "#fdca26"
             ],
             [
              1,
              "#f0f921"
             ]
            ],
            "type": "histogram2dcontour"
           }
          ],
          "mesh3d": [
           {
            "colorbar": {
             "outlinewidth": 0,
             "ticks": ""
            },
            "type": "mesh3d"
           }
          ],
          "parcoords": [
           {
            "line": {
             "colorbar": {
              "outlinewidth": 0,
              "ticks": ""
             }
            },
            "type": "parcoords"
           }
          ],
          "pie": [
           {
            "automargin": true,
            "type": "pie"
           }
          ],
          "scatter": [
           {
            "fillpattern": {
             "fillmode": "overlay",
             "size": 10,
             "solidity": 0.2
            },
            "type": "scatter"
           }
          ],
          "scatter3d": [
           {
            "line": {
             "colorbar": {
              "outlinewidth": 0,
              "ticks": ""
             }
            },
            "marker": {
             "colorbar": {
              "outlinewidth": 0,
              "ticks": ""
             }
            },
            "type": "scatter3d"
           }
          ],
          "scattercarpet": [
           {
            "marker": {
             "colorbar": {
              "outlinewidth": 0,
              "ticks": ""
             }
            },
            "type": "scattercarpet"
           }
          ],
          "scattergeo": [
           {
            "marker": {
             "colorbar": {
              "outlinewidth": 0,
              "ticks": ""
             }
            },
            "type": "scattergeo"
           }
          ],
          "scattergl": [
           {
            "marker": {
             "colorbar": {
              "outlinewidth": 0,
              "ticks": ""
             }
            },
            "type": "scattergl"
           }
          ],
          "scattermapbox": [
           {
            "marker": {
             "colorbar": {
              "outlinewidth": 0,
              "ticks": ""
             }
            },
            "type": "scattermapbox"
           }
          ],
          "scatterpolar": [
           {
            "marker": {
             "colorbar": {
              "outlinewidth": 0,
              "ticks": ""
             }
            },
            "type": "scatterpolar"
           }
          ],
          "scatterpolargl": [
           {
            "marker": {
             "colorbar": {
              "outlinewidth": 0,
              "ticks": ""
             }
            },
            "type": "scatterpolargl"
           }
          ],
          "scatterternary": [
           {
            "marker": {
             "colorbar": {
              "outlinewidth": 0,
              "ticks": ""
             }
            },
            "type": "scatterternary"
           }
          ],
          "surface": [
           {
            "colorbar": {
             "outlinewidth": 0,
             "ticks": ""
            },
            "colorscale": [
             [
              0,
              "#0d0887"
             ],
             [
              0.1111111111111111,
              "#46039f"
             ],
             [
              0.2222222222222222,
              "#7201a8"
             ],
             [
              0.3333333333333333,
              "#9c179e"
             ],
             [
              0.4444444444444444,
              "#bd3786"
             ],
             [
              0.5555555555555556,
              "#d8576b"
             ],
             [
              0.6666666666666666,
              "#ed7953"
             ],
             [
              0.7777777777777778,
              "#fb9f3a"
             ],
             [
              0.8888888888888888,
              "#fdca26"
             ],
             [
              1,
              "#f0f921"
             ]
            ],
            "type": "surface"
           }
          ],
          "table": [
           {
            "cells": {
             "fill": {
              "color": "#EBF0F8"
             },
             "line": {
              "color": "white"
             }
            },
            "header": {
             "fill": {
              "color": "#C8D4E3"
             },
             "line": {
              "color": "white"
             }
            },
            "type": "table"
           }
          ]
         },
         "layout": {
          "annotationdefaults": {
           "arrowcolor": "#2a3f5f",
           "arrowhead": 0,
           "arrowwidth": 1
          },
          "autotypenumbers": "strict",
          "coloraxis": {
           "colorbar": {
            "outlinewidth": 0,
            "ticks": ""
           }
          },
          "colorscale": {
           "diverging": [
            [
             0,
             "#8e0152"
            ],
            [
             0.1,
             "#c51b7d"
            ],
            [
             0.2,
             "#de77ae"
            ],
            [
             0.3,
             "#f1b6da"
            ],
            [
             0.4,
             "#fde0ef"
            ],
            [
             0.5,
             "#f7f7f7"
            ],
            [
             0.6,
             "#e6f5d0"
            ],
            [
             0.7,
             "#b8e186"
            ],
            [
             0.8,
             "#7fbc41"
            ],
            [
             0.9,
             "#4d9221"
            ],
            [
             1,
             "#276419"
            ]
           ],
           "sequential": [
            [
             0,
             "#0d0887"
            ],
            [
             0.1111111111111111,
             "#46039f"
            ],
            [
             0.2222222222222222,
             "#7201a8"
            ],
            [
             0.3333333333333333,
             "#9c179e"
            ],
            [
             0.4444444444444444,
             "#bd3786"
            ],
            [
             0.5555555555555556,
             "#d8576b"
            ],
            [
             0.6666666666666666,
             "#ed7953"
            ],
            [
             0.7777777777777778,
             "#fb9f3a"
            ],
            [
             0.8888888888888888,
             "#fdca26"
            ],
            [
             1,
             "#f0f921"
            ]
           ],
           "sequentialminus": [
            [
             0,
             "#0d0887"
            ],
            [
             0.1111111111111111,
             "#46039f"
            ],
            [
             0.2222222222222222,
             "#7201a8"
            ],
            [
             0.3333333333333333,
             "#9c179e"
            ],
            [
             0.4444444444444444,
             "#bd3786"
            ],
            [
             0.5555555555555556,
             "#d8576b"
            ],
            [
             0.6666666666666666,
             "#ed7953"
            ],
            [
             0.7777777777777778,
             "#fb9f3a"
            ],
            [
             0.8888888888888888,
             "#fdca26"
            ],
            [
             1,
             "#f0f921"
            ]
           ]
          },
          "colorway": [
           "#636efa",
           "#EF553B",
           "#00cc96",
           "#ab63fa",
           "#FFA15A",
           "#19d3f3",
           "#FF6692",
           "#B6E880",
           "#FF97FF",
           "#FECB52"
          ],
          "font": {
           "color": "#2a3f5f"
          },
          "geo": {
           "bgcolor": "white",
           "lakecolor": "white",
           "landcolor": "white",
           "showlakes": true,
           "showland": true,
           "subunitcolor": "#C8D4E3"
          },
          "hoverlabel": {
           "align": "left"
          },
          "hovermode": "closest",
          "mapbox": {
           "style": "light"
          },
          "paper_bgcolor": "white",
          "plot_bgcolor": "white",
          "polar": {
           "angularaxis": {
            "gridcolor": "#EBF0F8",
            "linecolor": "#EBF0F8",
            "ticks": ""
           },
           "bgcolor": "white",
           "radialaxis": {
            "gridcolor": "#EBF0F8",
            "linecolor": "#EBF0F8",
            "ticks": ""
           }
          },
          "scene": {
           "xaxis": {
            "backgroundcolor": "white",
            "gridcolor": "#DFE8F3",
            "gridwidth": 2,
            "linecolor": "#EBF0F8",
            "showbackground": true,
            "ticks": "",
            "zerolinecolor": "#EBF0F8"
           },
           "yaxis": {
            "backgroundcolor": "white",
            "gridcolor": "#DFE8F3",
            "gridwidth": 2,
            "linecolor": "#EBF0F8",
            "showbackground": true,
            "ticks": "",
            "zerolinecolor": "#EBF0F8"
           },
           "zaxis": {
            "backgroundcolor": "white",
            "gridcolor": "#DFE8F3",
            "gridwidth": 2,
            "linecolor": "#EBF0F8",
            "showbackground": true,
            "ticks": "",
            "zerolinecolor": "#EBF0F8"
           }
          },
          "shapedefaults": {
           "line": {
            "color": "#2a3f5f"
           }
          },
          "ternary": {
           "aaxis": {
            "gridcolor": "#DFE8F3",
            "linecolor": "#A2B1C6",
            "ticks": ""
           },
           "baxis": {
            "gridcolor": "#DFE8F3",
            "linecolor": "#A2B1C6",
            "ticks": ""
           },
           "bgcolor": "white",
           "caxis": {
            "gridcolor": "#DFE8F3",
            "linecolor": "#A2B1C6",
            "ticks": ""
           }
          },
          "title": {
           "x": 0.05
          },
          "xaxis": {
           "automargin": true,
           "gridcolor": "#EBF0F8",
           "linecolor": "#EBF0F8",
           "ticks": "",
           "title": {
            "standoff": 15
           },
           "zerolinecolor": "#EBF0F8",
           "zerolinewidth": 2
          },
          "yaxis": {
           "automargin": true,
           "gridcolor": "#EBF0F8",
           "linecolor": "#EBF0F8",
           "ticks": "",
           "title": {
            "standoff": 15
           },
           "zerolinecolor": "#EBF0F8",
           "zerolinewidth": 2
          }
         }
        },
        "title": {
         "font": {
          "size": 25
         },
         "text": "Number of initial Publications per Year by Category",
         "x": 0.5
        },
        "xaxis": {
         "anchor": "y",
         "domain": [
          0,
          0.45
         ],
         "title": {
          "text": "Year of Publication"
         }
        },
        "xaxis2": {
         "anchor": "y2",
         "domain": [
          0.55,
          1
         ],
         "title": {
          "text": "Year of Publication"
         }
        },
        "yaxis": {
         "anchor": "x",
         "domain": [
          0,
          1
         ],
         "title": {
          "text": "# of Publications per Year"
         }
        },
        "yaxis2": {
         "anchor": "x2",
         "domain": [
          0,
          1
         ],
         "title": {
          "text": "# of Publications per Year"
         },
         "type": "log"
        }
       }
      }
     },
     "metadata": {},
     "output_type": "display_data"
    },
    {
     "data": {
      "application/vnd.plotly.v1+json": {
       "config": {
        "plotlyServerURL": "https://plot.ly"
       },
       "data": [
        {
         "colorbar": {
          "title": {
           "text": "Count"
          }
         },
         "colorscale": [
          [
           0,
           "rgb(5,48,97)"
          ],
          [
           0.1,
           "rgb(33,102,172)"
          ],
          [
           0.2,
           "rgb(67,147,195)"
          ],
          [
           0.3,
           "rgb(146,197,222)"
          ],
          [
           0.4,
           "rgb(209,229,240)"
          ],
          [
           0.5,
           "rgb(247,247,247)"
          ],
          [
           0.6,
           "rgb(253,219,199)"
          ],
          [
           0.7,
           "rgb(244,165,130)"
          ],
          [
           0.8,
           "rgb(214,96,77)"
          ],
          [
           0.9,
           "rgb(178,24,43)"
          ],
          [
           1,
           "rgb(103,0,31)"
          ]
         ],
         "text": [
          [
           0,
           0,
           0,
           1,
           0,
           2,
           6,
           10,
           16,
           22,
           117,
           211,
           365,
           411,
           432,
           395,
           372,
           398,
           496,
           552,
           520,
           564,
           558,
           550,
           579,
           750,
           775,
           862,
           871,
           982,
           1501
          ],
          [
           0,
           0,
           0,
           0,
           0,
           0,
           0,
           0,
           1,
           0,
           1,
           0,
           0,
           22,
           63,
           98,
           136,
           202,
           799,
           626,
           708,
           880,
           1291,
           1978,
           4133,
           6350,
           5933,
           2244,
           2234,
           2561,
           3766
          ],
          [
           0,
           0,
           0,
           6,
           9,
           21,
           27,
           37,
           33,
           40,
           44,
           63,
           74,
           86,
           77,
           70,
           71,
           99,
           83,
           77,
           100,
           90,
           93,
           82,
           94,
           142,
           178,
           171,
           147,
           212,
           243
          ],
          [
           0,
           0,
           0,
           0,
           0,
           0,
           0,
           0,
           0,
           0,
           0,
           0,
           0,
           0,
           0,
           0,
           0,
           0,
           0,
           0,
           47,
           82,
           116,
           86,
           108,
           127,
           122,
           129,
           125,
           142,
           228
          ],
          [
           0,
           0,
           0,
           0,
           2,
           2,
           1,
           3,
           1,
           4,
           4,
           8,
           12,
           15,
           24,
           59,
           73,
           52,
           55,
           43,
           48,
           54,
           56,
           51,
           74,
           73,
           100,
           145,
           151,
           169,
           277
          ],
          [
           0,
           0,
           0,
           1,
           0,
           2,
           6,
           10,
           16,
           22,
           117,
           211,
           365,
           411,
           432,
           395,
           372,
           398,
           496,
           552,
           520,
           564,
           559,
           550,
           579,
           750,
           775,
           862,
           871,
           982,
           1501
          ],
          [
           194,
           300,
           353,
           382,
           340,
           298,
           321,
           306,
           293,
           292,
           259,
           259,
           256,
           275,
           234,
           256,
           244,
           258,
           268,
           277,
           274,
           275,
           289,
           275,
           304,
           297,
           310,
           280,
           353,
           429,
           599
          ],
          [
           2,
           3,
           5,
           16,
           73,
           79,
           129,
           130,
           168,
           224,
           456,
           614,
           747,
           838,
           768,
           909,
           1022,
           1066,
           1201,
           1296,
           1335,
           1428,
           1458,
           1426,
           1482,
           1553,
           1659,
           1773,
           1880,
           2129,
           3151
          ],
          [
           0,
           2,
           0,
           2,
           4,
           30,
           32,
           31,
           79,
           60,
           76,
           88,
           156,
           211,
           242,
           269,
           381,
           538,
           713,
           890,
           979,
           1161,
           1388,
           1538,
           1745,
           2126,
           2591,
           2562,
           2743,
           3138,
           4413
          ],
          [
           24,
           30,
           36,
           19,
           56,
           127,
           124,
           124,
           192,
           234,
           277,
           298,
           375,
           426,
           480,
           577,
           581,
           761,
           862,
           824,
           913,
           1005,
           1054,
           1137,
           1112,
           1273,
           1420,
           1445,
           1407,
           1711,
           2263
          ],
          [
           0,
           0,
           0,
           0,
           0,
           0,
           4,
           3,
           5,
           3,
           1,
           0,
           4,
           5,
           4,
           13,
           20,
           27,
           27,
           45,
           56,
           94,
           200,
           263,
           509,
           737,
           1129,
           1347,
           1621,
           1790,
           2253
          ],
          [
           0,
           0,
           0,
           0,
           2,
           0,
           7,
           1,
           7,
           4,
           21,
           15,
           32,
           93,
           56,
           59,
           59,
           94,
           127,
           147,
           196,
           227,
           487,
           750,
           1090,
           1682,
           2292,
           2858,
           3194,
           4149,
           6135
          ],
          [
           0,
           0,
           0,
           0,
           14,
           9,
           9,
           10,
           24,
           38,
           40,
           55,
           38,
           72,
           84,
           95,
           140,
           114,
           179,
           213,
           329,
           347,
           457,
           572,
           682,
           854,
           1047,
           876,
           911,
           991,
           1325
          ],
          [
           0,
           0,
           0,
           0,
           6,
           9,
           2,
           7,
           19,
           14,
           17,
           24,
           31,
           23,
           49,
           68,
           75,
           70,
           92,
           93,
           149,
           100,
           159,
           205,
           256,
           436,
           525,
           541,
           617,
           787,
           953
          ],
          [
           0,
           0,
           0,
           1,
           7,
           23,
           29,
           20,
           41,
           26,
           32,
           51,
           62,
           62,
           81,
           145,
           200,
           276,
           965,
           821,
           977,
           1243,
           1821,
           2604,
           5281,
           10147,
           13541,
           14559,
           16092,
           18664,
           26495
          ],
          [
           0,
           0,
           0,
           0,
           7,
           4,
           8,
           12,
           9,
           14,
           24,
           9,
           31,
           71,
           103,
           85,
           87,
           64,
           123,
           175,
           230,
           223,
           388,
           496,
           662,
           1019,
           1332,
           1558,
           1786,
           2639,
           4157
          ],
          [
           0,
           0,
           0,
           0,
           3,
           8,
           14,
           26,
           33,
           29,
           56,
           58,
           87,
           151,
           192,
           233,
           271,
           310,
           450,
           362,
           343,
           378,
           360,
           417,
           438,
           521,
           496,
           536,
           510,
           573,
           806
          ],
          [
           0,
           0,
           0,
           0,
           3,
           3,
           15,
           3,
           15,
           20,
           26,
           24,
           28,
           50,
           63,
           114,
           244,
           283,
           447,
           617,
           859,
           1322,
           2108,
           3267,
           4953,
           6714,
           8871,
           10022,
           11759,
           14466,
           20823
          ],
          [
           187,
           187,
           181,
           149,
           98,
           53,
           119,
           74,
           63,
           52,
           49,
           22,
           49,
           49,
           56,
           76,
           71,
           94,
           183,
           244,
           400,
           486,
           990,
           1473,
           2400,
           3323,
           4157,
           4950,
           5361,
           7837,
           12690
          ],
          [
           11,
           2,
           0,
           1,
           22,
           48,
           27,
           39,
           57,
           52,
           45,
           71,
           84,
           111,
           148,
           210,
           230,
           204,
           262,
           238,
           269,
           284,
           265,
           313,
           303,
           349,
           381,
           365,
           397,
           452,
           668
          ],
          [
           14,
           27,
           28,
           20,
           28,
           26,
           106,
           56,
           93,
           112,
           135,
           129,
           120,
           152,
           196,
           288,
           379,
           645,
           962,
           1489,
           784,
           700,
           1174,
           1598,
           2492,
           2765,
           4253,
           7369,
           8713,
           12805,
           21728
          ]
         ],
         "texttemplate": "%{text}",
         "type": "heatmap",
         "x": [
          1994,
          1995,
          1996,
          1997,
          1998,
          1999,
          2000,
          2001,
          2002,
          2003,
          2004,
          2005,
          2006,
          2007,
          2008,
          2009,
          2010,
          2011,
          2012,
          2013,
          2014,
          2015,
          2016,
          2017,
          2018,
          2019,
          2020,
          2021,
          2022,
          2023,
          2024
         ],
         "y": [
          "stat.th",
          "stat.ml",
          "q-fin.st",
          "q-fin.mf",
          "q-fin.cp",
          "math.st",
          "math.qa",
          "math.pr",
          "math.oc",
          "math.ds",
          "cs.sd",
          "cs.ro",
          "cs.ne",
          "cs.ma",
          "cs.lg",
          "cs.hc",
          "cs.dm",
          "cs.cv",
          "cs.cl",
          "cs.cc",
          "cs.ai"
         ],
         "z": [
          [
           0,
           0,
           0,
           1,
           0,
           2,
           6,
           10,
           16,
           22,
           117,
           211,
           365,
           411,
           432,
           395,
           372,
           398,
           496,
           552,
           520,
           564,
           558,
           550,
           579,
           750,
           775,
           862,
           871,
           982,
           1501
          ],
          [
           0,
           0,
           0,
           0,
           0,
           0,
           0,
           0,
           1,
           0,
           1,
           0,
           0,
           22,
           63,
           98,
           136,
           202,
           799,
           626,
           708,
           880,
           1291,
           1978,
           4133,
           6350,
           5933,
           2244,
           2234,
           2561,
           3766
          ],
          [
           0,
           0,
           0,
           6,
           9,
           21,
           27,
           37,
           33,
           40,
           44,
           63,
           74,
           86,
           77,
           70,
           71,
           99,
           83,
           77,
           100,
           90,
           93,
           82,
           94,
           142,
           178,
           171,
           147,
           212,
           243
          ],
          [
           0,
           0,
           0,
           0,
           0,
           0,
           0,
           0,
           0,
           0,
           0,
           0,
           0,
           0,
           0,
           0,
           0,
           0,
           0,
           0,
           47,
           82,
           116,
           86,
           108,
           127,
           122,
           129,
           125,
           142,
           228
          ],
          [
           0,
           0,
           0,
           0,
           2,
           2,
           1,
           3,
           1,
           4,
           4,
           8,
           12,
           15,
           24,
           59,
           73,
           52,
           55,
           43,
           48,
           54,
           56,
           51,
           74,
           73,
           100,
           145,
           151,
           169,
           277
          ],
          [
           0,
           0,
           0,
           1,
           0,
           2,
           6,
           10,
           16,
           22,
           117,
           211,
           365,
           411,
           432,
           395,
           372,
           398,
           496,
           552,
           520,
           564,
           559,
           550,
           579,
           750,
           775,
           862,
           871,
           982,
           1501
          ],
          [
           194,
           300,
           353,
           382,
           340,
           298,
           321,
           306,
           293,
           292,
           259,
           259,
           256,
           275,
           234,
           256,
           244,
           258,
           268,
           277,
           274,
           275,
           289,
           275,
           304,
           297,
           310,
           280,
           353,
           429,
           599
          ],
          [
           2,
           3,
           5,
           16,
           73,
           79,
           129,
           130,
           168,
           224,
           456,
           614,
           747,
           838,
           768,
           909,
           1022,
           1066,
           1201,
           1296,
           1335,
           1428,
           1458,
           1426,
           1482,
           1553,
           1659,
           1773,
           1880,
           2129,
           3151
          ],
          [
           0,
           2,
           0,
           2,
           4,
           30,
           32,
           31,
           79,
           60,
           76,
           88,
           156,
           211,
           242,
           269,
           381,
           538,
           713,
           890,
           979,
           1161,
           1388,
           1538,
           1745,
           2126,
           2591,
           2562,
           2743,
           3138,
           4413
          ],
          [
           24,
           30,
           36,
           19,
           56,
           127,
           124,
           124,
           192,
           234,
           277,
           298,
           375,
           426,
           480,
           577,
           581,
           761,
           862,
           824,
           913,
           1005,
           1054,
           1137,
           1112,
           1273,
           1420,
           1445,
           1407,
           1711,
           2263
          ],
          [
           0,
           0,
           0,
           0,
           0,
           0,
           4,
           3,
           5,
           3,
           1,
           0,
           4,
           5,
           4,
           13,
           20,
           27,
           27,
           45,
           56,
           94,
           200,
           263,
           509,
           737,
           1129,
           1347,
           1621,
           1790,
           2253
          ],
          [
           0,
           0,
           0,
           0,
           2,
           0,
           7,
           1,
           7,
           4,
           21,
           15,
           32,
           93,
           56,
           59,
           59,
           94,
           127,
           147,
           196,
           227,
           487,
           750,
           1090,
           1682,
           2292,
           2858,
           3194,
           4149,
           6135
          ],
          [
           0,
           0,
           0,
           0,
           14,
           9,
           9,
           10,
           24,
           38,
           40,
           55,
           38,
           72,
           84,
           95,
           140,
           114,
           179,
           213,
           329,
           347,
           457,
           572,
           682,
           854,
           1047,
           876,
           911,
           991,
           1325
          ],
          [
           0,
           0,
           0,
           0,
           6,
           9,
           2,
           7,
           19,
           14,
           17,
           24,
           31,
           23,
           49,
           68,
           75,
           70,
           92,
           93,
           149,
           100,
           159,
           205,
           256,
           436,
           525,
           541,
           617,
           787,
           953
          ],
          [
           0,
           0,
           0,
           1,
           7,
           23,
           29,
           20,
           41,
           26,
           32,
           51,
           62,
           62,
           81,
           145,
           200,
           276,
           965,
           821,
           977,
           1243,
           1821,
           2604,
           5281,
           10147,
           13541,
           14559,
           16092,
           18664,
           26495
          ],
          [
           0,
           0,
           0,
           0,
           7,
           4,
           8,
           12,
           9,
           14,
           24,
           9,
           31,
           71,
           103,
           85,
           87,
           64,
           123,
           175,
           230,
           223,
           388,
           496,
           662,
           1019,
           1332,
           1558,
           1786,
           2639,
           4157
          ],
          [
           0,
           0,
           0,
           0,
           3,
           8,
           14,
           26,
           33,
           29,
           56,
           58,
           87,
           151,
           192,
           233,
           271,
           310,
           450,
           362,
           343,
           378,
           360,
           417,
           438,
           521,
           496,
           536,
           510,
           573,
           806
          ],
          [
           0,
           0,
           0,
           0,
           3,
           3,
           15,
           3,
           15,
           20,
           26,
           24,
           28,
           50,
           63,
           114,
           244,
           283,
           447,
           617,
           859,
           1322,
           2108,
           3267,
           4953,
           6714,
           8871,
           10022,
           11759,
           14466,
           20823
          ],
          [
           187,
           187,
           181,
           149,
           98,
           53,
           119,
           74,
           63,
           52,
           49,
           22,
           49,
           49,
           56,
           76,
           71,
           94,
           183,
           244,
           400,
           486,
           990,
           1473,
           2400,
           3323,
           4157,
           4950,
           5361,
           7837,
           12690
          ],
          [
           11,
           2,
           0,
           1,
           22,
           48,
           27,
           39,
           57,
           52,
           45,
           71,
           84,
           111,
           148,
           210,
           230,
           204,
           262,
           238,
           269,
           284,
           265,
           313,
           303,
           349,
           381,
           365,
           397,
           452,
           668
          ],
          [
           14,
           27,
           28,
           20,
           28,
           26,
           106,
           56,
           93,
           112,
           135,
           129,
           120,
           152,
           196,
           288,
           379,
           645,
           962,
           1489,
           784,
           700,
           1174,
           1598,
           2492,
           2765,
           4253,
           7369,
           8713,
           12805,
           21728
          ]
         ]
        }
       ],
       "layout": {
        "height": 800,
        "template": {
         "data": {
          "bar": [
           {
            "error_x": {
             "color": "#2a3f5f"
            },
            "error_y": {
             "color": "#2a3f5f"
            },
            "marker": {
             "line": {
              "color": "white",
              "width": 0.5
             },
             "pattern": {
              "fillmode": "overlay",
              "size": 10,
              "solidity": 0.2
             }
            },
            "type": "bar"
           }
          ],
          "barpolar": [
           {
            "marker": {
             "line": {
              "color": "white",
              "width": 0.5
             },
             "pattern": {
              "fillmode": "overlay",
              "size": 10,
              "solidity": 0.2
             }
            },
            "type": "barpolar"
           }
          ],
          "carpet": [
           {
            "aaxis": {
             "endlinecolor": "#2a3f5f",
             "gridcolor": "#C8D4E3",
             "linecolor": "#C8D4E3",
             "minorgridcolor": "#C8D4E3",
             "startlinecolor": "#2a3f5f"
            },
            "baxis": {
             "endlinecolor": "#2a3f5f",
             "gridcolor": "#C8D4E3",
             "linecolor": "#C8D4E3",
             "minorgridcolor": "#C8D4E3",
             "startlinecolor": "#2a3f5f"
            },
            "type": "carpet"
           }
          ],
          "choropleth": [
           {
            "colorbar": {
             "outlinewidth": 0,
             "ticks": ""
            },
            "type": "choropleth"
           }
          ],
          "contour": [
           {
            "colorbar": {
             "outlinewidth": 0,
             "ticks": ""
            },
            "colorscale": [
             [
              0,
              "#0d0887"
             ],
             [
              0.1111111111111111,
              "#46039f"
             ],
             [
              0.2222222222222222,
              "#7201a8"
             ],
             [
              0.3333333333333333,
              "#9c179e"
             ],
             [
              0.4444444444444444,
              "#bd3786"
             ],
             [
              0.5555555555555556,
              "#d8576b"
             ],
             [
              0.6666666666666666,
              "#ed7953"
             ],
             [
              0.7777777777777778,
              "#fb9f3a"
             ],
             [
              0.8888888888888888,
              "#fdca26"
             ],
             [
              1,
              "#f0f921"
             ]
            ],
            "type": "contour"
           }
          ],
          "contourcarpet": [
           {
            "colorbar": {
             "outlinewidth": 0,
             "ticks": ""
            },
            "type": "contourcarpet"
           }
          ],
          "heatmap": [
           {
            "colorbar": {
             "outlinewidth": 0,
             "ticks": ""
            },
            "colorscale": [
             [
              0,
              "#0d0887"
             ],
             [
              0.1111111111111111,
              "#46039f"
             ],
             [
              0.2222222222222222,
              "#7201a8"
             ],
             [
              0.3333333333333333,
              "#9c179e"
             ],
             [
              0.4444444444444444,
              "#bd3786"
             ],
             [
              0.5555555555555556,
              "#d8576b"
             ],
             [
              0.6666666666666666,
              "#ed7953"
             ],
             [
              0.7777777777777778,
              "#fb9f3a"
             ],
             [
              0.8888888888888888,
              "#fdca26"
             ],
             [
              1,
              "#f0f921"
             ]
            ],
            "type": "heatmap"
           }
          ],
          "heatmapgl": [
           {
            "colorbar": {
             "outlinewidth": 0,
             "ticks": ""
            },
            "colorscale": [
             [
              0,
              "#0d0887"
             ],
             [
              0.1111111111111111,
              "#46039f"
             ],
             [
              0.2222222222222222,
              "#7201a8"
             ],
             [
              0.3333333333333333,
              "#9c179e"
             ],
             [
              0.4444444444444444,
              "#bd3786"
             ],
             [
              0.5555555555555556,
              "#d8576b"
             ],
             [
              0.6666666666666666,
              "#ed7953"
             ],
             [
              0.7777777777777778,
              "#fb9f3a"
             ],
             [
              0.8888888888888888,
              "#fdca26"
             ],
             [
              1,
              "#f0f921"
             ]
            ],
            "type": "heatmapgl"
           }
          ],
          "histogram": [
           {
            "marker": {
             "pattern": {
              "fillmode": "overlay",
              "size": 10,
              "solidity": 0.2
             }
            },
            "type": "histogram"
           }
          ],
          "histogram2d": [
           {
            "colorbar": {
             "outlinewidth": 0,
             "ticks": ""
            },
            "colorscale": [
             [
              0,
              "#0d0887"
             ],
             [
              0.1111111111111111,
              "#46039f"
             ],
             [
              0.2222222222222222,
              "#7201a8"
             ],
             [
              0.3333333333333333,
              "#9c179e"
             ],
             [
              0.4444444444444444,
              "#bd3786"
             ],
             [
              0.5555555555555556,
              "#d8576b"
             ],
             [
              0.6666666666666666,
              "#ed7953"
             ],
             [
              0.7777777777777778,
              "#fb9f3a"
             ],
             [
              0.8888888888888888,
              "#fdca26"
             ],
             [
              1,
              "#f0f921"
             ]
            ],
            "type": "histogram2d"
           }
          ],
          "histogram2dcontour": [
           {
            "colorbar": {
             "outlinewidth": 0,
             "ticks": ""
            },
            "colorscale": [
             [
              0,
              "#0d0887"
             ],
             [
              0.1111111111111111,
              "#46039f"
             ],
             [
              0.2222222222222222,
              "#7201a8"
             ],
             [
              0.3333333333333333,
              "#9c179e"
             ],
             [
              0.4444444444444444,
              "#bd3786"
             ],
             [
              0.5555555555555556,
              "#d8576b"
             ],
             [
              0.6666666666666666,
              "#ed7953"
             ],
             [
              0.7777777777777778,
              "#fb9f3a"
             ],
             [
              0.8888888888888888,
              "#fdca26"
             ],
             [
              1,
              "#f0f921"
             ]
            ],
            "type": "histogram2dcontour"
           }
          ],
          "mesh3d": [
           {
            "colorbar": {
             "outlinewidth": 0,
             "ticks": ""
            },
            "type": "mesh3d"
           }
          ],
          "parcoords": [
           {
            "line": {
             "colorbar": {
              "outlinewidth": 0,
              "ticks": ""
             }
            },
            "type": "parcoords"
           }
          ],
          "pie": [
           {
            "automargin": true,
            "type": "pie"
           }
          ],
          "scatter": [
           {
            "fillpattern": {
             "fillmode": "overlay",
             "size": 10,
             "solidity": 0.2
            },
            "type": "scatter"
           }
          ],
          "scatter3d": [
           {
            "line": {
             "colorbar": {
              "outlinewidth": 0,
              "ticks": ""
             }
            },
            "marker": {
             "colorbar": {
              "outlinewidth": 0,
              "ticks": ""
             }
            },
            "type": "scatter3d"
           }
          ],
          "scattercarpet": [
           {
            "marker": {
             "colorbar": {
              "outlinewidth": 0,
              "ticks": ""
             }
            },
            "type": "scattercarpet"
           }
          ],
          "scattergeo": [
           {
            "marker": {
             "colorbar": {
              "outlinewidth": 0,
              "ticks": ""
             }
            },
            "type": "scattergeo"
           }
          ],
          "scattergl": [
           {
            "marker": {
             "colorbar": {
              "outlinewidth": 0,
              "ticks": ""
             }
            },
            "type": "scattergl"
           }
          ],
          "scattermapbox": [
           {
            "marker": {
             "colorbar": {
              "outlinewidth": 0,
              "ticks": ""
             }
            },
            "type": "scattermapbox"
           }
          ],
          "scatterpolar": [
           {
            "marker": {
             "colorbar": {
              "outlinewidth": 0,
              "ticks": ""
             }
            },
            "type": "scatterpolar"
           }
          ],
          "scatterpolargl": [
           {
            "marker": {
             "colorbar": {
              "outlinewidth": 0,
              "ticks": ""
             }
            },
            "type": "scatterpolargl"
           }
          ],
          "scatterternary": [
           {
            "marker": {
             "colorbar": {
              "outlinewidth": 0,
              "ticks": ""
             }
            },
            "type": "scatterternary"
           }
          ],
          "surface": [
           {
            "colorbar": {
             "outlinewidth": 0,
             "ticks": ""
            },
            "colorscale": [
             [
              0,
              "#0d0887"
             ],
             [
              0.1111111111111111,
              "#46039f"
             ],
             [
              0.2222222222222222,
              "#7201a8"
             ],
             [
              0.3333333333333333,
              "#9c179e"
             ],
             [
              0.4444444444444444,
              "#bd3786"
             ],
             [
              0.5555555555555556,
              "#d8576b"
             ],
             [
              0.6666666666666666,
              "#ed7953"
             ],
             [
              0.7777777777777778,
              "#fb9f3a"
             ],
             [
              0.8888888888888888,
              "#fdca26"
             ],
             [
              1,
              "#f0f921"
             ]
            ],
            "type": "surface"
           }
          ],
          "table": [
           {
            "cells": {
             "fill": {
              "color": "#EBF0F8"
             },
             "line": {
              "color": "white"
             }
            },
            "header": {
             "fill": {
              "color": "#C8D4E3"
             },
             "line": {
              "color": "white"
             }
            },
            "type": "table"
           }
          ]
         },
         "layout": {
          "annotationdefaults": {
           "arrowcolor": "#2a3f5f",
           "arrowhead": 0,
           "arrowwidth": 1
          },
          "autotypenumbers": "strict",
          "coloraxis": {
           "colorbar": {
            "outlinewidth": 0,
            "ticks": ""
           }
          },
          "colorscale": {
           "diverging": [
            [
             0,
             "#8e0152"
            ],
            [
             0.1,
             "#c51b7d"
            ],
            [
             0.2,
             "#de77ae"
            ],
            [
             0.3,
             "#f1b6da"
            ],
            [
             0.4,
             "#fde0ef"
            ],
            [
             0.5,
             "#f7f7f7"
            ],
            [
             0.6,
             "#e6f5d0"
            ],
            [
             0.7,
             "#b8e186"
            ],
            [
             0.8,
             "#7fbc41"
            ],
            [
             0.9,
             "#4d9221"
            ],
            [
             1,
             "#276419"
            ]
           ],
           "sequential": [
            [
             0,
             "#0d0887"
            ],
            [
             0.1111111111111111,
             "#46039f"
            ],
            [
             0.2222222222222222,
             "#7201a8"
            ],
            [
             0.3333333333333333,
             "#9c179e"
            ],
            [
             0.4444444444444444,
             "#bd3786"
            ],
            [
             0.5555555555555556,
             "#d8576b"
            ],
            [
             0.6666666666666666,
             "#ed7953"
            ],
            [
             0.7777777777777778,
             "#fb9f3a"
            ],
            [
             0.8888888888888888,
             "#fdca26"
            ],
            [
             1,
             "#f0f921"
            ]
           ],
           "sequentialminus": [
            [
             0,
             "#0d0887"
            ],
            [
             0.1111111111111111,
             "#46039f"
            ],
            [
             0.2222222222222222,
             "#7201a8"
            ],
            [
             0.3333333333333333,
             "#9c179e"
            ],
            [
             0.4444444444444444,
             "#bd3786"
            ],
            [
             0.5555555555555556,
             "#d8576b"
            ],
            [
             0.6666666666666666,
             "#ed7953"
            ],
            [
             0.7777777777777778,
             "#fb9f3a"
            ],
            [
             0.8888888888888888,
             "#fdca26"
            ],
            [
             1,
             "#f0f921"
            ]
           ]
          },
          "colorway": [
           "#636efa",
           "#EF553B",
           "#00cc96",
           "#ab63fa",
           "#FFA15A",
           "#19d3f3",
           "#FF6692",
           "#B6E880",
           "#FF97FF",
           "#FECB52"
          ],
          "font": {
           "color": "#2a3f5f"
          },
          "geo": {
           "bgcolor": "white",
           "lakecolor": "white",
           "landcolor": "white",
           "showlakes": true,
           "showland": true,
           "subunitcolor": "#C8D4E3"
          },
          "hoverlabel": {
           "align": "left"
          },
          "hovermode": "closest",
          "mapbox": {
           "style": "light"
          },
          "paper_bgcolor": "white",
          "plot_bgcolor": "white",
          "polar": {
           "angularaxis": {
            "gridcolor": "#EBF0F8",
            "linecolor": "#EBF0F8",
            "ticks": ""
           },
           "bgcolor": "white",
           "radialaxis": {
            "gridcolor": "#EBF0F8",
            "linecolor": "#EBF0F8",
            "ticks": ""
           }
          },
          "scene": {
           "xaxis": {
            "backgroundcolor": "white",
            "gridcolor": "#DFE8F3",
            "gridwidth": 2,
            "linecolor": "#EBF0F8",
            "showbackground": true,
            "ticks": "",
            "zerolinecolor": "#EBF0F8"
           },
           "yaxis": {
            "backgroundcolor": "white",
            "gridcolor": "#DFE8F3",
            "gridwidth": 2,
            "linecolor": "#EBF0F8",
            "showbackground": true,
            "ticks": "",
            "zerolinecolor": "#EBF0F8"
           },
           "zaxis": {
            "backgroundcolor": "white",
            "gridcolor": "#DFE8F3",
            "gridwidth": 2,
            "linecolor": "#EBF0F8",
            "showbackground": true,
            "ticks": "",
            "zerolinecolor": "#EBF0F8"
           }
          },
          "shapedefaults": {
           "line": {
            "color": "#2a3f5f"
           }
          },
          "ternary": {
           "aaxis": {
            "gridcolor": "#DFE8F3",
            "linecolor": "#A2B1C6",
            "ticks": ""
           },
           "baxis": {
            "gridcolor": "#DFE8F3",
            "linecolor": "#A2B1C6",
            "ticks": ""
           },
           "bgcolor": "white",
           "caxis": {
            "gridcolor": "#DFE8F3",
            "linecolor": "#A2B1C6",
            "ticks": ""
           }
          },
          "title": {
           "x": 0.05
          },
          "xaxis": {
           "automargin": true,
           "gridcolor": "#EBF0F8",
           "linecolor": "#EBF0F8",
           "ticks": "",
           "title": {
            "standoff": 15
           },
           "zerolinecolor": "#EBF0F8",
           "zerolinewidth": 2
          },
          "yaxis": {
           "automargin": true,
           "gridcolor": "#EBF0F8",
           "linecolor": "#EBF0F8",
           "ticks": "",
           "title": {
            "standoff": 15
           },
           "zerolinecolor": "#EBF0F8",
           "zerolinewidth": 2
          }
         }
        },
        "title": {
         "font": {
          "size": 25
         },
         "text": "Number of initial Publications per Year by Category",
         "x": 0.5
        },
        "xaxis": {
         "title": {
          "text": "Year of Publication"
         }
        },
        "yaxis": {
         "title": {
          "text": "Category"
         }
        }
       }
      }
     },
     "metadata": {},
     "output_type": "display_data"
    }
   ],
   "source": [
    "visualize_publications_by_category(df_initial, \"initial\")"
   ]
  },
  {
   "cell_type": "markdown",
   "metadata": {},
   "source": [
    "Since the data in the previous plot included not only the initial publications (v1) of papers but also their subsequent revisions (v2, v3, etc.), this plot presents the cleaned dataset, where only the first version of each paper is considered. In essence, this plot highlights the pure scientific contributions made in the field of ML and AI over the years, free from the influence of corrective or updated publications.\n",
    "\n",
    "While there is an expected drop in the absolute number of publications, the overall trend remains largely unchanged, with only minor variations in the progression of individual categories. The key categories identified in the previous chart—Machine Learning (cs.LG), Artificial Intelligence (cs.AI), Computer Vision (cs.CV), Computation and Language (cs.CL), and Robotics (cs.RO)—continue to have the most substantial influence on the overall trend, maintaining their dominant role in shaping the field.\n",
    "\n",
    "The total number of AI and ML-related papers published in 2024 decreased from over 160,000 (when including revisions) to over 110,000 (when considering only initial publications). This refined view underscores the immense volume of original contributions while providing a more accurate representation of the field's scientific growth.\n",
    "\n",
    "In the chart below, the volume of revisions made to initial publications per year is visualized, representing the \"noise\" surrounding the pure scientific contributions. These revisions highlight a critical aspect of the research process, as they often involve updates, corrections, or refinements of existing work. While they do not directly contribute to new scientific discoveries, they play an essential role in maintaining the accuracy and reliability of the research. However, these revisions also introduce a time cost, potentially reducing the capacity for researchers to produce new, \"pure\" scientific contributions. For this reason, revisions should still be taken into account when evaluating the overall trend in the \"number of publications per month,\" as they indirectly influence the productivity and focus of the research community."
   ]
  },
  {
   "cell_type": "code",
   "execution_count": 16,
   "metadata": {
    "ExecuteTime": {
     "end_time": "2024-12-29T15:25:43.611278Z",
     "start_time": "2024-12-29T15:25:42.854160Z"
    }
   },
   "outputs": [
    {
     "data": {
      "application/vnd.plotly.v1+json": {
       "config": {
        "plotlyServerURL": "https://plot.ly"
       },
       "data": [
        {
         "line": {
          "color": "#636EFA"
         },
         "mode": "lines+markers",
         "name": "cs.lg",
         "type": "scatter",
         "x": [
          1997,
          1999,
          2000,
          2001,
          2002,
          2003,
          2004,
          2005,
          2006,
          2007,
          2008,
          2009,
          2010,
          2011,
          2012,
          2013,
          2014,
          2015,
          2016,
          2017,
          2018,
          2019,
          2020,
          2021,
          2022,
          2023,
          2024
         ],
         "xaxis": "x",
         "y": [
          1,
          2,
          7,
          3,
          3,
          4,
          7,
          16,
          15,
          22,
          50,
          85,
          135,
          193,
          374,
          586,
          762,
          1243,
          1752,
          2647,
          5218,
          9143,
          12353,
          11970,
          12621,
          14346,
          11582
         ],
         "yaxis": "y"
        },
        {
         "line": {
          "color": "#636EFA"
         },
         "mode": "lines+markers",
         "name": "cs.lg",
         "showlegend": false,
         "type": "scatter",
         "x": [
          1997,
          1999,
          2000,
          2001,
          2002,
          2003,
          2004,
          2005,
          2006,
          2007,
          2008,
          2009,
          2010,
          2011,
          2012,
          2013,
          2014,
          2015,
          2016,
          2017,
          2018,
          2019,
          2020,
          2021,
          2022,
          2023,
          2024
         ],
         "xaxis": "x2",
         "y": [
          1,
          2,
          7,
          3,
          3,
          4,
          7,
          16,
          15,
          22,
          50,
          85,
          135,
          193,
          374,
          586,
          762,
          1243,
          1752,
          2647,
          5218,
          9143,
          12353,
          11970,
          12621,
          14346,
          11582
         ],
         "yaxis": "y2"
        },
        {
         "line": {
          "color": "#EF553B"
         },
         "mode": "lines+markers",
         "name": "cs.ai",
         "type": "scatter",
         "x": [
          1998,
          1999,
          2000,
          2001,
          2002,
          2003,
          2004,
          2005,
          2006,
          2007,
          2008,
          2009,
          2010,
          2011,
          2012,
          2013,
          2014,
          2015,
          2016,
          2017,
          2018,
          2019,
          2020,
          2021,
          2022,
          2023,
          2024
         ],
         "xaxis": "x",
         "y": [
          2,
          7,
          19,
          11,
          27,
          21,
          30,
          27,
          49,
          41,
          81,
          94,
          98,
          141,
          173,
          241,
          243,
          413,
          768,
          1217,
          1786,
          1988,
          3163,
          5145,
          6083,
          9026,
          9807
         ],
         "yaxis": "y"
        },
        {
         "line": {
          "color": "#EF553B"
         },
         "mode": "lines+markers",
         "name": "cs.ai",
         "showlegend": false,
         "type": "scatter",
         "x": [
          1998,
          1999,
          2000,
          2001,
          2002,
          2003,
          2004,
          2005,
          2006,
          2007,
          2008,
          2009,
          2010,
          2011,
          2012,
          2013,
          2014,
          2015,
          2016,
          2017,
          2018,
          2019,
          2020,
          2021,
          2022,
          2023,
          2024
         ],
         "xaxis": "x2",
         "y": [
          2,
          7,
          19,
          11,
          27,
          21,
          30,
          27,
          49,
          41,
          81,
          94,
          98,
          141,
          173,
          241,
          243,
          413,
          768,
          1217,
          1786,
          1988,
          3163,
          5145,
          6083,
          9026,
          9807
         ],
         "yaxis": "y2"
        },
        {
         "line": {
          "color": "#00CC96"
         },
         "mode": "lines+markers",
         "name": "cs.cc",
         "type": "scatter",
         "x": [
          1996,
          1997,
          1998,
          1999,
          2000,
          2001,
          2002,
          2003,
          2004,
          2005,
          2006,
          2007,
          2008,
          2009,
          2010,
          2011,
          2012,
          2013,
          2014,
          2015,
          2016,
          2017,
          2018,
          2019,
          2020,
          2021,
          2022,
          2023,
          2024
         ],
         "xaxis": "x",
         "y": [
          1,
          1,
          9,
          16,
          17,
          29,
          34,
          37,
          34,
          60,
          82,
          88,
          121,
          148,
          191,
          216,
          221,
          285,
          270,
          291,
          319,
          322,
          309,
          386,
          424,
          412,
          379,
          385,
          265
         ],
         "yaxis": "y"
        },
        {
         "line": {
          "color": "#00CC96"
         },
         "mode": "lines+markers",
         "name": "cs.cc",
         "showlegend": false,
         "type": "scatter",
         "x": [
          1996,
          1997,
          1998,
          1999,
          2000,
          2001,
          2002,
          2003,
          2004,
          2005,
          2006,
          2007,
          2008,
          2009,
          2010,
          2011,
          2012,
          2013,
          2014,
          2015,
          2016,
          2017,
          2018,
          2019,
          2020,
          2021,
          2022,
          2023,
          2024
         ],
         "xaxis": "x2",
         "y": [
          1,
          1,
          9,
          16,
          17,
          29,
          34,
          37,
          34,
          60,
          82,
          88,
          121,
          148,
          191,
          216,
          221,
          285,
          270,
          291,
          319,
          322,
          309,
          386,
          424,
          412,
          379,
          385,
          265
         ],
         "yaxis": "y2"
        },
        {
         "line": {
          "color": "#AB63FA"
         },
         "mode": "lines+markers",
         "name": "math.st",
         "type": "scatter",
         "x": [
          1994,
          1998,
          2000,
          2001,
          2002,
          2003,
          2004,
          2005,
          2006,
          2007,
          2008,
          2009,
          2010,
          2011,
          2012,
          2013,
          2014,
          2015,
          2016,
          2017,
          2018,
          2019,
          2020,
          2021,
          2022,
          2023,
          2024
         ],
         "xaxis": "x",
         "y": [
          1,
          1,
          3,
          7,
          8,
          15,
          42,
          92,
          142,
          168,
          235,
          234,
          289,
          452,
          475,
          470,
          582,
          629,
          648,
          719,
          741,
          969,
          1155,
          1047,
          1079,
          960,
          579
         ],
         "yaxis": "y"
        },
        {
         "line": {
          "color": "#AB63FA"
         },
         "mode": "lines+markers",
         "name": "math.st",
         "showlegend": false,
         "type": "scatter",
         "x": [
          1994,
          1998,
          2000,
          2001,
          2002,
          2003,
          2004,
          2005,
          2006,
          2007,
          2008,
          2009,
          2010,
          2011,
          2012,
          2013,
          2014,
          2015,
          2016,
          2017,
          2018,
          2019,
          2020,
          2021,
          2022,
          2023,
          2024
         ],
         "xaxis": "x2",
         "y": [
          1,
          1,
          3,
          7,
          8,
          15,
          42,
          92,
          142,
          168,
          235,
          234,
          289,
          452,
          475,
          470,
          582,
          629,
          648,
          719,
          741,
          969,
          1155,
          1047,
          1079,
          960,
          579
         ],
         "yaxis": "y2"
        },
        {
         "line": {
          "color": "#FFA15A"
         },
         "mode": "lines+markers",
         "name": "math.oc",
         "type": "scatter",
         "x": [
          1998,
          1999,
          2000,
          2001,
          2002,
          2003,
          2004,
          2005,
          2006,
          2007,
          2008,
          2009,
          2010,
          2011,
          2012,
          2013,
          2014,
          2015,
          2016,
          2017,
          2018,
          2019,
          2020,
          2021,
          2022,
          2023,
          2024
         ],
         "xaxis": "x",
         "y": [
          3,
          10,
          8,
          10,
          14,
          28,
          34,
          41,
          54,
          90,
          120,
          188,
          292,
          444,
          532,
          708,
          874,
          1076,
          1192,
          1421,
          1789,
          2287,
          2743,
          2702,
          2550,
          2548,
          1514
         ],
         "yaxis": "y"
        },
        {
         "line": {
          "color": "#FFA15A"
         },
         "mode": "lines+markers",
         "name": "math.oc",
         "showlegend": false,
         "type": "scatter",
         "x": [
          1998,
          1999,
          2000,
          2001,
          2002,
          2003,
          2004,
          2005,
          2006,
          2007,
          2008,
          2009,
          2010,
          2011,
          2012,
          2013,
          2014,
          2015,
          2016,
          2017,
          2018,
          2019,
          2020,
          2021,
          2022,
          2023,
          2024
         ],
         "xaxis": "x2",
         "y": [
          3,
          10,
          8,
          10,
          14,
          28,
          34,
          41,
          54,
          90,
          120,
          188,
          292,
          444,
          532,
          708,
          874,
          1076,
          1192,
          1421,
          1789,
          2287,
          2743,
          2702,
          2550,
          2548,
          1514
         ],
         "yaxis": "y2"
        },
        {
         "line": {
          "color": "#19D3F3"
         },
         "mode": "lines+markers",
         "name": "math.pr",
         "type": "scatter",
         "x": [
          1994,
          1995,
          1996,
          1997,
          1998,
          1999,
          2000,
          2001,
          2002,
          2003,
          2004,
          2005,
          2006,
          2007,
          2008,
          2009,
          2010,
          2011,
          2012,
          2013,
          2014,
          2015,
          2016,
          2017,
          2018,
          2019,
          2020,
          2021,
          2022,
          2023,
          2024
         ],
         "xaxis": "x",
         "y": [
          1,
          1,
          1,
          3,
          22,
          38,
          52,
          78,
          107,
          153,
          238,
          342,
          478,
          592,
          680,
          804,
          998,
          1269,
          1373,
          1520,
          1549,
          1749,
          1757,
          1815,
          2013,
          2089,
          2308,
          2194,
          2063,
          1897,
          1089
         ],
         "yaxis": "y"
        },
        {
         "line": {
          "color": "#19D3F3"
         },
         "mode": "lines+markers",
         "name": "math.pr",
         "showlegend": false,
         "type": "scatter",
         "x": [
          1994,
          1995,
          1996,
          1997,
          1998,
          1999,
          2000,
          2001,
          2002,
          2003,
          2004,
          2005,
          2006,
          2007,
          2008,
          2009,
          2010,
          2011,
          2012,
          2013,
          2014,
          2015,
          2016,
          2017,
          2018,
          2019,
          2020,
          2021,
          2022,
          2023,
          2024
         ],
         "xaxis": "x2",
         "y": [
          1,
          1,
          1,
          3,
          22,
          38,
          52,
          78,
          107,
          153,
          238,
          342,
          478,
          592,
          680,
          804,
          998,
          1269,
          1373,
          1520,
          1549,
          1749,
          1757,
          1815,
          2013,
          2089,
          2308,
          2194,
          2063,
          1897,
          1089
         ],
         "yaxis": "y2"
        },
        {
         "line": {
          "color": "#FF6692"
         },
         "mode": "lines+markers",
         "name": "stat.ml",
         "type": "scatter",
         "x": [
          2004,
          2005,
          2007,
          2008,
          2009,
          2010,
          2011,
          2012,
          2013,
          2014,
          2015,
          2016,
          2017,
          2018,
          2019,
          2020,
          2021,
          2022,
          2023,
          2024
         ],
         "xaxis": "x",
         "y": [
          1,
          1,
          21,
          39,
          65,
          115,
          230,
          352,
          561,
          651,
          943,
          1352,
          2074,
          4264,
          6401,
          6839,
          2983,
          2752,
          2771,
          1881
         ],
         "yaxis": "y"
        },
        {
         "line": {
          "color": "#FF6692"
         },
         "mode": "lines+markers",
         "name": "stat.ml",
         "showlegend": false,
         "type": "scatter",
         "x": [
          2004,
          2005,
          2007,
          2008,
          2009,
          2010,
          2011,
          2012,
          2013,
          2014,
          2015,
          2016,
          2017,
          2018,
          2019,
          2020,
          2021,
          2022,
          2023,
          2024
         ],
         "xaxis": "x2",
         "y": [
          1,
          1,
          21,
          39,
          65,
          115,
          230,
          352,
          561,
          651,
          943,
          1352,
          2074,
          4264,
          6401,
          6839,
          2983,
          2752,
          2771,
          1881
         ],
         "yaxis": "y2"
        },
        {
         "line": {
          "color": "#B6E880"
         },
         "mode": "lines+markers",
         "name": "cs.cv",
         "type": "scatter",
         "x": [
          1999,
          2001,
          2002,
          2003,
          2004,
          2005,
          2006,
          2007,
          2008,
          2009,
          2010,
          2011,
          2012,
          2013,
          2014,
          2015,
          2016,
          2017,
          2018,
          2019,
          2020,
          2021,
          2022,
          2023,
          2024
         ],
         "xaxis": "x",
         "y": [
          1,
          2,
          1,
          5,
          9,
          7,
          10,
          11,
          22,
          33,
          49,
          97,
          132,
          245,
          483,
          942,
          1520,
          2457,
          3639,
          4887,
          6469,
          7181,
          7933,
          10055,
          8698
         ],
         "yaxis": "y"
        },
        {
         "line": {
          "color": "#B6E880"
         },
         "mode": "lines+markers",
         "name": "cs.cv",
         "showlegend": false,
         "type": "scatter",
         "x": [
          1999,
          2001,
          2002,
          2003,
          2004,
          2005,
          2006,
          2007,
          2008,
          2009,
          2010,
          2011,
          2012,
          2013,
          2014,
          2015,
          2016,
          2017,
          2018,
          2019,
          2020,
          2021,
          2022,
          2023,
          2024
         ],
         "xaxis": "x2",
         "y": [
          1,
          2,
          1,
          5,
          9,
          7,
          10,
          11,
          22,
          33,
          49,
          97,
          132,
          245,
          483,
          942,
          1520,
          2457,
          3639,
          4887,
          6469,
          7181,
          7933,
          10055,
          8698
         ],
         "yaxis": "y2"
        },
        {
         "line": {
          "color": "#FF97FF"
         },
         "mode": "lines+markers",
         "name": "cs.cl",
         "type": "scatter",
         "x": [
          1994,
          1995,
          1996,
          1997,
          1998,
          1999,
          2000,
          2001,
          2002,
          2003,
          2004,
          2005,
          2006,
          2007,
          2008,
          2009,
          2010,
          2011,
          2012,
          2013,
          2014,
          2015,
          2016,
          2017,
          2018,
          2019,
          2020,
          2021,
          2022,
          2023,
          2024
         ],
         "xaxis": "x",
         "y": [
          36,
          38,
          21,
          15,
          15,
          5,
          3,
          5,
          3,
          3,
          5,
          3,
          3,
          17,
          14,
          15,
          15,
          31,
          42,
          90,
          157,
          346,
          700,
          926,
          1329,
          2070,
          2970,
          3134,
          3610,
          5755,
          7199
         ],
         "yaxis": "y"
        },
        {
         "line": {
          "color": "#FF97FF"
         },
         "mode": "lines+markers",
         "name": "cs.cl",
         "showlegend": false,
         "type": "scatter",
         "x": [
          1994,
          1995,
          1996,
          1997,
          1998,
          1999,
          2000,
          2001,
          2002,
          2003,
          2004,
          2005,
          2006,
          2007,
          2008,
          2009,
          2010,
          2011,
          2012,
          2013,
          2014,
          2015,
          2016,
          2017,
          2018,
          2019,
          2020,
          2021,
          2022,
          2023,
          2024
         ],
         "xaxis": "x2",
         "y": [
          36,
          38,
          21,
          15,
          15,
          5,
          3,
          5,
          3,
          3,
          5,
          3,
          3,
          17,
          14,
          15,
          15,
          31,
          42,
          90,
          157,
          346,
          700,
          926,
          1329,
          2070,
          2970,
          3134,
          3610,
          5755,
          7199
         ],
         "yaxis": "y2"
        },
        {
         "line": {
          "color": "#FECB52"
         },
         "mode": "lines+markers",
         "name": "cs.ne",
         "type": "scatter",
         "x": [
          1998,
          1999,
          2000,
          2001,
          2002,
          2003,
          2004,
          2005,
          2006,
          2007,
          2008,
          2009,
          2010,
          2011,
          2012,
          2013,
          2014,
          2015,
          2016,
          2017,
          2018,
          2019,
          2020,
          2021,
          2022,
          2023,
          2024
         ],
         "xaxis": "x",
         "y": [
          1,
          1,
          1,
          2,
          2,
          7,
          6,
          7,
          10,
          18,
          38,
          24,
          30,
          37,
          55,
          102,
          194,
          306,
          413,
          451,
          527,
          625,
          704,
          552,
          603,
          578,
          461
         ],
         "yaxis": "y"
        },
        {
         "line": {
          "color": "#FECB52"
         },
         "mode": "lines+markers",
         "name": "cs.ne",
         "showlegend": false,
         "type": "scatter",
         "x": [
          1998,
          1999,
          2000,
          2001,
          2002,
          2003,
          2004,
          2005,
          2006,
          2007,
          2008,
          2009,
          2010,
          2011,
          2012,
          2013,
          2014,
          2015,
          2016,
          2017,
          2018,
          2019,
          2020,
          2021,
          2022,
          2023,
          2024
         ],
         "xaxis": "x2",
         "y": [
          1,
          1,
          1,
          2,
          2,
          7,
          6,
          7,
          10,
          18,
          38,
          24,
          30,
          37,
          55,
          102,
          194,
          306,
          413,
          451,
          527,
          625,
          704,
          552,
          603,
          578,
          461
         ],
         "yaxis": "y2"
        },
        {
         "line": {
          "color": "#636EFA"
         },
         "mode": "lines+markers",
         "name": "cs.ro",
         "type": "scatter",
         "x": [
          2000,
          2006,
          2007,
          2008,
          2009,
          2010,
          2011,
          2012,
          2013,
          2014,
          2015,
          2016,
          2017,
          2018,
          2019,
          2020,
          2021,
          2022,
          2023,
          2024
         ],
         "xaxis": "x",
         "y": [
          1,
          3,
          4,
          11,
          6,
          12,
          24,
          33,
          55,
          78,
          143,
          293,
          510,
          751,
          1177,
          1680,
          1843,
          2022,
          2601,
          2181
         ],
         "yaxis": "y"
        },
        {
         "line": {
          "color": "#636EFA"
         },
         "mode": "lines+markers",
         "name": "cs.ro",
         "showlegend": false,
         "type": "scatter",
         "x": [
          2000,
          2006,
          2007,
          2008,
          2009,
          2010,
          2011,
          2012,
          2013,
          2014,
          2015,
          2016,
          2017,
          2018,
          2019,
          2020,
          2021,
          2022,
          2023,
          2024
         ],
         "xaxis": "x2",
         "y": [
          1,
          3,
          4,
          11,
          6,
          12,
          24,
          33,
          55,
          78,
          143,
          293,
          510,
          751,
          1177,
          1680,
          1843,
          2022,
          2601,
          2181
         ],
         "yaxis": "y2"
        },
        {
         "line": {
          "color": "#EF553B"
         },
         "mode": "lines+markers",
         "name": "math.ds",
         "type": "scatter",
         "x": [
          1994,
          1996,
          1997,
          1998,
          1999,
          2000,
          2001,
          2002,
          2003,
          2004,
          2005,
          2006,
          2007,
          2008,
          2009,
          2010,
          2011,
          2012,
          2013,
          2014,
          2015,
          2016,
          2017,
          2018,
          2019,
          2020,
          2021,
          2022,
          2023,
          2024
         ],
         "xaxis": "x",
         "y": [
          3,
          3,
          8,
          17,
          44,
          48,
          86,
          76,
          121,
          151,
          204,
          229,
          301,
          373,
          392,
          510,
          656,
          769,
          810,
          840,
          982,
          971,
          998,
          1068,
          1277,
          1438,
          1346,
          1248,
          1219,
          722
         ],
         "yaxis": "y"
        },
        {
         "line": {
          "color": "#EF553B"
         },
         "mode": "lines+markers",
         "name": "math.ds",
         "showlegend": false,
         "type": "scatter",
         "x": [
          1994,
          1996,
          1997,
          1998,
          1999,
          2000,
          2001,
          2002,
          2003,
          2004,
          2005,
          2006,
          2007,
          2008,
          2009,
          2010,
          2011,
          2012,
          2013,
          2014,
          2015,
          2016,
          2017,
          2018,
          2019,
          2020,
          2021,
          2022,
          2023,
          2024
         ],
         "xaxis": "x2",
         "y": [
          3,
          3,
          8,
          17,
          44,
          48,
          86,
          76,
          121,
          151,
          204,
          229,
          301,
          373,
          392,
          510,
          656,
          769,
          810,
          840,
          982,
          971,
          998,
          1068,
          1277,
          1438,
          1346,
          1248,
          1219,
          722
         ],
         "yaxis": "y2"
        },
        {
         "line": {
          "color": "#00CC96"
         },
         "mode": "lines+markers",
         "name": "cs.hc",
         "type": "scatter",
         "x": [
          1998,
          1999,
          2001,
          2002,
          2003,
          2005,
          2006,
          2007,
          2008,
          2009,
          2010,
          2011,
          2012,
          2013,
          2014,
          2015,
          2016,
          2017,
          2018,
          2019,
          2020,
          2021,
          2022,
          2023,
          2024
         ],
         "xaxis": "x",
         "y": [
          1,
          3,
          2,
          2,
          4,
          2,
          17,
          10,
          4,
          15,
          9,
          13,
          27,
          34,
          38,
          83,
          118,
          162,
          258,
          394,
          598,
          612,
          721,
          1075,
          1066
         ],
         "yaxis": "y"
        },
        {
         "line": {
          "color": "#00CC96"
         },
         "mode": "lines+markers",
         "name": "cs.hc",
         "showlegend": false,
         "type": "scatter",
         "x": [
          1998,
          1999,
          2001,
          2002,
          2003,
          2005,
          2006,
          2007,
          2008,
          2009,
          2010,
          2011,
          2012,
          2013,
          2014,
          2015,
          2016,
          2017,
          2018,
          2019,
          2020,
          2021,
          2022,
          2023,
          2024
         ],
         "xaxis": "x2",
         "y": [
          1,
          3,
          2,
          2,
          4,
          2,
          17,
          10,
          4,
          15,
          9,
          13,
          27,
          34,
          38,
          83,
          118,
          162,
          258,
          394,
          598,
          612,
          721,
          1075,
          1066
         ],
         "yaxis": "y2"
        },
        {
         "line": {
          "color": "#AB63FA"
         },
         "mode": "lines+markers",
         "name": "cs.dm",
         "type": "scatter",
         "x": [
          1999,
          2000,
          2001,
          2002,
          2003,
          2004,
          2005,
          2006,
          2007,
          2008,
          2009,
          2010,
          2011,
          2012,
          2013,
          2014,
          2015,
          2016,
          2017,
          2018,
          2019,
          2020,
          2021,
          2022,
          2023,
          2024
         ],
         "xaxis": "x",
         "y": [
          6,
          7,
          10,
          12,
          15,
          25,
          29,
          49,
          81,
          130,
          155,
          206,
          256,
          320,
          292,
          279,
          381,
          380,
          384,
          429,
          479,
          538,
          489,
          515,
          502,
          284
         ],
         "yaxis": "y"
        },
        {
         "line": {
          "color": "#AB63FA"
         },
         "mode": "lines+markers",
         "name": "cs.dm",
         "showlegend": false,
         "type": "scatter",
         "x": [
          1999,
          2000,
          2001,
          2002,
          2003,
          2004,
          2005,
          2006,
          2007,
          2008,
          2009,
          2010,
          2011,
          2012,
          2013,
          2014,
          2015,
          2016,
          2017,
          2018,
          2019,
          2020,
          2021,
          2022,
          2023,
          2024
         ],
         "xaxis": "x2",
         "y": [
          6,
          7,
          10,
          12,
          15,
          25,
          29,
          49,
          81,
          130,
          155,
          206,
          256,
          320,
          292,
          279,
          381,
          380,
          384,
          429,
          479,
          538,
          489,
          515,
          502,
          284
         ],
         "yaxis": "y2"
        },
        {
         "line": {
          "color": "#FFA15A"
         },
         "mode": "lines+markers",
         "name": "cs.ma",
         "type": "scatter",
         "x": [
          2000,
          2002,
          2003,
          2004,
          2005,
          2006,
          2007,
          2008,
          2009,
          2010,
          2011,
          2012,
          2013,
          2014,
          2015,
          2016,
          2017,
          2018,
          2019,
          2020,
          2021,
          2022,
          2023,
          2024
         ],
         "xaxis": "x",
         "y": [
          3,
          1,
          1,
          4,
          6,
          11,
          12,
          22,
          16,
          19,
          39,
          43,
          49,
          63,
          67,
          76,
          118,
          207,
          294,
          406,
          418,
          421,
          413,
          379
         ],
         "yaxis": "y"
        },
        {
         "line": {
          "color": "#FFA15A"
         },
         "mode": "lines+markers",
         "name": "cs.ma",
         "showlegend": false,
         "type": "scatter",
         "x": [
          2000,
          2002,
          2003,
          2004,
          2005,
          2006,
          2007,
          2008,
          2009,
          2010,
          2011,
          2012,
          2013,
          2014,
          2015,
          2016,
          2017,
          2018,
          2019,
          2020,
          2021,
          2022,
          2023,
          2024
         ],
         "xaxis": "x2",
         "y": [
          3,
          1,
          1,
          4,
          6,
          11,
          12,
          22,
          16,
          19,
          39,
          43,
          49,
          63,
          67,
          76,
          118,
          207,
          294,
          406,
          418,
          421,
          413,
          379
         ],
         "yaxis": "y2"
        },
        {
         "line": {
          "color": "#19D3F3"
         },
         "mode": "lines+markers",
         "name": "cs.sd",
         "type": "scatter",
         "x": [
          2000,
          2007,
          2008,
          2009,
          2010,
          2011,
          2012,
          2013,
          2014,
          2015,
          2016,
          2017,
          2018,
          2019,
          2020,
          2021,
          2022,
          2023,
          2024
         ],
         "xaxis": "x",
         "y": [
          3,
          1,
          3,
          6,
          6,
          3,
          6,
          15,
          18,
          38,
          101,
          183,
          329,
          515,
          768,
          863,
          1060,
          964,
          770
         ],
         "yaxis": "y"
        },
        {
         "line": {
          "color": "#19D3F3"
         },
         "mode": "lines+markers",
         "name": "cs.sd",
         "showlegend": false,
         "type": "scatter",
         "x": [
          2000,
          2007,
          2008,
          2009,
          2010,
          2011,
          2012,
          2013,
          2014,
          2015,
          2016,
          2017,
          2018,
          2019,
          2020,
          2021,
          2022,
          2023,
          2024
         ],
         "xaxis": "x2",
         "y": [
          3,
          1,
          3,
          6,
          6,
          3,
          6,
          15,
          18,
          38,
          101,
          183,
          329,
          515,
          768,
          863,
          1060,
          964,
          770
         ],
         "yaxis": "y2"
        },
        {
         "line": {
          "color": "#FF6692"
         },
         "mode": "lines+markers",
         "name": "math.qa",
         "type": "scatter",
         "x": [
          1994,
          1995,
          1996,
          1997,
          1998,
          1999,
          2000,
          2001,
          2002,
          2003,
          2004,
          2005,
          2006,
          2007,
          2008,
          2009,
          2010,
          2011,
          2012,
          2013,
          2014,
          2015,
          2016,
          2017,
          2018,
          2019,
          2020,
          2021,
          2022,
          2023,
          2024
         ],
         "xaxis": "x",
         "y": [
          80,
          125,
          167,
          203,
          181,
          199,
          210,
          240,
          278,
          279,
          287,
          300,
          322,
          304,
          326,
          346,
          382,
          351,
          362,
          377,
          391,
          408,
          444,
          425,
          422,
          457,
          451,
          432,
          409,
          425,
          248
         ],
         "yaxis": "y"
        },
        {
         "line": {
          "color": "#FF6692"
         },
         "mode": "lines+markers",
         "name": "math.qa",
         "showlegend": false,
         "type": "scatter",
         "x": [
          1994,
          1995,
          1996,
          1997,
          1998,
          1999,
          2000,
          2001,
          2002,
          2003,
          2004,
          2005,
          2006,
          2007,
          2008,
          2009,
          2010,
          2011,
          2012,
          2013,
          2014,
          2015,
          2016,
          2017,
          2018,
          2019,
          2020,
          2021,
          2022,
          2023,
          2024
         ],
         "xaxis": "x2",
         "y": [
          80,
          125,
          167,
          203,
          181,
          199,
          210,
          240,
          278,
          279,
          287,
          300,
          322,
          304,
          326,
          346,
          382,
          351,
          362,
          377,
          391,
          408,
          444,
          425,
          422,
          457,
          451,
          432,
          409,
          425,
          248
         ],
         "yaxis": "y2"
        },
        {
         "line": {
          "color": "#B6E880"
         },
         "mode": "lines+markers",
         "name": "q-fin.st",
         "type": "scatter",
         "x": [
          1997,
          1998,
          1999,
          2000,
          2001,
          2002,
          2003,
          2004,
          2005,
          2006,
          2007,
          2008,
          2009,
          2010,
          2011,
          2012,
          2013,
          2014,
          2015,
          2016,
          2017,
          2018,
          2019,
          2020,
          2021,
          2022,
          2023,
          2024
         ],
         "xaxis": "x",
         "y": [
          6,
          2,
          5,
          8,
          9,
          7,
          18,
          22,
          30,
          48,
          31,
          32,
          38,
          56,
          34,
          48,
          69,
          52,
          53,
          56,
          53,
          69,
          97,
          108,
          89,
          92,
          83,
          71
         ],
         "yaxis": "y"
        },
        {
         "line": {
          "color": "#B6E880"
         },
         "mode": "lines+markers",
         "name": "q-fin.st",
         "showlegend": false,
         "type": "scatter",
         "x": [
          1997,
          1998,
          1999,
          2000,
          2001,
          2002,
          2003,
          2004,
          2005,
          2006,
          2007,
          2008,
          2009,
          2010,
          2011,
          2012,
          2013,
          2014,
          2015,
          2016,
          2017,
          2018,
          2019,
          2020,
          2021,
          2022,
          2023,
          2024
         ],
         "xaxis": "x2",
         "y": [
          6,
          2,
          5,
          8,
          9,
          7,
          18,
          22,
          30,
          48,
          31,
          32,
          38,
          56,
          34,
          48,
          69,
          52,
          53,
          56,
          53,
          69,
          97,
          108,
          89,
          92,
          83,
          71
         ],
         "yaxis": "y2"
        },
        {
         "line": {
          "color": "#FF97FF"
         },
         "mode": "lines+markers",
         "name": "q-fin.mf",
         "type": "scatter",
         "x": [
          2014,
          2015,
          2016,
          2017,
          2018,
          2019,
          2020,
          2021,
          2022,
          2023,
          2024
         ],
         "xaxis": "x",
         "y": [
          81,
          116,
          111,
          114,
          130,
          161,
          181,
          148,
          131,
          134,
          78
         ],
         "yaxis": "y"
        },
        {
         "line": {
          "color": "#FF97FF"
         },
         "mode": "lines+markers",
         "name": "q-fin.mf",
         "showlegend": false,
         "type": "scatter",
         "x": [
          2014,
          2015,
          2016,
          2017,
          2018,
          2019,
          2020,
          2021,
          2022,
          2023,
          2024
         ],
         "xaxis": "x2",
         "y": [
          81,
          116,
          111,
          114,
          130,
          161,
          181,
          148,
          131,
          134,
          78
         ],
         "yaxis": "y2"
        },
        {
         "line": {
          "color": "#FECB52"
         },
         "mode": "lines+markers",
         "name": "q-fin.cp",
         "type": "scatter",
         "x": [
          1998,
          1999,
          2000,
          2002,
          2003,
          2005,
          2006,
          2007,
          2008,
          2009,
          2010,
          2011,
          2012,
          2013,
          2014,
          2015,
          2016,
          2017,
          2018,
          2019,
          2020,
          2021,
          2022,
          2023,
          2024
         ],
         "xaxis": "x",
         "y": [
          1,
          1,
          1,
          1,
          1,
          4,
          4,
          7,
          16,
          45,
          45,
          49,
          44,
          44,
          32,
          50,
          36,
          65,
          64,
          81,
          102,
          85,
          106,
          102,
          82
         ],
         "yaxis": "y"
        },
        {
         "line": {
          "color": "#FECB52"
         },
         "mode": "lines+markers",
         "name": "q-fin.cp",
         "showlegend": false,
         "type": "scatter",
         "x": [
          1998,
          1999,
          2000,
          2002,
          2003,
          2005,
          2006,
          2007,
          2008,
          2009,
          2010,
          2011,
          2012,
          2013,
          2014,
          2015,
          2016,
          2017,
          2018,
          2019,
          2020,
          2021,
          2022,
          2023,
          2024
         ],
         "xaxis": "x2",
         "y": [
          1,
          1,
          1,
          1,
          1,
          4,
          4,
          7,
          16,
          45,
          45,
          49,
          44,
          44,
          32,
          50,
          36,
          65,
          64,
          81,
          102,
          85,
          106,
          102,
          82
         ],
         "yaxis": "y2"
        },
        {
         "line": {
          "color": "#636EFA"
         },
         "mode": "lines+markers",
         "name": "stat.th",
         "type": "scatter",
         "x": [
          1994,
          1998,
          2000,
          2001,
          2002,
          2003,
          2004,
          2005,
          2006,
          2007,
          2008,
          2009,
          2010,
          2011,
          2012,
          2013,
          2014,
          2015,
          2016,
          2017,
          2018,
          2019,
          2020,
          2021,
          2022,
          2023,
          2024
         ],
         "xaxis": "x",
         "y": [
          1,
          1,
          3,
          7,
          8,
          15,
          42,
          92,
          142,
          168,
          235,
          234,
          289,
          452,
          475,
          470,
          582,
          629,
          648,
          719,
          741,
          969,
          1155,
          1047,
          1079,
          960,
          579
         ],
         "yaxis": "y"
        },
        {
         "line": {
          "color": "#636EFA"
         },
         "mode": "lines+markers",
         "name": "stat.th",
         "showlegend": false,
         "type": "scatter",
         "x": [
          1994,
          1998,
          2000,
          2001,
          2002,
          2003,
          2004,
          2005,
          2006,
          2007,
          2008,
          2009,
          2010,
          2011,
          2012,
          2013,
          2014,
          2015,
          2016,
          2017,
          2018,
          2019,
          2020,
          2021,
          2022,
          2023,
          2024
         ],
         "xaxis": "x2",
         "y": [
          1,
          1,
          3,
          7,
          8,
          15,
          42,
          92,
          142,
          168,
          235,
          234,
          289,
          452,
          475,
          470,
          582,
          629,
          648,
          719,
          741,
          969,
          1155,
          1047,
          1079,
          960,
          579
         ],
         "yaxis": "y2"
        }
       ],
       "layout": {
        "annotations": [
         {
          "font": {
           "size": 16
          },
          "showarrow": false,
          "text": "Linear-Scale",
          "x": 0.225,
          "xanchor": "center",
          "xref": "paper",
          "y": 1,
          "yanchor": "bottom",
          "yref": "paper"
         },
         {
          "font": {
           "size": 16
          },
          "showarrow": false,
          "text": "Log-Scale",
          "x": 0.775,
          "xanchor": "center",
          "xref": "paper",
          "y": 1,
          "yanchor": "bottom",
          "yref": "paper"
         }
        ],
        "height": 550,
        "legend": {
         "title": {
          "text": "Categories"
         }
        },
        "template": {
         "data": {
          "bar": [
           {
            "error_x": {
             "color": "#2a3f5f"
            },
            "error_y": {
             "color": "#2a3f5f"
            },
            "marker": {
             "line": {
              "color": "white",
              "width": 0.5
             },
             "pattern": {
              "fillmode": "overlay",
              "size": 10,
              "solidity": 0.2
             }
            },
            "type": "bar"
           }
          ],
          "barpolar": [
           {
            "marker": {
             "line": {
              "color": "white",
              "width": 0.5
             },
             "pattern": {
              "fillmode": "overlay",
              "size": 10,
              "solidity": 0.2
             }
            },
            "type": "barpolar"
           }
          ],
          "carpet": [
           {
            "aaxis": {
             "endlinecolor": "#2a3f5f",
             "gridcolor": "#C8D4E3",
             "linecolor": "#C8D4E3",
             "minorgridcolor": "#C8D4E3",
             "startlinecolor": "#2a3f5f"
            },
            "baxis": {
             "endlinecolor": "#2a3f5f",
             "gridcolor": "#C8D4E3",
             "linecolor": "#C8D4E3",
             "minorgridcolor": "#C8D4E3",
             "startlinecolor": "#2a3f5f"
            },
            "type": "carpet"
           }
          ],
          "choropleth": [
           {
            "colorbar": {
             "outlinewidth": 0,
             "ticks": ""
            },
            "type": "choropleth"
           }
          ],
          "contour": [
           {
            "colorbar": {
             "outlinewidth": 0,
             "ticks": ""
            },
            "colorscale": [
             [
              0,
              "#0d0887"
             ],
             [
              0.1111111111111111,
              "#46039f"
             ],
             [
              0.2222222222222222,
              "#7201a8"
             ],
             [
              0.3333333333333333,
              "#9c179e"
             ],
             [
              0.4444444444444444,
              "#bd3786"
             ],
             [
              0.5555555555555556,
              "#d8576b"
             ],
             [
              0.6666666666666666,
              "#ed7953"
             ],
             [
              0.7777777777777778,
              "#fb9f3a"
             ],
             [
              0.8888888888888888,
              "#fdca26"
             ],
             [
              1,
              "#f0f921"
             ]
            ],
            "type": "contour"
           }
          ],
          "contourcarpet": [
           {
            "colorbar": {
             "outlinewidth": 0,
             "ticks": ""
            },
            "type": "contourcarpet"
           }
          ],
          "heatmap": [
           {
            "colorbar": {
             "outlinewidth": 0,
             "ticks": ""
            },
            "colorscale": [
             [
              0,
              "#0d0887"
             ],
             [
              0.1111111111111111,
              "#46039f"
             ],
             [
              0.2222222222222222,
              "#7201a8"
             ],
             [
              0.3333333333333333,
              "#9c179e"
             ],
             [
              0.4444444444444444,
              "#bd3786"
             ],
             [
              0.5555555555555556,
              "#d8576b"
             ],
             [
              0.6666666666666666,
              "#ed7953"
             ],
             [
              0.7777777777777778,
              "#fb9f3a"
             ],
             [
              0.8888888888888888,
              "#fdca26"
             ],
             [
              1,
              "#f0f921"
             ]
            ],
            "type": "heatmap"
           }
          ],
          "heatmapgl": [
           {
            "colorbar": {
             "outlinewidth": 0,
             "ticks": ""
            },
            "colorscale": [
             [
              0,
              "#0d0887"
             ],
             [
              0.1111111111111111,
              "#46039f"
             ],
             [
              0.2222222222222222,
              "#7201a8"
             ],
             [
              0.3333333333333333,
              "#9c179e"
             ],
             [
              0.4444444444444444,
              "#bd3786"
             ],
             [
              0.5555555555555556,
              "#d8576b"
             ],
             [
              0.6666666666666666,
              "#ed7953"
             ],
             [
              0.7777777777777778,
              "#fb9f3a"
             ],
             [
              0.8888888888888888,
              "#fdca26"
             ],
             [
              1,
              "#f0f921"
             ]
            ],
            "type": "heatmapgl"
           }
          ],
          "histogram": [
           {
            "marker": {
             "pattern": {
              "fillmode": "overlay",
              "size": 10,
              "solidity": 0.2
             }
            },
            "type": "histogram"
           }
          ],
          "histogram2d": [
           {
            "colorbar": {
             "outlinewidth": 0,
             "ticks": ""
            },
            "colorscale": [
             [
              0,
              "#0d0887"
             ],
             [
              0.1111111111111111,
              "#46039f"
             ],
             [
              0.2222222222222222,
              "#7201a8"
             ],
             [
              0.3333333333333333,
              "#9c179e"
             ],
             [
              0.4444444444444444,
              "#bd3786"
             ],
             [
              0.5555555555555556,
              "#d8576b"
             ],
             [
              0.6666666666666666,
              "#ed7953"
             ],
             [
              0.7777777777777778,
              "#fb9f3a"
             ],
             [
              0.8888888888888888,
              "#fdca26"
             ],
             [
              1,
              "#f0f921"
             ]
            ],
            "type": "histogram2d"
           }
          ],
          "histogram2dcontour": [
           {
            "colorbar": {
             "outlinewidth": 0,
             "ticks": ""
            },
            "colorscale": [
             [
              0,
              "#0d0887"
             ],
             [
              0.1111111111111111,
              "#46039f"
             ],
             [
              0.2222222222222222,
              "#7201a8"
             ],
             [
              0.3333333333333333,
              "#9c179e"
             ],
             [
              0.4444444444444444,
              "#bd3786"
             ],
             [
              0.5555555555555556,
              "#d8576b"
             ],
             [
              0.6666666666666666,
              "#ed7953"
             ],
             [
              0.7777777777777778,
              "#fb9f3a"
             ],
             [
              0.8888888888888888,
              "#fdca26"
             ],
             [
              1,
              "#f0f921"
             ]
            ],
            "type": "histogram2dcontour"
           }
          ],
          "mesh3d": [
           {
            "colorbar": {
             "outlinewidth": 0,
             "ticks": ""
            },
            "type": "mesh3d"
           }
          ],
          "parcoords": [
           {
            "line": {
             "colorbar": {
              "outlinewidth": 0,
              "ticks": ""
             }
            },
            "type": "parcoords"
           }
          ],
          "pie": [
           {
            "automargin": true,
            "type": "pie"
           }
          ],
          "scatter": [
           {
            "fillpattern": {
             "fillmode": "overlay",
             "size": 10,
             "solidity": 0.2
            },
            "type": "scatter"
           }
          ],
          "scatter3d": [
           {
            "line": {
             "colorbar": {
              "outlinewidth": 0,
              "ticks": ""
             }
            },
            "marker": {
             "colorbar": {
              "outlinewidth": 0,
              "ticks": ""
             }
            },
            "type": "scatter3d"
           }
          ],
          "scattercarpet": [
           {
            "marker": {
             "colorbar": {
              "outlinewidth": 0,
              "ticks": ""
             }
            },
            "type": "scattercarpet"
           }
          ],
          "scattergeo": [
           {
            "marker": {
             "colorbar": {
              "outlinewidth": 0,
              "ticks": ""
             }
            },
            "type": "scattergeo"
           }
          ],
          "scattergl": [
           {
            "marker": {
             "colorbar": {
              "outlinewidth": 0,
              "ticks": ""
             }
            },
            "type": "scattergl"
           }
          ],
          "scattermapbox": [
           {
            "marker": {
             "colorbar": {
              "outlinewidth": 0,
              "ticks": ""
             }
            },
            "type": "scattermapbox"
           }
          ],
          "scatterpolar": [
           {
            "marker": {
             "colorbar": {
              "outlinewidth": 0,
              "ticks": ""
             }
            },
            "type": "scatterpolar"
           }
          ],
          "scatterpolargl": [
           {
            "marker": {
             "colorbar": {
              "outlinewidth": 0,
              "ticks": ""
             }
            },
            "type": "scatterpolargl"
           }
          ],
          "scatterternary": [
           {
            "marker": {
             "colorbar": {
              "outlinewidth": 0,
              "ticks": ""
             }
            },
            "type": "scatterternary"
           }
          ],
          "surface": [
           {
            "colorbar": {
             "outlinewidth": 0,
             "ticks": ""
            },
            "colorscale": [
             [
              0,
              "#0d0887"
             ],
             [
              0.1111111111111111,
              "#46039f"
             ],
             [
              0.2222222222222222,
              "#7201a8"
             ],
             [
              0.3333333333333333,
              "#9c179e"
             ],
             [
              0.4444444444444444,
              "#bd3786"
             ],
             [
              0.5555555555555556,
              "#d8576b"
             ],
             [
              0.6666666666666666,
              "#ed7953"
             ],
             [
              0.7777777777777778,
              "#fb9f3a"
             ],
             [
              0.8888888888888888,
              "#fdca26"
             ],
             [
              1,
              "#f0f921"
             ]
            ],
            "type": "surface"
           }
          ],
          "table": [
           {
            "cells": {
             "fill": {
              "color": "#EBF0F8"
             },
             "line": {
              "color": "white"
             }
            },
            "header": {
             "fill": {
              "color": "#C8D4E3"
             },
             "line": {
              "color": "white"
             }
            },
            "type": "table"
           }
          ]
         },
         "layout": {
          "annotationdefaults": {
           "arrowcolor": "#2a3f5f",
           "arrowhead": 0,
           "arrowwidth": 1
          },
          "autotypenumbers": "strict",
          "coloraxis": {
           "colorbar": {
            "outlinewidth": 0,
            "ticks": ""
           }
          },
          "colorscale": {
           "diverging": [
            [
             0,
             "#8e0152"
            ],
            [
             0.1,
             "#c51b7d"
            ],
            [
             0.2,
             "#de77ae"
            ],
            [
             0.3,
             "#f1b6da"
            ],
            [
             0.4,
             "#fde0ef"
            ],
            [
             0.5,
             "#f7f7f7"
            ],
            [
             0.6,
             "#e6f5d0"
            ],
            [
             0.7,
             "#b8e186"
            ],
            [
             0.8,
             "#7fbc41"
            ],
            [
             0.9,
             "#4d9221"
            ],
            [
             1,
             "#276419"
            ]
           ],
           "sequential": [
            [
             0,
             "#0d0887"
            ],
            [
             0.1111111111111111,
             "#46039f"
            ],
            [
             0.2222222222222222,
             "#7201a8"
            ],
            [
             0.3333333333333333,
             "#9c179e"
            ],
            [
             0.4444444444444444,
             "#bd3786"
            ],
            [
             0.5555555555555556,
             "#d8576b"
            ],
            [
             0.6666666666666666,
             "#ed7953"
            ],
            [
             0.7777777777777778,
             "#fb9f3a"
            ],
            [
             0.8888888888888888,
             "#fdca26"
            ],
            [
             1,
             "#f0f921"
            ]
           ],
           "sequentialminus": [
            [
             0,
             "#0d0887"
            ],
            [
             0.1111111111111111,
             "#46039f"
            ],
            [
             0.2222222222222222,
             "#7201a8"
            ],
            [
             0.3333333333333333,
             "#9c179e"
            ],
            [
             0.4444444444444444,
             "#bd3786"
            ],
            [
             0.5555555555555556,
             "#d8576b"
            ],
            [
             0.6666666666666666,
             "#ed7953"
            ],
            [
             0.7777777777777778,
             "#fb9f3a"
            ],
            [
             0.8888888888888888,
             "#fdca26"
            ],
            [
             1,
             "#f0f921"
            ]
           ]
          },
          "colorway": [
           "#636efa",
           "#EF553B",
           "#00cc96",
           "#ab63fa",
           "#FFA15A",
           "#19d3f3",
           "#FF6692",
           "#B6E880",
           "#FF97FF",
           "#FECB52"
          ],
          "font": {
           "color": "#2a3f5f"
          },
          "geo": {
           "bgcolor": "white",
           "lakecolor": "white",
           "landcolor": "white",
           "showlakes": true,
           "showland": true,
           "subunitcolor": "#C8D4E3"
          },
          "hoverlabel": {
           "align": "left"
          },
          "hovermode": "closest",
          "mapbox": {
           "style": "light"
          },
          "paper_bgcolor": "white",
          "plot_bgcolor": "white",
          "polar": {
           "angularaxis": {
            "gridcolor": "#EBF0F8",
            "linecolor": "#EBF0F8",
            "ticks": ""
           },
           "bgcolor": "white",
           "radialaxis": {
            "gridcolor": "#EBF0F8",
            "linecolor": "#EBF0F8",
            "ticks": ""
           }
          },
          "scene": {
           "xaxis": {
            "backgroundcolor": "white",
            "gridcolor": "#DFE8F3",
            "gridwidth": 2,
            "linecolor": "#EBF0F8",
            "showbackground": true,
            "ticks": "",
            "zerolinecolor": "#EBF0F8"
           },
           "yaxis": {
            "backgroundcolor": "white",
            "gridcolor": "#DFE8F3",
            "gridwidth": 2,
            "linecolor": "#EBF0F8",
            "showbackground": true,
            "ticks": "",
            "zerolinecolor": "#EBF0F8"
           },
           "zaxis": {
            "backgroundcolor": "white",
            "gridcolor": "#DFE8F3",
            "gridwidth": 2,
            "linecolor": "#EBF0F8",
            "showbackground": true,
            "ticks": "",
            "zerolinecolor": "#EBF0F8"
           }
          },
          "shapedefaults": {
           "line": {
            "color": "#2a3f5f"
           }
          },
          "ternary": {
           "aaxis": {
            "gridcolor": "#DFE8F3",
            "linecolor": "#A2B1C6",
            "ticks": ""
           },
           "baxis": {
            "gridcolor": "#DFE8F3",
            "linecolor": "#A2B1C6",
            "ticks": ""
           },
           "bgcolor": "white",
           "caxis": {
            "gridcolor": "#DFE8F3",
            "linecolor": "#A2B1C6",
            "ticks": ""
           }
          },
          "title": {
           "x": 0.05
          },
          "xaxis": {
           "automargin": true,
           "gridcolor": "#EBF0F8",
           "linecolor": "#EBF0F8",
           "ticks": "",
           "title": {
            "standoff": 15
           },
           "zerolinecolor": "#EBF0F8",
           "zerolinewidth": 2
          },
          "yaxis": {
           "automargin": true,
           "gridcolor": "#EBF0F8",
           "linecolor": "#EBF0F8",
           "ticks": "",
           "title": {
            "standoff": 15
           },
           "zerolinecolor": "#EBF0F8",
           "zerolinewidth": 2
          }
         }
        },
        "title": {
         "font": {
          "size": 25
         },
         "text": "Number of corrective Publications per Year by Category",
         "x": 0.5
        },
        "xaxis": {
         "anchor": "y",
         "domain": [
          0,
          0.45
         ],
         "title": {
          "text": "Year of Publication"
         }
        },
        "xaxis2": {
         "anchor": "y2",
         "domain": [
          0.55,
          1
         ],
         "title": {
          "text": "Year of Publication"
         }
        },
        "yaxis": {
         "anchor": "x",
         "domain": [
          0,
          1
         ],
         "title": {
          "text": "# of Publications per Year"
         }
        },
        "yaxis2": {
         "anchor": "x2",
         "domain": [
          0,
          1
         ],
         "title": {
          "text": "# of Publications per Year"
         },
         "type": "log"
        }
       }
      }
     },
     "metadata": {},
     "output_type": "display_data"
    },
    {
     "data": {
      "application/vnd.plotly.v1+json": {
       "config": {
        "plotlyServerURL": "https://plot.ly"
       },
       "data": [
        {
         "colorbar": {
          "title": {
           "text": "Count"
          }
         },
         "colorscale": [
          [
           0,
           "rgb(5,48,97)"
          ],
          [
           0.1,
           "rgb(33,102,172)"
          ],
          [
           0.2,
           "rgb(67,147,195)"
          ],
          [
           0.3,
           "rgb(146,197,222)"
          ],
          [
           0.4,
           "rgb(209,229,240)"
          ],
          [
           0.5,
           "rgb(247,247,247)"
          ],
          [
           0.6,
           "rgb(253,219,199)"
          ],
          [
           0.7,
           "rgb(244,165,130)"
          ],
          [
           0.8,
           "rgb(214,96,77)"
          ],
          [
           0.9,
           "rgb(178,24,43)"
          ],
          [
           1,
           "rgb(103,0,31)"
          ]
         ],
         "text": [
          [
           1,
           0,
           0,
           0,
           1,
           0,
           3,
           7,
           8,
           15,
           42,
           92,
           142,
           168,
           235,
           234,
           289,
           452,
           475,
           470,
           582,
           629,
           648,
           719,
           741,
           969,
           1155,
           1047,
           1079,
           960,
           579
          ],
          [
           0,
           0,
           0,
           0,
           0,
           0,
           0,
           0,
           0,
           0,
           1,
           1,
           0,
           21,
           39,
           65,
           115,
           230,
           352,
           561,
           651,
           943,
           1352,
           2074,
           4264,
           6401,
           6839,
           2983,
           2752,
           2771,
           1881
          ],
          [
           0,
           0,
           0,
           6,
           2,
           5,
           8,
           9,
           7,
           18,
           22,
           30,
           48,
           31,
           32,
           38,
           56,
           34,
           48,
           69,
           52,
           53,
           56,
           53,
           69,
           97,
           108,
           89,
           92,
           83,
           71
          ],
          [
           0,
           0,
           0,
           0,
           0,
           0,
           0,
           0,
           0,
           0,
           0,
           0,
           0,
           0,
           0,
           0,
           0,
           0,
           0,
           0,
           81,
           116,
           111,
           114,
           130,
           161,
           181,
           148,
           131,
           134,
           78
          ],
          [
           0,
           0,
           0,
           0,
           1,
           1,
           1,
           0,
           1,
           1,
           0,
           4,
           4,
           7,
           16,
           45,
           45,
           49,
           44,
           44,
           32,
           50,
           36,
           65,
           64,
           81,
           102,
           85,
           106,
           102,
           82
          ],
          [
           1,
           0,
           0,
           0,
           1,
           0,
           3,
           7,
           8,
           15,
           42,
           92,
           142,
           168,
           235,
           234,
           289,
           452,
           475,
           470,
           582,
           629,
           648,
           719,
           741,
           969,
           1155,
           1047,
           1079,
           960,
           579
          ],
          [
           80,
           125,
           167,
           203,
           181,
           199,
           210,
           240,
           278,
           279,
           287,
           300,
           322,
           304,
           326,
           346,
           382,
           351,
           362,
           377,
           391,
           408,
           444,
           425,
           422,
           457,
           451,
           432,
           409,
           425,
           248
          ],
          [
           1,
           1,
           1,
           3,
           22,
           38,
           52,
           78,
           107,
           153,
           238,
           342,
           478,
           592,
           680,
           804,
           998,
           1269,
           1373,
           1520,
           1549,
           1749,
           1757,
           1815,
           2013,
           2089,
           2308,
           2194,
           2063,
           1897,
           1089
          ],
          [
           0,
           0,
           0,
           0,
           3,
           10,
           8,
           10,
           14,
           28,
           34,
           41,
           54,
           90,
           120,
           188,
           292,
           444,
           532,
           708,
           874,
           1076,
           1192,
           1421,
           1789,
           2287,
           2743,
           2702,
           2550,
           2548,
           1514
          ],
          [
           3,
           0,
           3,
           8,
           17,
           44,
           48,
           86,
           76,
           121,
           151,
           204,
           229,
           301,
           373,
           392,
           510,
           656,
           769,
           810,
           840,
           982,
           971,
           998,
           1068,
           1277,
           1438,
           1346,
           1248,
           1219,
           722
          ],
          [
           0,
           0,
           0,
           0,
           0,
           0,
           3,
           0,
           0,
           0,
           0,
           0,
           0,
           1,
           3,
           6,
           6,
           3,
           6,
           15,
           18,
           38,
           101,
           183,
           329,
           515,
           768,
           863,
           1060,
           964,
           770
          ],
          [
           0,
           0,
           0,
           0,
           0,
           0,
           1,
           0,
           0,
           0,
           0,
           0,
           3,
           4,
           11,
           6,
           12,
           24,
           33,
           55,
           78,
           143,
           293,
           510,
           751,
           1177,
           1680,
           1843,
           2022,
           2601,
           2181
          ],
          [
           0,
           0,
           0,
           0,
           1,
           1,
           1,
           2,
           2,
           7,
           6,
           7,
           10,
           18,
           38,
           24,
           30,
           37,
           55,
           102,
           194,
           306,
           413,
           451,
           527,
           625,
           704,
           552,
           603,
           578,
           461
          ],
          [
           0,
           0,
           0,
           0,
           0,
           0,
           3,
           0,
           1,
           1,
           4,
           6,
           11,
           12,
           22,
           16,
           19,
           39,
           43,
           49,
           63,
           67,
           76,
           118,
           207,
           294,
           406,
           418,
           421,
           413,
           379
          ],
          [
           0,
           0,
           0,
           1,
           0,
           2,
           7,
           3,
           3,
           4,
           7,
           16,
           15,
           22,
           50,
           85,
           135,
           193,
           374,
           586,
           762,
           1243,
           1752,
           2647,
           5218,
           9143,
           12353,
           11970,
           12621,
           14346,
           11582
          ],
          [
           0,
           0,
           0,
           0,
           1,
           3,
           0,
           2,
           2,
           4,
           0,
           2,
           17,
           10,
           4,
           15,
           9,
           13,
           27,
           34,
           38,
           83,
           118,
           162,
           258,
           394,
           598,
           612,
           721,
           1075,
           1066
          ],
          [
           0,
           0,
           0,
           0,
           0,
           6,
           7,
           10,
           12,
           15,
           25,
           29,
           49,
           81,
           130,
           155,
           206,
           256,
           320,
           292,
           279,
           381,
           380,
           384,
           429,
           479,
           538,
           489,
           515,
           502,
           284
          ],
          [
           0,
           0,
           0,
           0,
           0,
           1,
           0,
           2,
           1,
           5,
           9,
           7,
           10,
           11,
           22,
           33,
           49,
           97,
           132,
           245,
           483,
           942,
           1520,
           2457,
           3639,
           4887,
           6469,
           7181,
           7933,
           10055,
           8698
          ],
          [
           36,
           38,
           21,
           15,
           15,
           5,
           3,
           5,
           3,
           3,
           5,
           3,
           3,
           17,
           14,
           15,
           15,
           31,
           42,
           90,
           157,
           346,
           700,
           926,
           1329,
           2070,
           2970,
           3134,
           3610,
           5755,
           7199
          ],
          [
           0,
           0,
           1,
           1,
           9,
           16,
           17,
           29,
           34,
           37,
           34,
           60,
           82,
           88,
           121,
           148,
           191,
           216,
           221,
           285,
           270,
           291,
           319,
           322,
           309,
           386,
           424,
           412,
           379,
           385,
           265
          ],
          [
           0,
           0,
           0,
           0,
           2,
           7,
           19,
           11,
           27,
           21,
           30,
           27,
           49,
           41,
           81,
           94,
           98,
           141,
           173,
           241,
           243,
           413,
           768,
           1217,
           1786,
           1988,
           3163,
           5145,
           6083,
           9026,
           9807
          ]
         ],
         "texttemplate": "%{text}",
         "type": "heatmap",
         "x": [
          1994,
          1995,
          1996,
          1997,
          1998,
          1999,
          2000,
          2001,
          2002,
          2003,
          2004,
          2005,
          2006,
          2007,
          2008,
          2009,
          2010,
          2011,
          2012,
          2013,
          2014,
          2015,
          2016,
          2017,
          2018,
          2019,
          2020,
          2021,
          2022,
          2023,
          2024
         ],
         "y": [
          "stat.th",
          "stat.ml",
          "q-fin.st",
          "q-fin.mf",
          "q-fin.cp",
          "math.st",
          "math.qa",
          "math.pr",
          "math.oc",
          "math.ds",
          "cs.sd",
          "cs.ro",
          "cs.ne",
          "cs.ma",
          "cs.lg",
          "cs.hc",
          "cs.dm",
          "cs.cv",
          "cs.cl",
          "cs.cc",
          "cs.ai"
         ],
         "z": [
          [
           1,
           0,
           0,
           0,
           1,
           0,
           3,
           7,
           8,
           15,
           42,
           92,
           142,
           168,
           235,
           234,
           289,
           452,
           475,
           470,
           582,
           629,
           648,
           719,
           741,
           969,
           1155,
           1047,
           1079,
           960,
           579
          ],
          [
           0,
           0,
           0,
           0,
           0,
           0,
           0,
           0,
           0,
           0,
           1,
           1,
           0,
           21,
           39,
           65,
           115,
           230,
           352,
           561,
           651,
           943,
           1352,
           2074,
           4264,
           6401,
           6839,
           2983,
           2752,
           2771,
           1881
          ],
          [
           0,
           0,
           0,
           6,
           2,
           5,
           8,
           9,
           7,
           18,
           22,
           30,
           48,
           31,
           32,
           38,
           56,
           34,
           48,
           69,
           52,
           53,
           56,
           53,
           69,
           97,
           108,
           89,
           92,
           83,
           71
          ],
          [
           0,
           0,
           0,
           0,
           0,
           0,
           0,
           0,
           0,
           0,
           0,
           0,
           0,
           0,
           0,
           0,
           0,
           0,
           0,
           0,
           81,
           116,
           111,
           114,
           130,
           161,
           181,
           148,
           131,
           134,
           78
          ],
          [
           0,
           0,
           0,
           0,
           1,
           1,
           1,
           0,
           1,
           1,
           0,
           4,
           4,
           7,
           16,
           45,
           45,
           49,
           44,
           44,
           32,
           50,
           36,
           65,
           64,
           81,
           102,
           85,
           106,
           102,
           82
          ],
          [
           1,
           0,
           0,
           0,
           1,
           0,
           3,
           7,
           8,
           15,
           42,
           92,
           142,
           168,
           235,
           234,
           289,
           452,
           475,
           470,
           582,
           629,
           648,
           719,
           741,
           969,
           1155,
           1047,
           1079,
           960,
           579
          ],
          [
           80,
           125,
           167,
           203,
           181,
           199,
           210,
           240,
           278,
           279,
           287,
           300,
           322,
           304,
           326,
           346,
           382,
           351,
           362,
           377,
           391,
           408,
           444,
           425,
           422,
           457,
           451,
           432,
           409,
           425,
           248
          ],
          [
           1,
           1,
           1,
           3,
           22,
           38,
           52,
           78,
           107,
           153,
           238,
           342,
           478,
           592,
           680,
           804,
           998,
           1269,
           1373,
           1520,
           1549,
           1749,
           1757,
           1815,
           2013,
           2089,
           2308,
           2194,
           2063,
           1897,
           1089
          ],
          [
           0,
           0,
           0,
           0,
           3,
           10,
           8,
           10,
           14,
           28,
           34,
           41,
           54,
           90,
           120,
           188,
           292,
           444,
           532,
           708,
           874,
           1076,
           1192,
           1421,
           1789,
           2287,
           2743,
           2702,
           2550,
           2548,
           1514
          ],
          [
           3,
           0,
           3,
           8,
           17,
           44,
           48,
           86,
           76,
           121,
           151,
           204,
           229,
           301,
           373,
           392,
           510,
           656,
           769,
           810,
           840,
           982,
           971,
           998,
           1068,
           1277,
           1438,
           1346,
           1248,
           1219,
           722
          ],
          [
           0,
           0,
           0,
           0,
           0,
           0,
           3,
           0,
           0,
           0,
           0,
           0,
           0,
           1,
           3,
           6,
           6,
           3,
           6,
           15,
           18,
           38,
           101,
           183,
           329,
           515,
           768,
           863,
           1060,
           964,
           770
          ],
          [
           0,
           0,
           0,
           0,
           0,
           0,
           1,
           0,
           0,
           0,
           0,
           0,
           3,
           4,
           11,
           6,
           12,
           24,
           33,
           55,
           78,
           143,
           293,
           510,
           751,
           1177,
           1680,
           1843,
           2022,
           2601,
           2181
          ],
          [
           0,
           0,
           0,
           0,
           1,
           1,
           1,
           2,
           2,
           7,
           6,
           7,
           10,
           18,
           38,
           24,
           30,
           37,
           55,
           102,
           194,
           306,
           413,
           451,
           527,
           625,
           704,
           552,
           603,
           578,
           461
          ],
          [
           0,
           0,
           0,
           0,
           0,
           0,
           3,
           0,
           1,
           1,
           4,
           6,
           11,
           12,
           22,
           16,
           19,
           39,
           43,
           49,
           63,
           67,
           76,
           118,
           207,
           294,
           406,
           418,
           421,
           413,
           379
          ],
          [
           0,
           0,
           0,
           1,
           0,
           2,
           7,
           3,
           3,
           4,
           7,
           16,
           15,
           22,
           50,
           85,
           135,
           193,
           374,
           586,
           762,
           1243,
           1752,
           2647,
           5218,
           9143,
           12353,
           11970,
           12621,
           14346,
           11582
          ],
          [
           0,
           0,
           0,
           0,
           1,
           3,
           0,
           2,
           2,
           4,
           0,
           2,
           17,
           10,
           4,
           15,
           9,
           13,
           27,
           34,
           38,
           83,
           118,
           162,
           258,
           394,
           598,
           612,
           721,
           1075,
           1066
          ],
          [
           0,
           0,
           0,
           0,
           0,
           6,
           7,
           10,
           12,
           15,
           25,
           29,
           49,
           81,
           130,
           155,
           206,
           256,
           320,
           292,
           279,
           381,
           380,
           384,
           429,
           479,
           538,
           489,
           515,
           502,
           284
          ],
          [
           0,
           0,
           0,
           0,
           0,
           1,
           0,
           2,
           1,
           5,
           9,
           7,
           10,
           11,
           22,
           33,
           49,
           97,
           132,
           245,
           483,
           942,
           1520,
           2457,
           3639,
           4887,
           6469,
           7181,
           7933,
           10055,
           8698
          ],
          [
           36,
           38,
           21,
           15,
           15,
           5,
           3,
           5,
           3,
           3,
           5,
           3,
           3,
           17,
           14,
           15,
           15,
           31,
           42,
           90,
           157,
           346,
           700,
           926,
           1329,
           2070,
           2970,
           3134,
           3610,
           5755,
           7199
          ],
          [
           0,
           0,
           1,
           1,
           9,
           16,
           17,
           29,
           34,
           37,
           34,
           60,
           82,
           88,
           121,
           148,
           191,
           216,
           221,
           285,
           270,
           291,
           319,
           322,
           309,
           386,
           424,
           412,
           379,
           385,
           265
          ],
          [
           0,
           0,
           0,
           0,
           2,
           7,
           19,
           11,
           27,
           21,
           30,
           27,
           49,
           41,
           81,
           94,
           98,
           141,
           173,
           241,
           243,
           413,
           768,
           1217,
           1786,
           1988,
           3163,
           5145,
           6083,
           9026,
           9807
          ]
         ]
        }
       ],
       "layout": {
        "height": 800,
        "template": {
         "data": {
          "bar": [
           {
            "error_x": {
             "color": "#2a3f5f"
            },
            "error_y": {
             "color": "#2a3f5f"
            },
            "marker": {
             "line": {
              "color": "white",
              "width": 0.5
             },
             "pattern": {
              "fillmode": "overlay",
              "size": 10,
              "solidity": 0.2
             }
            },
            "type": "bar"
           }
          ],
          "barpolar": [
           {
            "marker": {
             "line": {
              "color": "white",
              "width": 0.5
             },
             "pattern": {
              "fillmode": "overlay",
              "size": 10,
              "solidity": 0.2
             }
            },
            "type": "barpolar"
           }
          ],
          "carpet": [
           {
            "aaxis": {
             "endlinecolor": "#2a3f5f",
             "gridcolor": "#C8D4E3",
             "linecolor": "#C8D4E3",
             "minorgridcolor": "#C8D4E3",
             "startlinecolor": "#2a3f5f"
            },
            "baxis": {
             "endlinecolor": "#2a3f5f",
             "gridcolor": "#C8D4E3",
             "linecolor": "#C8D4E3",
             "minorgridcolor": "#C8D4E3",
             "startlinecolor": "#2a3f5f"
            },
            "type": "carpet"
           }
          ],
          "choropleth": [
           {
            "colorbar": {
             "outlinewidth": 0,
             "ticks": ""
            },
            "type": "choropleth"
           }
          ],
          "contour": [
           {
            "colorbar": {
             "outlinewidth": 0,
             "ticks": ""
            },
            "colorscale": [
             [
              0,
              "#0d0887"
             ],
             [
              0.1111111111111111,
              "#46039f"
             ],
             [
              0.2222222222222222,
              "#7201a8"
             ],
             [
              0.3333333333333333,
              "#9c179e"
             ],
             [
              0.4444444444444444,
              "#bd3786"
             ],
             [
              0.5555555555555556,
              "#d8576b"
             ],
             [
              0.6666666666666666,
              "#ed7953"
             ],
             [
              0.7777777777777778,
              "#fb9f3a"
             ],
             [
              0.8888888888888888,
              "#fdca26"
             ],
             [
              1,
              "#f0f921"
             ]
            ],
            "type": "contour"
           }
          ],
          "contourcarpet": [
           {
            "colorbar": {
             "outlinewidth": 0,
             "ticks": ""
            },
            "type": "contourcarpet"
           }
          ],
          "heatmap": [
           {
            "colorbar": {
             "outlinewidth": 0,
             "ticks": ""
            },
            "colorscale": [
             [
              0,
              "#0d0887"
             ],
             [
              0.1111111111111111,
              "#46039f"
             ],
             [
              0.2222222222222222,
              "#7201a8"
             ],
             [
              0.3333333333333333,
              "#9c179e"
             ],
             [
              0.4444444444444444,
              "#bd3786"
             ],
             [
              0.5555555555555556,
              "#d8576b"
             ],
             [
              0.6666666666666666,
              "#ed7953"
             ],
             [
              0.7777777777777778,
              "#fb9f3a"
             ],
             [
              0.8888888888888888,
              "#fdca26"
             ],
             [
              1,
              "#f0f921"
             ]
            ],
            "type": "heatmap"
           }
          ],
          "heatmapgl": [
           {
            "colorbar": {
             "outlinewidth": 0,
             "ticks": ""
            },
            "colorscale": [
             [
              0,
              "#0d0887"
             ],
             [
              0.1111111111111111,
              "#46039f"
             ],
             [
              0.2222222222222222,
              "#7201a8"
             ],
             [
              0.3333333333333333,
              "#9c179e"
             ],
             [
              0.4444444444444444,
              "#bd3786"
             ],
             [
              0.5555555555555556,
              "#d8576b"
             ],
             [
              0.6666666666666666,
              "#ed7953"
             ],
             [
              0.7777777777777778,
              "#fb9f3a"
             ],
             [
              0.8888888888888888,
              "#fdca26"
             ],
             [
              1,
              "#f0f921"
             ]
            ],
            "type": "heatmapgl"
           }
          ],
          "histogram": [
           {
            "marker": {
             "pattern": {
              "fillmode": "overlay",
              "size": 10,
              "solidity": 0.2
             }
            },
            "type": "histogram"
           }
          ],
          "histogram2d": [
           {
            "colorbar": {
             "outlinewidth": 0,
             "ticks": ""
            },
            "colorscale": [
             [
              0,
              "#0d0887"
             ],
             [
              0.1111111111111111,
              "#46039f"
             ],
             [
              0.2222222222222222,
              "#7201a8"
             ],
             [
              0.3333333333333333,
              "#9c179e"
             ],
             [
              0.4444444444444444,
              "#bd3786"
             ],
             [
              0.5555555555555556,
              "#d8576b"
             ],
             [
              0.6666666666666666,
              "#ed7953"
             ],
             [
              0.7777777777777778,
              "#fb9f3a"
             ],
             [
              0.8888888888888888,
              "#fdca26"
             ],
             [
              1,
              "#f0f921"
             ]
            ],
            "type": "histogram2d"
           }
          ],
          "histogram2dcontour": [
           {
            "colorbar": {
             "outlinewidth": 0,
             "ticks": ""
            },
            "colorscale": [
             [
              0,
              "#0d0887"
             ],
             [
              0.1111111111111111,
              "#46039f"
             ],
             [
              0.2222222222222222,
              "#7201a8"
             ],
             [
              0.3333333333333333,
              "#9c179e"
             ],
             [
              0.4444444444444444,
              "#bd3786"
             ],
             [
              0.5555555555555556,
              "#d8576b"
             ],
             [
              0.6666666666666666,
              "#ed7953"
             ],
             [
              0.7777777777777778,
              "#fb9f3a"
             ],
             [
              0.8888888888888888,
              "#fdca26"
             ],
             [
              1,
              "#f0f921"
             ]
            ],
            "type": "histogram2dcontour"
           }
          ],
          "mesh3d": [
           {
            "colorbar": {
             "outlinewidth": 0,
             "ticks": ""
            },
            "type": "mesh3d"
           }
          ],
          "parcoords": [
           {
            "line": {
             "colorbar": {
              "outlinewidth": 0,
              "ticks": ""
             }
            },
            "type": "parcoords"
           }
          ],
          "pie": [
           {
            "automargin": true,
            "type": "pie"
           }
          ],
          "scatter": [
           {
            "fillpattern": {
             "fillmode": "overlay",
             "size": 10,
             "solidity": 0.2
            },
            "type": "scatter"
           }
          ],
          "scatter3d": [
           {
            "line": {
             "colorbar": {
              "outlinewidth": 0,
              "ticks": ""
             }
            },
            "marker": {
             "colorbar": {
              "outlinewidth": 0,
              "ticks": ""
             }
            },
            "type": "scatter3d"
           }
          ],
          "scattercarpet": [
           {
            "marker": {
             "colorbar": {
              "outlinewidth": 0,
              "ticks": ""
             }
            },
            "type": "scattercarpet"
           }
          ],
          "scattergeo": [
           {
            "marker": {
             "colorbar": {
              "outlinewidth": 0,
              "ticks": ""
             }
            },
            "type": "scattergeo"
           }
          ],
          "scattergl": [
           {
            "marker": {
             "colorbar": {
              "outlinewidth": 0,
              "ticks": ""
             }
            },
            "type": "scattergl"
           }
          ],
          "scattermapbox": [
           {
            "marker": {
             "colorbar": {
              "outlinewidth": 0,
              "ticks": ""
             }
            },
            "type": "scattermapbox"
           }
          ],
          "scatterpolar": [
           {
            "marker": {
             "colorbar": {
              "outlinewidth": 0,
              "ticks": ""
             }
            },
            "type": "scatterpolar"
           }
          ],
          "scatterpolargl": [
           {
            "marker": {
             "colorbar": {
              "outlinewidth": 0,
              "ticks": ""
             }
            },
            "type": "scatterpolargl"
           }
          ],
          "scatterternary": [
           {
            "marker": {
             "colorbar": {
              "outlinewidth": 0,
              "ticks": ""
             }
            },
            "type": "scatterternary"
           }
          ],
          "surface": [
           {
            "colorbar": {
             "outlinewidth": 0,
             "ticks": ""
            },
            "colorscale": [
             [
              0,
              "#0d0887"
             ],
             [
              0.1111111111111111,
              "#46039f"
             ],
             [
              0.2222222222222222,
              "#7201a8"
             ],
             [
              0.3333333333333333,
              "#9c179e"
             ],
             [
              0.4444444444444444,
              "#bd3786"
             ],
             [
              0.5555555555555556,
              "#d8576b"
             ],
             [
              0.6666666666666666,
              "#ed7953"
             ],
             [
              0.7777777777777778,
              "#fb9f3a"
             ],
             [
              0.8888888888888888,
              "#fdca26"
             ],
             [
              1,
              "#f0f921"
             ]
            ],
            "type": "surface"
           }
          ],
          "table": [
           {
            "cells": {
             "fill": {
              "color": "#EBF0F8"
             },
             "line": {
              "color": "white"
             }
            },
            "header": {
             "fill": {
              "color": "#C8D4E3"
             },
             "line": {
              "color": "white"
             }
            },
            "type": "table"
           }
          ]
         },
         "layout": {
          "annotationdefaults": {
           "arrowcolor": "#2a3f5f",
           "arrowhead": 0,
           "arrowwidth": 1
          },
          "autotypenumbers": "strict",
          "coloraxis": {
           "colorbar": {
            "outlinewidth": 0,
            "ticks": ""
           }
          },
          "colorscale": {
           "diverging": [
            [
             0,
             "#8e0152"
            ],
            [
             0.1,
             "#c51b7d"
            ],
            [
             0.2,
             "#de77ae"
            ],
            [
             0.3,
             "#f1b6da"
            ],
            [
             0.4,
             "#fde0ef"
            ],
            [
             0.5,
             "#f7f7f7"
            ],
            [
             0.6,
             "#e6f5d0"
            ],
            [
             0.7,
             "#b8e186"
            ],
            [
             0.8,
             "#7fbc41"
            ],
            [
             0.9,
             "#4d9221"
            ],
            [
             1,
             "#276419"
            ]
           ],
           "sequential": [
            [
             0,
             "#0d0887"
            ],
            [
             0.1111111111111111,
             "#46039f"
            ],
            [
             0.2222222222222222,
             "#7201a8"
            ],
            [
             0.3333333333333333,
             "#9c179e"
            ],
            [
             0.4444444444444444,
             "#bd3786"
            ],
            [
             0.5555555555555556,
             "#d8576b"
            ],
            [
             0.6666666666666666,
             "#ed7953"
            ],
            [
             0.7777777777777778,
             "#fb9f3a"
            ],
            [
             0.8888888888888888,
             "#fdca26"
            ],
            [
             1,
             "#f0f921"
            ]
           ],
           "sequentialminus": [
            [
             0,
             "#0d0887"
            ],
            [
             0.1111111111111111,
             "#46039f"
            ],
            [
             0.2222222222222222,
             "#7201a8"
            ],
            [
             0.3333333333333333,
             "#9c179e"
            ],
            [
             0.4444444444444444,
             "#bd3786"
            ],
            [
             0.5555555555555556,
             "#d8576b"
            ],
            [
             0.6666666666666666,
             "#ed7953"
            ],
            [
             0.7777777777777778,
             "#fb9f3a"
            ],
            [
             0.8888888888888888,
             "#fdca26"
            ],
            [
             1,
             "#f0f921"
            ]
           ]
          },
          "colorway": [
           "#636efa",
           "#EF553B",
           "#00cc96",
           "#ab63fa",
           "#FFA15A",
           "#19d3f3",
           "#FF6692",
           "#B6E880",
           "#FF97FF",
           "#FECB52"
          ],
          "font": {
           "color": "#2a3f5f"
          },
          "geo": {
           "bgcolor": "white",
           "lakecolor": "white",
           "landcolor": "white",
           "showlakes": true,
           "showland": true,
           "subunitcolor": "#C8D4E3"
          },
          "hoverlabel": {
           "align": "left"
          },
          "hovermode": "closest",
          "mapbox": {
           "style": "light"
          },
          "paper_bgcolor": "white",
          "plot_bgcolor": "white",
          "polar": {
           "angularaxis": {
            "gridcolor": "#EBF0F8",
            "linecolor": "#EBF0F8",
            "ticks": ""
           },
           "bgcolor": "white",
           "radialaxis": {
            "gridcolor": "#EBF0F8",
            "linecolor": "#EBF0F8",
            "ticks": ""
           }
          },
          "scene": {
           "xaxis": {
            "backgroundcolor": "white",
            "gridcolor": "#DFE8F3",
            "gridwidth": 2,
            "linecolor": "#EBF0F8",
            "showbackground": true,
            "ticks": "",
            "zerolinecolor": "#EBF0F8"
           },
           "yaxis": {
            "backgroundcolor": "white",
            "gridcolor": "#DFE8F3",
            "gridwidth": 2,
            "linecolor": "#EBF0F8",
            "showbackground": true,
            "ticks": "",
            "zerolinecolor": "#EBF0F8"
           },
           "zaxis": {
            "backgroundcolor": "white",
            "gridcolor": "#DFE8F3",
            "gridwidth": 2,
            "linecolor": "#EBF0F8",
            "showbackground": true,
            "ticks": "",
            "zerolinecolor": "#EBF0F8"
           }
          },
          "shapedefaults": {
           "line": {
            "color": "#2a3f5f"
           }
          },
          "ternary": {
           "aaxis": {
            "gridcolor": "#DFE8F3",
            "linecolor": "#A2B1C6",
            "ticks": ""
           },
           "baxis": {
            "gridcolor": "#DFE8F3",
            "linecolor": "#A2B1C6",
            "ticks": ""
           },
           "bgcolor": "white",
           "caxis": {
            "gridcolor": "#DFE8F3",
            "linecolor": "#A2B1C6",
            "ticks": ""
           }
          },
          "title": {
           "x": 0.05
          },
          "xaxis": {
           "automargin": true,
           "gridcolor": "#EBF0F8",
           "linecolor": "#EBF0F8",
           "ticks": "",
           "title": {
            "standoff": 15
           },
           "zerolinecolor": "#EBF0F8",
           "zerolinewidth": 2
          },
          "yaxis": {
           "automargin": true,
           "gridcolor": "#EBF0F8",
           "linecolor": "#EBF0F8",
           "ticks": "",
           "title": {
            "standoff": 15
           },
           "zerolinecolor": "#EBF0F8",
           "zerolinewidth": 2
          }
         }
        },
        "title": {
         "font": {
          "size": 25
         },
         "text": "Number of corrective Publications per Year by Category",
         "x": 0.5
        },
        "xaxis": {
         "title": {
          "text": "Year of Publication"
         }
        },
        "yaxis": {
         "title": {
          "text": "Category"
         }
        }
       }
      }
     },
     "metadata": {},
     "output_type": "display_data"
    }
   ],
   "source": [
    "visualize_publications_by_category(df_corrective, \"corrective\")"
   ]
  },
  {
   "cell_type": "markdown",
   "metadata": {},
   "source": [
    "### Analysis of the relative impact by Category for each Year since 1994"
   ]
  },
  {
   "cell_type": "code",
   "execution_count": 17,
   "metadata": {
    "ExecuteTime": {
     "end_time": "2024-12-29T15:25:43.626955Z",
     "start_time": "2024-12-29T15:25:43.622823Z"
    }
   },
   "outputs": [],
   "source": [
    "def visualize_publications_by_category_normalized(df, title):\n",
    "    \"\"\"\n",
    "    Visualizes the normalized distribution of publications per year by category.\n",
    "\n",
    "    This function creates a heatmap where the values are normalized ratios of\n",
    "    publications within each category. It shows the relative contribution of each\n",
    "    category to the total publications for that category.\n",
    "    \"\"\"\n",
    "    df = prepare_data(df, \"Y\", True)\n",
    "\n",
    "    # Create a pivot table with categorises as rows and periods as columns\n",
    "    pivot_counts = df.pivot(index=\"categories\", columns=\"period\", values=\"count\").fillna(0)\n",
    "\n",
    "    # Normalize publication counts so that each column (year) sums to 1\n",
    "    normalized_counts = pivot_counts.div(pivot_counts.sum(axis=0), axis=1)\n",
    "    # Sort categories alphabetically in descending order to sort the heatmap alphabetically (it's reversed)\n",
    "    normalized_counts = normalized_counts.sort_index(ascending=False)\n",
    "\n",
    "    # Create the heatmap figure\n",
    "    fig = go.Figure(\n",
    "        data=go.Heatmap(\n",
    "            z=normalized_counts.values,\n",
    "            x=normalized_counts.columns,\n",
    "            y=normalized_counts.index,\n",
    "            colorbar=dict(title=\"Ratio\"),\n",
    "            colorscale='RdBu_r'\n",
    "        )\n",
    "    )\n",
    "\n",
    "    fig.update_layout(\n",
    "        title=dict(\n",
    "            text=f\"Normalized Number of {title} Publications per Year by Category\",\n",
    "            font=dict(size=TITLE_SIZE),\n",
    "            x=TITLE_X_POS,\n",
    "            xanchor=\"center\"\n",
    "        ),\n",
    "        xaxis_title=\"Year of Publication\",\n",
    "        yaxis_title=\"Category\",\n",
    "        height=800,\n",
    "    )\n",
    "\n",
    "    fig.show()"
   ]
  },
  {
   "cell_type": "code",
   "execution_count": 18,
   "metadata": {
    "ExecuteTime": {
     "end_time": "2024-12-29T15:25:45.187178Z",
     "start_time": "2024-12-29T15:25:43.636348Z"
    }
   },
   "outputs": [
    {
     "data": {
      "application/vnd.plotly.v1+json": {
       "config": {
        "plotlyServerURL": "https://plot.ly"
       },
       "data": [
        {
         "colorbar": {
          "title": {
           "text": "Ratio"
          }
         },
         "colorscale": [
          [
           0,
           "rgb(5,48,97)"
          ],
          [
           0.1,
           "rgb(33,102,172)"
          ],
          [
           0.2,
           "rgb(67,147,195)"
          ],
          [
           0.3,
           "rgb(146,197,222)"
          ],
          [
           0.4,
           "rgb(209,229,240)"
          ],
          [
           0.5,
           "rgb(247,247,247)"
          ],
          [
           0.6,
           "rgb(253,219,199)"
          ],
          [
           0.7,
           "rgb(244,165,130)"
          ],
          [
           0.8,
           "rgb(214,96,77)"
          ],
          [
           0.9,
           "rgb(178,24,43)"
          ],
          [
           1,
           "rgb(103,0,31)"
          ]
         ],
         "type": "heatmap",
         "x": [
          1994,
          1995,
          1996,
          1997,
          1998,
          1999,
          2000,
          2001,
          2002,
          2003,
          2004,
          2005,
          2006,
          2007,
          2008,
          2009,
          2010,
          2011,
          2012,
          2013,
          2014,
          2015,
          2016,
          2017,
          2018,
          2019,
          2020,
          2021,
          2022,
          2023,
          2024
         ],
         "y": [
          "stat.th",
          "stat.ml",
          "q-fin.st",
          "q-fin.mf",
          "q-fin.cp",
          "math.st",
          "math.qa",
          "math.pr",
          "math.oc",
          "math.ds",
          "cs.sd",
          "cs.ro",
          "cs.ne",
          "cs.ma",
          "cs.lg",
          "cs.hc",
          "cs.dm",
          "cs.cv",
          "cs.cl",
          "cs.cc",
          "cs.ai"
         ],
         "z": [
          [
           0.0018050541516245488,
           0,
           0,
           0.0011976047904191617,
           0.001075268817204301,
           0.0018484288354898336,
           0.006521739130434782,
           0.012116892373485389,
           0.0137221269296741,
           0.01860231271995978,
           0.05815654718361375,
           0.08724445724157788,
           0.1106020942408377,
           0.10487230574171345,
           0.10527146464646464,
           0.0854968057632187,
           0.07533622065192615,
           0.07769652650822668,
           0.0662979653147617,
           0.06155143338954469,
           0.06036702273349767,
           0.05327081937932574,
           0.04169259489732421,
           0.033920504664403515,
           0.02384436135045792,
           0.02183300734117408,
           0.019605851279967494,
           0.019062169232919937,
           0.01785387291704816,
           0.014448652227934558,
           0.012567216482387771
          ],
          [
           0,
           0,
           0,
           0,
           0,
           0,
           0,
           0,
           0.0005717552887364208,
           0,
           0.000731528895391368,
           0.00028793550244745177,
           0,
           0.007788444122441587,
           0.016098484848484848,
           0.022155770014951746,
           0.028607248689309323,
           0.03948811700182815,
           0.07858801037826027,
           0.0714887978800289,
           0.07444535743631882,
           0.08140209868274169,
           0.09137108483717071,
           0.10831038999224826,
           0.15168265322711755,
           0.16195036451850534,
           0.12974400650142218,
           0.05219379705629781,
           0.04565097967405237,
           0.03967055287299025,
           0.03411878436348257
          ],
          [
           0,
           0,
           0,
           0.01437125748502994,
           0.011827956989247311,
           0.024029574861367836,
           0.025362318840579712,
           0.03278688524590164,
           0.022870211549456832,
           0.029160382101558573,
           0.024140453547915143,
           0.026778001727613014,
           0.026614310645724257,
           0.02119181307734106,
           0.017203282828282828,
           0.014679896697023243,
           0.01447458399817643,
           0.012157221206581352,
           0.008944421685101735,
           0.008793061912792098,
           0.00832648589427554,
           0.006385353873632507,
           0.005151075157297932,
           0.003608564326000374,
           0.0029444173485792735,
           0.0030355373790230396,
           0.002905323039414872,
           0.0025962095340802426,
           0.0021882439113715436,
           0.002194826162327855,
           0.0018971663343604617
          ],
          [
           0,
           0,
           0,
           0,
           0,
           0,
           0,
           0,
           0,
           0,
           0,
           0,
           0,
           0,
           0,
           0,
           0,
           0,
           0,
           0,
           0.007011777595179403,
           0.00884125920964501,
           0.007847611145682085,
           0.0053460212237042585,
           0.004299210607128019,
           0.003657886046688851,
           0.0030780170662332387,
           0.0027659616959239512,
           0.002343893059879143,
           0.0020534644772965695,
           0.0018488308863512778
          ],
          [
           0,
           0,
           0,
           0,
           0.0032258064516129032,
           0.0027726432532347504,
           0.0014492753623188406,
           0.0021382751247327157,
           0.0011435105774728416,
           0.002513826043237808,
           0.001463057790782736,
           0.0034552260293694214,
           0.0034904013961605585,
           0.003984785364970114,
           0.006313131313131313,
           0.014136196819355715,
           0.013448826077045816,
           0.00923217550274223,
           0.006759524784924211,
           0.005239701276800771,
           0.004382360996987127,
           0.004643893726278187,
           0.003180529627324898,
           0.00310069230974847,
           0.0024928195957296916,
           0.001955952955521122,
           0.0020520113774888256,
           0.0022966468955325225,
           0.002353048892144296,
           0.002016264033867284,
           0.00216905322941212
          ],
          [
           0.0018050541516245488,
           0,
           0,
           0.0011976047904191617,
           0.001075268817204301,
           0.0018484288354898336,
           0.006521739130434782,
           0.012116892373485389,
           0.0137221269296741,
           0.01860231271995978,
           0.05815654718361375,
           0.08724445724157788,
           0.1106020942408377,
           0.10487230574171345,
           0.10527146464646464,
           0.0854968057632187,
           0.07533622065192615,
           0.07769652650822668,
           0.0662979653147617,
           0.06155143338954469,
           0.06036702273349767,
           0.05327081937932574,
           0.04172716587153426,
           0.033920504664403515,
           0.02384436135045792,
           0.02183300734117408,
           0.019605851279967494,
           0.019062169232919937,
           0.01785387291704816,
           0.014448652227934558,
           0.012567216482387771
          ],
          [
           0.49458483754512633,
           0.5944055944055944,
           0.6532663316582915,
           0.7005988023952096,
           0.5602150537634408,
           0.45933456561922364,
           0.3847826086956522,
           0.3891660727013542,
           0.32647226986849626,
           0.28707893413775765,
           0.19970738844184346,
           0.16095594586812553,
           0.12609075043630016,
           0.10487230574171345,
           0.08838383838383838,
           0.0818268315889629,
           0.07134716206975154,
           0.0556672760511883,
           0.043015157722244984,
           0.039388099253192005,
           0.03642837578745549,
           0.03049787899084617,
           0.025340524095969024,
           0.018711074282964903,
           0.013114398742751856,
           0.009576548886122895,
           0.007730597318163349,
           0.007109619954865896,
           0.0069767441860465115,
           0.006353835737721993,
           0.005117515557972328
          ],
          [
           0.005415162454873646,
           0.005594405594405594,
           0.007537688442211055,
           0.022754491017964073,
           0.10215053763440861,
           0.10813308687615526,
           0.13115942028985508,
           0.1482537419814683,
           0.15723270440251572,
           0.1895424836601307,
           0.2538405267008047,
           0.2752663403397639,
           0.26723385689354273,
           0.2590110487230574,
           0.22853535353535354,
           0.23283947261111868,
           0.23022566674264874,
           0.21343692870201098,
           0.1757476444080295,
           0.16959768730426403,
           0.15798411394138592,
           0.14186202277294038,
           0.11114568208532116,
           0.0866322739301275,
           0.06313336584837154,
           0.04625701729875276,
           0.04029865908167412,
           0.03961216623729355,
           0.0361014466214979,
           0.02995379704926083,
           0.02561778744486738
          ],
          [
           0,
           0.002797202797202797,
           0,
           0.0023952095808383233,
           0.007526881720430108,
           0.036968576709796676,
           0.028985507246376812,
           0.029223093371347115,
           0.05317324185248713,
           0.04424333836098542,
           0.04023408924652524,
           0.03714367981572128,
           0.04581151832460733,
           0.05451910885709111,
           0.057133838383838384,
           0.06211771102351502,
           0.07670389788010029,
           0.08976234003656307,
           0.08500614502253175,
           0.09624186942905325,
           0.10150643659271433,
           0.09988836793927217,
           0.08919311346193735,
           0.0790943840047045,
           0.06383785834281688,
           0.056049483069576043,
           0.05418529053230394,
           0.05256325764383999,
           0.048461820179454315,
           0.04230434426778367,
           0.035810525043804
          ],
          [
           0.048736462093862815,
           0.04195804195804196,
           0.048994974874371856,
           0.032335329341317366,
           0.07849462365591398,
           0.15804066543438078,
           0.1246376811594203,
           0.1496792587312901,
           0.15323041738136078,
           0.17848164906988437,
           0.15654718361375275,
           0.1445436222286208,
           0.13176265270506107,
           0.1316790436515124,
           0.13462752525252525,
           0.13171129536495854,
           0.12434465466149988,
           0.12952468007312615,
           0.11136146388092312,
           0.09841002168152252,
           0.09602848534648041,
           0.08872516186648806,
           0.07000622277535781,
           0.057068776563042954,
           0.03937932404848354,
           0.03238753270505754,
           0.029032913449817146,
           0.027869310806222916,
           0.024308734663980956,
           0.021799459849561408,
           0.01803516403842668
          ],
          [
           0,
           0,
           0,
           0,
           0,
           0,
           0.005072463768115942,
           0.0021382751247327157,
           0.002858776443682104,
           0.0015082956259426848,
           0.000365764447695684,
           0,
           0.0008726003490401396,
           0.0010867596449918493,
           0.0011047979797979798,
           0.0025825744189207555,
           0.0029633006610439937,
           0.002742230347349177,
           0.0022531749283080703,
           0.0036135870874488074,
           0.004053683922213092,
           0.005894172806430007,
           0.010405863237226025,
           0.011921627328860495,
           0.015137556675517982,
           0.015901643508522367,
           0.019270621698496547,
           0.022067781039682065,
           0.02454678630287493,
           0.02049000424085055,
           0.018264757416470302
          ],
          [
           0,
           0,
           0,
           0,
           0.002150537634408602,
           0,
           0.005797101449275362,
           0.0007127583749109052,
           0.004002287021154946,
           0.002011060834590246,
           0.007681053401609363,
           0.004319032536711776,
           0.007635253054101222,
           0.01756928092736823,
           0.01057449494949495,
           0.008835123012097322,
           0.00809209026669706,
           0.010786106032906764,
           0.010924484500887614,
           0.012165743194410985,
           0.01500958641468091,
           0.016521544987720474,
           0.026965359883841526,
           0.03367993370933683,
           0.033255658519843204,
           0.03631213960931745,
           0.04034945144250305,
           0.046941465460427774,
           0.04775682109503754,
           0.050220598629535665,
           0.050244698205546494
          ],
          [
           0,
           0,
           0,
           0,
           0.016129032258064516,
           0.009242144177449169,
           0.007246376811594203,
           0.008553100498930863,
           0.014865637507146942,
           0.02262443438914027,
           0.016825164594001463,
           0.01785200115174201,
           0.010471204188481676,
           0.01630139467487774,
           0.019255050505050504,
           0.016175071360608945,
           0.019375427399133803,
           0.01380255941499086,
           0.015977058582548137,
           0.01897133220910624,
           0.028649685017803343,
           0.02915829426211208,
           0.03007674756274632,
           0.02734489855924728,
           0.021839267327805778,
           0.01878476896893337,
           0.01778748476229175,
           0.014259181594871488,
           0.013861930049441494,
           0.011673499148109846,
           0.01079088876805027
          ],
          [
           0,
           0,
           0,
           0,
           0.0064516129032258064,
           0.00831792975970425,
           0.0036231884057971015,
           0.004989308624376337,
           0.011435105774728416,
           0.007541478129713424,
           0.007681053401609363,
           0.008638065073423552,
           0.009162303664921465,
           0.006339431262452454,
           0.01120580808080808,
           0.011417697431018078,
           0.010713471620697515,
           0.00996343692870201,
           0.009217533797623925,
           0.008552156106962177,
           0.011613256642015886,
           0.007457021656619781,
           0.00812417893936251,
           0.008633824276282377,
           0.008363590382774256,
           0.009271725048898824,
           0.009457537586347013,
           0.009576019012242127,
           0.009503753891228713,
           0.008928106423028562,
           0.008047852093529092
          ],
          [
           0,
           0,
           0,
           0.0023952095808383233,
           0.007526881720430108,
           0.02310536044362292,
           0.02608695652173913,
           0.01639344262295082,
           0.025157232704402517,
           0.015082956259426848,
           0.014264813460131675,
           0.019291678663979267,
           0.016797556719022687,
           0.01521463502988589,
           0.020675505050505052,
           0.031262742965882835,
           0.038180989286528376,
           0.04287020109689214,
           0.09142427966680322,
           0.08473861720067453,
           0.09526157217200767,
           0.11100692118776513,
           0.12352209085252022,
           0.1403597872283553,
           0.18965299228671037,
           0.24500215916884702,
           0.26304347826086955,
           0.2649032412677491,
           0.2628914118293353,
           0.24559732752014404,
           0.23005860673071113
          ],
          [
           0,
           0,
           0,
           0,
           0.008602150537634409,
           0.006469500924214418,
           0.005797101449275362,
           0.009978617248752673,
           0.006289308176100629,
           0.00904977375565611,
           0.008778346744696415,
           0.0031672905269219693,
           0.010471204188481676,
           0.014671255207389966,
           0.016887626262626264,
           0.013592496941688188,
           0.010941417825393207,
           0.0070383912248628885,
           0.010241704219582138,
           0.012587328354613346,
           0.014680909339906874,
           0.013663764233087742,
           0.01749291295028694,
           0.01758840982598701,
           0.01661879730486461,
           0.017946503416567176,
           0.019605851279967494,
           0.021668364188285105,
           0.022953671488738326,
           0.0276324893792734,
           0.03155700561899583
          ],
          [
           0,
           0,
           0,
           0,
           0.0032258064516129032,
           0.012939001848428836,
           0.015217391304347827,
           0.02565930149679259,
           0.025728987993138937,
           0.02212166918049271,
           0.0296269202633504,
           0.025050388712928303,
           0.029668411867364748,
           0.04202137293968484,
           0.05082070707070707,
           0.05273888813375017,
           0.054365169819922496,
           0.05173674588665448,
           0.052574081660521646,
           0.039388099253192005,
           0.03407285675157491,
           0.03389149363697254,
           0.025582520915439395,
           0.021410815000935553,
           0.015661410068823496,
           0.012700993217669623,
           0.010503860219423,
           0.010235056817047112,
           0.009384728071781725,
           0.00799809533729642,
           0.006585704791251284
          ],
          [
           0,
           0,
           0,
           0,
           0.0032258064516129032,
           0.0036968576709796672,
           0.010869565217391304,
           0.003563791874554526,
           0.009148084619782733,
           0.01256913021618904,
           0.012801755669348939,
           0.008926000575871005,
           0.008289703315881327,
           0.011048723057417135,
           0.01341540404040404,
           0.019980970504281638,
           0.03339411898791885,
           0.03473491773308958,
           0.039532978287587055,
           0.051915201156347866,
           0.07351410572445906,
           0.10109399419513285,
           0.12542349443407316,
           0.15300312742241587,
           0.15520511569934428,
           0.14734422231818528,
           0.15583096302316132,
           0.17177920236454777,
           0.18029664896539097,
           0.18243841466590283,
           0.17836384508488914
          ],
          [
           0.40252707581227437,
           0.3146853146853147,
           0.2537688442211055,
           0.19640718562874251,
           0.12150537634408602,
           0.053604436229205174,
           0.08840579710144927,
           0.05630791161796151,
           0.03773584905660377,
           0.027652086475615886,
           0.019751280175566936,
           0.007198387561186294,
           0.011343804537521814,
           0.011954356094910343,
           0.011047979797979798,
           0.012369172216936251,
           0.009801686801914749,
           0.011425959780621572,
           0.015362556329373207,
           0.020115634786798363,
           0.03051218844152287,
           0.0371511498102255,
           0.05842494641498997,
           0.06412552457833258,
           0.06736032081504363,
           0.06849645642289227,
           0.07239943112555872,
           0.0807221456673257,
           0.08213697125068668,
           0.10112568541817019,
           0.12016796568183191
          ],
          [
           0.019855595667870037,
           0.002797202797202797,
           0.001256281407035176,
           0.0023952095808383233,
           0.03333333333333333,
           0.059149722735674676,
           0.03188405797101449,
           0.048467569493941556,
           0.05202973127501429,
           0.04474610356963298,
           0.028895391367959034,
           0.037719550820616184,
           0.036212914485165795,
           0.03604419489222967,
           0.04245580808080808,
           0.04866113905124372,
           0.04798267608844313,
           0.038391224862888484,
           0.03297828758705448,
           0.03149843411226211,
           0.02952615721720077,
           0.02567537396740344,
           0.02018944893867109,
           0.01697361738526102,
           0.011055112989757762,
           0.009335230014987171,
           0.008177570093457943,
           0.007758672338385957,
           0.007104925837758652,
           0.006227354230062422,
           0.005637121624071053
          ],
          [
           0.02527075812274368,
           0.03776223776223776,
           0.035175879396984924,
           0.023952095808383235,
           0.03225806451612903,
           0.030499075785582256,
           0.09057971014492754,
           0.04775481111903065,
           0.0686106346483705,
           0.06686777275012569,
           0.060351133869787854,
           0.044917938381802476,
           0.0368673647469459,
           0.03495743524723782,
           0.043718434343434344,
           0.05192333831724888,
           0.054365169819922496,
           0.07184643510054844,
           0.07749556192817152,
           0.10419176102144062,
           0.05625855929882224,
           0.04969859343603483,
           0.06713683191592339,
           0.07524524872363743,
           0.07727740746762043,
           0.06036782076358371,
           0.07533522958147094,
           0.12495756195953907,
           0.13546969419520236,
           0.16242457610094713,
           0.19053229412120112
          ]
         ]
        }
       ],
       "layout": {
        "height": 800,
        "template": {
         "data": {
          "bar": [
           {
            "error_x": {
             "color": "#2a3f5f"
            },
            "error_y": {
             "color": "#2a3f5f"
            },
            "marker": {
             "line": {
              "color": "white",
              "width": 0.5
             },
             "pattern": {
              "fillmode": "overlay",
              "size": 10,
              "solidity": 0.2
             }
            },
            "type": "bar"
           }
          ],
          "barpolar": [
           {
            "marker": {
             "line": {
              "color": "white",
              "width": 0.5
             },
             "pattern": {
              "fillmode": "overlay",
              "size": 10,
              "solidity": 0.2
             }
            },
            "type": "barpolar"
           }
          ],
          "carpet": [
           {
            "aaxis": {
             "endlinecolor": "#2a3f5f",
             "gridcolor": "#C8D4E3",
             "linecolor": "#C8D4E3",
             "minorgridcolor": "#C8D4E3",
             "startlinecolor": "#2a3f5f"
            },
            "baxis": {
             "endlinecolor": "#2a3f5f",
             "gridcolor": "#C8D4E3",
             "linecolor": "#C8D4E3",
             "minorgridcolor": "#C8D4E3",
             "startlinecolor": "#2a3f5f"
            },
            "type": "carpet"
           }
          ],
          "choropleth": [
           {
            "colorbar": {
             "outlinewidth": 0,
             "ticks": ""
            },
            "type": "choropleth"
           }
          ],
          "contour": [
           {
            "colorbar": {
             "outlinewidth": 0,
             "ticks": ""
            },
            "colorscale": [
             [
              0,
              "#0d0887"
             ],
             [
              0.1111111111111111,
              "#46039f"
             ],
             [
              0.2222222222222222,
              "#7201a8"
             ],
             [
              0.3333333333333333,
              "#9c179e"
             ],
             [
              0.4444444444444444,
              "#bd3786"
             ],
             [
              0.5555555555555556,
              "#d8576b"
             ],
             [
              0.6666666666666666,
              "#ed7953"
             ],
             [
              0.7777777777777778,
              "#fb9f3a"
             ],
             [
              0.8888888888888888,
              "#fdca26"
             ],
             [
              1,
              "#f0f921"
             ]
            ],
            "type": "contour"
           }
          ],
          "contourcarpet": [
           {
            "colorbar": {
             "outlinewidth": 0,
             "ticks": ""
            },
            "type": "contourcarpet"
           }
          ],
          "heatmap": [
           {
            "colorbar": {
             "outlinewidth": 0,
             "ticks": ""
            },
            "colorscale": [
             [
              0,
              "#0d0887"
             ],
             [
              0.1111111111111111,
              "#46039f"
             ],
             [
              0.2222222222222222,
              "#7201a8"
             ],
             [
              0.3333333333333333,
              "#9c179e"
             ],
             [
              0.4444444444444444,
              "#bd3786"
             ],
             [
              0.5555555555555556,
              "#d8576b"
             ],
             [
              0.6666666666666666,
              "#ed7953"
             ],
             [
              0.7777777777777778,
              "#fb9f3a"
             ],
             [
              0.8888888888888888,
              "#fdca26"
             ],
             [
              1,
              "#f0f921"
             ]
            ],
            "type": "heatmap"
           }
          ],
          "heatmapgl": [
           {
            "colorbar": {
             "outlinewidth": 0,
             "ticks": ""
            },
            "colorscale": [
             [
              0,
              "#0d0887"
             ],
             [
              0.1111111111111111,
              "#46039f"
             ],
             [
              0.2222222222222222,
              "#7201a8"
             ],
             [
              0.3333333333333333,
              "#9c179e"
             ],
             [
              0.4444444444444444,
              "#bd3786"
             ],
             [
              0.5555555555555556,
              "#d8576b"
             ],
             [
              0.6666666666666666,
              "#ed7953"
             ],
             [
              0.7777777777777778,
              "#fb9f3a"
             ],
             [
              0.8888888888888888,
              "#fdca26"
             ],
             [
              1,
              "#f0f921"
             ]
            ],
            "type": "heatmapgl"
           }
          ],
          "histogram": [
           {
            "marker": {
             "pattern": {
              "fillmode": "overlay",
              "size": 10,
              "solidity": 0.2
             }
            },
            "type": "histogram"
           }
          ],
          "histogram2d": [
           {
            "colorbar": {
             "outlinewidth": 0,
             "ticks": ""
            },
            "colorscale": [
             [
              0,
              "#0d0887"
             ],
             [
              0.1111111111111111,
              "#46039f"
             ],
             [
              0.2222222222222222,
              "#7201a8"
             ],
             [
              0.3333333333333333,
              "#9c179e"
             ],
             [
              0.4444444444444444,
              "#bd3786"
             ],
             [
              0.5555555555555556,
              "#d8576b"
             ],
             [
              0.6666666666666666,
              "#ed7953"
             ],
             [
              0.7777777777777778,
              "#fb9f3a"
             ],
             [
              0.8888888888888888,
              "#fdca26"
             ],
             [
              1,
              "#f0f921"
             ]
            ],
            "type": "histogram2d"
           }
          ],
          "histogram2dcontour": [
           {
            "colorbar": {
             "outlinewidth": 0,
             "ticks": ""
            },
            "colorscale": [
             [
              0,
              "#0d0887"
             ],
             [
              0.1111111111111111,
              "#46039f"
             ],
             [
              0.2222222222222222,
              "#7201a8"
             ],
             [
              0.3333333333333333,
              "#9c179e"
             ],
             [
              0.4444444444444444,
              "#bd3786"
             ],
             [
              0.5555555555555556,
              "#d8576b"
             ],
             [
              0.6666666666666666,
              "#ed7953"
             ],
             [
              0.7777777777777778,
              "#fb9f3a"
             ],
             [
              0.8888888888888888,
              "#fdca26"
             ],
             [
              1,
              "#f0f921"
             ]
            ],
            "type": "histogram2dcontour"
           }
          ],
          "mesh3d": [
           {
            "colorbar": {
             "outlinewidth": 0,
             "ticks": ""
            },
            "type": "mesh3d"
           }
          ],
          "parcoords": [
           {
            "line": {
             "colorbar": {
              "outlinewidth": 0,
              "ticks": ""
             }
            },
            "type": "parcoords"
           }
          ],
          "pie": [
           {
            "automargin": true,
            "type": "pie"
           }
          ],
          "scatter": [
           {
            "fillpattern": {
             "fillmode": "overlay",
             "size": 10,
             "solidity": 0.2
            },
            "type": "scatter"
           }
          ],
          "scatter3d": [
           {
            "line": {
             "colorbar": {
              "outlinewidth": 0,
              "ticks": ""
             }
            },
            "marker": {
             "colorbar": {
              "outlinewidth": 0,
              "ticks": ""
             }
            },
            "type": "scatter3d"
           }
          ],
          "scattercarpet": [
           {
            "marker": {
             "colorbar": {
              "outlinewidth": 0,
              "ticks": ""
             }
            },
            "type": "scattercarpet"
           }
          ],
          "scattergeo": [
           {
            "marker": {
             "colorbar": {
              "outlinewidth": 0,
              "ticks": ""
             }
            },
            "type": "scattergeo"
           }
          ],
          "scattergl": [
           {
            "marker": {
             "colorbar": {
              "outlinewidth": 0,
              "ticks": ""
             }
            },
            "type": "scattergl"
           }
          ],
          "scattermapbox": [
           {
            "marker": {
             "colorbar": {
              "outlinewidth": 0,
              "ticks": ""
             }
            },
            "type": "scattermapbox"
           }
          ],
          "scatterpolar": [
           {
            "marker": {
             "colorbar": {
              "outlinewidth": 0,
              "ticks": ""
             }
            },
            "type": "scatterpolar"
           }
          ],
          "scatterpolargl": [
           {
            "marker": {
             "colorbar": {
              "outlinewidth": 0,
              "ticks": ""
             }
            },
            "type": "scatterpolargl"
           }
          ],
          "scatterternary": [
           {
            "marker": {
             "colorbar": {
              "outlinewidth": 0,
              "ticks": ""
             }
            },
            "type": "scatterternary"
           }
          ],
          "surface": [
           {
            "colorbar": {
             "outlinewidth": 0,
             "ticks": ""
            },
            "colorscale": [
             [
              0,
              "#0d0887"
             ],
             [
              0.1111111111111111,
              "#46039f"
             ],
             [
              0.2222222222222222,
              "#7201a8"
             ],
             [
              0.3333333333333333,
              "#9c179e"
             ],
             [
              0.4444444444444444,
              "#bd3786"
             ],
             [
              0.5555555555555556,
              "#d8576b"
             ],
             [
              0.6666666666666666,
              "#ed7953"
             ],
             [
              0.7777777777777778,
              "#fb9f3a"
             ],
             [
              0.8888888888888888,
              "#fdca26"
             ],
             [
              1,
              "#f0f921"
             ]
            ],
            "type": "surface"
           }
          ],
          "table": [
           {
            "cells": {
             "fill": {
              "color": "#EBF0F8"
             },
             "line": {
              "color": "white"
             }
            },
            "header": {
             "fill": {
              "color": "#C8D4E3"
             },
             "line": {
              "color": "white"
             }
            },
            "type": "table"
           }
          ]
         },
         "layout": {
          "annotationdefaults": {
           "arrowcolor": "#2a3f5f",
           "arrowhead": 0,
           "arrowwidth": 1
          },
          "autotypenumbers": "strict",
          "coloraxis": {
           "colorbar": {
            "outlinewidth": 0,
            "ticks": ""
           }
          },
          "colorscale": {
           "diverging": [
            [
             0,
             "#8e0152"
            ],
            [
             0.1,
             "#c51b7d"
            ],
            [
             0.2,
             "#de77ae"
            ],
            [
             0.3,
             "#f1b6da"
            ],
            [
             0.4,
             "#fde0ef"
            ],
            [
             0.5,
             "#f7f7f7"
            ],
            [
             0.6,
             "#e6f5d0"
            ],
            [
             0.7,
             "#b8e186"
            ],
            [
             0.8,
             "#7fbc41"
            ],
            [
             0.9,
             "#4d9221"
            ],
            [
             1,
             "#276419"
            ]
           ],
           "sequential": [
            [
             0,
             "#0d0887"
            ],
            [
             0.1111111111111111,
             "#46039f"
            ],
            [
             0.2222222222222222,
             "#7201a8"
            ],
            [
             0.3333333333333333,
             "#9c179e"
            ],
            [
             0.4444444444444444,
             "#bd3786"
            ],
            [
             0.5555555555555556,
             "#d8576b"
            ],
            [
             0.6666666666666666,
             "#ed7953"
            ],
            [
             0.7777777777777778,
             "#fb9f3a"
            ],
            [
             0.8888888888888888,
             "#fdca26"
            ],
            [
             1,
             "#f0f921"
            ]
           ],
           "sequentialminus": [
            [
             0,
             "#0d0887"
            ],
            [
             0.1111111111111111,
             "#46039f"
            ],
            [
             0.2222222222222222,
             "#7201a8"
            ],
            [
             0.3333333333333333,
             "#9c179e"
            ],
            [
             0.4444444444444444,
             "#bd3786"
            ],
            [
             0.5555555555555556,
             "#d8576b"
            ],
            [
             0.6666666666666666,
             "#ed7953"
            ],
            [
             0.7777777777777778,
             "#fb9f3a"
            ],
            [
             0.8888888888888888,
             "#fdca26"
            ],
            [
             1,
             "#f0f921"
            ]
           ]
          },
          "colorway": [
           "#636efa",
           "#EF553B",
           "#00cc96",
           "#ab63fa",
           "#FFA15A",
           "#19d3f3",
           "#FF6692",
           "#B6E880",
           "#FF97FF",
           "#FECB52"
          ],
          "font": {
           "color": "#2a3f5f"
          },
          "geo": {
           "bgcolor": "white",
           "lakecolor": "white",
           "landcolor": "white",
           "showlakes": true,
           "showland": true,
           "subunitcolor": "#C8D4E3"
          },
          "hoverlabel": {
           "align": "left"
          },
          "hovermode": "closest",
          "mapbox": {
           "style": "light"
          },
          "paper_bgcolor": "white",
          "plot_bgcolor": "white",
          "polar": {
           "angularaxis": {
            "gridcolor": "#EBF0F8",
            "linecolor": "#EBF0F8",
            "ticks": ""
           },
           "bgcolor": "white",
           "radialaxis": {
            "gridcolor": "#EBF0F8",
            "linecolor": "#EBF0F8",
            "ticks": ""
           }
          },
          "scene": {
           "xaxis": {
            "backgroundcolor": "white",
            "gridcolor": "#DFE8F3",
            "gridwidth": 2,
            "linecolor": "#EBF0F8",
            "showbackground": true,
            "ticks": "",
            "zerolinecolor": "#EBF0F8"
           },
           "yaxis": {
            "backgroundcolor": "white",
            "gridcolor": "#DFE8F3",
            "gridwidth": 2,
            "linecolor": "#EBF0F8",
            "showbackground": true,
            "ticks": "",
            "zerolinecolor": "#EBF0F8"
           },
           "zaxis": {
            "backgroundcolor": "white",
            "gridcolor": "#DFE8F3",
            "gridwidth": 2,
            "linecolor": "#EBF0F8",
            "showbackground": true,
            "ticks": "",
            "zerolinecolor": "#EBF0F8"
           }
          },
          "shapedefaults": {
           "line": {
            "color": "#2a3f5f"
           }
          },
          "ternary": {
           "aaxis": {
            "gridcolor": "#DFE8F3",
            "linecolor": "#A2B1C6",
            "ticks": ""
           },
           "baxis": {
            "gridcolor": "#DFE8F3",
            "linecolor": "#A2B1C6",
            "ticks": ""
           },
           "bgcolor": "white",
           "caxis": {
            "gridcolor": "#DFE8F3",
            "linecolor": "#A2B1C6",
            "ticks": ""
           }
          },
          "title": {
           "x": 0.05
          },
          "xaxis": {
           "automargin": true,
           "gridcolor": "#EBF0F8",
           "linecolor": "#EBF0F8",
           "ticks": "",
           "title": {
            "standoff": 15
           },
           "zerolinecolor": "#EBF0F8",
           "zerolinewidth": 2
          },
          "yaxis": {
           "automargin": true,
           "gridcolor": "#EBF0F8",
           "linecolor": "#EBF0F8",
           "ticks": "",
           "title": {
            "standoff": 15
           },
           "zerolinecolor": "#EBF0F8",
           "zerolinewidth": 2
          }
         }
        },
        "title": {
         "font": {
          "size": 25
         },
         "text": "Normalized Number of initial Publications per Year by Category",
         "x": 0.5,
         "xanchor": "center"
        },
        "xaxis": {
         "title": {
          "text": "Year of Publication"
         }
        },
        "yaxis": {
         "title": {
          "text": "Category"
         }
        }
       }
      }
     },
     "metadata": {},
     "output_type": "display_data"
    }
   ],
   "source": [
    "visualize_publications_by_category_normalized(df_complete, \"initial\")"
   ]
  },
  {
   "cell_type": "markdown",
   "metadata": {},
   "source": [
    "#### Analysis of the Shift from Theoretical Foundations to Applied Advancements in AI and ML\n",
    "\n",
    "The exponential growth in AI-related publications reflects a significant shift from early theoretical foundations to more applied advancements. This transition is particularly visible when analyzing the contributions of the key categories—Machine Learning (cs.LG), Artificial Intelligence (cs.AI), Computation and Language (cs.CL), and Computer Vision (cs.CV). While theoretical work dominated the early years of AI and ML research, the increasing availability of computational resources and the rise of practical frameworks drove the rapid adoption of applied methods.\n",
    "\n",
    "By analyzing the relative importance of each category by year (in number of publications), it becomes evident that two additional key contributors emerged during the early days: Quantum Algebra (math.QA), which was dominant between 1994 and 2005, and Probability (math.PR), which played a critical role from 2002 to 2015. Another important category during this transition period was Dynamical Systems (math.DS), which had significant contributions between 1999 and 2011. These mathematical disciplines provided the foundational tools and theoretical insights necessary for developing many of the algorithms and techniques that would later drive applied AI research. *Konkrete Beispiele*\n",
    "\n",
    "This shift from theory to applied research is further evidenced by the increasing dominance of computer science-focused categories over time. The prominence of math-focused categories gradually declined as the focus moved towards more practical domains within computer science (cs). Notably, an exception to this trend is Computation and Language (cs.CL), which showed early importance from 1994 to 1998, indicating that some applied research in natural language processing was already underway during the foundational phase. This category resurfaced increasingly from 2016 to 2024, driven by groundbreaking innovations such as the Transformer architecture and pre-trained language models.\n",
    "\n",
    "The shift from theoretical to applied AI and ML was not a complete departure from foundational research but rather a natural evolution. Theoretical advancements laid the groundwork, providing the mathematical and algorithmic tools that enabled the explosion of applied research. Today, the interplay between theory and application continues to drive innovation, with applied research dominating the publication landscape while theoretical work adapts to solve the emerging challenges posed by real-world applications."
   ]
  }
 ],
 "metadata": {
  "kernelspec": {
   "display_name": ".venv",
   "language": "python",
   "name": "python3"
  },
  "language_info": {
   "codemirror_mode": {
    "name": "ipython",
    "version": 3
   },
   "file_extension": ".py",
   "mimetype": "text/x-python",
   "name": "python",
   "nbconvert_exporter": "python",
   "pygments_lexer": "ipython3",
   "version": "3.12.7"
  }
 },
 "nbformat": 4,
 "nbformat_minor": 2
}
